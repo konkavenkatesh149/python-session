{
 "cells": [
  {
   "cell_type": "markdown",
   "id": "75a1d092",
   "metadata": {},
   "source": [
    "# dictionary"
   ]
  },
  {
   "cell_type": "code",
   "execution_count": 3,
   "id": "a07fc9be",
   "metadata": {},
   "outputs": [
    {
     "name": "stdout",
     "output_type": "stream",
     "text": [
      "the ram age is 25\n",
      "the raheem age is 30\n",
      "the robert age is 35\n"
     ]
    }
   ],
   "source": [
    "names=['ram','raheem','robert']\n",
    "ages=[25,30,35]\n",
    "\n",
    "# the ram age is 25\n",
    "# the raheem age is 30\n",
    "\n",
    "for i,j in zip(names,ages):\n",
    "    print(\"the {} age is {}\".format(i,j))"
   ]
  },
  {
   "cell_type": "markdown",
   "id": "3f169e98",
   "metadata": {},
   "source": [
    "## key-value pair concept"
   ]
  },
  {
   "cell_type": "markdown",
   "id": "e1c5b8a8",
   "metadata": {},
   "source": [
    "**{key:value}**\n"
   ]
  },
  {
   "cell_type": "code",
   "execution_count": 4,
   "id": "760b8132",
   "metadata": {},
   "outputs": [
    {
     "data": {
      "text/plain": [
       "{'Ram': 25, 'Raheem': 30, 'Robert': 35}"
      ]
     },
     "execution_count": 4,
     "metadata": {},
     "output_type": "execute_result"
    }
   ],
   "source": [
    "dict1={'Ram':25,'Raheem':30,'Robert':35}\n",
    "dict1"
   ]
  },
  {
   "cell_type": "markdown",
   "id": "0c120c11",
   "metadata": {},
   "source": [
    "# type, len, min, max"
   ]
  },
  {
   "cell_type": "code",
   "execution_count": 5,
   "id": "45da5e5b",
   "metadata": {},
   "outputs": [
    {
     "data": {
      "text/plain": [
       "dict"
      ]
     },
     "execution_count": 5,
     "metadata": {},
     "output_type": "execute_result"
    }
   ],
   "source": [
    "type(dict1)"
   ]
  },
  {
   "cell_type": "code",
   "execution_count": 7,
   "id": "26457d63",
   "metadata": {},
   "outputs": [
    {
     "data": {
      "text/plain": [
       "3"
      ]
     },
     "execution_count": 7,
     "metadata": {},
     "output_type": "execute_result"
    }
   ],
   "source": [
    "len(dict1)"
   ]
  },
  {
   "cell_type": "code",
   "execution_count": 8,
   "id": "650b9dfa",
   "metadata": {},
   "outputs": [
    {
     "data": {
      "text/plain": [
       "'Raheem'"
      ]
     },
     "execution_count": 8,
     "metadata": {},
     "output_type": "execute_result"
    }
   ],
   "source": [
    "min(dict1)            # max and min values are based on keys only"
   ]
  },
  {
   "cell_type": "code",
   "execution_count": 9,
   "id": "dc803246",
   "metadata": {},
   "outputs": [
    {
     "data": {
      "text/plain": [
       "'Robert'"
      ]
     },
     "execution_count": 9,
     "metadata": {},
     "output_type": "execute_result"
    }
   ],
   "source": [
    "max(dict1)"
   ]
  },
  {
   "cell_type": "code",
   "execution_count": 12,
   "id": "ef0214c1",
   "metadata": {},
   "outputs": [
    {
     "data": {
      "text/plain": [
       "{'names': ['Ram', 'Raheem', 'Robert'], 'ages': [25, 30, 35]}"
      ]
     },
     "execution_count": 12,
     "metadata": {},
     "output_type": "execute_result"
    }
   ],
   "source": [
    "dict2={'names':['Ram','Raheem','Robert'],\n",
    "      'ages':[25,30,35]}\n",
    "dict2"
   ]
  },
  {
   "cell_type": "code",
   "execution_count": 13,
   "id": "e83eb4c6",
   "metadata": {},
   "outputs": [
    {
     "data": {
      "text/plain": [
       "{25: 'ram'}"
      ]
     },
     "execution_count": 13,
     "metadata": {},
     "output_type": "execute_result"
    }
   ],
   "source": [
    "dict3={25:'ram'}\n",
    "dict3"
   ]
  },
  {
   "cell_type": "code",
   "execution_count": 15,
   "id": "157555d3",
   "metadata": {},
   "outputs": [
    {
     "ename": "TypeError",
     "evalue": "unhashable type: 'list'",
     "output_type": "error",
     "traceback": [
      "\u001b[1;31m---------------------------------------------------------------------------\u001b[0m",
      "\u001b[1;31mTypeError\u001b[0m                                 Traceback (most recent call last)",
      "Cell \u001b[1;32mIn[15], line 1\u001b[0m\n\u001b[1;32m----> 1\u001b[0m dict4\u001b[38;5;241m=\u001b[39m{[\u001b[38;5;124m'\u001b[39m\u001b[38;5;124mRam\u001b[39m\u001b[38;5;124m'\u001b[39m,\u001b[38;5;124m'\u001b[39m\u001b[38;5;124mRaheem\u001b[39m\u001b[38;5;124m'\u001b[39m,\u001b[38;5;124m'\u001b[39m\u001b[38;5;124mRobert\u001b[39m\u001b[38;5;124m'\u001b[39m]:\u001b[38;5;124m'\u001b[39m\u001b[38;5;124mnames\u001b[39m\u001b[38;5;124m'\u001b[39m}\n\u001b[0;32m      2\u001b[0m dict4\n",
      "\u001b[1;31mTypeError\u001b[0m: unhashable type: 'list'"
     ]
    }
   ],
   "source": [
    "dict4={['Ram','Raheem','Robert']:'names'}\n",
    "dict4\n"
   ]
  },
  {
   "cell_type": "code",
   "execution_count": 16,
   "id": "d5f0e793",
   "metadata": {},
   "outputs": [
    {
     "data": {
      "text/plain": [
       "{25: 35}"
      ]
     },
     "execution_count": 16,
     "metadata": {},
     "output_type": "execute_result"
    }
   ],
   "source": [
    "dict5={25:35}\n",
    "dict5"
   ]
  },
  {
   "cell_type": "code",
   "execution_count": 18,
   "id": "a4cef186",
   "metadata": {},
   "outputs": [
    {
     "data": {
      "text/plain": [
       "{'A': 'apple', 'B': 10.5, 'C': (10+5j), 12: ['A', 'B', 'C']}"
      ]
     },
     "execution_count": 18,
     "metadata": {},
     "output_type": "execute_result"
    }
   ],
   "source": [
    "dict6={'A':'apple','B':10.5,'C':10+5j,12:['A','B','C']}\n",
    "dict6"
   ]
  },
  {
   "cell_type": "code",
   "execution_count": 19,
   "id": "5e8e9027",
   "metadata": {},
   "outputs": [
    {
     "data": {
      "text/plain": [
       "{'fruits': {'like': ['Apple', 'Cherry']}}"
      ]
     },
     "execution_count": 19,
     "metadata": {},
     "output_type": "execute_result"
    }
   ],
   "source": [
    "dict7={'fruits':{'like':['Apple','Cherry']}}\n",
    "dict7"
   ]
  },
  {
   "cell_type": "markdown",
   "id": "10a1f153",
   "metadata": {},
   "source": [
    "- if you provide multiple values at key position, it will fail"
   ]
  },
  {
   "cell_type": "code",
   "execution_count": 22,
   "id": "ffc1044e",
   "metadata": {},
   "outputs": [
    {
     "data": {
      "text/plain": [
       "{'mobin': 'AMAZON'}"
      ]
     },
     "execution_count": 22,
     "metadata": {},
     "output_type": "execute_result"
    }
   ],
   "source": [
    "d8={'mobin':'amazon','mobin':'AMAZON'}\n",
    "d8"
   ]
  },
  {
   "cell_type": "markdown",
   "id": "19c7b5b5",
   "metadata": {},
   "source": [
    "- duplicates are not allowed"
   ]
  },
  {
   "cell_type": "code",
   "execution_count": 21,
   "id": "59028750",
   "metadata": {},
   "outputs": [
    {
     "data": {
      "text/plain": [
       "{'ravi': 35}"
      ]
     },
     "execution_count": 21,
     "metadata": {},
     "output_type": "execute_result"
    }
   ],
   "source": [
    "d9={'ravi':30,'ravi':35}\n",
    "d9"
   ]
  },
  {
   "cell_type": "markdown",
   "id": "e608cbec",
   "metadata": {},
   "source": [
    "- if keys are same , the last value will taken"
   ]
  },
  {
   "cell_type": "code",
   "execution_count": 24,
   "id": "a5ffdcbc",
   "metadata": {},
   "outputs": [
    {
     "data": {
      "text/plain": [
       "{'zam': 25, 'raheem': 30, 'robert': 35}"
      ]
     },
     "execution_count": 24,
     "metadata": {},
     "output_type": "execute_result"
    }
   ],
   "source": [
    "dict1={'zam':25,'raheem':30,'robert':35}\n",
    "dict1"
   ]
  },
  {
   "cell_type": "markdown",
   "id": "27b99861",
   "metadata": {},
   "source": [
    "# in"
   ]
  },
  {
   "cell_type": "code",
   "execution_count": 25,
   "id": "8367e94b",
   "metadata": {},
   "outputs": [
    {
     "data": {
      "text/plain": [
       "True"
      ]
     },
     "execution_count": 25,
     "metadata": {},
     "output_type": "execute_result"
    }
   ],
   "source": [
    "'zam' in dict1"
   ]
  },
  {
   "cell_type": "code",
   "execution_count": 28,
   "id": "1c46ade3",
   "metadata": {},
   "outputs": [
    {
     "ename": "SyntaxError",
     "evalue": "illegal target for annotation (2703502049.py, line 1)",
     "output_type": "error",
     "traceback": [
      "\u001b[1;36m  Cell \u001b[1;32mIn[28], line 1\u001b[1;36m\u001b[0m\n\u001b[1;33m    'zam':25 in dict1\u001b[0m\n\u001b[1;37m    ^\u001b[0m\n\u001b[1;31mSyntaxError\u001b[0m\u001b[1;31m:\u001b[0m illegal target for annotation\n"
     ]
    }
   ],
   "source": [
    "'zam':25 in dict1            # error"
   ]
  },
  {
   "cell_type": "code",
   "execution_count": 27,
   "id": "395eb24a",
   "metadata": {},
   "outputs": [
    {
     "name": "stdout",
     "output_type": "stream",
     "text": [
      "zam\n",
      "raheem\n",
      "robert\n"
     ]
    }
   ],
   "source": [
    "for i in dict1:\n",
    "    print(i)"
   ]
  },
  {
   "cell_type": "markdown",
   "id": "a378e0fd",
   "metadata": {},
   "source": [
    "# index"
   ]
  },
  {
   "cell_type": "code",
   "execution_count": null,
   "id": "a946518b",
   "metadata": {},
   "outputs": [],
   "source": [
    "- dictionary values "
   ]
  },
  {
   "cell_type": "code",
   "execution_count": 33,
   "id": "9c709f4b",
   "metadata": {},
   "outputs": [
    {
     "data": {
      "text/plain": [
       "{'zam': 25, 'raheem': 30, 'robert': 35}"
      ]
     },
     "execution_count": 33,
     "metadata": {},
     "output_type": "execute_result"
    }
   ],
   "source": [
    "dict1"
   ]
  },
  {
   "cell_type": "code",
   "execution_count": 30,
   "id": "4a7a61a0",
   "metadata": {},
   "outputs": [
    {
     "ename": "NameError",
     "evalue": "name 'value' is not defined",
     "output_type": "error",
     "traceback": [
      "\u001b[1;31m---------------------------------------------------------------------------\u001b[0m",
      "\u001b[1;31mNameError\u001b[0m                                 Traceback (most recent call last)",
      "Cell \u001b[1;32mIn[30], line 1\u001b[0m\n\u001b[1;32m----> 1\u001b[0m dict1(value(\u001b[38;5;124m'\u001b[39m\u001b[38;5;124mzam\u001b[39m\u001b[38;5;124m'\u001b[39m))\n",
      "\u001b[1;31mNameError\u001b[0m: name 'value' is not defined"
     ]
    }
   ],
   "source": [
    "dict1"
   ]
  },
  {
   "cell_type": "code",
   "execution_count": 36,
   "id": "77a4dc86",
   "metadata": {},
   "outputs": [
    {
     "name": "stdout",
     "output_type": "stream",
     "text": [
      "zam 25\n",
      "raheem 30\n",
      "robert 35\n"
     ]
    }
   ],
   "source": [
    "# wap by usinf for loop get the values\n",
    "\n",
    "for i in dict1:\n",
    "    print(i,dict1[i])"
   ]
  },
  {
   "cell_type": "code",
   "execution_count": 53,
   "id": "c4d65e45",
   "metadata": {},
   "outputs": [
    {
     "data": {
      "text/plain": [
       "'Ram'"
      ]
     },
     "execution_count": 53,
     "metadata": {},
     "output_type": "execute_result"
    }
   ],
   "source": [
    "dict2={'names':['Ram','Raheem','Robert'],\n",
    "      'ages':[25,30,35]}\n",
    "dict2['names'][0]"
   ]
  },
  {
   "cell_type": "code",
   "execution_count": 51,
   "id": "6d784aea",
   "metadata": {},
   "outputs": [
    {
     "name": "stdout",
     "output_type": "stream",
     "text": [
      "Ram value is 25\n",
      "Raheem value is 30\n",
      "Robert value is 35\n"
     ]
    }
   ],
   "source": [
    "for i in range(3):\n",
    "    print(\"{} value is {}\".format(dict2['names'][i],dict2['ages'][i]))"
   ]
  },
  {
   "cell_type": "code",
   "execution_count": 60,
   "id": "acddc539",
   "metadata": {},
   "outputs": [
    {
     "data": {
      "text/plain": [
       "'python'"
      ]
     },
     "execution_count": 60,
     "metadata": {},
     "output_type": "execute_result"
    }
   ],
   "source": [
    "d1={'hello':{'hello':{'hello':{'hello':'python'}}}}\n",
    "d1['hello']['hello']['hello']['hello']"
   ]
  },
  {
   "cell_type": "code",
   "execution_count": 85,
   "id": "4aed60a6",
   "metadata": {},
   "outputs": [
    {
     "data": {
      "text/plain": [
       "'cherry'"
      ]
     },
     "execution_count": 85,
     "metadata": {},
     "output_type": "execute_result"
    }
   ],
   "source": [
    "d2={'hello':[{'fruits':['apple','banana',{'like':['cherry']}]}]}\n",
    "d2['hello'][0]['fruits'][2]['like'][0]"
   ]
  },
  {
   "cell_type": "code",
   "execution_count": null,
   "id": "8cbd3b17",
   "metadata": {},
   "outputs": [],
   "source": [
    "# how to create a empty dictionary"
   ]
  },
  {
   "cell_type": "code",
   "execution_count": null,
   "id": "1f648b3f",
   "metadata": {},
   "outputs": [],
   "source": [
    "dict1={}\n",
    "\n",
    "list1=[]\n",
    "\n",
    "string=''"
   ]
  },
  {
   "cell_type": "code",
   "execution_count": 89,
   "id": "f4fd8619",
   "metadata": {},
   "outputs": [
    {
     "data": {
      "text/plain": [
       "{'zam': 25, 'raheem': 30, 'robert': 35, 'nareshit': ['DS', 'MLOPS', 'DE']}"
      ]
     },
     "execution_count": 89,
     "metadata": {},
     "output_type": "execute_result"
    }
   ],
   "source": [
    "dict1['nareshit']=['DS','MLOPS','DE']\n",
    "dict1"
   ]
  },
  {
   "cell_type": "code",
   "execution_count": 91,
   "id": "8d9e5eb7",
   "metadata": {},
   "outputs": [
    {
     "data": {
      "text/plain": [
       "{'zam': 25,\n",
       " 'raheem': 30,\n",
       " 'robert': 35,\n",
       " 'nareshit': ['DS', 'MLOPS', 'DE'],\n",
       " 'India': 'in semis'}"
      ]
     },
     "execution_count": 91,
     "metadata": {},
     "output_type": "execute_result"
    }
   ],
   "source": [
    "dict1['India']='in semis'\n",
    "dict1"
   ]
  },
  {
   "cell_type": "code",
   "execution_count": 94,
   "id": "dccce797",
   "metadata": {},
   "outputs": [
    {
     "data": {
      "text/plain": [
       "{'Apple': 'fruit', 'Car': 'vehicle'}"
      ]
     },
     "execution_count": 94,
     "metadata": {},
     "output_type": "execute_result"
    }
   ],
   "source": [
    "dict2={}\n",
    "dict2['Apple']='fruit'\n",
    "dict2['Car']='vehicle'\n",
    "dict2"
   ]
  },
  {
   "cell_type": "code",
   "execution_count": 118,
   "id": "55a4da56",
   "metadata": {},
   "outputs": [
    {
     "name": "stdout",
     "output_type": "stream",
     "text": [
      "enter a random number:10\n",
      "enter a random number:11\n",
      "enter a random number:12\n",
      "enter a random number:13\n",
      "enter a random number:14\n"
     ]
    },
    {
     "data": {
      "text/plain": [
       "{'even': [10, 12, 14], 'odd': [11, 13]}"
      ]
     },
     "execution_count": 118,
     "metadata": {},
     "output_type": "execute_result"
    }
   ],
   "source": [
    "# wap ask the user get 5 random numbers  between 10 to 100\n",
    "# and perform even and odd operation\n",
    "# output : {'even':[10,12,14],'odd':[11,13]}\n",
    "\n",
    "dict8={}\n",
    "list1,list2=[],[]\n",
    "import random\n",
    "n=random.randint(10,100)\n",
    "for i in range(5):\n",
    "    num=eval(input(\"enter a random number:\"))\n",
    "    if(num%2==0):\n",
    "        list1.append(num)\n",
    "    else:\n",
    "        list2.append(num)\n",
    "                     \n",
    "dict8[\"even\"]=list1\n",
    "dict8[\"odd\"]=list2\n",
    "dict8"
   ]
  },
  {
   "cell_type": "markdown",
   "id": "27ad5dd3",
   "metadata": {},
   "source": [
    "# 15-11-23"
   ]
  },
  {
   "cell_type": "code",
   "execution_count": 10,
   "id": "ebd070bb",
   "metadata": {},
   "outputs": [
    {
     "data": {
      "text/plain": [
       "{'course_id1': 'DS',\n",
       " 'course_duration': 4,\n",
       " 'caourse_fee': 18000,\n",
       " 'institute': 'nareshit'}"
      ]
     },
     "execution_count": 10,
     "metadata": {},
     "output_type": "execute_result"
    }
   ],
   "source": [
    "dict1={\"course_id1\":'DS',\"course_duration\":4,\"caourse_fee\":18000,\"institute\":\"nareshit\"}\n",
    "dict1"
   ]
  },
  {
   "cell_type": "markdown",
   "id": "0bf1f506",
   "metadata": {},
   "source": [
    "- items-keys-values"
   ]
  },
  {
   "cell_type": "code",
   "execution_count": 3,
   "id": "f11662c5",
   "metadata": {},
   "outputs": [
    {
     "data": {
      "text/plain": [
       "dict_items([('course_id1', 'DS'), ('course_duration', 4), ('caourse_fee', 18000), ('institute', 'nareshit')])"
      ]
     },
     "execution_count": 3,
     "metadata": {},
     "output_type": "execute_result"
    }
   ],
   "source": [
    "dict1.items()                     # All will come"
   ]
  },
  {
   "cell_type": "code",
   "execution_count": 9,
   "id": "2f34360d",
   "metadata": {},
   "outputs": [
    {
     "data": {
      "text/plain": [
       "dict_items"
      ]
     },
     "execution_count": 9,
     "metadata": {},
     "output_type": "execute_result"
    }
   ],
   "source": [
    "type(dict1.items())"
   ]
  },
  {
   "cell_type": "code",
   "execution_count": null,
   "id": "c1b0a468",
   "metadata": {},
   "outputs": [],
   "source": [
    "# it is a new type : dict items\n",
    "# it is not a list"
   ]
  },
  {
   "cell_type": "code",
   "execution_count": 17,
   "id": "f6b65425",
   "metadata": {},
   "outputs": [
    {
     "name": "stdout",
     "output_type": "stream",
     "text": [
      "('course_id1', 'DS')\n",
      "('course_duration', 4)\n",
      "('caourse_fee', 18000)\n",
      "('institute', 'nareshit')\n"
     ]
    }
   ],
   "source": [
    "for i in dict1.items():\n",
    "    print(i)"
   ]
  },
  {
   "cell_type": "code",
   "execution_count": 14,
   "id": "254ef96c",
   "metadata": {},
   "outputs": [
    {
     "name": "stdout",
     "output_type": "stream",
     "text": [
      "course_id1 : DS\n",
      "course_duration : 4\n",
      "caourse_fee : 18000\n",
      "institute : nareshit\n"
     ]
    }
   ],
   "source": [
    "for i,j in dict1.items():\n",
    "    print(i,\":\",j)"
   ]
  },
  {
   "cell_type": "code",
   "execution_count": 16,
   "id": "ef1d288c",
   "metadata": {},
   "outputs": [
    {
     "data": {
      "text/plain": [
       "[('course_id1', 'DS'),\n",
       " ('course_duration', 4),\n",
       " ('caourse_fee', 18000),\n",
       " ('institute', 'nareshit')]"
      ]
     },
     "execution_count": 16,
     "metadata": {},
     "output_type": "execute_result"
    }
   ],
   "source": [
    "list(dict1.items())             # type casting using list"
   ]
  },
  {
   "cell_type": "code",
   "execution_count": null,
   "id": "7e2de1c6",
   "metadata": {},
   "outputs": [],
   "source": []
  },
  {
   "cell_type": "code",
   "execution_count": 7,
   "id": "f372f9fd",
   "metadata": {},
   "outputs": [
    {
     "data": {
      "text/plain": [
       "dict_keys(['course_id1', 'course_duration', 'caourse_fee', 'institute'])"
      ]
     },
     "execution_count": 7,
     "metadata": {},
     "output_type": "execute_result"
    }
   ],
   "source": [
    "dict1.keys()"
   ]
  },
  {
   "cell_type": "code",
   "execution_count": 20,
   "id": "b5c160fe",
   "metadata": {},
   "outputs": [
    {
     "data": {
      "text/plain": [
       "['course_id1', 'course_duration', 'caourse_fee', 'institute']"
      ]
     },
     "execution_count": 20,
     "metadata": {},
     "output_type": "execute_result"
    }
   ],
   "source": [
    "list(dict1.keys())"
   ]
  },
  {
   "cell_type": "code",
   "execution_count": 8,
   "id": "87ecd085",
   "metadata": {},
   "outputs": [
    {
     "data": {
      "text/plain": [
       "dict_values(['DS', 4, 18000, 'nareshit'])"
      ]
     },
     "execution_count": 8,
     "metadata": {},
     "output_type": "execute_result"
    }
   ],
   "source": [
    "dict1.values()"
   ]
  },
  {
   "cell_type": "code",
   "execution_count": 21,
   "id": "ef56fd9d",
   "metadata": {},
   "outputs": [
    {
     "data": {
      "text/plain": [
       "['DS', 4, 18000, 'nareshit']"
      ]
     },
     "execution_count": 21,
     "metadata": {},
     "output_type": "execute_result"
    }
   ],
   "source": [
    "list(dict1.values())"
   ]
  },
  {
   "cell_type": "code",
   "execution_count": 1,
   "id": "1e295ea3",
   "metadata": {},
   "outputs": [
    {
     "data": {
      "text/plain": [
       "{'course_id1': 'DS',\n",
       " 'course_duration': 4,\n",
       " 'caourse_fee': 18000,\n",
       " 'institute': 'nareshit'}"
      ]
     },
     "execution_count": 1,
     "metadata": {},
     "output_type": "execute_result"
    }
   ],
   "source": [
    "# one list keys\n",
    "# second list values\n",
    "\n",
    "# can you create a dictionary\n",
    "\n",
    "keys=['course_id1', 'course_duration', 'caourse_fee', 'institute']\n",
    "values=['DS', 4, 18000, 'nareshit']\n",
    "\n",
    "dict2={}\n",
    "\n",
    "for i,j in zip(keys,values):\n",
    "    dict2[i]=j\n",
    "    \n",
    "dict2"
   ]
  },
  {
   "cell_type": "code",
   "execution_count": 2,
   "id": "c119aa1d",
   "metadata": {},
   "outputs": [
    {
     "data": {
      "text/plain": [
       "[0, 1, 2, 3, 4, 5, 6, 7, 8, 9]"
      ]
     },
     "execution_count": 2,
     "metadata": {},
     "output_type": "execute_result"
    }
   ],
   "source": [
    "[i for i in range(10)]                      # list comprehension"
   ]
  },
  {
   "cell_type": "code",
   "execution_count": 4,
   "id": "ff188c9c",
   "metadata": {},
   "outputs": [
    {
     "data": {
      "text/plain": [
       "{'course_id1': 'DS',\n",
       " 'course_duration': 4,\n",
       " 'caourse_fee': 18000,\n",
       " 'institute': 'nareshit'}"
      ]
     },
     "execution_count": 4,
     "metadata": {},
     "output_type": "execute_result"
    }
   ],
   "source": [
    "{i:j for i,j in zip(keys,values)}                # dictionary comprehension"
   ]
  },
  {
   "cell_type": "code",
   "execution_count": null,
   "id": "1141bd0d",
   "metadata": {},
   "outputs": [],
   "source": [
    "# can you get keys list and values list from a dictionary\n",
    "# can you make a dictionary by using two lists"
   ]
  },
  {
   "cell_type": "markdown",
   "id": "44610b58",
   "metadata": {},
   "source": [
    "# get"
   ]
  },
  {
   "cell_type": "code",
   "execution_count": 14,
   "id": "1e8474e7",
   "metadata": {},
   "outputs": [
    {
     "data": {
      "text/plain": [
       "{'course_id1': 'DS',\n",
       " 'course_duration': 4,\n",
       " 'caourse_fee': 18000,\n",
       " 'institute': 'nareshit'}"
      ]
     },
     "execution_count": 14,
     "metadata": {},
     "output_type": "execute_result"
    }
   ],
   "source": [
    "dict1"
   ]
  },
  {
   "cell_type": "code",
   "execution_count": 16,
   "id": "dbd70157",
   "metadata": {},
   "outputs": [
    {
     "data": {
      "text/plain": [
       "{'A': 1, 'B': 2, 'C': 3}"
      ]
     },
     "execution_count": 16,
     "metadata": {},
     "output_type": "execute_result"
    }
   ],
   "source": [
    "dict1={'A':1,'B':2,'C':3}\n",
    "dict1"
   ]
  },
  {
   "cell_type": "code",
   "execution_count": 17,
   "id": "94d53427",
   "metadata": {},
   "outputs": [
    {
     "data": {
      "text/plain": [
       "1"
      ]
     },
     "execution_count": 17,
     "metadata": {},
     "output_type": "execute_result"
    }
   ],
   "source": [
    "dict1.get('A')"
   ]
  },
  {
   "cell_type": "code",
   "execution_count": 18,
   "id": "0b2bc62d",
   "metadata": {},
   "outputs": [],
   "source": [
    "dict1.get('a')                  # no output"
   ]
  },
  {
   "cell_type": "markdown",
   "id": "7dd07770",
   "metadata": {},
   "source": [
    "# clear-copy"
   ]
  },
  {
   "cell_type": "code",
   "execution_count": 19,
   "id": "947697bd",
   "metadata": {},
   "outputs": [],
   "source": [
    "dict1.clear()"
   ]
  },
  {
   "cell_type": "code",
   "execution_count": 20,
   "id": "cab7756f",
   "metadata": {},
   "outputs": [
    {
     "data": {
      "text/plain": [
       "{}"
      ]
     },
     "execution_count": 20,
     "metadata": {},
     "output_type": "execute_result"
    }
   ],
   "source": [
    "dict1"
   ]
  },
  {
   "cell_type": "code",
   "execution_count": 23,
   "id": "a727f222",
   "metadata": {},
   "outputs": [
    {
     "data": {
      "text/plain": [
       "{'A': 1, 'B': 2, 'C': 3}"
      ]
     },
     "execution_count": 23,
     "metadata": {},
     "output_type": "execute_result"
    }
   ],
   "source": [
    "dict1={'A':1,'B':2,'C':3}\n",
    "dict1"
   ]
  },
  {
   "cell_type": "code",
   "execution_count": 34,
   "id": "718e6bd1",
   "metadata": {},
   "outputs": [
    {
     "name": "stdout",
     "output_type": "stream",
     "text": [
      "{'A': 1, 'B': 2, 'C': 3}\n",
      "{}\n"
     ]
    }
   ],
   "source": [
    "dict2={'A':1,'B':2,'C':3}\n",
    "dict3=dict2.copy()\n",
    "dict2.clear()\n",
    "print(dict3)\n",
    "print(dict2)"
   ]
  },
  {
   "cell_type": "markdown",
   "id": "6ff55c95",
   "metadata": {},
   "source": [
    "# pop-"
   ]
  },
  {
   "cell_type": "code",
   "execution_count": 45,
   "id": "9ee52a8c",
   "metadata": {},
   "outputs": [],
   "source": [
    "d1={'course_id1': 'DS',\n",
    " 'course_duration': 4,\n",
    " 'caourse_fee': 18000,\n",
    " 'institute': 'nareshit'}"
   ]
  },
  {
   "cell_type": "code",
   "execution_count": 46,
   "id": "3dfa810f",
   "metadata": {},
   "outputs": [
    {
     "data": {
      "text/plain": [
       "{'course_id1': 'DS',\n",
       " 'course_duration': 4,\n",
       " 'caourse_fee': 18000,\n",
       " 'institute': 'nareshit'}"
      ]
     },
     "execution_count": 46,
     "metadata": {},
     "output_type": "execute_result"
    }
   ],
   "source": [
    "d1"
   ]
  },
  {
   "cell_type": "code",
   "execution_count": 47,
   "id": "d694519d",
   "metadata": {},
   "outputs": [
    {
     "data": {
      "text/plain": [
       "18000"
      ]
     },
     "execution_count": 47,
     "metadata": {},
     "output_type": "execute_result"
    }
   ],
   "source": [
    "d1.pop(\"caourse_fee\")\n",
    "\n",
    "# pop method will take one argument\n",
    "# that ragument is key, which youn want to return\n",
    "# and return the corresponding value also"
   ]
  },
  {
   "cell_type": "code",
   "execution_count": 48,
   "id": "7aaaa71d",
   "metadata": {},
   "outputs": [
    {
     "data": {
      "text/plain": [
       "{'course_id1': 'DS', 'course_duration': 4, 'institute': 'nareshit'}"
      ]
     },
     "execution_count": 48,
     "metadata": {},
     "output_type": "execute_result"
    }
   ],
   "source": [
    "d1"
   ]
  },
  {
   "cell_type": "markdown",
   "id": "3245e243",
   "metadata": {},
   "source": [
    "# popitem"
   ]
  },
  {
   "cell_type": "code",
   "execution_count": 49,
   "id": "e444ce48",
   "metadata": {},
   "outputs": [],
   "source": [
    "d1={'course_id1': 'DS',\n",
    " 'course_duration': 4,\n",
    " 'caourse_fee': 18000,\n",
    " 'institute': 'nareshit'}"
   ]
  },
  {
   "cell_type": "code",
   "execution_count": 50,
   "id": "a189218a",
   "metadata": {},
   "outputs": [
    {
     "data": {
      "text/plain": [
       "('institute', 'nareshit')"
      ]
     },
     "execution_count": 50,
     "metadata": {},
     "output_type": "execute_result"
    }
   ],
   "source": [
    "d1.popitem()\n",
    "\n",
    "# popitem is not taking any argument\n",
    "# it will return output\n",
    "# which pair it is removing? : last pair "
   ]
  },
  {
   "cell_type": "code",
   "execution_count": 51,
   "id": "cea7917f",
   "metadata": {},
   "outputs": [
    {
     "data": {
      "text/plain": [
       "{'course_id1': 'DS', 'course_duration': 4, 'caourse_fee': 18000}"
      ]
     },
     "execution_count": 51,
     "metadata": {},
     "output_type": "execute_result"
    }
   ],
   "source": [
    "d1"
   ]
  },
  {
   "cell_type": "markdown",
   "id": "1d13ac6f",
   "metadata": {},
   "source": [
    "# del"
   ]
  },
  {
   "cell_type": "code",
   "execution_count": 53,
   "id": "3de61703",
   "metadata": {},
   "outputs": [
    {
     "data": {
      "text/plain": [
       "{'course_id1': 'DS', 'caourse_fee': 18000, 'institute': 'nareshit'}"
      ]
     },
     "execution_count": 53,
     "metadata": {},
     "output_type": "execute_result"
    }
   ],
   "source": [
    "dict1={'course_id1': 'DS',\n",
    " 'course_duration': 4,\n",
    " 'caourse_fee': 18000,\n",
    " 'institute': 'nareshit'}\n",
    "\n",
    "del dict1[\"course_duration\"]\n",
    "\n",
    "dict1"
   ]
  },
  {
   "cell_type": "markdown",
   "id": "45596ef0",
   "metadata": {},
   "source": [
    "# set as default"
   ]
  },
  {
   "cell_type": "code",
   "execution_count": 57,
   "id": "fcb60897",
   "metadata": {},
   "outputs": [
    {
     "data": {
      "text/plain": [
       "{'course_id1': 'DS',\n",
       " 'course_duration': 4,\n",
       " 'caourse_fee': 18000,\n",
       " 'institute': 'nareshit',\n",
       " 'package': None,\n",
       " 'certification': 'valid'}"
      ]
     },
     "execution_count": 57,
     "metadata": {},
     "output_type": "execute_result"
    }
   ],
   "source": [
    "dict1={'course_id1': 'DS',\n",
    " 'course_duration': 4,\n",
    " 'caourse_fee': 18000,\n",
    " 'institute': 'nareshit'}\n",
    "    \n",
    "dict1.setdefault('package')                  # we are not providing valuen : none\n",
    "\n",
    "dict1.setdefault('certification','valid')      # both key and value also providing   \n",
    "\n",
    "dict1"
   ]
  },
  {
   "cell_type": "markdown",
   "id": "7f8bb0cb",
   "metadata": {},
   "source": [
    "# from keys"
   ]
  },
  {
   "cell_type": "code",
   "execution_count": 66,
   "id": "b3a5db9f",
   "metadata": {},
   "outputs": [
    {
     "data": {
      "text/plain": [
       "{'p': 10, 'y': 10, 't': 10, 'h': 10, 'o': 10, 'n': 10}"
      ]
     },
     "execution_count": 66,
     "metadata": {},
     "output_type": "execute_result"
    }
   ],
   "source": [
    "dict1={'course_id1': 'DS',\n",
    " 'course_duration': 4,\n",
    " 'caourse_fee': 18000,\n",
    " 'institute': 'nareshit'}\n",
    "\n",
    "dict1.fromkeys('python',10)"
   ]
  },
  {
   "cell_type": "code",
   "execution_count": 67,
   "id": "11027d78",
   "metadata": {},
   "outputs": [
    {
     "data": {
      "text/plain": [
       "{'A': 'nareshit', 'B': 'nareshit', 'C': 'nareshit'}"
      ]
     },
     "execution_count": 67,
     "metadata": {},
     "output_type": "execute_result"
    }
   ],
   "source": [
    "dict1={}\n",
    "employee=['A','B','C']\n",
    "dict1.fromkeys(employee,\"nareshit\")"
   ]
  },
  {
   "cell_type": "code",
   "execution_count": 68,
   "id": "1ddb71ae",
   "metadata": {},
   "outputs": [
    {
     "data": {
      "text/plain": [
       "{'2': 'even', '4': 'even', '5': 'even', '7': 'even'}"
      ]
     },
     "execution_count": 68,
     "metadata": {},
     "output_type": "execute_result"
    }
   ],
   "source": [
    "dict2={}\n",
    "list1=[\"2\",\"4\",\"5\",\"7\"]\n",
    "dict2.fromkeys(list1,\"even\")"
   ]
  },
  {
   "cell_type": "code",
   "execution_count": null,
   "id": "b523e750",
   "metadata": {},
   "outputs": [],
   "source": []
  }
 ],
 "metadata": {
  "kernelspec": {
   "display_name": "Python 3 (ipykernel)",
   "language": "python",
   "name": "python3"
  },
  "language_info": {
   "codemirror_mode": {
    "name": "ipython",
    "version": 3
   },
   "file_extension": ".py",
   "mimetype": "text/x-python",
   "name": "python",
   "nbconvert_exporter": "python",
   "pygments_lexer": "ipython3",
   "version": "3.11.5"
  }
 },
 "nbformat": 4,
 "nbformat_minor": 5
}
