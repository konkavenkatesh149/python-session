{
 "cells": [
  {
   "cell_type": "code",
   "execution_count": null,
   "id": "800c6f9c",
   "metadata": {},
   "outputs": [],
   "source": [
    "- for\n",
    "\n",
    "- while"
   ]
  },
  {
   "cell_type": "code",
   "execution_count": null,
   "id": "53112a3b",
   "metadata": {},
   "outputs": [],
   "source": [
    "- loop means circle\n",
    "\n",
    "- if you want to iterate same task many no of times, then we go for loop concepts\n",
    "\n",
    "- if you want to use same piece of code, then we go for functions"
   ]
  },
  {
   "cell_type": "code",
   "execution_count": null,
   "id": "bf35c796",
   "metadata": {},
   "outputs": [],
   "source": [
    "def <function_name>():\n",
    "    # stmt 1\n",
    "    # stmt 2\n",
    "    \n",
    "whenever you have : ====== indentation will come"
   ]
  },
  {
   "cell_type": "code",
   "execution_count": null,
   "id": "46cd8c99",
   "metadata": {},
   "outputs": [],
   "source": [
    "# if i want to print first 10 numbers"
   ]
  },
  {
   "cell_type": "code",
   "execution_count": null,
   "id": "5f0be9fd",
   "metadata": {},
   "outputs": [],
   "source": [
    "- initialisation (start point)\n",
    "\n",
    "- condition (stop point)\n",
    "\n",
    "- increment/decrement"
   ]
  },
  {
   "cell_type": "code",
   "execution_count": null,
   "id": "f1ccd6f9",
   "metadata": {},
   "outputs": [],
   "source": [
    "# if i want to print first 10 numbers\n",
    "\n",
    "# start point : 1\n",
    "# stop point: 10\n",
    "# 1 2 3 4 increment"
   ]
  },
  {
   "cell_type": "markdown",
   "id": "db7468cd",
   "metadata": {},
   "source": [
    "### note\n",
    "\n",
    "#### in python the index always start with zero"
   ]
  },
  {
   "cell_type": "code",
   "execution_count": 1,
   "id": "90546c5b",
   "metadata": {},
   "outputs": [
    {
     "name": "stdout",
     "output_type": "stream",
     "text": [
      "0\n",
      "1\n",
      "2\n",
      "3\n",
      "4\n",
      "5\n",
      "6\n",
      "7\n",
      "8\n",
      "9\n"
     ]
    }
   ],
   "source": [
    "for i in range(10):\n",
    "    print(i)\n",
    "    \n",
    "# start=0  (python index start with zero)\n",
    "# i in range(10) ======== start/stop/incre\n",
    "# nothing mentioned means zero is the starting point"
   ]
  },
  {
   "cell_type": "markdown",
   "id": "511a86f0",
   "metadata": {},
   "source": [
    "### pattern -1 "
   ]
  },
  {
   "cell_type": "code",
   "execution_count": null,
   "id": "6173b061",
   "metadata": {},
   "outputs": [],
   "source": [
    "range(stop)\n",
    "\n",
    "\n",
    "- start=0\n",
    "- stop= stop-1\n",
    "- by default increment"
   ]
  },
  {
   "cell_type": "code",
   "execution_count": 8,
   "id": "498bb417",
   "metadata": {},
   "outputs": [
    {
     "name": "stdout",
     "output_type": "stream",
     "text": [
      "0\n",
      "1\n",
      "2\n",
      "3\n",
      "4\n",
      "5\n",
      "6\n",
      "7\n",
      "8\n",
      "9\n",
      "10\n",
      "11\n",
      "12\n",
      "13\n",
      "14\n",
      "15\n",
      "16\n",
      "17\n",
      "18\n",
      "19\n"
     ]
    }
   ],
   "source": [
    "for i in range(20):\n",
    "    print(i)\n",
    "    \n",
    "# start = 0   \n",
    "# end = stop-1 = 20-1 = 19\n",
    "# incremental"
   ]
  },
  {
   "cell_type": "code",
   "execution_count": 10,
   "id": "b61609f7",
   "metadata": {},
   "outputs": [
    {
     "name": "stdout",
     "output_type": "stream",
     "text": [
      "0 1 2 3 4 5 6 7 8 9 10 11 12 13 14 15 16 17 18 19 "
     ]
    }
   ],
   "source": [
    "for i in range(20):\n",
    "    print(i,end=' ')"
   ]
  },
  {
   "cell_type": "code",
   "execution_count": null,
   "id": "172ab583",
   "metadata": {},
   "outputs": [],
   "source": []
  },
  {
   "cell_type": "markdown",
   "id": "78299fc2",
   "metadata": {},
   "source": [
    "### pattern-2"
   ]
  },
  {
   "cell_type": "code",
   "execution_count": null,
   "id": "77d82c2e",
   "metadata": {},
   "outputs": [],
   "source": [
    "range(start,stop)\n",
    "\n",
    "# start=start\n",
    "# end = stop-1\n",
    "# incremental\n",
    "\n",
    "ex: range(10,20)\n",
    "    \n",
    "# start=10\n",
    "# stop= end-1 = 20-1 = 19\n",
    "# incremental"
   ]
  },
  {
   "cell_type": "code",
   "execution_count": 14,
   "id": "3031af21",
   "metadata": {},
   "outputs": [
    {
     "name": "stdout",
     "output_type": "stream",
     "text": [
      "10 11 12 13 14 15 16 17 18 19 "
     ]
    }
   ],
   "source": [
    "for i in range(10,20):\n",
    "    print(i,end=' ')"
   ]
  },
  {
   "cell_type": "code",
   "execution_count": null,
   "id": "e3485d4b",
   "metadata": {},
   "outputs": [],
   "source": []
  },
  {
   "cell_type": "markdown",
   "id": "b225452c",
   "metadata": {},
   "source": [
    "### pattern- 3"
   ]
  },
  {
   "cell_type": "code",
   "execution_count": null,
   "id": "02b69c60",
   "metadata": {},
   "outputs": [],
   "source": [
    "range(start,stop,step)\n",
    "\n",
    "# under this we have two use cases\n",
    "# start= start\n",
    "# stop value dependss on sign of step value\n",
    "# step sign is + : incremnental\n",
    "        - end = stop-1\n",
    "# step sign is - : decremental\n",
    "        - end = stop+1"
   ]
  },
  {
   "cell_type": "code",
   "execution_count": null,
   "id": "a18a89fa",
   "metadata": {},
   "outputs": [],
   "source": [
    "for i in range(5,20,3):\n",
    "    \n",
    "# start = 5\n",
    "# stop value depends on step sign\n",
    "# step sign is +3 ======> +ve \n",
    "     - end = stop-1 \n",
    "    \n",
    "    \n",
    "for i in range(5,20,-3):\n",
    "    \n",
    "# step sign is -3 =====> -ve\n",
    "    - end = stop+1"
   ]
  },
  {
   "cell_type": "code",
   "execution_count": 16,
   "id": "cb82a9e0",
   "metadata": {},
   "outputs": [
    {
     "name": "stdout",
     "output_type": "stream",
     "text": [
      "5 8 11 14 17 "
     ]
    }
   ],
   "source": [
    "# for i in range(5,20,3):\n",
    "\n",
    "\n",
    "# =================== observation-1 : fix the values=================\n",
    "# start = 5\n",
    "# step sign is +Ve\n",
    "# stop = 20-1= 19\n",
    "# =================== observation-2 : the answer is possible or not============\n",
    "\n",
    "\n",
    "# ================== observation -3 : find the answer= =======================\n",
    "# 5   8   11   14   17\n",
    "\n",
    "\n",
    "\n",
    "for i in range(5,20,3):\n",
    "    print(i,end=' ')"
   ]
  },
  {
   "cell_type": "code",
   "execution_count": null,
   "id": "29a86391",
   "metadata": {},
   "outputs": [],
   "source": [
    "for i in range(-5,-20,-3):\n",
    "    print(i,end=' ')\n",
    "    \n",
    "\n",
    "# ========== observation-1 ===========\n",
    "\n",
    "- start = -5\n",
    "- step sign = -ve\n",
    "- end = stop+1 = -20+1 = -19\n",
    "\n",
    "# =================== observation-2 : the answer is possible or not============\n",
    "\n",
    "- possible ( bcz of reverse direction)\n",
    "\n",
    "# ================== observation -3 : find the answer= =======================\n",
    "# -5   -8    -11    -14    -17"
   ]
  },
  {
   "cell_type": "code",
   "execution_count": 17,
   "id": "ee58c122",
   "metadata": {},
   "outputs": [
    {
     "name": "stdout",
     "output_type": "stream",
     "text": [
      "-5 -8 -11 -14 -17 "
     ]
    }
   ],
   "source": [
    "for i in range(-5,-20,-3):\n",
    "    print(i,end=' ')"
   ]
  },
  {
   "cell_type": "code",
   "execution_count": 20,
   "id": "b970a235",
   "metadata": {},
   "outputs": [],
   "source": [
    "for i in range(5,20,-3):\n",
    "    print(i)\n",
    "    \n",
    "# obs - 1:============\n",
    "# start = 5\n",
    "# step is -ve\n",
    "# end = stop+1 = 20+1 = 21\n",
    "\n",
    "# obs - 2 : not possible ====\n",
    "\n",
    "# obs - 3 : no output ======"
   ]
  },
  {
   "cell_type": "code",
   "execution_count": null,
   "id": "601cc9d4",
   "metadata": {},
   "outputs": [],
   "source": [
    "range(10,30,3) ========== possible\n",
    "range(10,30,-3) ========= not possible\n",
    "range(10,-30,3) ========= not possible\n",
    "range(10,-30,-3) ======== possible\n",
    "range(-10,-30,-3) ======= possible\n",
    "range(-10,-30,3) ======== not possible\n",
    "range(-10,30,-3) ======== not possible\n",
    "range(-10,30,3) ========= possible\n",
    "range(40,20,-3) ========= possible"
   ]
  },
  {
   "cell_type": "code",
   "execution_count": 21,
   "id": "d5ddb955",
   "metadata": {},
   "outputs": [
    {
     "name": "stdout",
     "output_type": "stream",
     "text": [
      "10 13 16 19 22 25 28 "
     ]
    }
   ],
   "source": [
    "for i in range(10,30,3):\n",
    "    print(i,end=' ')"
   ]
  },
  {
   "cell_type": "code",
   "execution_count": 22,
   "id": "984a8ff5",
   "metadata": {},
   "outputs": [],
   "source": [
    "for i in range(10,30,-3):\n",
    "    print(i,end=' ')"
   ]
  },
  {
   "cell_type": "code",
   "execution_count": 23,
   "id": "5b9bac4f",
   "metadata": {},
   "outputs": [],
   "source": [
    "for i in range(10,-30,3):\n",
    "    print(i,end=' ')"
   ]
  },
  {
   "cell_type": "code",
   "execution_count": 24,
   "id": "514a74d9",
   "metadata": {},
   "outputs": [
    {
     "name": "stdout",
     "output_type": "stream",
     "text": [
      "10 7 4 1 -2 -5 -8 -11 -14 -17 -20 -23 -26 -29 "
     ]
    }
   ],
   "source": [
    "for i in range(10,-30,-3):\n",
    "    print(i,end=' ')"
   ]
  },
  {
   "cell_type": "code",
   "execution_count": 25,
   "id": "de355882",
   "metadata": {},
   "outputs": [
    {
     "name": "stdout",
     "output_type": "stream",
     "text": [
      "-10 -13 -16 -19 -22 -25 -28 "
     ]
    }
   ],
   "source": [
    "for i in range(-10,-30,-3):\n",
    "    print(i,end=' ')"
   ]
  },
  {
   "cell_type": "code",
   "execution_count": 26,
   "id": "76ae3b80",
   "metadata": {},
   "outputs": [],
   "source": [
    "for i in range(-10,-30,3):\n",
    "    print(i,end=' ')"
   ]
  },
  {
   "cell_type": "code",
   "execution_count": 27,
   "id": "68f55f22",
   "metadata": {},
   "outputs": [],
   "source": [
    "for i in range(-10,30,-3):\n",
    "    print(i,end=' ')"
   ]
  },
  {
   "cell_type": "code",
   "execution_count": 28,
   "id": "fcced3fa",
   "metadata": {},
   "outputs": [
    {
     "name": "stdout",
     "output_type": "stream",
     "text": [
      "-10 -7 -4 -1 2 5 8 11 14 17 20 23 26 29 "
     ]
    }
   ],
   "source": [
    "for i in range(-10,30,3):\n",
    "    print(i,end=' ')"
   ]
  },
  {
   "cell_type": "code",
   "execution_count": 31,
   "id": "0b96903c",
   "metadata": {},
   "outputs": [
    {
     "name": "stdout",
     "output_type": "stream",
     "text": [
      "40 37 34 31 28 25 22 "
     ]
    }
   ],
   "source": [
    "for i in range(40,20,-3):\n",
    "    print(i,end=' ')"
   ]
  },
  {
   "cell_type": "code",
   "execution_count": null,
   "id": "91218190",
   "metadata": {},
   "outputs": [],
   "source": []
  },
  {
   "cell_type": "code",
   "execution_count": 1,
   "id": "1bc494d2",
   "metadata": {},
   "outputs": [
    {
     "name": "stdout",
     "output_type": "stream",
     "text": [
      "the square of 1 is 1 \n",
      "the square of 2 is 4 \n",
      "the square of 3 is 9 \n",
      "the square of 4 is 16 \n",
      "the square of 5 is 25 \n",
      "the square of 6 is 36 \n",
      "the square of 7 is 49 \n",
      "the square of 8 is 64 \n",
      "the square of 9 is 81 \n",
      "the square of 10 is 100 \n"
     ]
    }
   ],
   "source": [
    "# wap ask the user print first 10 square numbers\n",
    "\n",
    "for i in range(1,11):\n",
    "    print(\"the square of {} is {} \".format(i,i*i))"
   ]
  },
  {
   "cell_type": "code",
   "execution_count": 42,
   "id": "f8e9aed8",
   "metadata": {},
   "outputs": [
    {
     "name": "stdout",
     "output_type": "stream",
     "text": [
      "7 * 1 = 7 \n",
      "7 * 2 = 14 \n",
      "7 * 3 = 21 \n",
      "7 * 4 = 28 \n",
      "7 * 5 = 35 \n",
      "7 * 6 = 42 \n",
      "7 * 7 = 49 \n",
      "7 * 8 = 56 \n",
      "7 * 9 = 63 \n",
      "7 * 10 = 70 \n"
     ]
    }
   ],
   "source": [
    "# wap to print 7th table\n",
    "\n",
    "for i in range(1,11):\n",
    "    print(\"7 * {} = {} \".format(i,i*7))"
   ]
  },
  {
   "cell_type": "code",
   "execution_count": 1,
   "id": "853d8c9d",
   "metadata": {},
   "outputs": [
    {
     "name": "stdout",
     "output_type": "stream",
     "text": [
      "7 14 21 28 35 42 49 56 63 70 "
     ]
    }
   ],
   "source": [
    "for i in range(1,11):\n",
    "    print(7*i,end=\" \")"
   ]
  },
  {
   "cell_type": "code",
   "execution_count": 4,
   "id": "156e9d89",
   "metadata": {},
   "outputs": [
    {
     "name": "stdout",
     "output_type": "stream",
     "text": [
      "324 361 400 441 484 "
     ]
    }
   ],
   "source": [
    "import random\n",
    "num=random.randint(1,100)\n",
    "for i in range(num,num+5):\n",
    "    print(i*i,end=' ')"
   ]
  },
  {
   "cell_type": "code",
   "execution_count": 1,
   "id": "4a67e5e3",
   "metadata": {},
   "outputs": [
    {
     "name": "stdout",
     "output_type": "stream",
     "text": [
      "the square of 0 is 0\n",
      "the square of 1 is 1\n",
      "the square of 2 is 4\n",
      "the square of 3 is 9\n",
      "the square of 4 is 16\n"
     ]
    }
   ],
   "source": [
    "for i in range(5):\n",
    "    print(\"the square of {} is {}\".format(i,i*i))"
   ]
  },
  {
   "cell_type": "code",
   "execution_count": 2,
   "id": "64c3bc34",
   "metadata": {},
   "outputs": [
    {
     "name": "stdout",
     "output_type": "stream",
     "text": [
      "the square of 32 is 1024 \n",
      "the square of 53 is 2809 \n",
      "the square of 88 is 7744 \n",
      "the square of 90 is 8100 \n",
      "the square of 20 is 400 \n"
     ]
    }
   ],
   "source": [
    "# wap ask the user take a random number between 1 to 100\n",
    "# and print square of number\n",
    "# and this operation do 5 times\n",
    "\n",
    "import random\n",
    "for i in range(5):\n",
    "    num=random.randint(1,100)\n",
    "    print(\"the square of {} is {} \".format(num,num*num))\n"
   ]
  },
  {
   "cell_type": "code",
   "execution_count": 12,
   "id": "8adbf49e",
   "metadata": {},
   "outputs": [
    {
     "name": "stdout",
     "output_type": "stream",
     "text": [
      "number 10 is even number\n",
      "number 11 is odd number\n",
      "number 12 is even number\n",
      "number 13 is odd number\n",
      "number 14 is even number\n",
      "number 15 is odd number\n",
      "number 16 is even number\n",
      "number 17 is odd number\n",
      "number 18 is even number\n",
      "number 19 is odd number\n",
      "number 20 is even number\n",
      "number 21 is odd number\n",
      "number 22 is even number\n",
      "number 23 is odd number\n",
      "number 24 is even number\n",
      "number 25 is odd number\n",
      "number 26 is even number\n",
      "number 27 is odd number\n",
      "number 28 is even number\n",
      "number 29 is odd number\n",
      "number 30 is even number\n",
      "number 31 is odd number\n",
      "number 32 is even number\n",
      "number 33 is odd number\n",
      "number 34 is even number\n",
      "number 35 is odd number\n",
      "number 36 is even number\n",
      "number 37 is odd number\n",
      "number 38 is even number\n",
      "number 39 is odd number\n"
     ]
    }
   ],
   "source": [
    "# wap ask the user print whether the num is even number or odd number\n",
    "# the numbers you need to take from 10 to 40\n",
    "\n",
    "for i in range(10,40):\n",
    "    if(i%2==0):\n",
    "        print(\"number {} is even number\".format(i))\n",
    "    else:\n",
    "        print(\"number {} is odd number\".format(i))"
   ]
  },
  {
   "cell_type": "code",
   "execution_count": 3,
   "id": "abeee2c4",
   "metadata": {},
   "outputs": [
    {
     "name": "stdout",
     "output_type": "stream",
     "text": [
      "number 10 is even number\n",
      "number 15 is odd number\n",
      "number 20 is even number\n",
      "number 25 is odd number\n",
      "number 30 is even number\n",
      "number 35 is odd number\n"
     ]
    }
   ],
   "source": [
    "# with out arguemnts\n",
    "\n",
    "try:\n",
    "    def even_odd():\n",
    "        for i in range(10,40,5):\n",
    "            if(i%2==0):\n",
    "                print(\"number {} is even number\".format(i))\n",
    "            else:\n",
    "                print(\"number {} is odd number\".format(i))\n",
    "except Exception as e:\n",
    "    print(e)\n",
    "    \n",
    "even_odd()"
   ]
  },
  {
   "cell_type": "code",
   "execution_count": 17,
   "id": "8e5cb1fb",
   "metadata": {},
   "outputs": [
    {
     "name": "stdout",
     "output_type": "stream",
     "text": [
      "number 10 is even number\n",
      "number 11 is odd number\n",
      "number 12 is even number\n",
      "number 13 is odd number\n",
      "number 14 is even number\n"
     ]
    }
   ],
   "source": [
    "# instead of changing numbers inside the code \n",
    "# we can provide those as arguments\n",
    "\n",
    "\n",
    "try:\n",
    "    def even_odd(a,b):\n",
    "        for i in range(a,b):\n",
    "            if(i%2==0):\n",
    "                print(\"number {} is even number\".format(i))\n",
    "            else:\n",
    "                print(\"number {} is odd number\".format(i))\n",
    "except Exception as e:\n",
    "    print(e)\n",
    "    \n",
    "even_odd(10,15)"
   ]
  },
  {
   "cell_type": "code",
   "execution_count": 20,
   "id": "d8b9286d",
   "metadata": {},
   "outputs": [
    {
     "name": "stdout",
     "output_type": "stream",
     "text": [
      "enter start value:10\n",
      "enter stop value:15\n",
      "number 10 is even number\n",
      "number 11 is odd number\n",
      "number 12 is even number\n",
      "number 13 is odd number\n",
      "number 14 is even number\n"
     ]
    }
   ],
   "source": [
    "# global variable \n",
    "# i want to take start and stop from keyboard\n",
    "\n",
    "start=eval(input(\"enter start value:\"))\n",
    "stop=eval(input(\"enter stop value:\"))\n",
    "def even_odd():\n",
    "        for i in range(start,stop):\n",
    "            if(i%2==0):\n",
    "                print(\"number {} is even number\".format(i))\n",
    "            else:\n",
    "                print(\"number {} is odd number\".format(i))\n",
    "                \n",
    "even_odd()"
   ]
  },
  {
   "cell_type": "code",
   "execution_count": 19,
   "id": "a352cb29",
   "metadata": {},
   "outputs": [
    {
     "name": "stdout",
     "output_type": "stream",
     "text": [
      "number 10 is even number\n",
      "number 11 is odd number\n",
      "number 12 is even number\n",
      "number 13 is odd number\n",
      "number 14 is even number\n"
     ]
    }
   ],
   "source": [
    "even_odd()"
   ]
  },
  {
   "cell_type": "code",
   "execution_count": 25,
   "id": "ad8f92f5",
   "metadata": {},
   "outputs": [
    {
     "name": "stdout",
     "output_type": "stream",
     "text": [
      "enter start value:10\n",
      "enter stop value:15\n",
      "number 10 is even number\n",
      "number 11 is odd number\n",
      "number 12 is even number\n",
      "number 13 is odd number\n",
      "number 14 is even number\n"
     ]
    }
   ],
   "source": [
    "# local variable\n",
    "\n",
    "def even_odd():\n",
    "    start=eval(input(\"enter start value:\"))\n",
    "    stop=eval(input(\"enter stop value:\"))\n",
    "    for i in range(start,stop):\n",
    "        if(i%2==0):\n",
    "            print(\"number {} is even number\".format(i))\n",
    "        else:\n",
    "            print(\"number {} is odd number\".format(i))\n",
    "                \n",
    "even_odd()"
   ]
  },
  {
   "cell_type": "code",
   "execution_count": 30,
   "id": "2543bfc2",
   "metadata": {},
   "outputs": [
    {
     "name": "stdout",
     "output_type": "stream",
     "text": [
      "enter start value:10\n",
      "enter stop value:15\n",
      "number 10 is even number\n",
      "number 11 is odd number\n",
      "number 12 is even number\n",
      "number 13 is odd number\n",
      "number 14 is even number\n"
     ]
    }
   ],
   "source": [
    "# function in function \n",
    "\n",
    "def get_values():\n",
    "    start=eval(input(\"enter start value:\"))\n",
    "    stop=eval(input(\"enter stop value:\"))\n",
    "    return(start,stop)\n",
    "\n",
    "def even_odd():\n",
    "    start,stop=get_values()\n",
    "    for i in range(start,stop):\n",
    "        if(i%2==0):\n",
    "            print(\"number {} is even number\".format(i))\n",
    "        else:\n",
    "            print(\"number {} is odd number\".format(i))\n",
    "            \n",
    "            \n",
    "even_odd()"
   ]
  },
  {
   "cell_type": "code",
   "execution_count": null,
   "id": "57581292",
   "metadata": {},
   "outputs": [],
   "source": []
  },
  {
   "cell_type": "code",
   "execution_count": 33,
   "id": "3d69834d",
   "metadata": {},
   "outputs": [
    {
     "name": "stdout",
     "output_type": "stream",
     "text": [
      "hai\n",
      "hello\n",
      "good\n",
      "morning\n",
      "good\n",
      "morning\n",
      "good\n",
      "morning\n",
      "bye\n"
     ]
    }
   ],
   "source": [
    "print(\"hai\")\n",
    "print(\"hello\")\n",
    "for i in range(3):\n",
    "    print(\"good\")\n",
    "    print(\"morning\")\n",
    "    \n",
    "print(\"bye\")"
   ]
  },
  {
   "cell_type": "code",
   "execution_count": 36,
   "id": "6a39562b",
   "metadata": {},
   "outputs": [
    {
     "name": "stdout",
     "output_type": "stream",
     "text": [
      "9 is odd number\n",
      "49 is odd number\n",
      "41 is odd number\n",
      "12 is even number\n",
      "46 is even number\n",
      "25 is odd number\n",
      "31 is odd number\n",
      "76 is even number\n",
      "97 is odd number\n",
      "87 is odd number\n"
     ]
    }
   ],
   "source": [
    "# wap ask the user get a 10 random numbers between 1 to 100\n",
    "# and print it is even or odd number\n",
    "\n",
    "import random\n",
    "for i in range(10):\n",
    "    num=random.randint(1,100)\n",
    "    if(num%2==0):\n",
    "        print(\"{} is even number\".format(num))\n",
    "    else:\n",
    "         print(\"{} is odd number\".format(num))"
   ]
  },
  {
   "cell_type": "code",
   "execution_count": null,
   "id": "5f5fb708",
   "metadata": {},
   "outputs": [],
   "source": [
    "# game: guessing \n",
    "# step-1: get a random number between 1 to 20  : num1\n",
    "# step-2: ask the user enter a number : num2\n",
    "# step-3: if the num1==num2, print(you won)\n",
    "# step-4: otherwise you lost\n",
    "# i will give only 3 chances\n",
    "# every time you are wrong: enter a number : num2\n",
    "#                          check the conditiion num1==num2"
   ]
  },
  {
   "cell_type": "code",
   "execution_count": 52,
   "id": "fa4c8c1d",
   "metadata": {},
   "outputs": [
    {
     "name": "stdout",
     "output_type": "stream",
     "text": [
      "4\n",
      "enter a number:6\n",
      "you lost\n",
      "2 chances left\n",
      "enter a number:8\n",
      "you lost\n",
      "1 chances left\n",
      "enter a number:3\n",
      "you lost\n",
      "0 chances left\n"
     ]
    }
   ],
   "source": [
    "import random\n",
    "num1=random.randint(1,20)\n",
    "print(num1)\n",
    "for i in range(3):\n",
    "    num2=eval(input(\"enter a number:\"))\n",
    "    if(num1==num2):\n",
    "        print(\"you won\")\n",
    "        break\n",
    "    else:\n",
    "        print(\"you lost\")\n",
    "        print(\"{} chances left\".format(2-i))"
   ]
  },
  {
   "cell_type": "code",
   "execution_count": 65,
   "id": "c82d423d",
   "metadata": {},
   "outputs": [
    {
     "name": "stdout",
     "output_type": "stream",
     "text": [
      "enter chances:2\n",
      "enter a number:4\n",
      "once your chnaces are over better luck next time\n",
      "enter a number:6\n",
      "you won\n"
     ]
    }
   ],
   "source": [
    "import random\n",
    "a=eval(input(\"enter chances:\"))\n",
    "num1=random.randint(1,20)\n",
    "for i in range(a):\n",
    "    num2=eval(input(\"enter a number:\"))\n",
    "    if(num1==num2):\n",
    "        if(num1==num2):\n",
    "            print(\"you won\")\n",
    "            break\n",
    "        else:\n",
    "            print(\"you lost\")\n",
    "            print(\"{} chances left\".format(a-1-i))\n",
    "    else:\n",
    "        print(\"once your chnaces are over better luck next time\")\n"
   ]
  },
  {
   "cell_type": "code",
   "execution_count": null,
   "id": "da2f093b",
   "metadata": {},
   "outputs": [],
   "source": [
    "# case-1 : guess program\n",
    "# case-2 : no.of chances\n",
    "# case-3 : take the chances from user \n",
    "# case-4 : when chances are over better luck next time"
   ]
  },
  {
   "cell_type": "code",
   "execution_count": null,
   "id": "5131b1d0",
   "metadata": {},
   "outputs": [],
   "source": []
  },
  {
   "cell_type": "code",
   "execution_count": null,
   "id": "9740b8ae",
   "metadata": {},
   "outputs": [],
   "source": []
  },
  {
   "cell_type": "code",
   "execution_count": null,
   "id": "ad4417ff",
   "metadata": {},
   "outputs": [],
   "source": []
  },
  {
   "cell_type": "code",
   "execution_count": null,
   "id": "6cf72375",
   "metadata": {},
   "outputs": [],
   "source": []
  },
  {
   "cell_type": "code",
   "execution_count": null,
   "id": "22ed09a8",
   "metadata": {},
   "outputs": [],
   "source": []
  },
  {
   "cell_type": "code",
   "execution_count": null,
   "id": "3d465e33",
   "metadata": {},
   "outputs": [],
   "source": []
  },
  {
   "cell_type": "code",
   "execution_count": null,
   "id": "277e1c38",
   "metadata": {},
   "outputs": [],
   "source": []
  },
  {
   "cell_type": "code",
   "execution_count": null,
   "id": "f14e9535",
   "metadata": {},
   "outputs": [],
   "source": []
  },
  {
   "cell_type": "code",
   "execution_count": null,
   "id": "264e18a9",
   "metadata": {},
   "outputs": [],
   "source": []
  },
  {
   "cell_type": "code",
   "execution_count": null,
   "id": "dc88f6d8",
   "metadata": {},
   "outputs": [],
   "source": []
  },
  {
   "cell_type": "code",
   "execution_count": null,
   "id": "d05e6053",
   "metadata": {},
   "outputs": [],
   "source": []
  },
  {
   "cell_type": "code",
   "execution_count": null,
   "id": "97e68bc1",
   "metadata": {},
   "outputs": [],
   "source": []
  },
  {
   "cell_type": "code",
   "execution_count": null,
   "id": "adfbb26f",
   "metadata": {},
   "outputs": [],
   "source": []
  }
 ],
 "metadata": {
  "kernelspec": {
   "display_name": "Python 3 (ipykernel)",
   "language": "python",
   "name": "python3"
  },
  "language_info": {
   "codemirror_mode": {
    "name": "ipython",
    "version": 3
   },
   "file_extension": ".py",
   "mimetype": "text/x-python",
   "name": "python",
   "nbconvert_exporter": "python",
   "pygments_lexer": "ipython3",
   "version": "3.11.5"
  }
 },
 "nbformat": 4,
 "nbformat_minor": 5
}
