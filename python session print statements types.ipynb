{
 "cells": [
  {
   "cell_type": "code",
   "execution_count": 1,
   "id": "182bfad8",
   "metadata": {},
   "outputs": [
    {
     "name": "stdout",
     "output_type": "stream",
     "text": [
      "20\n"
     ]
    }
   ],
   "source": [
    "\n",
    "a=20\n",
    "print(a)"
   ]
  },
  {
   "cell_type": "code",
   "execution_count": 2,
   "id": "5a6ff417",
   "metadata": {},
   "outputs": [
    {
     "data": {
      "text/plain": [
       "30"
      ]
     },
     "execution_count": 2,
     "metadata": {},
     "output_type": "execute_result"
    }
   ],
   "source": [
    "a=20\n",
    "b=30\n",
    "a\n",
    "b"
   ]
  },
  {
   "cell_type": "code",
   "execution_count": 3,
   "id": "039633d2",
   "metadata": {},
   "outputs": [
    {
     "name": "stdout",
     "output_type": "stream",
     "text": [
      "30\n",
      "40\n"
     ]
    }
   ],
   "source": [
    "a=30\n",
    "b=40\n",
    "print(a)          \n",
    "print(b)"
   ]
  },
  {
   "cell_type": "code",
   "execution_count": 6,
   "id": "7a7a0103",
   "metadata": {},
   "outputs": [
    {
     "name": "stdout",
     "output_type": "stream",
     "text": [
      "hai how are you\n"
     ]
    }
   ],
   "source": [
    "# I want t0 print \n",
    "# hai how are you\n",
    "\n",
    "print(\"hai how are you\")"
   ]
  },
  {
   "cell_type": "code",
   "execution_count": null,
   "id": "b7b187ae",
   "metadata": {},
   "outputs": [],
   "source": []
  },
  {
   "cell_type": "code",
   "execution_count": 7,
   "id": "4fa618c0",
   "metadata": {},
   "outputs": [
    {
     "name": "stdout",
     "output_type": "stream",
     "text": [
      "python\n"
     ]
    }
   ],
   "source": [
    "name=\"python\"                 # name is a variable bcz of black colour\n",
    "print(name)"
   ]
  },
  {
   "cell_type": "code",
   "execution_count": null,
   "id": "b9ec5a12",
   "metadata": {},
   "outputs": [],
   "source": []
  },
  {
   "cell_type": "code",
   "execution_count": 8,
   "id": "b7f34155",
   "metadata": {},
   "outputs": [
    {
     "name": "stdout",
     "output_type": "stream",
     "text": [
      "my name is python\n"
     ]
    }
   ],
   "source": [
    "print(\"my name is python\")       # whatever in red colour will print"
   ]
  },
  {
   "cell_type": "code",
   "execution_count": null,
   "id": "c24212dd",
   "metadata": {},
   "outputs": [],
   "source": []
  },
  {
   "cell_type": "code",
   "execution_count": 9,
   "id": "33d184f4",
   "metadata": {},
   "outputs": [
    {
     "name": "stdout",
     "output_type": "stream",
     "text": [
      "my name is name\n"
     ]
    }
   ],
   "source": [
    "print(\"my name is name\")"
   ]
  },
  {
   "cell_type": "code",
   "execution_count": null,
   "id": "34cc68a5",
   "metadata": {},
   "outputs": [],
   "source": []
  },
  {
   "cell_type": "code",
   "execution_count": 10,
   "id": "ba436116",
   "metadata": {},
   "outputs": [
    {
     "name": "stdout",
     "output_type": "stream",
     "text": [
      "my name is python\n"
     ]
    }
   ],
   "source": [
    "print(\"my name is\",name) "
   ]
  },
  {
   "cell_type": "code",
   "execution_count": null,
   "id": "bb865e87",
   "metadata": {},
   "outputs": [],
   "source": []
  },
  {
   "cell_type": "code",
   "execution_count": 14,
   "id": "00d40b82",
   "metadata": {},
   "outputs": [
    {
     "name": "stdout",
     "output_type": "stream",
     "text": [
      "The value of num1 is 30\n"
     ]
    }
   ],
   "source": [
    "num1=30\n",
    "# the value of num1 is 30\n",
    "print(\"The value of num1 is\",num1)"
   ]
  },
  {
   "cell_type": "code",
   "execution_count": null,
   "id": "b23c3eb2",
   "metadata": {},
   "outputs": [],
   "source": []
  },
  {
   "cell_type": "code",
   "execution_count": 16,
   "id": "eb52f442",
   "metadata": {},
   "outputs": [
    {
     "name": "stdout",
     "output_type": "stream",
     "text": [
      "The value of num1 is: 30\n"
     ]
    }
   ],
   "source": [
    "# the value of num1 is 30\n",
    "\n",
    "print(\"The value of num1 is:\",num1)"
   ]
  },
  {
   "cell_type": "code",
   "execution_count": null,
   "id": "91787958",
   "metadata": {},
   "outputs": [],
   "source": []
  },
  {
   "cell_type": "code",
   "execution_count": 17,
   "id": "53f3ce5d",
   "metadata": {},
   "outputs": [
    {
     "name": "stdout",
     "output_type": "stream",
     "text": [
      "hai\n",
      "how are you\n"
     ]
    }
   ],
   "source": [
    "print(\"hai\")\n",
    "print(\"how are you\")"
   ]
  },
  {
   "cell_type": "code",
   "execution_count": null,
   "id": "21c01990",
   "metadata": {},
   "outputs": [],
   "source": []
  },
  {
   "cell_type": "markdown",
   "id": "5bc1bb5e",
   "metadata": {},
   "source": [
    "# i want to combine multiple print statements\n",
    "\n",
    "end operator will use"
   ]
  },
  {
   "cell_type": "code",
   "execution_count": 3,
   "id": "c19e796f",
   "metadata": {},
   "outputs": [
    {
     "name": "stdout",
     "output_type": "stream",
     "text": [
      "haihow are you\n"
     ]
    }
   ],
   "source": [
    "print(\"hai\",end='')\n",
    "print(\"how are you\")"
   ]
  },
  {
   "cell_type": "code",
   "execution_count": 4,
   "id": "ad0a0825",
   "metadata": {},
   "outputs": [
    {
     "name": "stdout",
     "output_type": "stream",
     "text": [
      "hai---how are you\n"
     ]
    }
   ],
   "source": [
    "print(\"hai\",end='---')           # between quotes give space to get space, give anything in the quotes it will sepearte the stmt\n",
    "print(\"how are you\")             "
   ]
  },
  {
   "cell_type": "code",
   "execution_count": null,
   "id": "b9e2876a",
   "metadata": {},
   "outputs": [],
   "source": []
  },
  {
   "cell_type": "code",
   "execution_count": 24,
   "id": "f9d5eb9a",
   "metadata": {},
   "outputs": [
    {
     "name": "stdout",
     "output_type": "stream",
     "text": [
      "hai how are you\n"
     ]
    }
   ],
   "source": [
    "print(\"hai\",end=' ')\n",
    "print(\"how\",end=' ')\n",
    "print(\"are\",end=' ')\n",
    "print(\"you\")"
   ]
  },
  {
   "cell_type": "code",
   "execution_count": null,
   "id": "dad14ef2",
   "metadata": {},
   "outputs": [],
   "source": []
  },
  {
   "cell_type": "code",
   "execution_count": 26,
   "id": "5cde61c3",
   "metadata": {},
   "outputs": [
    {
     "data": {
      "text/plain": [
       "600"
      ]
     },
     "execution_count": 26,
     "metadata": {},
     "output_type": "execute_result"
    }
   ],
   "source": [
    "num1=100\n",
    "num2=500\n",
    "add=num1+num\n",
    "\n",
    "2\n",
    "add\n",
    "\n",
    "# the addition of 100 and 500 is 600"
   ]
  },
  {
   "cell_type": "code",
   "execution_count": 32,
   "id": "b160c037",
   "metadata": {},
   "outputs": [
    {
     "name": "stdout",
     "output_type": "stream",
     "text": [
      "The addition of 100 and 500 is 600\n",
      "The addition of 100 and 500 is 600\n"
     ]
    }
   ],
   "source": [
    "num1=100\n",
    "num2=500\n",
    "add=num1+num2\n",
    "print(\"The addition of 100 and 500 is\",add)\n",
    "print(\"The addition of\",num1, \"and\" ,num2, \"is\",add)"
   ]
  },
  {
   "cell_type": "code",
   "execution_count": null,
   "id": "42c73bdf",
   "metadata": {},
   "outputs": [],
   "source": []
  },
  {
   "cell_type": "code",
   "execution_count": 35,
   "id": "140f54c8",
   "metadata": {},
   "outputs": [
    {
     "name": "stdout",
     "output_type": "stream",
     "text": [
      "The multiplication of 20 and 30 is 600\n",
      "The multiplication of 20 and 30 is 600\n"
     ]
    }
   ],
   "source": [
    "a=20\n",
    "b=30\n",
    "mul=a*b\n",
    "print(\"The multiplication of 20 and 30 is\",mul)\n",
    "print(\"The multiplication of\",a, \"and\",b, \"is\",mul)"
   ]
  },
  {
   "cell_type": "code",
   "execution_count": 36,
   "id": "7e14368f",
   "metadata": {},
   "outputs": [
    {
     "name": "stdout",
     "output_type": "stream",
     "text": [
      "The multiplication of 20 and 30 is 600 \n"
     ]
    }
   ],
   "source": [
    "print(\"The multiplication of {} and {} is {} \".format(a,b,mul))           # fill it as blanks and use format "
   ]
  },
  {
   "cell_type": "code",
   "execution_count": null,
   "id": "1ac461b3",
   "metadata": {},
   "outputs": [],
   "source": []
  },
  {
   "cell_type": "code",
   "execution_count": 37,
   "id": "fb04fda1",
   "metadata": {},
   "outputs": [
    {
     "name": "stdout",
     "output_type": "stream",
     "text": [
      "The addition of 100 and 200 is 300\n"
     ]
    }
   ],
   "source": [
    "number1=100\n",
    "number2=200\n",
    "add=number1+number2\n",
    "print(\"The addition of {} and {} is {}\".format(number1,number2,add))"
   ]
  },
  {
   "cell_type": "code",
   "execution_count": null,
   "id": "a3b596fc",
   "metadata": {},
   "outputs": [],
   "source": []
  },
  {
   "cell_type": "code",
   "execution_count": 2,
   "id": "eafe6e23",
   "metadata": {},
   "outputs": [
    {
     "name": "stdout",
     "output_type": "stream",
     "text": [
      "my name is python, i leaves in hyd and my age is 30\n"
     ]
    }
   ],
   "source": [
    "name=\"python\"\n",
    "city=\"hyd\"\n",
    "age=30\n",
    "\n",
    "# my name is python, i leaves in hyd and my age is 30\n",
    "\n",
    "print(\"my name is {}, i leaves in {} and my age is {}\".format(name,city,age))"
   ]
  },
  {
   "cell_type": "code",
   "execution_count": null,
   "id": "c6c4d4e2",
   "metadata": {},
   "outputs": [],
   "source": []
  },
  {
   "cell_type": "markdown",
   "id": "8bd064c9",
   "metadata": {},
   "source": [
    "# seperator\n",
    "\n",
    "# sep"
   ]
  },
  {
   "cell_type": "code",
   "execution_count": 1,
   "id": "e72bef81",
   "metadata": {},
   "outputs": [
    {
     "name": "stdout",
     "output_type": "stream",
     "text": [
      "hai hello\n"
     ]
    }
   ],
   "source": [
    "print('hai','hello')"
   ]
  },
  {
   "cell_type": "code",
   "execution_count": 2,
   "id": "9addfe06",
   "metadata": {},
   "outputs": [
    {
     "name": "stdout",
     "output_type": "stream",
     "text": [
      "hai&hello\n"
     ]
    }
   ],
   "source": [
    "print('hai','hello',sep='&')"
   ]
  },
  {
   "cell_type": "code",
   "execution_count": 3,
   "id": "753eecf3",
   "metadata": {},
   "outputs": [
    {
     "name": "stdout",
     "output_type": "stream",
     "text": [
      "hello----->python----->excited\n"
     ]
    }
   ],
   "source": [
    "print('hello','python','excited',sep='----->')"
   ]
  },
  {
   "cell_type": "code",
   "execution_count": 5,
   "id": "aa39b1ad",
   "metadata": {},
   "outputs": [
    {
     "name": "stdout",
     "output_type": "stream",
     "text": [
      "12-10-2023\n"
     ]
    }
   ],
   "source": [
    "print(\"12\",\"10\",\"2023\",sep=\"-\")\n"
   ]
  },
  {
   "cell_type": "code",
   "execution_count": null,
   "id": "0119b47f",
   "metadata": {},
   "outputs": [],
   "source": []
  },
  {
   "cell_type": "code",
   "execution_count": null,
   "id": "46620cf9",
   "metadata": {},
   "outputs": [],
   "source": [
    "# wap ask the user enter a distance in km\n",
    "#  ask the user enter a fare in rs\n",
    "#  calculate total amount to pay\n",
    " \n",
    "#  output\n",
    "#  for 2kms the fare is 20rs"
   ]
  },
  {
   "cell_type": "code",
   "execution_count": null,
   "id": "1ea2704a",
   "metadata": {},
   "outputs": [],
   "source": []
  },
  {
   "cell_type": "code",
   "execution_count": 24,
   "id": "8d89758e",
   "metadata": {},
   "outputs": [
    {
     "name": "stdout",
     "output_type": "stream",
     "text": [
      "enter a distance in km:2\n",
      "enter a fare in rs:10\n",
      "for 2 kms the fare is 20 rs.\n"
     ]
    }
   ],
   "source": [
    "Distance=eval(input(\"enter a distance in km:\"))\n",
    "Fare=eval(input(\"enter a fare in rs:\"))\n",
    "total_amount=Distance*Fare\n",
    "print(\"for {} kms the fare is {} rs.\".format(Distance,total_amount))\n"
   ]
  },
  {
   "cell_type": "code",
   "execution_count": null,
   "id": "6e5e6802",
   "metadata": {},
   "outputs": [],
   "source": [
    "# implement above code using sepeartor operator"
   ]
  },
  {
   "cell_type": "code",
   "execution_count": 22,
   "id": "d5ffdcae",
   "metadata": {},
   "outputs": [
    {
     "name": "stdout",
     "output_type": "stream",
     "text": [
      "enter a distance in km:2\n",
      "enter a fare in rs:10\n",
      "for 2 kms the fare is 20 rs.\n"
     ]
    }
   ],
   "source": [
    "Distance=eval(input(\"enter a distance in km:\"))\n",
    "Fare=eval(input(\"enter a fare in rs:\"))\n",
    "total_amount=Distance*Fare\n",
    "print(\"for {} kms the fare is {} rs\".format(Distance,total_amount),'.',sep='')\n",
    "\n",
    "\n",
    "# dot is too far\n",
    "# to reduce the dot we use SEP operator"
   ]
  },
  {
   "cell_type": "code",
   "execution_count": null,
   "id": "e1662f3d",
   "metadata": {},
   "outputs": [],
   "source": []
  },
  {
   "cell_type": "code",
   "execution_count": 25,
   "id": "66251fc9",
   "metadata": {},
   "outputs": [
    {
     "name": "stdout",
     "output_type": "stream",
     "text": [
      "ramesh & 35\n"
     ]
    }
   ],
   "source": [
    "# ramesh & 35\n",
    "\n",
    "print(\"ramesh\",\"35\",sep=\" & \")"
   ]
  },
  {
   "cell_type": "code",
   "execution_count": null,
   "id": "e1c32036",
   "metadata": {},
   "outputs": [],
   "source": []
  },
  {
   "cell_type": "code",
   "execution_count": null,
   "id": "74451099",
   "metadata": {},
   "outputs": [],
   "source": []
  },
  {
   "cell_type": "code",
   "execution_count": null,
   "id": "a895e325",
   "metadata": {},
   "outputs": [],
   "source": []
  }
 ],
 "metadata": {
  "kernelspec": {
   "display_name": "Python 3 (ipykernel)",
   "language": "python",
   "name": "python3"
  },
  "language_info": {
   "codemirror_mode": {
    "name": "ipython",
    "version": 3
   },
   "file_extension": ".py",
   "mimetype": "text/x-python",
   "name": "python",
   "nbconvert_exporter": "python",
   "pygments_lexer": "ipython3",
   "version": "3.11.5"
  }
 },
 "nbformat": 4,
 "nbformat_minor": 5
}
