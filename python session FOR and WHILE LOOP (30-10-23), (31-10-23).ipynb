{
 "cells": [
  {
   "cell_type": "markdown",
   "id": "fe327216",
   "metadata": {},
   "source": [
    "- range\n",
    "\n",
    "- in concept"
   ]
  },
  {
   "cell_type": "markdown",
   "id": "84a8e65a",
   "metadata": {},
   "source": [
    "## ord"
   ]
  },
  {
   "cell_type": "code",
   "execution_count": 1,
   "id": "2113849c",
   "metadata": {},
   "outputs": [
    {
     "data": {
      "text/plain": [
       "'a'"
      ]
     },
     "execution_count": 1,
     "metadata": {},
     "output_type": "execute_result"
    }
   ],
   "source": [
    "'a'"
   ]
  },
  {
   "cell_type": "code",
   "execution_count": 2,
   "id": "66189d2d",
   "metadata": {},
   "outputs": [
    {
     "data": {
      "text/plain": [
       "65"
      ]
     },
     "execution_count": 2,
     "metadata": {},
     "output_type": "execute_result"
    }
   ],
   "source": [
    "ord('A')"
   ]
  },
  {
   "cell_type": "code",
   "execution_count": 3,
   "id": "2b052a90",
   "metadata": {},
   "outputs": [
    {
     "data": {
      "text/plain": [
       "False"
      ]
     },
     "execution_count": 3,
     "metadata": {},
     "output_type": "execute_result"
    }
   ],
   "source": [
    "'Apple'>'apple'\n",
    "\n",
    "A= 65\n",
    "a= 97"
   ]
  },
  {
   "cell_type": "code",
   "execution_count": 1,
   "id": "f5ddc96d",
   "metadata": {},
   "outputs": [
    {
     "data": {
      "text/plain": [
       "False"
      ]
     },
     "execution_count": 1,
     "metadata": {},
     "output_type": "execute_result"
    }
   ],
   "source": [
    "'Apple'>'Bat'"
   ]
  },
  {
   "cell_type": "code",
   "execution_count": 2,
   "id": "3f644349",
   "metadata": {},
   "outputs": [
    {
     "data": {
      "text/plain": [
       "(65, 66)"
      ]
     },
     "execution_count": 2,
     "metadata": {},
     "output_type": "execute_result"
    }
   ],
   "source": [
    "ord('A'),ord('B')"
   ]
  },
  {
   "cell_type": "code",
   "execution_count": 7,
   "id": "05efb1b6",
   "metadata": {},
   "outputs": [
    {
     "data": {
      "text/plain": [
       "True"
      ]
     },
     "execution_count": 7,
     "metadata": {},
     "output_type": "execute_result"
    }
   ],
   "source": [
    "'Apple'>'APPLE' \n",
    "\n",
    "# 'A'   'A'   leave it\n",
    "# 'p'   'P'  \n",
    "# 112>80      true"
   ]
  },
  {
   "cell_type": "code",
   "execution_count": 9,
   "id": "c15c0ca2",
   "metadata": {},
   "outputs": [
    {
     "data": {
      "text/plain": [
       "(112, 80)"
      ]
     },
     "execution_count": 9,
     "metadata": {},
     "output_type": "execute_result"
    }
   ],
   "source": [
    "ord('p'),ord('P')"
   ]
  },
  {
   "cell_type": "code",
   "execution_count": null,
   "id": "358b5642",
   "metadata": {},
   "outputs": [],
   "source": []
  },
  {
   "cell_type": "markdown",
   "id": "4b736705",
   "metadata": {},
   "source": [
    "## chr"
   ]
  },
  {
   "cell_type": "code",
   "execution_count": 4,
   "id": "ce38a1d3",
   "metadata": {},
   "outputs": [
    {
     "data": {
      "text/plain": [
       "('A', 65)"
      ]
     },
     "execution_count": 4,
     "metadata": {},
     "output_type": "execute_result"
    }
   ],
   "source": [
    "chr(65),ord('A')"
   ]
  },
  {
   "cell_type": "code",
   "execution_count": null,
   "id": "2de9abe8",
   "metadata": {},
   "outputs": [],
   "source": [
    "# case -1: use for loop 20 to 200\n",
    "# ASCII : where it will start i dont know\n",
    "#         i dont know where it will end\n",
    "# chr(1)\n",
    "# chr(2)\n",
    "\n",
    "# output\n",
    "\n",
    "# 65"
   ]
  },
  {
   "cell_type": "code",
   "execution_count": 6,
   "id": "e9a4502e",
   "metadata": {
    "scrolled": true
   },
   "outputs": [
    {
     "name": "stdout",
     "output_type": "stream",
     "text": [
      "65--->A\n",
      "66--->B\n",
      "67--->C\n",
      "68--->D\n",
      "69--->E\n",
      "70--->F\n",
      "71--->G\n",
      "72--->H\n",
      "73--->I\n",
      "74--->J\n",
      "75--->K\n",
      "76--->L\n",
      "77--->M\n",
      "78--->N\n",
      "79--->O\n",
      "80--->P\n",
      "81--->Q\n",
      "82--->R\n",
      "83--->S\n",
      "84--->T\n",
      "85--->U\n",
      "86--->V\n",
      "87--->W\n",
      "88--->X\n",
      "89--->Y\n",
      "90--->Z\n",
      "91--->[\n",
      "92--->\\\n",
      "93--->]\n",
      "94--->^\n",
      "95--->_\n",
      "96--->`\n",
      "97--->a\n",
      "98--->b\n",
      "99--->c\n",
      "100--->d\n",
      "101--->e\n",
      "102--->f\n",
      "103--->g\n",
      "104--->h\n",
      "105--->i\n",
      "106--->j\n",
      "107--->k\n",
      "108--->l\n",
      "109--->m\n",
      "110--->n\n",
      "111--->o\n",
      "112--->p\n",
      "113--->q\n",
      "114--->r\n",
      "115--->s\n",
      "116--->t\n",
      "117--->u\n",
      "118--->v\n",
      "119--->w\n",
      "120--->x\n",
      "121--->y\n",
      "122--->z\n"
     ]
    }
   ],
   "source": [
    "for i in range(65,123):\n",
    "    print(i,chr(i),sep=\"--->\")"
   ]
  },
  {
   "cell_type": "code",
   "execution_count": 13,
   "id": "5c2d1641",
   "metadata": {},
   "outputs": [
    {
     "data": {
      "text/plain": [
       "(122, 90)"
      ]
     },
     "execution_count": 13,
     "metadata": {},
     "output_type": "execute_result"
    }
   ],
   "source": [
    "ord('z'),ord('Z')"
   ]
  },
  {
   "cell_type": "code",
   "execution_count": 74,
   "id": "3363179c",
   "metadata": {},
   "outputs": [
    {
     "name": "stdout",
     "output_type": "stream",
     "text": [
      "A--->65\n",
      "B--->66\n",
      "C--->67\n",
      "D--->68\n",
      "E--->69\n",
      "F--->70\n",
      "G--->71\n",
      "H--->72\n",
      "I--->73\n",
      "J--->74\n",
      "K--->75\n",
      "L--->76\n",
      "M--->77\n",
      "N--->78\n",
      "O--->79\n",
      "P--->80\n",
      "Q--->81\n",
      "R--->82\n",
      "S--->83\n",
      "T--->84\n",
      "U--->85\n",
      "V--->86\n",
      "W--->87\n",
      "X--->88\n",
      "Y--->89\n",
      "Z--->90\n"
     ]
    }
   ],
   "source": [
    "for i in 'ABCDEFGHIJKLMNOPQRSTUVWXYZ':      # instead of writing alphabets, we use packages\n",
    "    print(i,ord(i),sep=\"--->\")"
   ]
  },
  {
   "cell_type": "code",
   "execution_count": 14,
   "id": "ca6f365a",
   "metadata": {},
   "outputs": [
    {
     "name": "stdout",
     "output_type": "stream",
     "text": [
      "A--->65\n",
      "B--->66\n",
      "C--->67\n",
      "D--->68\n",
      "E--->69\n",
      "F--->70\n",
      "G--->71\n",
      "H--->72\n",
      "I--->73\n",
      "J--->74\n",
      "K--->75\n",
      "L--->76\n",
      "M--->77\n",
      "N--->78\n",
      "O--->79\n",
      "P--->80\n",
      "Q--->81\n",
      "R--->82\n",
      "S--->83\n",
      "T--->84\n",
      "U--->85\n",
      "V--->86\n",
      "W--->87\n",
      "X--->88\n",
      "Y--->89\n",
      "Z--->90\n"
     ]
    }
   ],
   "source": [
    "import string\n",
    "for i in string.ascii_uppercase:\n",
    "    print(i,ord(i),sep=\"--->\")"
   ]
  },
  {
   "cell_type": "code",
   "execution_count": 15,
   "id": "636e15db",
   "metadata": {},
   "outputs": [
    {
     "name": "stdout",
     "output_type": "stream",
     "text": [
      "a--->97\n",
      "b--->98\n",
      "c--->99\n",
      "d--->100\n",
      "e--->101\n",
      "f--->102\n",
      "g--->103\n",
      "h--->104\n",
      "i--->105\n",
      "j--->106\n",
      "k--->107\n",
      "l--->108\n",
      "m--->109\n",
      "n--->110\n",
      "o--->111\n",
      "p--->112\n",
      "q--->113\n",
      "r--->114\n",
      "s--->115\n",
      "t--->116\n",
      "u--->117\n",
      "v--->118\n",
      "w--->119\n",
      "x--->120\n",
      "y--->121\n",
      "z--->122\n"
     ]
    }
   ],
   "source": [
    "import string\n",
    "for i in string.ascii_lowercase:\n",
    "    print(i,ord(i),sep=\"--->\")"
   ]
  },
  {
   "cell_type": "code",
   "execution_count": 49,
   "id": "d3f87243",
   "metadata": {},
   "outputs": [
    {
     "name": "stdout",
     "output_type": "stream",
     "text": [
      "65 A\n",
      "66 B\n",
      "67 C\n",
      "68 D\n",
      "69 E\n",
      "70 F\n",
      "71 G\n",
      "72 H\n",
      "73 I\n",
      "74 J\n",
      "75 K\n",
      "76 L\n",
      "77 M\n",
      "78 N\n",
      "79 O\n",
      "80 P\n",
      "81 Q\n",
      "82 R\n",
      "83 S\n",
      "84 T\n",
      "85 U\n",
      "86 V\n",
      "87 W\n",
      "88 X\n",
      "89 Y\n",
      "90 Z\n"
     ]
    }
   ],
   "source": [
    "for i in range(65,91):\n",
    "    print(i,chr(i))"
   ]
  },
  {
   "cell_type": "code",
   "execution_count": null,
   "id": "1a2d3c05",
   "metadata": {},
   "outputs": [],
   "source": []
  },
  {
   "cell_type": "markdown",
   "id": "c9473cb9",
   "metadata": {},
   "source": [
    "# package-name : string"
   ]
  },
  {
   "cell_type": "code",
   "execution_count": 53,
   "id": "10ca3c8c",
   "metadata": {},
   "outputs": [],
   "source": [
    "import string"
   ]
  },
  {
   "cell_type": "code",
   "execution_count": null,
   "id": "bcea47ef",
   "metadata": {},
   "outputs": [],
   "source": [
    "step-1: "
   ]
  },
  {
   "cell_type": "code",
   "execution_count": 52,
   "id": "ca1e1011",
   "metadata": {},
   "outputs": [
    {
     "data": {
      "text/plain": [
       "['Formatter',\n",
       " 'Template',\n",
       " '_ChainMap',\n",
       " '__all__',\n",
       " '__builtins__',\n",
       " '__cached__',\n",
       " '__doc__',\n",
       " '__file__',\n",
       " '__loader__',\n",
       " '__name__',\n",
       " '__package__',\n",
       " '__spec__',\n",
       " '_re',\n",
       " '_sentinel_dict',\n",
       " '_string',\n",
       " 'ascii_letters',\n",
       " 'ascii_lowercase',\n",
       " 'ascii_uppercase',\n",
       " 'capwords',\n",
       " 'digits',\n",
       " 'hexdigits',\n",
       " 'octdigits',\n",
       " 'printable',\n",
       " 'punctuation',\n",
       " 'whitespace']"
      ]
     },
     "execution_count": 52,
     "metadata": {},
     "output_type": "execute_result"
    }
   ],
   "source": [
    "import string\n",
    "dir(string)"
   ]
  },
  {
   "cell_type": "code",
   "execution_count": 80,
   "id": "091b9b15",
   "metadata": {},
   "outputs": [
    {
     "name": "stdout",
     "output_type": "stream",
     "text": [
      "No Python documentation found for 'ABCDEFGHIJKLMNOPQRSTUVWXYZ'.\n",
      "Use help() to get the interactive help utility.\n",
      "Use help(str) for help on the str class.\n",
      "\n"
     ]
    }
   ],
   "source": [
    "import string\n",
    "help(string.ascii_uppercase)"
   ]
  },
  {
   "cell_type": "code",
   "execution_count": 16,
   "id": "b69701e0",
   "metadata": {},
   "outputs": [
    {
     "name": "stdout",
     "output_type": "stream",
     "text": [
      "abcdefghijklmnopqrstuvwxyz\n",
      "ABCDEFGHIJKLMNOPQRSTUVWXYZ\n"
     ]
    }
   ],
   "source": [
    "print(string.ascii_lowercase)\n",
    "print(string.ascii_uppercase)"
   ]
  },
  {
   "cell_type": "code",
   "execution_count": 17,
   "id": "3e199dec",
   "metadata": {},
   "outputs": [
    {
     "data": {
      "text/plain": [
       "'A'"
      ]
     },
     "execution_count": 17,
     "metadata": {},
     "output_type": "execute_result"
    }
   ],
   "source": [
    "string.capwords('a')"
   ]
  },
  {
   "cell_type": "markdown",
   "id": "f0b0ef30",
   "metadata": {},
   "source": [
    "# while loop"
   ]
  },
  {
   "cell_type": "code",
   "execution_count": 82,
   "id": "bc6810ff",
   "metadata": {},
   "outputs": [
    {
     "name": "stdout",
     "output_type": "stream",
     "text": [
      "0 1 2 3 4 5 6 7 8 9 "
     ]
    }
   ],
   "source": [
    "# print first 10 numbers\n",
    "\n",
    "for i in range(10):\n",
    "    print(i,end=' ')"
   ]
  },
  {
   "cell_type": "code",
   "execution_count": null,
   "id": "ae6249ec",
   "metadata": {},
   "outputs": [],
   "source": [
    "- initialization\n",
    "\n",
    "- condition \n",
    "\n",
    "- increment/ decrement\n",
    "\n",
    "- for loops has 3 stmts in same line\n",
    "\n",
    "- but in while loop 3 stmts are in 3 different lines"
   ]
  },
  {
   "cell_type": "code",
   "execution_count": null,
   "id": "240cb1db",
   "metadata": {},
   "outputs": [],
   "source": [
    "# first give initial point\n",
    "# next while condition\n",
    "#       print whatever u want\n",
    "#       i=i+1   or i=i-1\n",
    " \n",
    "# based on stop value ====== think about condition"
   ]
  },
  {
   "cell_type": "markdown",
   "id": "dcd91a24",
   "metadata": {},
   "source": [
    "### syntax:\n",
    "    \n",
    "initialization\n",
    "\n",
    "while(condition):\n",
    "    \n",
    "    # stmt \n",
    "    \n",
    "    increment/decrement"
   ]
  },
  {
   "cell_type": "code",
   "execution_count": 89,
   "id": "1f6e9570",
   "metadata": {},
   "outputs": [
    {
     "name": "stdout",
     "output_type": "stream",
     "text": [
      "0 1 2 3 4 5 6 7 8 9 10 "
     ]
    }
   ],
   "source": [
    "i=0\n",
    "while(i<=10):\n",
    "    print(i,end=\" \")\n",
    "    i=i+1"
   ]
  },
  {
   "cell_type": "code",
   "execution_count": 19,
   "id": "f983e69e",
   "metadata": {},
   "outputs": [
    {
     "name": "stdout",
     "output_type": "stream",
     "text": [
      "-1 -2 -3 -4 -5 -6 -7 -8 -9 -10 -11 "
     ]
    }
   ],
   "source": [
    "i=-1\n",
    "while(i>=-11):\n",
    "    print(i,end=' ')\n",
    "    i=i-1"
   ]
  },
  {
   "cell_type": "code",
   "execution_count": 108,
   "id": "78afdf1e",
   "metadata": {},
   "outputs": [
    {
     "name": "stdout",
     "output_type": "stream",
     "text": [
      "-10 -9 -8 -7 -6 -5 -4 -3 -2 -1 "
     ]
    }
   ],
   "source": [
    "i=-10\n",
    "while(i<0):\n",
    "    print(i,end=' ')\n",
    "    i=i+1"
   ]
  },
  {
   "cell_type": "code",
   "execution_count": 22,
   "id": "5d50aac3",
   "metadata": {},
   "outputs": [
    {
     "name": "stdout",
     "output_type": "stream",
     "text": [
      "10 9 8 7 6 5 4 3 2 1 0 "
     ]
    }
   ],
   "source": [
    "i=10\n",
    "while(i>=0):\n",
    "    print(i,end=' ')\n",
    "    i=i-1"
   ]
  },
  {
   "cell_type": "code",
   "execution_count": null,
   "id": "9245cbca",
   "metadata": {},
   "outputs": [],
   "source": []
  },
  {
   "cell_type": "code",
   "execution_count": 32,
   "id": "6a61a160",
   "metadata": {},
   "outputs": [
    {
     "name": "stdout",
     "output_type": "stream",
     "text": [
      "1 2 3 4 5 6 7 8 9 "
     ]
    }
   ],
   "source": [
    "i=1 # intialization\n",
    "while i!=10:\n",
    "    print(i,end=' ')\n",
    "    i+=1"
   ]
  },
  {
   "cell_type": "code",
   "execution_count": 40,
   "id": "dbd31ffb",
   "metadata": {},
   "outputs": [
    {
     "name": "stdout",
     "output_type": "stream",
     "text": [
      "1 2 3 4 5 6 7 8 9 "
     ]
    }
   ],
   "source": [
    "i=1     # intialization\n",
    "while True:\n",
    "    print(i,end=' ')\n",
    "    i+=1\n",
    "    if i==10:\n",
    "        break"
   ]
  },
  {
   "cell_type": "code",
   "execution_count": 41,
   "id": "1b1b2d0a",
   "metadata": {},
   "outputs": [
    {
     "name": "stdout",
     "output_type": "stream",
     "text": [
      "1 2 3 4 5 6 7 8 9 "
     ]
    }
   ],
   "source": [
    "i=1 # intialization\n",
    "while i<10:\n",
    "    print(i,end=' ')\n",
    "    i+=1"
   ]
  },
  {
   "cell_type": "code",
   "execution_count": 45,
   "id": "5f02e03c",
   "metadata": {},
   "outputs": [
    {
     "name": "stdout",
     "output_type": "stream",
     "text": [
      "-10 -9 -8 -7 -6 -5 -4 -3 -2 -1 0 "
     ]
    }
   ],
   "source": [
    "# print -10 to 0, using for loop\n",
    "\n",
    "for i in range(-10,1):\n",
    "    print(i,end=' ')"
   ]
  },
  {
   "cell_type": "code",
   "execution_count": 48,
   "id": "0273d457",
   "metadata": {},
   "outputs": [
    {
     "name": "stdout",
     "output_type": "stream",
     "text": [
      "-10 -9 -8 -7 -6 -5 -4 -3 -2 -1 0 "
     ]
    }
   ],
   "source": [
    "# print -10 to 0, using while loop\n",
    "\n",
    "i=-10\n",
    "while(i<=0):\n",
    "    print(i,end=' ')\n",
    "    i=i+1"
   ]
  },
  {
   "cell_type": "code",
   "execution_count": 52,
   "id": "e4e541b1",
   "metadata": {},
   "outputs": [
    {
     "name": "stdout",
     "output_type": "stream",
     "text": [
      "-9 -8 -7 -6 -5 -4 -3 -2 -1 "
     ]
    }
   ],
   "source": [
    "i=-10\n",
    "while(i<-1):\n",
    "    i=i+1\n",
    "    print(i,end=' ')"
   ]
  },
  {
   "cell_type": "code",
   "execution_count": 59,
   "id": "7dd36f9a",
   "metadata": {},
   "outputs": [
    {
     "name": "stdout",
     "output_type": "stream",
     "text": [
      "enter a number:3\n",
      "the square of 3 is 9\n",
      "enter a number:4\n",
      "the square of 4 is 16\n",
      "enter a number:5\n",
      "the square of 5 is 25\n"
     ]
    }
   ],
   "source": [
    "# wap ask the user  enter a number 3 times\n",
    "# and print the square of the number\n",
    "\n",
    "for i in range(3):\n",
    "    num=eval(input(\"enter a number:\"))\n",
    "    print(\"the square of {} is {}\".format(num,num*num))"
   ]
  },
  {
   "cell_type": "code",
   "execution_count": 61,
   "id": "741f6341",
   "metadata": {},
   "outputs": [
    {
     "name": "stdout",
     "output_type": "stream",
     "text": [
      "enter a number:3\n",
      "the square of 3 is 9\n",
      "enter a number:4\n",
      "the square of 4 is 16\n",
      "enter a number:5\n",
      "the square of 5 is 25\n"
     ]
    }
   ],
   "source": [
    "# same code using while loop\n",
    "\n",
    "i=0\n",
    "while(i<3):\n",
    "    num=eval(input(\"enter a number:\"))\n",
    "    print(\"the square of {} is {}\".format(num,num*num))\n",
    "    i=i+1"
   ]
  },
  {
   "cell_type": "code",
   "execution_count": 5,
   "id": "62b53001",
   "metadata": {},
   "outputs": [
    {
     "name": "stdout",
     "output_type": "stream",
     "text": [
      "100 is even number\n",
      "28 is even number\n",
      "96 is even number\n",
      "10 is even number\n",
      "15 is odd number\n",
      "31 is odd number\n",
      "14 is even number\n",
      "49 is odd number\n",
      "32 is even number\n",
      "90 is even number\n"
     ]
    }
   ],
   "source": [
    "# wap ask the user get 10 random numbers\n",
    "# print it is even number or odd number \n",
    "\n",
    "# first write in for loop \n",
    "# and then write in while loop\n",
    "\n",
    "# for loop\n",
    "\n",
    "import random\n",
    "for i in range(10):\n",
    "    num=random.randint(1,100)\n",
    "    if(num%2==0):\n",
    "        print(\"{} is even number\".format(num))\n",
    "    else:\n",
    "        print(\"{} is odd number\".format(num))"
   ]
  },
  {
   "cell_type": "code",
   "execution_count": 12,
   "id": "a8c703b9",
   "metadata": {},
   "outputs": [
    {
     "name": "stdout",
     "output_type": "stream",
     "text": [
      "91 is odd number\n",
      "71 is odd number\n",
      "100 is even number\n",
      "68 is even number\n",
      "15 is odd number\n",
      "91 is odd number\n",
      "7 is odd number\n",
      "94 is even number\n",
      "94 is even number\n",
      "84 is even number\n",
      "71 is odd number\n"
     ]
    }
   ],
   "source": [
    "# while loop\n",
    "\n",
    "import random\n",
    "i=0\n",
    "while(i<=10):\n",
    "    num=random.randint(1,100)\n",
    "    if(num%2==0):\n",
    "        print(\"{} is even number\".format(num))\n",
    "    else:\n",
    "        print(\"{} is odd number\".format(num))\n",
    "    i=i+1"
   ]
  },
  {
   "cell_type": "code",
   "execution_count": null,
   "id": "fcb90724",
   "metadata": {},
   "outputs": [],
   "source": []
  },
  {
   "cell_type": "code",
   "execution_count": 13,
   "id": "1668d633",
   "metadata": {},
   "outputs": [
    {
     "name": "stdout",
     "output_type": "stream",
     "text": [
      "enter the number3\n",
      "the square of 3 and 9\n",
      "enter the number4\n",
      "the square of 4 and 16\n",
      "enter the number6\n",
      "the square of 6 and 36\n"
     ]
    }
   ],
   "source": [
    "# wap ask the user enter a number and get a square of the number \n",
    "# this task you ned to do three times\n",
    "# num=eval(\"enter the number\")\n",
    "#print(\"the square of {} and {}.format(num,num*num)\")\n",
    "\n",
    "# for loop\n",
    "\n",
    "for i in range(3):\n",
    "    num=eval(input(\"enter the number\"))\n",
    "    print(\"the square of {} and {}\".format(num,num*num))\n",
    "    "
   ]
  },
  {
   "cell_type": "code",
   "execution_count": 1,
   "id": "34d21300",
   "metadata": {},
   "outputs": [
    {
     "name": "stdout",
     "output_type": "stream",
     "text": [
      "enter the number5\n",
      "the square of 5 and 25\n",
      "enter the number6\n",
      "the square of 6 and 36\n",
      "enter the number7\n",
      "the square of 7 and 49\n"
     ]
    }
   ],
   "source": [
    "# while loop\n",
    "\n",
    "i=1\n",
    "while(i<=3):\n",
    "    num=eval(input(\"enter the number\"))\n",
    "    print(\"the square of {} and {}\".format(num,num*num))\n",
    "    i=i+1"
   ]
  },
  {
   "cell_type": "code",
   "execution_count": null,
   "id": "c94675ed",
   "metadata": {},
   "outputs": [],
   "source": []
  },
  {
   "cell_type": "code",
   "execution_count": null,
   "id": "4c92c0b4",
   "metadata": {},
   "outputs": [],
   "source": [
    "# package name = time\n",
    "\n"
   ]
  },
  {
   "cell_type": "code",
   "execution_count": 15,
   "id": "d606eff3",
   "metadata": {},
   "outputs": [
    {
     "data": {
      "text/plain": [
       "['_STRUCT_TM_ITEMS',\n",
       " '__doc__',\n",
       " '__loader__',\n",
       " '__name__',\n",
       " '__package__',\n",
       " '__spec__',\n",
       " 'altzone',\n",
       " 'asctime',\n",
       " 'ctime',\n",
       " 'daylight',\n",
       " 'get_clock_info',\n",
       " 'gmtime',\n",
       " 'localtime',\n",
       " 'mktime',\n",
       " 'monotonic',\n",
       " 'monotonic_ns',\n",
       " 'perf_counter',\n",
       " 'perf_counter_ns',\n",
       " 'process_time',\n",
       " 'process_time_ns',\n",
       " 'sleep',\n",
       " 'strftime',\n",
       " 'strptime',\n",
       " 'struct_time',\n",
       " 'thread_time',\n",
       " 'thread_time_ns',\n",
       " 'time',\n",
       " 'time_ns',\n",
       " 'timezone',\n",
       " 'tzname']"
      ]
     },
     "execution_count": 15,
     "metadata": {},
     "output_type": "execute_result"
    }
   ],
   "source": [
    "import time\n",
    "dir(time)"
   ]
  },
  {
   "cell_type": "code",
   "execution_count": 22,
   "id": "3d131455",
   "metadata": {},
   "outputs": [
    {
     "name": "stdout",
     "output_type": "stream",
     "text": [
      "enter the number2\n",
      "the square of 2 and 4\n",
      "enter the number5\n",
      "the square of 5 and 25\n",
      "enter the number4\n",
      "the square of 4 and 16\n",
      "the time taken is: 1.7415416240692139\n"
     ]
    }
   ],
   "source": [
    "import time\n",
    "start=time.time()\n",
    "\n",
    "\n",
    "for i in range(3):\n",
    "    num=eval(input(\"enter the number\"))\n",
    "    print(\"the square of {} and {}\".format(num,num*num))\n",
    "\n",
    "    \n",
    "end=time.time()\n",
    "print(\"the time taken is:\",end-start)"
   ]
  },
  {
   "cell_type": "code",
   "execution_count": 20,
   "id": "bff6182e",
   "metadata": {},
   "outputs": [
    {
     "name": "stdout",
     "output_type": "stream",
     "text": [
      "enter the number4\n",
      "the square of 4 and 16\n",
      "enter the number5\n",
      "the square of 5 and 25\n",
      "enter the number2\n",
      "the square of 2 and 4\n",
      "the time taken in seconds is: 2.181295394897461\n"
     ]
    }
   ],
   "source": [
    "import time\n",
    "start=time.time()\n",
    "\n",
    "i=1\n",
    "while(i<=3):\n",
    "    num=eval(input(\"enter the number\"))\n",
    "    print(\"the square of {} and {}\".format(num,num*num))\n",
    "    i=i+1\n",
    "\n",
    "\n",
    "end=time.time()\n",
    "print(\"the time taken in seconds is:\",end-start)"
   ]
  },
  {
   "cell_type": "code",
   "execution_count": null,
   "id": "9820b986",
   "metadata": {},
   "outputs": [],
   "source": []
  },
  {
   "cell_type": "code",
   "execution_count": 26,
   "id": "4555b05c",
   "metadata": {},
   "outputs": [
    {
     "name": "stdout",
     "output_type": "stream",
     "text": [
      "hai\n",
      "hello\n",
      "enter a number5\n"
     ]
    }
   ],
   "source": [
    "print(\"hai\")                \n",
    "time.sleep(4)                       # after 4 seconds hello will print\n",
    "print(\"hello\")\n",
    "time.sleep(3)                       # after 3 sec enter a number will print\n",
    "num=eval(input(\"enter a number\"))\n"
   ]
  },
  {
   "cell_type": "code",
   "execution_count": null,
   "id": "b52cdf41",
   "metadata": {},
   "outputs": [],
   "source": []
  },
  {
   "cell_type": "code",
   "execution_count": 41,
   "id": "a651586a",
   "metadata": {},
   "outputs": [
    {
     "name": "stdout",
     "output_type": "stream",
     "text": [
      "55\n",
      "55\n"
     ]
    }
   ],
   "source": [
    "# wap ask the user print sum of 10 natural numbers\n",
    "\n",
    "# for loop\n",
    "\n",
    "sum1=0\n",
    "for i in range(1,11):\n",
    "    sum1=sum1+i\n",
    "print(sum1)\n",
    "\n",
    "# while loop\n",
    "\n",
    "sum1=0\n",
    "i=1\n",
    "while(i<=10):\n",
    "    sum1=sum1+i\n",
    "    i=i+1\n",
    "print(sum1)"
   ]
  },
  {
   "cell_type": "code",
   "execution_count": null,
   "id": "729e3585",
   "metadata": {},
   "outputs": [],
   "source": []
  },
  {
   "cell_type": "code",
   "execution_count": 31,
   "id": "bada1841",
   "metadata": {},
   "outputs": [
    {
     "name": "stdout",
     "output_type": "stream",
     "text": [
      "enter a number of chances:3\n",
      "enter a password:'ertg'\n",
      "you are out\n",
      "2 chances are left\n",
      "enter a password:'wert'\n",
      "you are out\n",
      "1 chances are left\n",
      "enter a password:'rwtwrt'\n",
      "you are out\n",
      "0 chances are left\n"
     ]
    }
   ],
   "source": [
    "# wap ask the user enter a password\n",
    "# if the pasword=='python' , then print('you are in')\n",
    "# else: print(\"you are out\")\n",
    "# you need to provide 3 chnaces to user\n",
    "# if he success first time, the loop should stop\n",
    "# if he fails:\n",
    "#         print('how many chances are left')\n",
    "#         enter password\n",
    "\n",
    "password='python'\n",
    "chances=eval(input(\"enter a number of chances:\"))\n",
    "i=0\n",
    "while i<3:\n",
    "    password=eval(input(\"enter a password:\"))\n",
    "    if(password=='python'):\n",
    "        print(\"you are in\")\n",
    "        break\n",
    "    else:\n",
    "        print(\"you are out\")\n",
    "        print(\"{} chances are left\".format(chances-i-1))\n",
    "    i=i+1"
   ]
  },
  {
   "cell_type": "code",
   "execution_count": null,
   "id": "781e18d0",
   "metadata": {},
   "outputs": [],
   "source": []
  },
  {
   "cell_type": "code",
   "execution_count": 34,
   "id": "6f651835",
   "metadata": {},
   "outputs": [
    {
     "name": "stdout",
     "output_type": "stream",
     "text": [
      "enter a number of chances:3\n",
      "enter a number:'python'\n",
      "you are in\n",
      "after 0 chances i got success\n",
      "the time taken in seconds is: 5.1191065311431885\n"
     ]
    }
   ],
   "source": [
    "# i want to create an infinite loop\n",
    "# you need to get one random number take 1 to 100\n",
    "# you need to ask the enter the number\n",
    "# after how many trails you are success\n",
    "# hou much time has taken to complete loop\n",
    "\n",
    "# how you are implementing the time package\n",
    "# are you able to return the number of chances\n",
    "\n",
    "import time\n",
    "start=time.time()\n",
    "\n",
    "import random\n",
    "password='python'\n",
    "chances=eval(input(\"enter a number of chances:\"))\n",
    "i=0\n",
    "while i<3:\n",
    "    password=random.randint(1,100)\n",
    "    num=eval(input(\"enter a number:\"))\n",
    "    if(num=='python'):\n",
    "        print(\"you are in\")\n",
    "        print(\"after {} chances i got success\".format(i))\n",
    "        break\n",
    "    else:\n",
    "        print(\"you are out\")\n",
    "        print(\"{} chances are left\".format(chances-i-1))\n",
    "    i=i+1\n",
    "\n",
    "\n",
    "end=time.time()\n",
    "print(\"the time taken in seconds is:\",end-start)"
   ]
  },
  {
   "cell_type": "code",
   "execution_count": null,
   "id": "bcd439b0",
   "metadata": {},
   "outputs": [],
   "source": []
  },
  {
   "cell_type": "code",
   "execution_count": null,
   "id": "8a4d996c",
   "metadata": {},
   "outputs": [],
   "source": []
  },
  {
   "cell_type": "code",
   "execution_count": null,
   "id": "20913fb4",
   "metadata": {},
   "outputs": [],
   "source": []
  },
  {
   "cell_type": "code",
   "execution_count": null,
   "id": "a8033819",
   "metadata": {},
   "outputs": [],
   "source": []
  },
  {
   "cell_type": "code",
   "execution_count": null,
   "id": "10131959",
   "metadata": {},
   "outputs": [],
   "source": []
  },
  {
   "cell_type": "code",
   "execution_count": null,
   "id": "1c71b7b6",
   "metadata": {},
   "outputs": [],
   "source": []
  },
  {
   "cell_type": "code",
   "execution_count": null,
   "id": "90419e0b",
   "metadata": {},
   "outputs": [],
   "source": []
  }
 ],
 "metadata": {
  "kernelspec": {
   "display_name": "Python 3 (ipykernel)",
   "language": "python",
   "name": "python3"
  },
  "language_info": {
   "codemirror_mode": {
    "name": "ipython",
    "version": 3
   },
   "file_extension": ".py",
   "mimetype": "text/x-python",
   "name": "python",
   "nbconvert_exporter": "python",
   "pygments_lexer": "ipython3",
   "version": "3.11.5"
  }
 },
 "nbformat": 4,
 "nbformat_minor": 5
}
