{
 "cells": [
  {
   "cell_type": "markdown",
   "id": "8299a4cc",
   "metadata": {},
   "source": [
    "- WAP to add two numbers"
   ]
  },
  {
   "cell_type": "code",
   "execution_count": 2,
   "id": "e35d4a62",
   "metadata": {},
   "outputs": [
    {
     "name": "stdout",
     "output_type": "stream",
     "text": [
      "The addition of 100 and 200 is 300\n"
     ]
    }
   ],
   "source": [
    "number1=100\n",
    "number2=200\n",
    "add=number1+number2\n",
    "print(\"The addition of {} and {} is {}\".format(number1,number2,add))"
   ]
  },
  {
   "cell_type": "code",
   "execution_count": null,
   "id": "a21c251a",
   "metadata": {},
   "outputs": [],
   "source": []
  },
  {
   "cell_type": "code",
   "execution_count": 3,
   "id": "785bbd92",
   "metadata": {},
   "outputs": [
    {
     "name": "stdout",
     "output_type": "stream",
     "text": [
      "20\n"
     ]
    },
    {
     "data": {
      "text/plain": [
       "'20'"
      ]
     },
     "execution_count": 3,
     "metadata": {},
     "output_type": "execute_result"
    }
   ],
   "source": [
    "# wap ask the user to enter a number by using keyboard\n",
    "\n",
    "input()"
   ]
  },
  {
   "cell_type": "code",
   "execution_count": 4,
   "id": "4fb105fb",
   "metadata": {},
   "outputs": [
    {
     "name": "stdout",
     "output_type": "stream",
     "text": [
      "python\n"
     ]
    },
    {
     "data": {
      "text/plain": [
       "'python'"
      ]
     },
     "execution_count": 4,
     "metadata": {},
     "output_type": "execute_result"
    }
   ],
   "source": [
    "input()         # input from the keyboard"
   ]
  },
  {
   "cell_type": "code",
   "execution_count": null,
   "id": "78af95a6",
   "metadata": {},
   "outputs": [],
   "source": []
  },
  {
   "cell_type": "code",
   "execution_count": 7,
   "id": "a163e960",
   "metadata": {},
   "outputs": [
    {
     "name": "stdout",
     "output_type": "stream",
     "text": [
      "enter the number:100\n"
     ]
    },
    {
     "data": {
      "text/plain": [
       "'100'"
      ]
     },
     "execution_count": 7,
     "metadata": {},
     "output_type": "execute_result"
    }
   ],
   "source": [
    "input(\"enter the number:\")"
   ]
  },
  {
   "cell_type": "code",
   "execution_count": null,
   "id": "b26fdb69",
   "metadata": {},
   "outputs": [],
   "source": []
  },
  {
   "cell_type": "code",
   "execution_count": 12,
   "id": "2ebdfeba",
   "metadata": {},
   "outputs": [
    {
     "name": "stdout",
     "output_type": "stream",
     "text": [
      "The addition of 100 and 200 is 300\n"
     ]
    }
   ],
   "source": [
    "--------------------- case-1----------------------\n",
    "\n",
    "number1=100\n",
    "number2=200\n",
    "add=number1+number2\n",
    "print(\"The addition of {} and {} is {}\".format(number1,number2,add))"
   ]
  },
  {
   "cell_type": "code",
   "execution_count": null,
   "id": "31e8848c",
   "metadata": {},
   "outputs": [],
   "source": []
  },
  {
   "cell_type": "code",
   "execution_count": 8,
   "id": "2e5ee92d",
   "metadata": {},
   "outputs": [
    {
     "name": "stdout",
     "output_type": "stream",
     "text": [
      "enter a number1:100\n",
      "enter a number2:200\n",
      "The addition of 100 and 200 is 100200\n"
     ]
    }
   ],
   "source": [
    "--------------------- case2----------------------\n",
    "\n",
    "number1=input(\"enter a number1:\")   # it will ask number1='100'\n",
    "number2=input(\"enter a number2:\")   # it will ask number2='200'\n",
    "add=number1+number2                 #'100'+'200'='100200'\n",
    "print(\"The addition of {} and {} is {}\".format(number1,number2,add))"
   ]
  },
  {
   "cell_type": "code",
   "execution_count": 9,
   "id": "3c2297b2",
   "metadata": {},
   "outputs": [
    {
     "name": "stdout",
     "output_type": "stream",
     "text": [
      "enter a number1:100\n",
      "enter a number2:200\n",
      "The addition of 100 and 200 is 300\n"
     ]
    }
   ],
   "source": [
    "--------------------- case-3(type casting)----------------------\n",
    "\n",
    "number1=input(\"enter a number1:\")              # it will ask number1='100'\n",
    "number2=input(\"enter a number2:\")              # it will ask number2='200'\n",
    "add=int(number1)+int(number2)                  #int('100')+int('200')=100+200=300\n",
    "print(\"The addition of {} and {} is {}\".format(number1,number2,add))"
   ]
  },
  {
   "cell_type": "code",
   "execution_count": 15,
   "id": "64122c97",
   "metadata": {},
   "outputs": [
    {
     "name": "stdout",
     "output_type": "stream",
     "text": [
      "enter a number1:100\n",
      "enter a number2:200\n",
      "The addition of 100 and 200 is 300\n"
     ]
    }
   ],
   "source": [
    "--------------------- case-4(type casting)----------------------\n",
    "\n",
    "number1=int(input(\"enter a number1:\"))             # it will ask number1=int('100')=100\n",
    "number2=int(input(\"enter a number2:\"))              # it will ask number2=int('200')=200\n",
    "add=number1+number2                                #100+200=300\n",
    "print(\"The addition of {} and {} is {}\".format(number1,number2,add))"
   ]
  },
  {
   "cell_type": "code",
   "execution_count": null,
   "id": "edb3919a",
   "metadata": {},
   "outputs": [],
   "source": []
  },
  {
   "cell_type": "code",
   "execution_count": null,
   "id": "3528e37a",
   "metadata": {},
   "outputs": [],
   "source": [
    "int(input(\"enter a number1:\"))"
   ]
  },
  {
   "cell_type": "code",
   "execution_count": null,
   "id": "8052b4d6",
   "metadata": {},
   "outputs": [],
   "source": [
    "int('100')"
   ]
  },
  {
   "cell_type": "code",
   "execution_count": null,
   "id": "c46aec3f",
   "metadata": {},
   "outputs": [],
   "source": []
  },
  {
   "cell_type": "code",
   "execution_count": 1,
   "id": "caefa07a",
   "metadata": {},
   "outputs": [
    {
     "name": "stdout",
     "output_type": "stream",
     "text": [
      "The addition of 100.5 and 200 is 300.5\n"
     ]
    }
   ],
   "source": [
    "number1=100.5             # float\n",
    "number2=200               # integer\n",
    "add=number1+number2\n",
    "print(\"The addition of {} and {} is {}\".format(number1,number2,add))"
   ]
  },
  {
   "cell_type": "code",
   "execution_count": null,
   "id": "6387800c",
   "metadata": {},
   "outputs": [],
   "source": []
  },
  {
   "cell_type": "code",
   "execution_count": 3,
   "id": "24ebd9ee",
   "metadata": {},
   "outputs": [
    {
     "name": "stdout",
     "output_type": "stream",
     "text": [
      "enter a number1:100.5\n"
     ]
    },
    {
     "data": {
      "text/plain": [
       "100.5"
      ]
     },
     "execution_count": 3,
     "metadata": {},
     "output_type": "execute_result"
    }
   ],
   "source": [
    "number1=float(input(\"enter a number1:\"))\n",
    "number1"
   ]
  },
  {
   "cell_type": "code",
   "execution_count": 4,
   "id": "626fd797",
   "metadata": {},
   "outputs": [
    {
     "name": "stdout",
     "output_type": "stream",
     "text": [
      "enter a number1:100.5\n"
     ]
    },
    {
     "ename": "ValueError",
     "evalue": "invalid literal for int() with base 10: '100.5'",
     "output_type": "error",
     "traceback": [
      "\u001b[1;31m---------------------------------------------------------------------------\u001b[0m",
      "\u001b[1;31mValueError\u001b[0m                                Traceback (most recent call last)",
      "Cell \u001b[1;32mIn[4], line 1\u001b[0m\n\u001b[1;32m----> 1\u001b[0m number2\u001b[38;5;241m=\u001b[39m\u001b[38;5;28mint\u001b[39m(\u001b[38;5;28minput\u001b[39m(\u001b[38;5;124m\"\u001b[39m\u001b[38;5;124menter a number1:\u001b[39m\u001b[38;5;124m\"\u001b[39m))\n\u001b[0;32m      2\u001b[0m number2\n",
      "\u001b[1;31mValueError\u001b[0m: invalid literal for int() with base 10: '100.5'"
     ]
    }
   ],
   "source": [
    "number2=int(input(\"enter a number1:\"))          # int(10.5)\n",
    "number2"
   ]
  },
  {
   "cell_type": "code",
   "execution_count": null,
   "id": "3f5e74f0",
   "metadata": {},
   "outputs": [],
   "source": []
  },
  {
   "cell_type": "code",
   "execution_count": 5,
   "id": "d2d6f121",
   "metadata": {},
   "outputs": [
    {
     "name": "stdout",
     "output_type": "stream",
     "text": [
      "enter n1:100\n",
      "enter n2:200.5\n"
     ]
    },
    {
     "data": {
      "text/plain": [
       "300.5"
      ]
     },
     "execution_count": 5,
     "metadata": {},
     "output_type": "execute_result"
    }
   ],
   "source": [
    "n1=int(input(\"enter n1:\"))                # this will fail if we do not provide integer value....\n",
    "n2=float(input(\"enter n2:\"))\n",
    "n1+n2\n",
    " \n",
    "# we need to keep in mind\n",
    "# if i want to provide integer value type cast: int\n",
    "# if i want to provide float value type cast: float\n",
    "# if i provide by mistake int(100.5) ===== error\n",
    "# to avoid this we use eval "
   ]
  },
  {
   "cell_type": "code",
   "execution_count": null,
   "id": "a83b6a50",
   "metadata": {},
   "outputs": [],
   "source": []
  },
  {
   "cell_type": "markdown",
   "id": "a5292d51",
   "metadata": {},
   "source": [
    "# eval"
   ]
  },
  {
   "cell_type": "code",
   "execution_count": 10,
   "id": "6e44d2dc",
   "metadata": {},
   "outputs": [
    {
     "name": "stdout",
     "output_type": "stream",
     "text": [
      "enter n1:100.5\n",
      "enter n2:200\n"
     ]
    },
    {
     "data": {
      "text/plain": [
       "300.5"
      ]
     },
     "execution_count": 10,
     "metadata": {},
     "output_type": "execute_result"
    }
   ],
   "source": [
    "n1=eval(input(\"enter n1:\"))                   # eval is boss for everything\n",
    "n2=eval(input(\"enter n2:\"))\n",
    "n1+n2"
   ]
  },
  {
   "cell_type": "code",
   "execution_count": null,
   "id": "711ee6de",
   "metadata": {},
   "outputs": [],
   "source": []
  },
  {
   "cell_type": "code",
   "execution_count": 11,
   "id": "7faad9d8",
   "metadata": {},
   "outputs": [
    {
     "name": "stdout",
     "output_type": "stream",
     "text": [
      "enter n1:100\n",
      "enter n2:200.5\n",
      "the addition of 100 and 200.5 is 300.5\n"
     ]
    }
   ],
   "source": [
    "n1=eval(input(\"enter n1:\"))\n",
    "n2=eval(input(\"enter n2:\"))\n",
    "print(\"the addition of {} and {} is {}\".format(n1,n2,n1+n2))"
   ]
  },
  {
   "cell_type": "code",
   "execution_count": null,
   "id": "57e370fd",
   "metadata": {},
   "outputs": [],
   "source": []
  },
  {
   "cell_type": "code",
   "execution_count": 15,
   "id": "944e09d2",
   "metadata": {},
   "outputs": [
    {
     "name": "stdout",
     "output_type": "stream",
     "text": [
      "enter n1:100\n",
      "enter n2:200.5\n",
      "the addition of 100 and 200.5 is 300.5\n"
     ]
    }
   ],
   "source": [
    "n1=input(\"enter n1:\")\n",
    "n2=input(\"enter n2:\")\n",
    "print(\"the addition of {} and {} is {}\".format(n1,n2,eval(n1)+eval(n2)))"
   ]
  },
  {
   "cell_type": "code",
   "execution_count": null,
   "id": "2173db87",
   "metadata": {},
   "outputs": [],
   "source": []
  },
  {
   "cell_type": "code",
   "execution_count": null,
   "id": "cc98e700",
   "metadata": {},
   "outputs": [],
   "source": [
    "# WAP ask the user enter two numbers\n",
    "# n1= from user 100\n",
    "# n2= from keyboard 200\n",
    "# the addition of 100 and 200 is 300\n",
    "# the subtraction of 100 and 200 is -100\n",
    "# the multiplication if 100 and 200 is 2000"
   ]
  },
  {
   "cell_type": "code",
   "execution_count": 28,
   "id": "181663f5",
   "metadata": {},
   "outputs": [
    {
     "name": "stdout",
     "output_type": "stream",
     "text": [
      "enter n2:200\n",
      "the addition of 100 and 200 is 300\n",
      "the subtraction of 100 and 200 is -100\n",
      "the multiplication of 100 and 200 is 20000\n"
     ]
    }
   ],
   "source": [
    "n1=100\n",
    "n2=eval(input(\"enter n2:\"))\n",
    "print(\"the addition of {} and {} is {}\".format(n1,n2,n1+n2))\n",
    "print(\"the subtraction of {} and {} is {}\".format(n1,n2,n1-n2))\n",
    "print(\"the multiplication of {} and {} is {}\".format(n1,n2,n1*n2))"
   ]
  },
  {
   "cell_type": "code",
   "execution_count": null,
   "id": "6a405ea7",
   "metadata": {},
   "outputs": [],
   "source": [
    "# average  program"
   ]
  },
  {
   "cell_type": "code",
   "execution_count": 46,
   "id": "4994b065",
   "metadata": {},
   "outputs": [
    {
     "name": "stdout",
     "output_type": "stream",
     "text": [
      "enter n1:2\n",
      "enter n2:3\n",
      "enter n3:5\n",
      "the original value before round off: 3.3333333333333335\n",
      "the average of 2,3 and 5 is 3\n"
     ]
    }
   ],
   "source": [
    "n1=eval(input(\"enter n1:\"))\n",
    "n2=eval(input(\"enter n2:\"))\n",
    "n3=eval(input(\"enter n3:\"))\n",
    "avg=(n1+n2+n3)/3\n",
    "found=round(avg)\n",
    "print(\"the original value before round off:\",avg)\n",
    "print(\"the average of {},{} and {} is {}\".format(n1,n2,n3,found))"
   ]
  },
  {
   "cell_type": "code",
   "execution_count": null,
   "id": "c83852f7",
   "metadata": {},
   "outputs": [],
   "source": []
  },
  {
   "cell_type": "code",
   "execution_count": 53,
   "id": "58a9cc27",
   "metadata": {},
   "outputs": [
    {
     "data": {
      "text/plain": [
       "2.4"
      ]
     },
     "execution_count": 53,
     "metadata": {},
     "output_type": "execute_result"
    }
   ],
   "source": [
    "12/5               # divison will provider normal value"
   ]
  },
  {
   "cell_type": "code",
   "execution_count": 54,
   "id": "638fb0b0",
   "metadata": {},
   "outputs": [
    {
     "data": {
      "text/plain": [
       "2"
      ]
     },
     "execution_count": 54,
     "metadata": {},
     "output_type": "execute_result"
    }
   ],
   "source": [
    "12%5              # modulus will provide remainder"
   ]
  },
  {
   "cell_type": "code",
   "execution_count": 55,
   "id": "f3048794",
   "metadata": {},
   "outputs": [
    {
     "data": {
      "text/plain": [
       "2"
      ]
     },
     "execution_count": 55,
     "metadata": {},
     "output_type": "execute_result"
    }
   ],
   "source": [
    "12//5            # floor division will provide quotient "
   ]
  },
  {
   "cell_type": "code",
   "execution_count": null,
   "id": "7c4d8de8",
   "metadata": {},
   "outputs": [],
   "source": []
  },
  {
   "cell_type": "code",
   "execution_count": null,
   "id": "00ddb72a",
   "metadata": {},
   "outputs": [],
   "source": [
    "#waop ask the user to enter\n",
    "# bill amount\n",
    "# tip amount\n",
    "# total amount"
   ]
  },
  {
   "cell_type": "code",
   "execution_count": 63,
   "id": "7966621c",
   "metadata": {},
   "outputs": [
    {
     "name": "stdout",
     "output_type": "stream",
     "text": [
      "enter bill amount:1000\n",
      "enter tip amount:100\n",
      "the amount is: 1100\n"
     ]
    }
   ],
   "source": [
    "bill_amount=eval(input(\"enter bill amount:\"))\n",
    "tip_amount=eval(input(\"enter tip amount:\"))\n",
    "total_amount=bill_amount+tip_amount\n",
    "print(\"the amount is:\",total_amount)"
   ]
  },
  {
   "cell_type": "code",
   "execution_count": 71,
   "id": "9b7983ee",
   "metadata": {},
   "outputs": [
    {
     "name": "stdout",
     "output_type": "stream",
     "text": [
      "enter bill amount:1000\n",
      "enter tip amount:20\n",
      "the amount is: 1200.0\n"
     ]
    }
   ],
   "source": [
    "bill_amount=eval(input(\"enter bill amount:\"))\n",
    "\n",
    "tip_amount=eval(input(\"enter tip amount:\"))\n",
    "\n",
    "one=(bill_amount*tip_amount)/100\n",
    "\n",
    "total_amount=bill_amount+one\n",
    "\n",
    "print(\"the amount is:\",total_amount)\n"
   ]
  },
  {
   "cell_type": "code",
   "execution_count": null,
   "id": "7a449991",
   "metadata": {},
   "outputs": [],
   "source": []
  },
  {
   "cell_type": "code",
   "execution_count": 75,
   "id": "cddeab30",
   "metadata": {},
   "outputs": [
    {
     "name": "stdout",
     "output_type": "stream",
     "text": [
      "how many dollars you to pay:1000\n",
      "no dollars are not accepted\n",
      "then what will accepted\n",
      "only indian rupees\n",
      "one dollar equal to how many rupees:80\n",
      "the total amount to pay is: 80000\n"
     ]
    }
   ],
   "source": [
    "user=eval(input(\"how many dollars you to pay:\"))\n",
    "print(\"no dollars are not accepted\")\n",
    "print(\"then what will accepted\")\n",
    "print(\"only indian rupees\")\n",
    "user1=eval(input(\"one dollar equal to how many rupees:\"))\n",
    "total_amount=user*user1\n",
    "print(\"the total amount to pay is:\",total_amount)"
   ]
  },
  {
   "cell_type": "code",
   "execution_count": null,
   "id": "de43ecfe",
   "metadata": {},
   "outputs": [],
   "source": []
  },
  {
   "cell_type": "code",
   "execution_count": null,
   "id": "dbb3117a",
   "metadata": {},
   "outputs": [],
   "source": []
  },
  {
   "cell_type": "code",
   "execution_count": null,
   "id": "9013ce89",
   "metadata": {},
   "outputs": [],
   "source": []
  },
  {
   "cell_type": "code",
   "execution_count": null,
   "id": "93861f45",
   "metadata": {},
   "outputs": [],
   "source": []
  }
 ],
 "metadata": {
  "kernelspec": {
   "display_name": "Python 3 (ipykernel)",
   "language": "python",
   "name": "python3"
  },
  "language_info": {
   "codemirror_mode": {
    "name": "ipython",
    "version": 3
   },
   "file_extension": ".py",
   "mimetype": "text/x-python",
   "name": "python",
   "nbconvert_exporter": "python",
   "pygments_lexer": "ipython3",
   "version": "3.11.5"
  }
 },
 "nbformat": 4,
 "nbformat_minor": 5
}
