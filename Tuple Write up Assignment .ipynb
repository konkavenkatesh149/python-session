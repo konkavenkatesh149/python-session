{
 "cells": [
  {
   "cell_type": "markdown",
   "id": "56c87076",
   "metadata": {},
   "source": [
    "# Tuple\n"
   ]
  },
  {
   "cell_type": "markdown",
   "id": "a88a72e6",
   "metadata": {},
   "source": [
    "- Tuple is a type of data structure that is very similar to lists"
   ]
  },
  {
   "cell_type": "markdown",
   "id": "08d146d6",
   "metadata": {},
   "source": [
    "### 1) Reading string"
   ]
  },
  {
   "cell_type": "code",
   "execution_count": 8,
   "id": "40a44845",
   "metadata": {},
   "outputs": [
    {
     "data": {
      "text/plain": [
       "(1, 2, 3)"
      ]
     },
     "execution_count": 8,
     "metadata": {},
     "output_type": "execute_result"
    }
   ],
   "source": [
    "name1=(1, 2, 3)\n",
    "name1"
   ]
  },
  {
   "cell_type": "code",
   "execution_count": 18,
   "id": "64843b78",
   "metadata": {},
   "outputs": [
    {
     "data": {
      "text/plain": [
       "('one', 'two', 'three')"
      ]
     },
     "execution_count": 18,
     "metadata": {},
     "output_type": "execute_result"
    }
   ],
   "source": [
    "my_tuple = (\"one\", \"two\", \"three\")\n",
    "my_tuple"
   ]
  },
  {
   "cell_type": "markdown",
   "id": "da2b74cf",
   "metadata": {},
   "source": [
    "# 2) Type, len,max,min"
   ]
  },
  {
   "cell_type": "markdown",
   "id": "26225252",
   "metadata": {},
   "source": [
    "### type"
   ]
  },
  {
   "cell_type": "code",
   "execution_count": 19,
   "id": "ab0bada3",
   "metadata": {},
   "outputs": [
    {
     "data": {
      "text/plain": [
       "tuple"
      ]
     },
     "execution_count": 19,
     "metadata": {},
     "output_type": "execute_result"
    }
   ],
   "source": [
    "# type is used to find the type of datatype\n",
    "name1=(1, 2, 3)\n",
    "type(name1)"
   ]
  },
  {
   "cell_type": "markdown",
   "id": "38a6fad8",
   "metadata": {},
   "source": [
    "### len"
   ]
  },
  {
   "cell_type": "code",
   "execution_count": 20,
   "id": "453635d7",
   "metadata": {},
   "outputs": [
    {
     "data": {
      "text/plain": [
       "3"
      ]
     },
     "execution_count": 20,
     "metadata": {},
     "output_type": "execute_result"
    }
   ],
   "source": [
    "# len is used to find the length of a tuple\n",
    "name1=(1, 2, 3)\n",
    "len(name1)"
   ]
  },
  {
   "cell_type": "markdown",
   "id": "70f718f9",
   "metadata": {},
   "source": [
    "### max"
   ]
  },
  {
   "cell_type": "code",
   "execution_count": 22,
   "id": "60f7e0fe",
   "metadata": {},
   "outputs": [
    {
     "data": {
      "text/plain": [
       "'two'"
      ]
     },
     "execution_count": 22,
     "metadata": {},
     "output_type": "execute_result"
    }
   ],
   "source": [
    "# max is used to find the maximum charactor of a tuple\n",
    "my_tuple = (\"one\", \"two\", \"three\")\n",
    "max(my_tuple)"
   ]
  },
  {
   "cell_type": "markdown",
   "id": "bc0ebe21",
   "metadata": {},
   "source": [
    "### min"
   ]
  },
  {
   "cell_type": "code",
   "execution_count": 15,
   "id": "909c7e8e",
   "metadata": {},
   "outputs": [
    {
     "data": {
      "text/plain": [
       "'h'"
      ]
     },
     "execution_count": 15,
     "metadata": {},
     "output_type": "execute_result"
    }
   ],
   "source": [
    "# min is used to find the minimum charector of a tuple  \n",
    "name1=(1, 2, 3)\n",
    "min(name1)"
   ]
  },
  {
   "cell_type": "markdown",
   "id": "40621350",
   "metadata": {},
   "source": [
    "# 3)Concatenation"
   ]
  },
  {
   "cell_type": "code",
   "execution_count": 23,
   "id": "5b88ec16",
   "metadata": {},
   "outputs": [
    {
     "data": {
      "text/plain": [
       "('apple', 'ball', 'cat', 1, 2, 3, 23, 4.0, (10+30j))"
      ]
     },
     "execution_count": 23,
     "metadata": {},
     "output_type": "execute_result"
    }
   ],
   "source": [
    "# concatenation is adding \n",
    "tuple1=(\"apple\",\"ball\",\"cat\")\n",
    "tuple2=(1, 2, 3)\n",
    "tuple3=(23,4.0,10+30j)\n",
    "tuple1+tuple2+tuple3"
   ]
  },
  {
   "cell_type": "markdown",
   "id": "a0c27373",
   "metadata": {},
   "source": [
    "# 4) mutability-imutability concept"
   ]
  },
  {
   "cell_type": "code",
   "execution_count": 25,
   "id": "9a6f48e0",
   "metadata": {},
   "outputs": [
    {
     "ename": "TypeError",
     "evalue": "'tuple' object does not support item assignment",
     "output_type": "error",
     "traceback": [
      "\u001b[1;31m---------------------------------------------------------------------------\u001b[0m",
      "\u001b[1;31mTypeError\u001b[0m                                 Traceback (most recent call last)",
      "Cell \u001b[1;32mIn[25], line 3\u001b[0m\n\u001b[0;32m      1\u001b[0m \u001b[38;5;66;03m# in \u001b[39;00m\n\u001b[0;32m      2\u001b[0m tuple1\u001b[38;5;241m=\u001b[39m(\u001b[38;5;124m\"\u001b[39m\u001b[38;5;124mapple\u001b[39m\u001b[38;5;124m\"\u001b[39m,\u001b[38;5;124m\"\u001b[39m\u001b[38;5;124mball\u001b[39m\u001b[38;5;124m\"\u001b[39m,\u001b[38;5;124m\"\u001b[39m\u001b[38;5;124mcat\u001b[39m\u001b[38;5;124m\"\u001b[39m)\n\u001b[1;32m----> 3\u001b[0m tuple1[\u001b[38;5;241m0\u001b[39m]\u001b[38;5;241m=\u001b[39m\u001b[38;5;124m\"\u001b[39m\u001b[38;5;124mword\u001b[39m\u001b[38;5;124m\"\u001b[39m\n",
      "\u001b[1;31mTypeError\u001b[0m: 'tuple' object does not support item assignment"
     ]
    }
   ],
   "source": [
    "# in \n",
    "tuple1=(\"apple\",\"ball\",\"cat\")\n",
    "tuple1[0]=\"word\""
   ]
  },
  {
   "cell_type": "code",
   "execution_count": null,
   "id": "8393a12b",
   "metadata": {},
   "outputs": [],
   "source": [
    "# I want to replace 'apple' with 'word'\n",
    "# based on index operation if you change it or not\n",
    "# if you change the value by using index operation: mutable\n",
    "# if you could not change the value by using index operation: immutable"
   ]
  },
  {
   "cell_type": "markdown",
   "id": "44d6b9b8",
   "metadata": {},
   "source": [
    "- So Tuple are immutable"
   ]
  },
  {
   "cell_type": "markdown",
   "id": "7e47b66f",
   "metadata": {},
   "source": [
    "# 5) tuple index"
   ]
  },
  {
   "cell_type": "code",
   "execution_count": 19,
   "id": "0183e362",
   "metadata": {},
   "outputs": [],
   "source": [
    "# allows you to access individual characters in a tuple directly by using a numeric value.\n",
    "tuple1=(\"apple\",\"ball\",\"cat\")"
   ]
  },
  {
   "cell_type": "code",
   "execution_count": null,
   "id": "fbb601e1",
   "metadata": {},
   "outputs": [],
   "source": [
    "# how many letters are there: 3\n",
    "# python index start with :0"
   ]
  },
  {
   "cell_type": "code",
   "execution_count": 26,
   "id": "57540461",
   "metadata": {},
   "outputs": [
    {
     "name": "stdout",
     "output_type": "stream",
     "text": [
      "apple\n",
      "ball\n",
      "cat\n"
     ]
    }
   ],
   "source": [
    "print(tuple1[0]) # 'apple'\n",
    "print(tuple1[1]) # 'ball'\n",
    "print(tuple1[2]) # 'cat'"
   ]
  },
  {
   "cell_type": "markdown",
   "id": "628f7ddf",
   "metadata": {},
   "source": [
    "# 6) tuple slice\n"
   ]
  },
  {
   "cell_type": "code",
   "execution_count": 8,
   "id": "e6c99eab",
   "metadata": {},
   "outputs": [],
   "source": [
    "tuple1=(\"apple\",\"ball\",\"cat\",\"date\",\"height\",\"sai\",\"venkatesh\",\"hai\")\n",
    "# this concept is same as range() in for loop\n",
    "# tuple[start:stop:step]    \n",
    "# range(start,stop,step)"
   ]
  },
  {
   "cell_type": "code",
   "execution_count": 9,
   "id": "b97e1d46",
   "metadata": {},
   "outputs": [
    {
     "data": {
      "text/plain": [
       "('ball',)"
      ]
     },
     "execution_count": 9,
     "metadata": {},
     "output_type": "execute_result"
    }
   ],
   "source": [
    "tuple1[1:2]\n",
    "# what is the direction: postive\n",
    "# start=2\n",
    "# stop=4-1=3"
   ]
  },
  {
   "cell_type": "code",
   "execution_count": 45,
   "id": "244b0b5b",
   "metadata": {},
   "outputs": [
    {
     "name": "stdout",
     "output_type": "stream",
     "text": [
      "(3, 45, 4)\n",
      "(22, 3, 45, 4, 2.4, 2, 56, 890, 1)\n"
     ]
    }
   ],
   "source": [
    "tup2 = (22, 3, 45, 4, 2.4, 2, 56, 890, 1)\n",
    "print(tup2[1:4])\n",
    "print(tup2[:])"
   ]
  },
  {
   "cell_type": "code",
   "execution_count": 53,
   "id": "7313a40f",
   "metadata": {},
   "outputs": [
    {
     "data": {
      "text/plain": [
       "(3, 4, 2)"
      ]
     },
     "execution_count": 53,
     "metadata": {},
     "output_type": "execute_result"
    }
   ],
   "source": [
    "tup2[1:6:2]\n",
    "# start=1\n",
    "# stop=6-1=14\n",
    "# post: step=2\n",
    "# 1 3 5 7 9 11 13\n",
    "# e l   o   r"
   ]
  },
  {
   "cell_type": "code",
   "execution_count": 46,
   "id": "b3cebc9b",
   "metadata": {},
   "outputs": [
    {
     "name": "stdout",
     "output_type": "stream",
     "text": [
      "(22, 3, 45, 4, 2.4, 2, 56, 890, 1)\n",
      "(22, 3, 45, 4, 2.4, 2, 56, 890, 1)\n",
      "(22, 3, 45, 4, 2.4, 2, 56, 890, 1)\n",
      "(22, 3, 45, 4, 2.4, 2, 56, 890, 1)\n"
     ]
    }
   ],
   "source": [
    "print(tup2[0:])\n",
    "print(tup2[:len(tup2)])\n",
    "print(tup2[:])\n",
    "print(tup2[::])"
   ]
  },
  {
   "cell_type": "markdown",
   "id": "2269a7c6",
   "metadata": {},
   "source": [
    "- nothing mentioned at start postition: simply satrting of letter\n",
    "- nothing mentioned at stop postion: simply last letter\n",
    "- nothing mentioned at step size: it is postive direction with step value +1"
   ]
  },
  {
   "cell_type": "code",
   "execution_count": 28,
   "id": "684e4b4e",
   "metadata": {},
   "outputs": [
    {
     "data": {
      "text/plain": [
       "'uoy era woh olleh'"
      ]
     },
     "execution_count": 28,
     "metadata": {},
     "output_type": "execute_result"
    }
   ],
   "source": [
    "# this is an example of reverse of string without using reverse method\n",
    "string1[::-1]\n",
    "# in the negative\n",
    "# start: u\n",
    "# stop:h"
   ]
  },
  {
   "cell_type": "markdown",
   "id": "7ed38c6e",
   "metadata": {},
   "source": [
    "# 7) String methods"
   ]
  },
  {
   "cell_type": "code",
   "execution_count": 29,
   "id": "8dcc078f",
   "metadata": {},
   "outputs": [
    {
     "data": {
      "text/plain": [
       "['__add__',\n",
       " '__class__',\n",
       " '__contains__',\n",
       " '__delattr__',\n",
       " '__dir__',\n",
       " '__doc__',\n",
       " '__eq__',\n",
       " '__format__',\n",
       " '__ge__',\n",
       " '__getattribute__',\n",
       " '__getitem__',\n",
       " '__getnewargs__',\n",
       " '__getstate__',\n",
       " '__gt__',\n",
       " '__hash__',\n",
       " '__init__',\n",
       " '__init_subclass__',\n",
       " '__iter__',\n",
       " '__le__',\n",
       " '__len__',\n",
       " '__lt__',\n",
       " '__mod__',\n",
       " '__mul__',\n",
       " '__ne__',\n",
       " '__new__',\n",
       " '__reduce__',\n",
       " '__reduce_ex__',\n",
       " '__repr__',\n",
       " '__rmod__',\n",
       " '__rmul__',\n",
       " '__setattr__',\n",
       " '__sizeof__',\n",
       " '__str__',\n",
       " '__subclasshook__',\n",
       " 'capitalize',\n",
       " 'casefold',\n",
       " 'center',\n",
       " 'count',\n",
       " 'encode',\n",
       " 'endswith',\n",
       " 'expandtabs',\n",
       " 'find',\n",
       " 'format',\n",
       " 'format_map',\n",
       " 'index',\n",
       " 'isalnum',\n",
       " 'isalpha',\n",
       " 'isascii',\n",
       " 'isdecimal',\n",
       " 'isdigit',\n",
       " 'isidentifier',\n",
       " 'islower',\n",
       " 'isnumeric',\n",
       " 'isprintable',\n",
       " 'isspace',\n",
       " 'istitle',\n",
       " 'isupper',\n",
       " 'join',\n",
       " 'ljust',\n",
       " 'lower',\n",
       " 'lstrip',\n",
       " 'maketrans',\n",
       " 'partition',\n",
       " 'removeprefix',\n",
       " 'removesuffix',\n",
       " 'replace',\n",
       " 'rfind',\n",
       " 'rindex',\n",
       " 'rjust',\n",
       " 'rpartition',\n",
       " 'rsplit',\n",
       " 'rstrip',\n",
       " 'split',\n",
       " 'splitlines',\n",
       " 'startswith',\n",
       " 'strip',\n",
       " 'swapcase',\n",
       " 'title',\n",
       " 'translate',\n",
       " 'upper',\n",
       " 'zfill']"
      ]
     },
     "execution_count": 29,
     "metadata": {},
     "output_type": "execute_result"
    }
   ],
   "source": [
    "# a set of build-in methods that can use on strings fro handling and controling\n",
    "dir('name')"
   ]
  },
  {
   "cell_type": "markdown",
   "id": "1fc206d2",
   "metadata": {},
   "source": [
    "### - Capitalize"
   ]
  },
  {
   "cell_type": "code",
   "execution_count": 34,
   "id": "58c76fca",
   "metadata": {},
   "outputs": [],
   "source": [
    "name='automatic controls'"
   ]
  },
  {
   "cell_type": "code",
   "execution_count": 32,
   "id": "791d8b61",
   "metadata": {},
   "outputs": [
    {
     "name": "stdout",
     "output_type": "stream",
     "text": [
      "Help on built-in function capitalize:\n",
      "\n",
      "capitalize() method of builtins.str instance\n",
      "    Return a capitalized version of the string.\n",
      "    \n",
      "    More specifically, make the first character have upper case and the rest lower\n",
      "    case.\n",
      "\n"
     ]
    }
   ],
   "source": [
    "help(name.capitalize)"
   ]
  },
  {
   "cell_type": "code",
   "execution_count": 35,
   "id": "a619ce12",
   "metadata": {},
   "outputs": [
    {
     "data": {
      "text/plain": [
       "'Automatic controls'"
      ]
     },
     "execution_count": 35,
     "metadata": {},
     "output_type": "execute_result"
    }
   ],
   "source": [
    "name.capitalize()"
   ]
  },
  {
   "cell_type": "markdown",
   "id": "01c46669",
   "metadata": {},
   "source": [
    "### - upper"
   ]
  },
  {
   "cell_type": "code",
   "execution_count": 36,
   "id": "581c518e",
   "metadata": {},
   "outputs": [
    {
     "name": "stdout",
     "output_type": "stream",
     "text": [
      "Help on built-in function upper:\n",
      "\n",
      "upper() method of builtins.str instance\n",
      "    Return a copy of the string converted to uppercase.\n",
      "\n"
     ]
    }
   ],
   "source": [
    "name='authentic'\n",
    "# Upper is a method which will convert string into Upper case\n",
    "help(name.upper)"
   ]
  },
  {
   "cell_type": "code",
   "execution_count": 37,
   "id": "3b0e4371",
   "metadata": {},
   "outputs": [
    {
     "data": {
      "text/plain": [
       "'AUTHENTIC'"
      ]
     },
     "execution_count": 37,
     "metadata": {},
     "output_type": "execute_result"
    }
   ],
   "source": [
    "name.upper()"
   ]
  },
  {
   "cell_type": "markdown",
   "id": "5ae31fbd",
   "metadata": {},
   "source": [
    "### - lower"
   ]
  },
  {
   "cell_type": "code",
   "execution_count": 47,
   "id": "2acffa1f",
   "metadata": {},
   "outputs": [
    {
     "name": "stdout",
     "output_type": "stream",
     "text": [
      "Help on built-in function lower:\n",
      "\n",
      "lower() method of builtins.str instance\n",
      "    Return a copy of the string converted to lowercase.\n",
      "\n"
     ]
    }
   ],
   "source": [
    "# lower is a method which will convert string into lower case\n",
    "help(name.lower)"
   ]
  },
  {
   "cell_type": "code",
   "execution_count": 48,
   "id": "8cd6ef47",
   "metadata": {},
   "outputs": [
    {
     "data": {
      "text/plain": [
       "'authentic'"
      ]
     },
     "execution_count": 48,
     "metadata": {},
     "output_type": "execute_result"
    }
   ],
   "source": [
    "name.lower()"
   ]
  },
  {
   "cell_type": "markdown",
   "id": "547ecbd7",
   "metadata": {},
   "source": [
    "### - Casefold"
   ]
  },
  {
   "cell_type": "code",
   "execution_count": 44,
   "id": "f229cac2",
   "metadata": {},
   "outputs": [
    {
     "name": "stdout",
     "output_type": "stream",
     "text": [
      "Help on built-in function casefold:\n",
      "\n",
      "casefold() method of builtins.str instance\n",
      "    Return a version of the string suitable for caseless comparisons.\n",
      "\n"
     ]
    }
   ],
   "source": [
    "# In case of Casefold method the string is convert into samll letters\n",
    "name1='Robotics'\n",
    "help(name1.casefold)"
   ]
  },
  {
   "cell_type": "code",
   "execution_count": 45,
   "id": "c9c9b14f",
   "metadata": {},
   "outputs": [
    {
     "name": "stdout",
     "output_type": "stream",
     "text": [
      "robotics\n"
     ]
    }
   ],
   "source": [
    "print(name1.casefold())"
   ]
  },
  {
   "cell_type": "markdown",
   "id": "a711e951",
   "metadata": {},
   "source": [
    "### - Index"
   ]
  },
  {
   "cell_type": "code",
   "execution_count": 62,
   "id": "01ad3a10",
   "metadata": {},
   "outputs": [],
   "source": [
    "#  the process of accessing a specific element in a sequence, such as a string or list, using its position or index number."
   ]
  },
  {
   "cell_type": "code",
   "execution_count": 58,
   "id": "bffc8c6c",
   "metadata": {},
   "outputs": [
    {
     "data": {
      "text/plain": [
       "2"
      ]
     },
     "execution_count": 58,
     "metadata": {},
     "output_type": "execute_result"
    }
   ],
   "source": [
    "string1='python'\n",
    "# If i want to know\n",
    "# index of 't' then\n",
    "string1.index('t')"
   ]
  },
  {
   "cell_type": "code",
   "execution_count": 65,
   "id": "addd60cf",
   "metadata": {},
   "outputs": [
    {
     "name": "stdout",
     "output_type": "stream",
     "text": [
      "3 6 12\n"
     ]
    }
   ],
   "source": [
    "string1='restart how to'\n",
    "# get the first 't'\n",
    "f_o=string1.index('t')\n",
    "s_o=string1.index('t',f_o+1)\n",
    "t_o=string1.index('t',s_o+1)\n",
    "print(f_o,s_o,t_o)"
   ]
  },
  {
   "cell_type": "markdown",
   "id": "24703de0",
   "metadata": {},
   "source": [
    "### - find"
   ]
  },
  {
   "cell_type": "code",
   "execution_count": null,
   "id": "dc4c9345",
   "metadata": {},
   "outputs": [],
   "source": [
    "# index and find methods both are same, we get same outputs\n",
    "# but there is one difference that is,if it is fail then the output will be -1"
   ]
  },
  {
   "cell_type": "code",
   "execution_count": 66,
   "id": "e44d6bd7",
   "metadata": {},
   "outputs": [
    {
     "data": {
      "text/plain": [
       "2"
      ]
     },
     "execution_count": 66,
     "metadata": {},
     "output_type": "execute_result"
    }
   ],
   "source": [
    "string1='python'\n",
    "# If i want to know\n",
    "# index of 't' then\n",
    "string1.find('t')"
   ]
  },
  {
   "cell_type": "code",
   "execution_count": 69,
   "id": "c6063afb",
   "metadata": {},
   "outputs": [
    {
     "data": {
      "text/plain": [
       "-1"
      ]
     },
     "execution_count": 69,
     "metadata": {},
     "output_type": "execute_result"
    }
   ],
   "source": [
    "string1='python'\n",
    "string1.find('m')"
   ]
  },
  {
   "cell_type": "code",
   "execution_count": 67,
   "id": "b4c793c6",
   "metadata": {},
   "outputs": [
    {
     "name": "stdout",
     "output_type": "stream",
     "text": [
      "3 6 12\n"
     ]
    }
   ],
   "source": [
    "string1='restart how to'\n",
    "# get the first 't'\n",
    "f_o=string1.find('t')\n",
    "s_o=string1.find('t',f_o+1)\n",
    "t_o=string1.find('t',s_o+1)\n",
    "print(f_o,s_o,t_o)"
   ]
  },
  {
   "cell_type": "markdown",
   "id": "022a12de",
   "metadata": {},
   "source": [
    "### Strip-rstrip-lstrip"
   ]
  },
  {
   "cell_type": "code",
   "execution_count": 71,
   "id": "39696e21",
   "metadata": {},
   "outputs": [],
   "source": [
    "string1=' hai how are you ' # both strip\n",
    "string2='hai how are you ' # right strip/rstrip\n",
    "string3=' hai how are you' # left strip/lstrip"
   ]
  },
  {
   "cell_type": "markdown",
   "id": "bbe25f12",
   "metadata": {},
   "source": [
    "- if you want remove the spaces we use method strip\n",
    "- strip: It will remove spaces both sides\n",
    "- lstrip: It will remove left side space\n",
    "- rstrip: It will remove right side space"
   ]
  },
  {
   "cell_type": "code",
   "execution_count": 73,
   "id": "86f6cc3b",
   "metadata": {},
   "outputs": [
    {
     "data": {
      "text/plain": [
       "('hai how are you', 'hai how are you ', ' hai how are you')"
      ]
     },
     "execution_count": 73,
     "metadata": {},
     "output_type": "execute_result"
    }
   ],
   "source": [
    "string1.strip(),string1.lstrip(),string1.rstrip()"
   ]
  },
  {
   "cell_type": "code",
   "execution_count": null,
   "id": "9d03ca58",
   "metadata": {},
   "outputs": [],
   "source": [
    "string1='&&&&&hello&&&&&&&&&&&&&&&&&&&'\n",
    "print(string1.strip('&'))\n",
    "print(string1.lstrip('&')) # left strip\n",
    "print(string1.rstrip('&')) # right strip"
   ]
  },
  {
   "cell_type": "markdown",
   "id": "3570850b",
   "metadata": {},
   "source": [
    "### - Startswith/endswith"
   ]
  },
  {
   "cell_type": "code",
   "execution_count": 76,
   "id": "5aba6158",
   "metadata": {},
   "outputs": [
    {
     "data": {
      "text/plain": [
       "True"
      ]
     },
     "execution_count": 76,
     "metadata": {},
     "output_type": "execute_result"
    }
   ],
   "source": [
    "string1='pushpa,hai how are you'\n",
    "string1.startswith('p')"
   ]
  },
  {
   "cell_type": "code",
   "execution_count": 78,
   "id": "4ce2be27",
   "metadata": {},
   "outputs": [
    {
     "data": {
      "text/plain": [
       "True"
      ]
     },
     "execution_count": 78,
     "metadata": {},
     "output_type": "execute_result"
    }
   ],
   "source": [
    "string1.endswith(' you')"
   ]
  },
  {
   "cell_type": "code",
   "execution_count": 79,
   "id": "c2133de7",
   "metadata": {},
   "outputs": [
    {
     "data": {
      "text/plain": [
       "True"
      ]
     },
     "execution_count": 79,
     "metadata": {},
     "output_type": "execute_result"
    }
   ],
   "source": [
    "string1.endswith(string1)"
   ]
  },
  {
   "cell_type": "markdown",
   "id": "6eabf3b1",
   "metadata": {},
   "source": [
    "### - Count\n"
   ]
  },
  {
   "cell_type": "code",
   "execution_count": 85,
   "id": "35677dab",
   "metadata": {},
   "outputs": [
    {
     "data": {
      "text/plain": [
       "3"
      ]
     },
     "execution_count": 85,
     "metadata": {},
     "output_type": "execute_result"
    }
   ],
   "source": [
    "# counts the number of cells that contain numbers, and counts numbers within the list of arguments. \n",
    "sent='hai hai how are you'\n",
    "sent.count('h')"
   ]
  },
  {
   "cell_type": "code",
   "execution_count": 87,
   "id": "0c71e8e8",
   "metadata": {},
   "outputs": [
    {
     "name": "stdout",
     "output_type": "stream",
     "text": [
      "4\n",
      "8\n",
      "4\n",
      "0\n"
     ]
    }
   ],
   "source": [
    "string2='aha aha aha aha'\n",
    "print(string2.count('aha')) \n",
    "print(string2.count('a'))\n",
    "print(string2.count('ah'))\n",
    "print(string2.count('aa '))"
   ]
  },
  {
   "cell_type": "code",
   "execution_count": 88,
   "id": "3613c4f5",
   "metadata": {},
   "outputs": [
    {
     "name": "stdout",
     "output_type": "stream",
     "text": [
      "no of repated a are: 3\n"
     ]
    }
   ],
   "source": [
    "# count\n",
    "sent='hai hai how are you'\n",
    "# first iteratre letters\n",
    "count=0\n",
    "for i in range(len(sent)):\n",
    "    if sent[i]=='a':\n",
    "        count=count+1\n",
    "    \n",
    "print(\"no of repated a are:\",count)"
   ]
  },
  {
   "cell_type": "markdown",
   "id": "fdecd395",
   "metadata": {},
   "source": [
    "### - Replace"
   ]
  },
  {
   "cell_type": "code",
   "execution_count": 97,
   "id": "a3a15e05",
   "metadata": {},
   "outputs": [
    {
     "data": {
      "text/plain": [
       "'woNder'"
      ]
     },
     "execution_count": 97,
     "metadata": {},
     "output_type": "execute_result"
    }
   ],
   "source": [
    "# which replace the old arguments into new arguments\n",
    "# string1.replace(old, new, count=-1, /)\n",
    "string1='wonder'\n",
    "# I want replace 'n' with 'N'\n",
    "string1.replace('n','N')"
   ]
  },
  {
   "cell_type": "code",
   "execution_count": 95,
   "id": "62e66886",
   "metadata": {},
   "outputs": [
    {
     "data": {
      "text/plain": [
       "'woNder'"
      ]
     },
     "execution_count": 95,
     "metadata": {},
     "output_type": "execute_result"
    }
   ],
   "source": [
    "string1[:2]+'N'+string1[3:]"
   ]
  },
  {
   "cell_type": "code",
   "execution_count": 98,
   "id": "e9c0e4f7",
   "metadata": {},
   "outputs": [
    {
     "name": "stdout",
     "output_type": "stream",
     "text": [
      "$estart\n",
      "resta$t\n",
      "$esta$t\n"
     ]
    }
   ],
   "source": [
    "string1 ='restart'\n",
    "print('$'+string1[1:]) # we already know\n",
    "print(string1[:5]+'$'+string1[6:]) # we already know\n",
    "print(string1.replace('r','$'))"
   ]
  },
  {
   "cell_type": "code",
   "execution_count": null,
   "id": "373540eb",
   "metadata": {},
   "outputs": [],
   "source": []
  }
 ],
 "metadata": {
  "kernelspec": {
   "display_name": "Python 3 (ipykernel)",
   "language": "python",
   "name": "python3"
  },
  "language_info": {
   "codemirror_mode": {
    "name": "ipython",
    "version": 3
   },
   "file_extension": ".py",
   "mimetype": "text/x-python",
   "name": "python",
   "nbconvert_exporter": "python",
   "pygments_lexer": "ipython3",
   "version": "3.11.5"
  }
 },
 "nbformat": 4,
 "nbformat_minor": 5
}
