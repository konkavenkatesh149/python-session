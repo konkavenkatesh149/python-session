{
 "cells": [
  {
   "cell_type": "markdown",
   "id": "88ecf247",
   "metadata": {},
   "source": [
    "## conditional statements"
   ]
  },
  {
   "cell_type": "code",
   "execution_count": null,
   "id": "d0302275",
   "metadata": {},
   "outputs": [],
   "source": [
    "what is meant by conditions in english\n",
    "suppose if something is happend in one direction so that is the solution\n",
    "        if not is happend in different direction so that another one is solution\n",
    "        else is happend in different direction so that another one is solution\n",
    "    \n",
    "if\n",
    "if not------> else "
   ]
  },
  {
   "cell_type": "markdown",
   "id": "3e8ecee9",
   "metadata": {},
   "source": [
    "## syntax "
   ]
  },
  {
   "cell_type": "code",
   "execution_count": null,
   "id": "a6d43821",
   "metadata": {},
   "outputs": [],
   "source": [
    "# whenever the colon is there identation will come\n",
    "\n",
    "if <condition>:\n",
    "    stmt1\n",
    "    stmt2\n",
    "    stmt3\n",
    "    "
   ]
  },
  {
   "cell_type": "code",
   "execution_count": 4,
   "id": "a8632db1",
   "metadata": {},
   "outputs": [
    {
     "name": "stdout",
     "output_type": "stream",
     "text": [
      "enter a name:python\n",
      "hello\n"
     ]
    }
   ],
   "source": [
    "name=input(\"enter a name:\")        # step-1: asking keybpard to enter some name, name='python'\n",
    "if name=='python':                 # step-2: 'python'=='python'  (true)\n",
    "    print('hello')                 # step-3 : hello"
   ]
  },
  {
   "cell_type": "code",
   "execution_count": 5,
   "id": "cda488fa",
   "metadata": {},
   "outputs": [
    {
     "name": "stdout",
     "output_type": "stream",
     "text": [
      "enter a name:anil\n"
     ]
    }
   ],
   "source": [
    "name=input(\"enter a name:\")        # step-1: asking keybpard to enter some name, name='anil'\n",
    "if name=='python':                 # step-2: 'anil'=='python'  (false)\n",
    "    print('hello')                 # step-3: it wont print anything"
   ]
  },
  {
   "cell_type": "code",
   "execution_count": null,
   "id": "c71b58a8",
   "metadata": {},
   "outputs": [],
   "source": [
    "name='python'            # storing the value\n",
    "name=='python'           # comparing the value"
   ]
  },
  {
   "cell_type": "code",
   "execution_count": 6,
   "id": "1c6b6e88",
   "metadata": {},
   "outputs": [
    {
     "data": {
      "text/plain": [
       "False"
      ]
     },
     "execution_count": 6,
     "metadata": {},
     "output_type": "execute_result"
    }
   ],
   "source": [
    "'anil'=='python'"
   ]
  },
  {
   "cell_type": "code",
   "execution_count": 7,
   "id": "40d989ba",
   "metadata": {},
   "outputs": [
    {
     "data": {
      "text/plain": [
       "True"
      ]
     },
     "execution_count": 7,
     "metadata": {},
     "output_type": "execute_result"
    }
   ],
   "source": [
    "'python'=='python'"
   ]
  },
  {
   "cell_type": "code",
   "execution_count": 13,
   "id": "b63fb642",
   "metadata": {},
   "outputs": [
    {
     "name": "stdout",
     "output_type": "stream",
     "text": [
      "enter a name:python\n",
      "hello\n",
      "python\n"
     ]
    }
   ],
   "source": [
    "name=input(\"enter a name:\")        # step-1: asking keybpard to enter some name, name='python'\n",
    "if name=='python':                 # step-2: 'python'=='python'  (true)\n",
    "    print('hello')                 # inside if block  \n",
    "    print(name)                    # same inside the if block"
   ]
  },
  {
   "cell_type": "code",
   "execution_count": 18,
   "id": "d8a6af50",
   "metadata": {},
   "outputs": [
    {
     "name": "stdout",
     "output_type": "stream",
     "text": [
      "enter a name:p\n"
     ]
    }
   ],
   "source": [
    "name=input(\"enter a name:\")        # step-1: asking keybpard to enter some name, name='python'\n",
    "if name=='python':                 # step-2: 'p'=='python'  (false)\n",
    "    print('hello')                 \n",
    "    print(name)"
   ]
  },
  {
   "cell_type": "code",
   "execution_count": 16,
   "id": "12578305",
   "metadata": {},
   "outputs": [
    {
     "name": "stdout",
     "output_type": "stream",
     "text": [
      "enter a name:python\n",
      "hello\n",
      "python\n"
     ]
    }
   ],
   "source": [
    "###################################\n",
    "name=input(\"enter a name:\")  \n",
    "\n",
    "#####################################\n",
    "if name=='python':                \n",
    "    print('hello') \n",
    "#####################################\n",
    "print(name)"
   ]
  },
  {
   "cell_type": "code",
   "execution_count": 2,
   "id": "b2981306",
   "metadata": {},
   "outputs": [
    {
     "name": "stdout",
     "output_type": "stream",
     "text": [
      "p\n"
     ]
    }
   ],
   "source": [
    "name='p'                    # name='p'\n",
    "if name=='python':          # 'p'=='python'  (false)           \n",
    "    print('hello')          # no permission to enter into if block       \n",
    "print(name)                 # name='p'"
   ]
  },
  {
   "cell_type": "code",
   "execution_count": 19,
   "id": "79be9c97",
   "metadata": {},
   "outputs": [
    {
     "name": "stdout",
     "output_type": "stream",
     "text": [
      "8\n"
     ]
    }
   ],
   "source": [
    "name='python'                       # step-1: name ='python'\n",
    "if name=='python':                  # step-2:'python'=='python'\n",
    "    print(3+5)                      # step-3: ans =8\n",
    "else:                            \n",
    "    print(\"enter correct one\")      # whenever if is crct then no need to enter into else stmt"
   ]
  },
  {
   "cell_type": "code",
   "execution_count": 20,
   "id": "809c06a6",
   "metadata": {},
   "outputs": [
    {
     "name": "stdout",
     "output_type": "stream",
     "text": [
      "enter correct one\n"
     ]
    }
   ],
   "source": [
    "name='p'                            # step-1: name ='p'\n",
    "if name=='python':                  # step-2:'p'=='python'\n",
    "    print(3+5)                      # step-3: out of block\n",
    "else:                            \n",
    "    print(\"enter correct one\")      # else will print"
   ]
  },
  {
   "cell_type": "code",
   "execution_count": null,
   "id": "7b121610",
   "metadata": {},
   "outputs": [],
   "source": []
  },
  {
   "cell_type": "code",
   "execution_count": 22,
   "id": "5dfee930",
   "metadata": {},
   "outputs": [
    {
     "name": "stdout",
     "output_type": "stream",
     "text": [
      "enter a name:python\n",
      "hello python\n",
      "how are you\n",
      "hey\n",
      "bro\n"
     ]
    }
   ],
   "source": [
    "name=input(\"enter a name:\")\n",
    "if name=='python':\n",
    "    print('hello',name)\n",
    "    print(\"how are you\")\n",
    "else:\n",
    "    print(\"provide valid one\")\n",
    "    print(\"you are out\")\n",
    "    \n",
    "print(\"hey\")\n",
    "print(\"bro\")"
   ]
  },
  {
   "cell_type": "code",
   "execution_count": 23,
   "id": "45639a92",
   "metadata": {},
   "outputs": [
    {
     "name": "stdout",
     "output_type": "stream",
     "text": [
      "enter a name:p\n",
      "provide valid one\n",
      "you are out\n",
      "hey\n",
      "bro\n"
     ]
    }
   ],
   "source": [
    "name=input(\"enter a name:\")\n",
    "if name=='python':\n",
    "    print('hello',name)\n",
    "    print(\"how are you\")\n",
    "else:\n",
    "    print(\"provide valid one\")\n",
    "    print(\"you are out\")\n",
    "    \n",
    "print(\"hey\")\n",
    "print(\"bro\")"
   ]
  },
  {
   "cell_type": "code",
   "execution_count": null,
   "id": "e4458e6f",
   "metadata": {},
   "outputs": [],
   "source": [
    "# wap ask the user enter a number\n",
    "# print whether it is an odd number or even number"
   ]
  },
  {
   "cell_type": "code",
   "execution_count": 31,
   "id": "c7bffca1",
   "metadata": {},
   "outputs": [
    {
     "name": "stdout",
     "output_type": "stream",
     "text": [
      "enter a number:8\n",
      "even number\n"
     ]
    }
   ],
   "source": [
    "number=eval(input(\"enter a number:\"))\n",
    "if(number%2==0):\n",
    "    print(\"even number\")\n",
    "else:\n",
    "    print(\"odd number\")"
   ]
  },
  {
   "cell_type": "code",
   "execution_count": null,
   "id": "d9d118fc",
   "metadata": {},
   "outputs": [],
   "source": []
  },
  {
   "cell_type": "code",
   "execution_count": null,
   "id": "bdc8471e",
   "metadata": {},
   "outputs": [],
   "source": [
    "try and exception block"
   ]
  },
  {
   "cell_type": "code",
   "execution_count": 1,
   "id": "df68f3d4",
   "metadata": {},
   "outputs": [
    {
     "name": "stdout",
     "output_type": "stream",
     "text": [
      "enter a number:8\n",
      "even number\n"
     ]
    }
   ],
   "source": [
    "\n",
    "try:\n",
    "    number=eval(input(\"enter a number:\"))\n",
    "    if(number%2==0):\n",
    "        print(\"even number\")\n",
    "    else:\n",
    "        print(\"odd number\")\n",
    "except Exception as e:\n",
    "    print(e)"
   ]
  },
  {
   "cell_type": "code",
   "execution_count": null,
   "id": "bda9ecde",
   "metadata": {},
   "outputs": [],
   "source": []
  },
  {
   "cell_type": "code",
   "execution_count": null,
   "id": "7c942ba6",
   "metadata": {},
   "outputs": [],
   "source": [
    "# wap ask the use to generate a random integer number \n",
    "# print it is a even number or odd number"
   ]
  },
  {
   "cell_type": "code",
   "execution_count": 45,
   "id": "5346564d",
   "metadata": {},
   "outputs": [
    {
     "name": "stdout",
     "output_type": "stream",
     "text": [
      "32 is a even number\n"
     ]
    }
   ],
   "source": [
    "import random\n",
    "try:\n",
    "    random_number=random.randint(0,50)\n",
    "    if(random_number%2==0):\n",
    "        print(\"{} is a even number\".format(random_number))\n",
    "    else:\n",
    "        print(\"{} is a odd number\".format(random_number))\n",
    "except Exception as e:\n",
    "    print(e)"
   ]
  },
  {
   "cell_type": "code",
   "execution_count": null,
   "id": "2044022e",
   "metadata": {},
   "outputs": [],
   "source": [
    "# wap ask the user enter a num if it is greater than or eual to zero. print positive\n",
    "# other wise print it is a negative number"
   ]
  },
  {
   "cell_type": "code",
   "execution_count": 47,
   "id": "fc4f36ae",
   "metadata": {},
   "outputs": [
    {
     "name": "stdout",
     "output_type": "stream",
     "text": [
      "enter a number:-20\n",
      "negative number\n"
     ]
    }
   ],
   "source": [
    "number=eval(input(\"enter a number:\"))\n",
    "if(number>=0):\n",
    "    print(\"positive number\")\n",
    "else:\n",
    "    print(\"negative number\")"
   ]
  },
  {
   "cell_type": "code",
   "execution_count": 49,
   "id": "52795898",
   "metadata": {},
   "outputs": [
    {
     "name": "stdout",
     "output_type": "stream",
     "text": [
      "enter a number:-34\n",
      "negative number\n"
     ]
    }
   ],
   "source": [
    "try:\n",
    "    number=eval(input(\"enter a number:\"))\n",
    "    if(number>=0):\n",
    "        print(\"positive number\")\n",
    "    else:\n",
    "        print(\"negative number\")\n",
    "        \n",
    "except Exception as e:\n",
    "    print(e)"
   ]
  },
  {
   "cell_type": "code",
   "execution_count": 53,
   "id": "8115fc35",
   "metadata": {},
   "outputs": [
    {
     "name": "stdout",
     "output_type": "stream",
     "text": [
      "28 is a positive number\n"
     ]
    }
   ],
   "source": [
    "import random\n",
    "try:\n",
    "    number=random.randint(-100,100)\n",
    "    if(number>=0):\n",
    "        print(\"{} is a positive number\".format(number))\n",
    "    else:\n",
    "        print(\"{} is a negative number\".format(number))\n",
    "        \n",
    "except Exception as e:\n",
    "    print(e)"
   ]
  },
  {
   "cell_type": "code",
   "execution_count": null,
   "id": "6143ec9a",
   "metadata": {},
   "outputs": [],
   "source": [
    "if elif else      # for three condiitons"
   ]
  },
  {
   "cell_type": "code",
   "execution_count": 63,
   "id": "9ceaa5e1",
   "metadata": {},
   "outputs": [
    {
     "name": "stdout",
     "output_type": "stream",
     "text": [
      "enter a number:52\n",
      "positive number\n"
     ]
    }
   ],
   "source": [
    "number=eval(input(\"enter a number:\"))\n",
    "if(number>0):\n",
    "    print(\"positive number\")\n",
    "elif(number<0):\n",
    "    print(\"negative number\")\n",
    "else:\n",
    "    print(\"it is zero\")"
   ]
  },
  {
   "cell_type": "code",
   "execution_count": 2,
   "id": "199053a8",
   "metadata": {},
   "outputs": [
    {
     "name": "stdout",
     "output_type": "stream",
     "text": [
      "enter a number:9\n",
      "positive number\n"
     ]
    }
   ],
   "source": [
    "try:\n",
    "    number=eval(input(\"enter a number:\"))\n",
    "    if(number>0):\n",
    "        print(\"positive number\")\n",
    "    elif(number<0):\n",
    "        print(\"negative number\")\n",
    "    else:\n",
    "        print(\"it is zero\")\n",
    "        \n",
    "except Exception as e:\n",
    "    print(e)"
   ]
  },
  {
   "cell_type": "code",
   "execution_count": null,
   "id": "a1ef299b",
   "metadata": {},
   "outputs": [],
   "source": [
    "# wap ask the user enter a number \n",
    "# if num=1   print(\"one\")\n",
    "# if num=2   print(\"two\")\n",
    "# if num=3   print(\"three\")\n",
    "# if num=4   print(\"four\")\n",
    "# otherwise   print enter only 1 2 3 4 "
   ]
  },
  {
   "cell_type": "code",
   "execution_count": 71,
   "id": "d61f20f3",
   "metadata": {},
   "outputs": [
    {
     "name": "stdout",
     "output_type": "stream",
     "text": [
      "enter a number:6\n",
      "enter only 1 2 3 4\n"
     ]
    }
   ],
   "source": [
    "num=eval(input(\"enter a number:\"))\n",
    "if(num==1):\n",
    "    print(\"one\")\n",
    "elif(num==2):\n",
    "    print(\"two\")\n",
    "elif(num==3):\n",
    "    print(\"three\")\n",
    "elif(num==4):\n",
    "    print(\"four\")\n",
    "else:\n",
    "    print(\"enter only 1 2 3 4\")"
   ]
  },
  {
   "cell_type": "code",
   "execution_count": 73,
   "id": "ea067192",
   "metadata": {},
   "outputs": [
    {
     "name": "stdout",
     "output_type": "stream",
     "text": [
      "enter a number:2\n",
      "two\n"
     ]
    }
   ],
   "source": [
    "try:\n",
    "    num=eval(input(\"enter a number:\"))\n",
    "    if(num==1):\n",
    "        print(\"one\")\n",
    "    elif(num==2):\n",
    "        print(\"two\")\n",
    "    elif(num==3):\n",
    "        print(\"three\")\n",
    "    elif(num==4):\n",
    "        print(\"four\")\n",
    "    else:\n",
    "        print(\"enter only 1 2 3 4\")\n",
    "        \n",
    "except Exception as e:\n",
    "    print(e)"
   ]
  },
  {
   "cell_type": "markdown",
   "id": "80bb3b9a",
   "metadata": {},
   "source": [
    "### 17-10-23"
   ]
  },
  {
   "cell_type": "code",
   "execution_count": null,
   "id": "093bc684",
   "metadata": {},
   "outputs": [],
   "source": [
    "# wap ask the user enter distance \n",
    "# if the distnace between 0 and 2kms print the fare is 20rs\n",
    "# if the distnace between 2km and 4kms print the fare is 40rs\n",
    "# if the distnace between 4km and 6kms print the fare is 60rs\n",
    "# if the distnace more than 6kms print the fare is 100rs"
   ]
  },
  {
   "cell_type": "code",
   "execution_count": 5,
   "id": "b177026d",
   "metadata": {},
   "outputs": [
    {
     "name": "stdout",
     "output_type": "stream",
     "text": [
      "enter the distance:4\n",
      "the fare is 40rs\n"
     ]
    }
   ],
   "source": [
    "try:\n",
    "    distance=eval(input(\"enter the distance:\"))\n",
    "    if(distance>0 and distance<=2):\n",
    "        print(\"the fare is 20rs\")\n",
    "    elif(distance>2 and distance<=4):\n",
    "        print(\"the fare is 40rs\")\n",
    "    elif(distance>4 and distance<=6):\n",
    "        print(\"the fare is 60rs\")\n",
    "    else:\n",
    "        print(\"the fare is 100rs\")\n",
    "        \n",
    "except Exception as e:\n",
    "    print(e)"
   ]
  },
  {
   "cell_type": "code",
   "execution_count": 9,
   "id": "c9a985af",
   "metadata": {},
   "outputs": [
    {
     "name": "stdout",
     "output_type": "stream",
     "text": [
      "enter the distance:2\n",
      "the fare is 20rs\n"
     ]
    }
   ],
   "source": [
    "try:\n",
    "    distance=eval(input(\"enter the distance:\"))\n",
    "    if(distance>6):\n",
    "        print(\"100rs\")\n",
    "    elif(distance>4):\n",
    "        print(\"the fare is 60rs\")\n",
    "    elif(distance>2):\n",
    "        print(\"the fare is 40rs\")\n",
    "    else:\n",
    "        print(\"the fare is 20rs\")\n",
    "        \n",
    "except Exception as e:\n",
    "    print(e)"
   ]
  },
  {
   "cell_type": "code",
   "execution_count": null,
   "id": "f98089ec",
   "metadata": {},
   "outputs": [],
   "source": [
    "# wap ask the user enter percentage\n",
    "# if percentage >90 print grade A\n",
    "# if percentage between 70 and 90 print grade B\n",
    "# if percentage between 50 and 70 print grade c\n",
    "# if percentageless than 50 print grade D"
   ]
  },
  {
   "cell_type": "code",
   "execution_count": 25,
   "id": "9c602277",
   "metadata": {},
   "outputs": [
    {
     "name": "stdout",
     "output_type": "stream",
     "text": [
      "enter the percentage:90\n",
      "Grade B\n"
     ]
    }
   ],
   "source": [
    "try:\n",
    "    percentage=eval(input(\"enter the percentage:\"))\n",
    "    if(percentage>90):\n",
    "        print(\"Grade A\")\n",
    "    elif(percentage>70):\n",
    "        print(\"Grade B\")\n",
    "    elif(percentage>50):\n",
    "        print(\"Grade C\")\n",
    "    else:\n",
    "        print(\"Grade D\")\n",
    "except Exception as e:\n",
    "    print(e)"
   ]
  },
  {
   "cell_type": "code",
   "execution_count": null,
   "id": "f7377cf6",
   "metadata": {},
   "outputs": [],
   "source": [
    "# if---elif---else\n",
    "# waop ask the user enter a number\n",
    "# chechk the condtion if number>=0\n",
    "\n",
    "# if that is true check one more condition if number==0 then print it is zero number\n",
    "# other wise it is positive number\n",
    "\n",
    "# othgerwise it is a negative number"
   ]
  },
  {
   "cell_type": "code",
   "execution_count": 36,
   "id": "19544fb0",
   "metadata": {},
   "outputs": [
    {
     "name": "stdout",
     "output_type": "stream",
     "text": [
      "enter a number:0\n",
      "it is zero number\n"
     ]
    }
   ],
   "source": [
    "try:\n",
    "    number=eval(input(\"enter a number:\"))\n",
    "    if(number>=0):\n",
    "        if(number==0):\n",
    "            print(\"it is zero number\")\n",
    "        else:\n",
    "            print(\"it is positive number\")\n",
    "    else:\n",
    "        print(\"it is negative number\")\n",
    "        \n",
    "except Exception as e:\n",
    "    print(e)"
   ]
  },
  {
   "cell_type": "code",
   "execution_count": 57,
   "id": "dd3f15f6",
   "metadata": {},
   "outputs": [
    {
     "name": "stdout",
     "output_type": "stream",
     "text": [
      "enter a number:65\n",
      "it is positive number\n"
     ]
    }
   ],
   "source": [
    "num=eval(input(\"enter a number:\"))\n",
    "if(num>0):\n",
    "    print(\"it is positive number\")\n",
    "elif(num<0):\n",
    "    print(\"it is negative number\")\n",
    "else:\n",
    "    print(\"zero\")"
   ]
  },
  {
   "cell_type": "code",
   "execution_count": null,
   "id": "6c29faca",
   "metadata": {},
   "outputs": [],
   "source": [
    "# wap ask user enter a number greater than or equal to zero\n",
    "# check if it is between 1 and 99 then print the number between 1 and 99\n",
    "# check if it is zero then print zero\n",
    "# check if it is more than 99 then print the number is out of range"
   ]
  },
  {
   "cell_type": "code",
   "execution_count": 13,
   "id": "7de6520d",
   "metadata": {},
   "outputs": [
    {
     "name": "stdout",
     "output_type": "stream",
     "text": [
      "enter a number greater than or equal to zero:0\n",
      "zero\n"
     ]
    }
   ],
   "source": [
    "num=eval(input(\"enter a number greater than or equal to zero:\"))\n",
    "if(num>99):\n",
    "    print(\"the number is out of range\")\n",
    "elif(num>1):\n",
    "    print(\"the number between 1 and 99\")\n",
    "else:\n",
    "    print(\"zero\")"
   ]
  },
  {
   "cell_type": "code",
   "execution_count": 58,
   "id": "6213edc5",
   "metadata": {},
   "outputs": [
    {
     "name": "stdout",
     "output_type": "stream",
     "text": [
      "enter a number greater than or equal to zero:99\n",
      "the nuumber is out of range\n"
     ]
    }
   ],
   "source": [
    "num=eval(input(\"enter a number greater than or equal to zero:\"))\n",
    "if(num<99):\n",
    "    if(num==0):\n",
    "        print(\"zero\")\n",
    "    elif(num<0):\n",
    "        print(\"it is negative number\")\n",
    "    else:\n",
    "        print(\"the number between 1 and 99\")\n",
    "else:\n",
    "    print(\"the nuumber is out of range\")"
   ]
  },
  {
   "cell_type": "code",
   "execution_count": null,
   "id": "4e85b6ad",
   "metadata": {},
   "outputs": [],
   "source": [
    "# wap ask the user enter a gender\n",
    "# if gender== 'male', ask the user enter age\n",
    "# if age>25 , then print he is a man\n",
    "# otherwise print he is a boy\n",
    "\n",
    "# otherwise ask the user enter age\n",
    "# if age>25, then print she is a woman\n",
    "# otherwise print she is a girl"
   ]
  },
  {
   "cell_type": "code",
   "execution_count": 77,
   "id": "3227b5be",
   "metadata": {},
   "outputs": [
    {
     "name": "stdout",
     "output_type": "stream",
     "text": [
      "enter a gender:'male'\n",
      "enter the age:60\n",
      "he is a man\n"
     ]
    }
   ],
   "source": [
    "gender=eval(input(\"enter a gender:\"))\n",
    "if(gender=='male'):\n",
    "    age1=eval(input(\"enter the age:\"))\n",
    "    if(age1>25):\n",
    "        print(\"he is a man\")\n",
    "    else:\n",
    "        print(\"he is a boy\")\n",
    "else:\n",
    "    age2=eval(input(\"enter the age:\"))\n",
    "    if(age2>25):\n",
    "        print(\"she is a woman\")\n",
    "    else:\n",
    "        print(\"she is a girl\")"
   ]
  },
  {
   "cell_type": "code",
   "execution_count": null,
   "id": "9752019f",
   "metadata": {},
   "outputs": [],
   "source": [
    "# wap ask the user enter three numbers \n",
    "# find which is the greatest number\n",
    "\n",
    "# FREQUENT interview questions"
   ]
  },
  {
   "cell_type": "code",
   "execution_count": 7,
   "id": "4fa95b02",
   "metadata": {},
   "outputs": [
    {
     "name": "stdout",
     "output_type": "stream",
     "text": [
      "enter a number1:52\n",
      "enter a number2:6\n",
      "enter a number3:61\n",
      "n3 is greatest number\n"
     ]
    }
   ],
   "source": [
    "try:\n",
    "    n1=eval(input(\"enter a number1:\"))\n",
    "    n2=eval(input(\"enter a number2:\"))\n",
    "    n3=eval(input(\"enter a number3:\"))\n",
    "    if(n2<n1>n3):\n",
    "        print(\"n1 is greatest number\")\n",
    "    elif(n3<n2>n1):\n",
    "        print(\"n2 is greatest number\")\n",
    "    else:\n",
    "        print(\"n3 is greatest number\")\n",
    "        \n",
    "except Exception as e:\n",
    "    print(e)"
   ]
  },
  {
   "cell_type": "code",
   "execution_count": null,
   "id": "6ad41b67",
   "metadata": {},
   "outputs": [],
   "source": []
  },
  {
   "cell_type": "code",
   "execution_count": null,
   "id": "cb98bba9",
   "metadata": {},
   "outputs": [],
   "source": []
  },
  {
   "cell_type": "code",
   "execution_count": null,
   "id": "9873d465",
   "metadata": {},
   "outputs": [],
   "source": []
  },
  {
   "cell_type": "code",
   "execution_count": null,
   "id": "509deeb2",
   "metadata": {},
   "outputs": [],
   "source": []
  },
  {
   "cell_type": "code",
   "execution_count": null,
   "id": "e2002c58",
   "metadata": {},
   "outputs": [],
   "source": []
  },
  {
   "cell_type": "code",
   "execution_count": null,
   "id": "fe9f4b66",
   "metadata": {},
   "outputs": [],
   "source": []
  }
 ],
 "metadata": {
  "kernelspec": {
   "display_name": "Python 3 (ipykernel)",
   "language": "python",
   "name": "python3"
  },
  "language_info": {
   "codemirror_mode": {
    "name": "ipython",
    "version": 3
   },
   "file_extension": ".py",
   "mimetype": "text/x-python",
   "name": "python",
   "nbconvert_exporter": "python",
   "pygments_lexer": "ipython3",
   "version": "3.11.5"
  }
 },
 "nbformat": 4,
 "nbformat_minor": 5
}
