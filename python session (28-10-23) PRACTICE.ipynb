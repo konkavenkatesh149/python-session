{
 "cells": [
  {
   "cell_type": "code",
   "execution_count": 5,
   "id": "e1116633",
   "metadata": {},
   "outputs": [
    {
     "name": "stdout",
     "output_type": "stream",
     "text": [
      "sum of first 10 natural numbers is: 55\n"
     ]
    }
   ],
   "source": [
    "# sum of first 10 natural numbers\n",
    "\n",
    "sum=0\n",
    "for i in range(1,11):\n",
    "    sum=i+sum\n",
    "print(\"sum of first 10 natural numbers is:\",sum)"
   ]
  },
  {
   "cell_type": "code",
   "execution_count": 20,
   "id": "ccca16fe",
   "metadata": {},
   "outputs": [
    {
     "name": "stdout",
     "output_type": "stream",
     "text": [
      "total even numbers between 1 to 100 is: 50\n",
      "total odd numbers between 1 to 100 is: 50\n"
     ]
    }
   ],
   "source": [
    "# wap ask the user to find a number is an even or odd number between 1 to 100\n",
    "# count the number of even numbers and odd numbers\n",
    "\n",
    "\n",
    "count1=0\n",
    "count2=0\n",
    "for i in range(1,101):\n",
    "    if(i%2==0):\n",
    "        count1=count1+1\n",
    "    else:\n",
    "        count2=count2+1\n",
    "        \n",
    "print(\"total even numbers between 1 to 100 is:\",count1) \n",
    "print(\"total odd numbers between 1 to 100 is:\",count2)\n"
   ]
  },
  {
   "cell_type": "code",
   "execution_count": 35,
   "id": "f9f9ed7a",
   "metadata": {},
   "outputs": [
    {
     "name": "stdout",
     "output_type": "stream",
     "text": [
      "17 45 16 66 94 14 92 80 20 63 27 98 47 50 96 2 14 6 96 66 \n",
      "in between 50 and 90: 4\n",
      "out of range: 16\n"
     ]
    }
   ],
   "source": [
    "# wap get a 20 random numbers between 1 to 100\n",
    "# count the number of values which are greater than 50 and less than 90\n",
    "# which are between 50 and 90\n",
    "\n",
    "import random\n",
    "count1=0\n",
    "count2=0\n",
    "for i in range(20):\n",
    "    i=random.randint(1,100)\n",
    "    if(i>50 and i<90):\n",
    "        print(i,end=\" \")\n",
    "        count1=count1+1\n",
    "    else:\n",
    "        print(i,end=\" \")\n",
    "        count2=count2+1     \n",
    "        \n",
    "print(\"\\nin between 50 and 90:\",count1)\n",
    "print(\"out of range:\",count2)"
   ]
  },
  {
   "cell_type": "code",
   "execution_count": null,
   "id": "201a6c1a",
   "metadata": {},
   "outputs": [],
   "source": []
  },
  {
   "cell_type": "markdown",
   "id": "93043ef2",
   "metadata": {},
   "source": [
    "## in-operator"
   ]
  },
  {
   "cell_type": "code",
   "execution_count": 37,
   "id": "e200b637",
   "metadata": {},
   "outputs": [
    {
     "data": {
      "text/plain": [
       "True"
      ]
     },
     "execution_count": 37,
     "metadata": {},
     "output_type": "execute_result"
    }
   ],
   "source": [
    "'b' in 'banana'"
   ]
  },
  {
   "cell_type": "code",
   "execution_count": 38,
   "id": "a819b155",
   "metadata": {},
   "outputs": [
    {
     "data": {
      "text/plain": [
       "False"
      ]
     },
     "execution_count": 38,
     "metadata": {},
     "output_type": "execute_result"
    }
   ],
   "source": [
    "name='python'\n",
    "\n",
    "'p' in name\n",
    "'y' in name\n",
    "'t' in name\n",
    "'o' in name\n",
    "'n' in name\n",
    "'P' in name\n",
    "\n",
    "\n",
    "# generalised expression# \n",
    "# what is vary and what is common\n",
    "\n",
    "# i in name"
   ]
  },
  {
   "cell_type": "code",
   "execution_count": 45,
   "id": "84fcfeca",
   "metadata": {},
   "outputs": [
    {
     "name": "stdout",
     "output_type": "stream",
     "text": [
      "p\n",
      "y\n",
      "t\n",
      "h\n",
      "o\n",
      "n\n"
     ]
    }
   ],
   "source": [
    "name='python'\n",
    "for i in name:\n",
    "    print(i)"
   ]
  },
  {
   "cell_type": "markdown",
   "id": "59a5ef03",
   "metadata": {},
   "source": [
    "#### range ======== numbers\n",
    "#### in =========== string\n",
    "#### eval ========= numbers\n",
    "#### input ======== string"
   ]
  },
  {
   "cell_type": "code",
   "execution_count": 39,
   "id": "45ef321f",
   "metadata": {},
   "outputs": [
    {
     "data": {
      "text/plain": [
       "True"
      ]
     },
     "execution_count": 39,
     "metadata": {},
     "output_type": "execute_result"
    }
   ],
   "source": [
    "'py' in name"
   ]
  },
  {
   "cell_type": "code",
   "execution_count": 40,
   "id": "5c3df25a",
   "metadata": {},
   "outputs": [
    {
     "data": {
      "text/plain": [
       "False"
      ]
     },
     "execution_count": 40,
     "metadata": {},
     "output_type": "execute_result"
    }
   ],
   "source": [
    "'pt' in name"
   ]
  },
  {
   "cell_type": "code",
   "execution_count": null,
   "id": "ca43cbc9",
   "metadata": {},
   "outputs": [],
   "source": []
  },
  {
   "cell_type": "code",
   "execution_count": 57,
   "id": "0fe7ef68",
   "metadata": {},
   "outputs": [
    {
     "name": "stdout",
     "output_type": "stream",
     "text": [
      "9\n",
      "you have lengthy name\n"
     ]
    }
   ],
   "source": [
    "# wap ask the user enter a name\n",
    "# count the number of letters : using for loop and in operator\n",
    "#m if the count is greater than 5, print you have lengthy name\n",
    "# else , print you have small name\n",
    "\n",
    "name='venkatesh'\n",
    "count=0\n",
    "for i in name:\n",
    "    count=count+1\n",
    "print(count)\n",
    "if(count>5):\n",
    "    print(\"you have lengthy name\")\n",
    "else:\n",
    "    print(\"you have small name\")\n",
    "        "
   ]
  },
  {
   "cell_type": "code",
   "execution_count": 58,
   "id": "c22fa282",
   "metadata": {},
   "outputs": [
    {
     "name": "stdout",
     "output_type": "stream",
     "text": [
      "9\n",
      "you have lengthy name\n"
     ]
    }
   ],
   "source": [
    "name='venkatesh'\n",
    "count=0\n",
    "for i in name:\n",
    "    count=count+1\n",
    "print(count)\n",
    "if(count>5):print(\"you have lengthy name\")           # side by side also it will work\n",
    "else:print(\"you have small name\")"
   ]
  },
  {
   "cell_type": "code",
   "execution_count": 2,
   "id": "e6e12513",
   "metadata": {},
   "outputs": [
    {
     "name": "stdout",
     "output_type": "stream",
     "text": [
      "1\n"
     ]
    }
   ],
   "source": [
    "# wap ask the user enter your name\n",
    "# iterate your name with loop\n",
    "# check the condition if i==A : count it\n",
    "# print(how many letter 'A' are there in your name)\n",
    "\n",
    "name='venkatesh'\n",
    "count=0\n",
    "for i in name:\n",
    "    if(i=='a'):\n",
    "        count=count+1\n",
    "print(count)"
   ]
  },
  {
   "cell_type": "code",
   "execution_count": null,
   "id": "e91d492d",
   "metadata": {},
   "outputs": [],
   "source": []
  },
  {
   "cell_type": "code",
   "execution_count": null,
   "id": "846bd432",
   "metadata": {},
   "outputs": [],
   "source": []
  },
  {
   "cell_type": "code",
   "execution_count": null,
   "id": "4b5cc5cc",
   "metadata": {},
   "outputs": [],
   "source": []
  },
  {
   "cell_type": "code",
   "execution_count": null,
   "id": "133dcf03",
   "metadata": {},
   "outputs": [],
   "source": []
  }
 ],
 "metadata": {
  "kernelspec": {
   "display_name": "Python 3 (ipykernel)",
   "language": "python",
   "name": "python3"
  },
  "language_info": {
   "codemirror_mode": {
    "name": "ipython",
    "version": 3
   },
   "file_extension": ".py",
   "mimetype": "text/x-python",
   "name": "python",
   "nbconvert_exporter": "python",
   "pygments_lexer": "ipython3",
   "version": "3.11.5"
  }
 },
 "nbformat": 4,
 "nbformat_minor": 5
}
