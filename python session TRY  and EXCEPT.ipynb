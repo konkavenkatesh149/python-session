{
 "cells": [
  {
   "cell_type": "markdown",
   "id": "3a699d88",
   "metadata": {},
   "source": [
    "# try-except"
   ]
  },
  {
   "cell_type": "code",
   "execution_count": null,
   "id": "17e90304",
   "metadata": {},
   "outputs": [],
   "source": [
    "try\n",
    "except\n",
    "are the keywords"
   ]
  },
  {
   "cell_type": "code",
   "execution_count": null,
   "id": "6a3ddb0f",
   "metadata": {},
   "outputs": [],
   "source": [
    "there is a senarion you have written 500 lines of code\n",
    "python compiles step by step\n",
    "suppose you got the error at 250 line\n",
    "the remAINING LINES WILL NOT EXECUTE\n",
    "even though the error comes at 250 line, it should not effect the other lines"
   ]
  },
  {
   "cell_type": "code",
   "execution_count": 1,
   "id": "75824675",
   "metadata": {},
   "outputs": [
    {
     "name": "stdout",
     "output_type": "stream",
     "text": [
      "enter a number:python\n"
     ]
    },
    {
     "ename": "NameError",
     "evalue": "name 'python' is not defined",
     "output_type": "error",
     "traceback": [
      "\u001b[1;31m---------------------------------------------------------------------------\u001b[0m",
      "\u001b[1;31mNameError\u001b[0m                                 Traceback (most recent call last)",
      "Cell \u001b[1;32mIn[1], line 1\u001b[0m\n\u001b[1;32m----> 1\u001b[0m n1\u001b[38;5;241m=\u001b[39m\u001b[38;5;28meval\u001b[39m(\u001b[38;5;28minput\u001b[39m(\u001b[38;5;124m\"\u001b[39m\u001b[38;5;124menter a number:\u001b[39m\u001b[38;5;124m\"\u001b[39m))\n\u001b[0;32m      2\u001b[0m n2\u001b[38;5;241m=\u001b[39m\u001b[38;5;241m100\u001b[39m\n\u001b[0;32m      3\u001b[0m add\u001b[38;5;241m=\u001b[39mn1\u001b[38;5;241m+\u001b[39mn2\n",
      "File \u001b[1;32m<string>:1\u001b[0m\n",
      "\u001b[1;31mNameError\u001b[0m: name 'python' is not defined"
     ]
    }
   ],
   "source": [
    "n1=eval(input(\"enter a number:\"))\n",
    "n2=100\n",
    "add=n1+n2\n",
    "print(add)"
   ]
  },
  {
   "cell_type": "code",
   "execution_count": null,
   "id": "b3edf5fc",
   "metadata": {},
   "outputs": [],
   "source": [
    "# entire code should implement under try block \n",
    "# whatever the error comes in the code will display under except block"
   ]
  },
  {
   "cell_type": "code",
   "execution_count": 4,
   "id": "b2211d4c",
   "metadata": {},
   "outputs": [
    {
     "name": "stdout",
     "output_type": "stream",
     "text": [
      "enter a number:python\n",
      "error coming look at the syntax\n"
     ]
    }
   ],
   "source": [
    "try:\n",
    "    n1=eval(input(\"enter a number:\"))       # space is known as indentation\n",
    "    n2=100\n",
    "    add=n1+n2\n",
    "    print(add)\n",
    "    \n",
    "except:\n",
    "    print(\"error coming look at the syntax\")        # whenever error in code , then except block will print"
   ]
  },
  {
   "cell_type": "code",
   "execution_count": 1,
   "id": "c236bef4",
   "metadata": {},
   "outputs": [
    {
     "name": "stdout",
     "output_type": "stream",
     "text": [
      "enter a number:200\n",
      "300\n"
     ]
    }
   ],
   "source": [
    "try:\n",
    "    n1=eval(input(\"enter a number:\"))       # space is known as indentation\n",
    "    n2=100\n",
    "    add=n1+n2\n",
    "    print(add)\n",
    "    \n",
    "except:\n",
    "    print(\"error coming look at the syntax\") "
   ]
  },
  {
   "cell_type": "code",
   "execution_count": 3,
   "id": "80a9a60c",
   "metadata": {},
   "outputs": [
    {
     "name": "stdout",
     "output_type": "stream",
     "text": [
      "enter a number:8\n",
      "108\n"
     ]
    }
   ],
   "source": [
    "n1=eval(input(\"enter a number:\"))       \n",
    "n2=100\n",
    "add=n1+n2\n",
    "print(add)"
   ]
  },
  {
   "cell_type": "code",
   "execution_count": 5,
   "id": "85ab8aa5",
   "metadata": {},
   "outputs": [
    {
     "name": "stdout",
     "output_type": "stream",
     "text": [
      "enter a number:0\n",
      "division by zero\n"
     ]
    }
   ],
   "source": [
    "try: \n",
    "    n1=eval(input(\"enter a number:\"))      \n",
    "    n2=0\n",
    "    add=n1/n2\n",
    "    print(add)\n",
    "    \n",
    "except Exception as e:\n",
    "    print(e)"
   ]
  },
  {
   "cell_type": "code",
   "execution_count": 11,
   "id": "8c0af229",
   "metadata": {},
   "outputs": [
    {
     "name": "stdout",
     "output_type": "stream",
     "text": [
      "the addition of 100 and 200 is 300 \n"
     ]
    }
   ],
   "source": [
    "try:\n",
    "    number1=100\n",
    "    number2=200\n",
    "    add=number1+number2\n",
    "    print(\"the addition of {} and {} is {} \".format(number1,number2,add))\n",
    "    \n",
    "except Exception as e:\n",
    "    print(e)"
   ]
  },
  {
   "cell_type": "code",
   "execution_count": 13,
   "id": "171c440e",
   "metadata": {},
   "outputs": [
    {
     "name": "stdout",
     "output_type": "stream",
     "text": [
      "300\n",
      "enter a number11:600\n",
      "enter a number22:700\n",
      "1300\n"
     ]
    }
   ],
   "source": [
    "# wap ask the user enter two numbers and add those numbers\n",
    "number1=100\n",
    "number2=200\n",
    "add=number1+number2\n",
    "print(add)\n",
    "\n",
    "\n",
    "# wap ask the user enter numbers from keyboard and add those numbers\n",
    "\n",
    "number11=eval(input(\"enter a number11:\"))\n",
    "number22=eval(input(\"enter a number22:\"))\n",
    "add2=number11+number22\n",
    "print(add2)\n",
    "\n",
    "# "
   ]
  },
  {
   "cell_type": "code",
   "execution_count": 14,
   "id": "1cb44dbd",
   "metadata": {},
   "outputs": [
    {
     "name": "stdout",
     "output_type": "stream",
     "text": [
      "192\n"
     ]
    }
   ],
   "source": [
    "import random\n",
    "number1=random.randint(1,100)\n",
    "number2=random.randint(1,200)\n",
    "add=number1+number2\n",
    "print(add)"
   ]
  },
  {
   "cell_type": "code",
   "execution_count": 15,
   "id": "fc3876ab",
   "metadata": {},
   "outputs": [
    {
     "name": "stdout",
     "output_type": "stream",
     "text": [
      "number1 is: 33\n",
      "number2 is: 169\n",
      "202\n"
     ]
    }
   ],
   "source": [
    "import random\n",
    "number1=random.randint(1,100)\n",
    "print(\"number1 is:\",number1)\n",
    "number2=random.randint(1,200)\n",
    "print(\"number2 is:\",number2)\n",
    "add=number1+number2\n",
    "print(add)"
   ]
  },
  {
   "cell_type": "code",
   "execution_count": 16,
   "id": "b69b355f",
   "metadata": {},
   "outputs": [
    {
     "name": "stdout",
     "output_type": "stream",
     "text": [
      "Help on method randrange in module random:\n",
      "\n",
      "randrange(start, stop=None, step=1) method of random.Random instance\n",
      "    Choose a random item from range(stop) or range(start, stop[, step]).\n",
      "    \n",
      "    Roughly equivalent to ``choice(range(start, stop, step))`` but\n",
      "    supports arbitrarily large ranges and is optimized for common cases.\n",
      "\n"
     ]
    }
   ],
   "source": [
    "help(random.randrange)"
   ]
  },
  {
   "cell_type": "code",
   "execution_count": 40,
   "id": "2017f6b6",
   "metadata": {},
   "outputs": [
    {
     "data": {
      "text/plain": [
       "1"
      ]
     },
     "execution_count": 40,
     "metadata": {},
     "output_type": "execute_result"
    }
   ],
   "source": [
    "random.randrange(2)"
   ]
  },
  {
   "cell_type": "code",
   "execution_count": 55,
   "id": "4e0f458f",
   "metadata": {},
   "outputs": [
    {
     "data": {
      "text/plain": [
       "70"
      ]
     },
     "execution_count": 55,
     "metadata": {},
     "output_type": "execute_result"
    }
   ],
   "source": [
    "random.randrange(0,100,step=5)\n",
    "\n",
    "#start=0\n",
    "#stop=100\n",
    "# step=5\n",
    "\n",
    "# 0   5   10    15    20   25 ......."
   ]
  },
  {
   "cell_type": "code",
   "execution_count": null,
   "id": "c6ec9a31",
   "metadata": {},
   "outputs": [],
   "source": []
  },
  {
   "cell_type": "code",
   "execution_count": null,
   "id": "293541ea",
   "metadata": {},
   "outputs": [],
   "source": []
  },
  {
   "cell_type": "code",
   "execution_count": null,
   "id": "0cafb12c",
   "metadata": {},
   "outputs": [],
   "source": []
  },
  {
   "cell_type": "code",
   "execution_count": null,
   "id": "b9aaf260",
   "metadata": {},
   "outputs": [],
   "source": []
  },
  {
   "cell_type": "code",
   "execution_count": null,
   "id": "05b8d544",
   "metadata": {},
   "outputs": [],
   "source": []
  },
  {
   "cell_type": "code",
   "execution_count": null,
   "id": "60ec96bd",
   "metadata": {},
   "outputs": [],
   "source": []
  },
  {
   "cell_type": "code",
   "execution_count": null,
   "id": "30b33011",
   "metadata": {},
   "outputs": [],
   "source": []
  },
  {
   "cell_type": "code",
   "execution_count": null,
   "id": "db0bfd28",
   "metadata": {},
   "outputs": [],
   "source": []
  },
  {
   "cell_type": "code",
   "execution_count": null,
   "id": "b26041d9",
   "metadata": {},
   "outputs": [],
   "source": []
  },
  {
   "cell_type": "code",
   "execution_count": null,
   "id": "de0fa316",
   "metadata": {},
   "outputs": [],
   "source": []
  },
  {
   "cell_type": "code",
   "execution_count": null,
   "id": "e9ddc201",
   "metadata": {},
   "outputs": [],
   "source": []
  },
  {
   "cell_type": "code",
   "execution_count": null,
   "id": "ffc5f879",
   "metadata": {},
   "outputs": [],
   "source": []
  }
 ],
 "metadata": {
  "kernelspec": {
   "display_name": "Python 3 (ipykernel)",
   "language": "python",
   "name": "python3"
  },
  "language_info": {
   "codemirror_mode": {
    "name": "ipython",
    "version": 3
   },
   "file_extension": ".py",
   "mimetype": "text/x-python",
   "name": "python",
   "nbconvert_exporter": "python",
   "pygments_lexer": "ipython3",
   "version": "3.11.5"
  }
 },
 "nbformat": 4,
 "nbformat_minor": 5
}
