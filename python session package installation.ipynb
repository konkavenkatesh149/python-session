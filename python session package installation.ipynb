{
 "cells": [
  {
   "cell_type": "code",
   "execution_count": 7,
   "id": "82d5bd1b",
   "metadata": {},
   "outputs": [],
   "source": [
    "import cv2 ======= #computer vision(cv) : image analytics"
   ]
  },
  {
   "cell_type": "code",
   "execution_count": null,
   "id": "bf75e816",
   "metadata": {},
   "outputs": [],
   "source": [
    "# whenever a module is not found, we need to install the module\n",
    "\n",
    "syntax : \n",
    "    \n",
    "    pip install <module-name>\n",
    "    \n",
    "\n",
    "\n",
    "python organization will help you to find correct module name\n"
   ]
  },
  {
   "cell_type": "code",
   "execution_count": null,
   "id": "16b5fa4a",
   "metadata": {},
   "outputs": [],
   "source": [
    "module-name : opencv-python\n",
    "\n",
    "pip install opencv-python\n"
   ]
  },
  {
   "cell_type": "code",
   "execution_count": null,
   "id": "19081e93",
   "metadata": {},
   "outputs": [],
   "source": [
    "# how do we install \n",
    "1. in jupyter notebook (where we write pyhton code)\n",
    "2. anaconda command prompt"
   ]
  },
  {
   "cell_type": "code",
   "execution_count": 3,
   "id": "0155d4b8",
   "metadata": {},
   "outputs": [],
   "source": [
    "import cv2"
   ]
  },
  {
   "cell_type": "code",
   "execution_count": 8,
   "id": "9c9a2ca1",
   "metadata": {},
   "outputs": [
    {
     "name": "stdout",
     "output_type": "stream",
     "text": [
      "Requirement already satisfied: opencv-python in c:\\users\\venkatesh\\anaconda3\\lib\\site-packages (4.8.1.78)\n",
      "Requirement already satisfied: numpy>=1.21.2 in c:\\users\\venkatesh\\anaconda3\\lib\\site-packages (from opencv-python) (1.24.3)\n"
     ]
    }
   ],
   "source": [
    "!pip install opencv-python"
   ]
  },
  {
   "cell_type": "code",
   "execution_count": null,
   "id": "df60143c",
   "metadata": {},
   "outputs": [],
   "source": [
    "how many packages are available \n",
    "\n",
    "pip freeze"
   ]
  },
  {
   "cell_type": "code",
   "execution_count": null,
   "id": "b955d41a",
   "metadata": {},
   "outputs": [],
   "source": [
    "pip \n",
    "\n",
    "preferred installer program(PIP)"
   ]
  },
  {
   "cell_type": "code",
   "execution_count": null,
   "id": "a1c1a25d",
   "metadata": {},
   "outputs": [],
   "source": []
  },
  {
   "cell_type": "code",
   "execution_count": null,
   "id": "d900c087",
   "metadata": {},
   "outputs": [],
   "source": []
  }
 ],
 "metadata": {
  "kernelspec": {
   "display_name": "Python 3 (ipykernel)",
   "language": "python",
   "name": "python3"
  },
  "language_info": {
   "codemirror_mode": {
    "name": "ipython",
    "version": 3
   },
   "file_extension": ".py",
   "mimetype": "text/x-python",
   "name": "python",
   "nbconvert_exporter": "python",
   "pygments_lexer": "ipython3",
   "version": "3.11.5"
  }
 },
 "nbformat": 4,
 "nbformat_minor": 5
}
