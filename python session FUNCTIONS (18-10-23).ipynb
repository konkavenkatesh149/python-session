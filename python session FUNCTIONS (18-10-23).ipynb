{
 "cells": [
  {
   "cell_type": "markdown",
   "id": "90014d2e",
   "metadata": {},
   "source": [
    "# functions?"
   ]
  },
  {
   "cell_type": "code",
   "execution_count": null,
   "id": "14a32fa2",
   "metadata": {},
   "outputs": [],
   "source": [
    "it is a block of code have set of instructions, and we can recall multiple times"
   ]
  },
  {
   "cell_type": "code",
   "execution_count": 1,
   "id": "8e1288b6",
   "metadata": {},
   "outputs": [
    {
     "name": "stdout",
     "output_type": "stream",
     "text": [
      "40\n"
     ]
    }
   ],
   "source": [
    "a=10\n",
    "b=30\n",
    "print(a+b)\n"
   ]
  },
  {
   "cell_type": "code",
   "execution_count": null,
   "id": "3faf5e75",
   "metadata": {},
   "outputs": [],
   "source": [
    "def <function name>\n",
    "    # stmt1\n",
    "    # stmt2\n",
    "    ....."
   ]
  },
  {
   "cell_type": "markdown",
   "id": "49fae2fc",
   "metadata": {},
   "source": [
    "## without arguments"
   ]
  },
  {
   "cell_type": "code",
   "execution_count": null,
   "id": "f15a6544",
   "metadata": {},
   "outputs": [],
   "source": [
    "# i want to create a function with name add\n",
    "def add():\n",
    "    a=10\n",
    "    b=30\n",
    "    print(a+b)"
   ]
  },
  {
   "cell_type": "code",
   "execution_count": null,
   "id": "8fc48068",
   "metadata": {},
   "outputs": [],
   "source": []
  },
  {
   "cell_type": "code",
   "execution_count": 2,
   "id": "70413c24",
   "metadata": {},
   "outputs": [
    {
     "name": "stdout",
     "output_type": "stream",
     "text": [
      "enter base salary:50000\n",
      "enter DA amount:10000\n",
      "the total salary is: 60000\n"
     ]
    }
   ],
   "source": [
    "# i want to do an operation of adding a base salary and DA amount \n",
    "# total salary\n",
    "\n",
    "# write the normal code\n",
    "\n",
    "base_salary=eval(input(\"enter base salary:\"))\n",
    "DA_amount=eval(input(\"enter DA amount:\"))\n",
    "total_salary=base_salary+DA_amount\n",
    "print(\"the total salary is:\",total_salary)\n",
    "\n",
    "# it will not show any error \n",
    "# it will not give any output aslo untill unless we call the function"
   ]
  },
  {
   "cell_type": "code",
   "execution_count": 6,
   "id": "fa3fa31d",
   "metadata": {},
   "outputs": [],
   "source": [
    "# using function\n",
    "\n",
    "def salary():\n",
    "    base_salary=eval(input(\"enter base salary:\"))\n",
    "    DA_amount=eval(input(\"enter DA amount:\"))\n",
    "    total_salary=base_salary+DA_amount\n",
    "    print(\"the total salary is:\",total_salary)"
   ]
  },
  {
   "cell_type": "code",
   "execution_count": 8,
   "id": "4fb321db",
   "metadata": {},
   "outputs": [
    {
     "name": "stdout",
     "output_type": "stream",
     "text": [
      "enter base salary:60000\n",
      "enter DA amount:15000\n",
      "the total salary is: 75000\n"
     ]
    }
   ],
   "source": [
    "salary()"
   ]
  },
  {
   "cell_type": "code",
   "execution_count": null,
   "id": "8828c7c0",
   "metadata": {},
   "outputs": [],
   "source": []
  },
  {
   "cell_type": "code",
   "execution_count": 13,
   "id": "38e15fa6",
   "metadata": {},
   "outputs": [
    {
     "name": "stdout",
     "output_type": "stream",
     "text": [
      "enter num1:20\n",
      "enter num2:10\n",
      "enter num3:30\n",
      "the average is: 20.0\n"
     ]
    }
   ],
   "source": [
    "# wap ask the user enter 3 numbers and calculate average (without function)\n",
    "# implement function on this code\n",
    "\n",
    "# normal code\n",
    "\n",
    "num1=eval(input(\"enter num1:\"))\n",
    "num2=eval(input(\"enter num2:\"))\n",
    "num3=eval(input(\"enter num3:\"))\n",
    "average=(num1+num2+num3)/3\n",
    "print(\"the average is:\",average)"
   ]
  },
  {
   "cell_type": "code",
   "execution_count": 14,
   "id": "d111fe24",
   "metadata": {},
   "outputs": [],
   "source": [
    "# using functions \n",
    "\n",
    "def average():\n",
    "    num1=eval(input(\"enter num1:\"))\n",
    "    num2=eval(input(\"enter num2:\"))\n",
    "    num3=eval(input(\"enter num3:\"))\n",
    "    average=(num1+num2+num3)/3\n",
    "    print(\"the average is:\",average)\n",
    "    "
   ]
  },
  {
   "cell_type": "code",
   "execution_count": 15,
   "id": "c844e93f",
   "metadata": {},
   "outputs": [
    {
     "name": "stdout",
     "output_type": "stream",
     "text": [
      "enter num1:10\n",
      "enter num2:20\n",
      "enter num3:30\n",
      "the average is: 20.0\n"
     ]
    }
   ],
   "source": [
    "average()"
   ]
  },
  {
   "cell_type": "raw",
   "id": "d3a81a57",
   "metadata": {},
   "source": []
  },
  {
   "cell_type": "code",
   "execution_count": null,
   "id": "0d83f0d2",
   "metadata": {},
   "outputs": [],
   "source": [
    "# wap ask the user enter bill amount \n",
    "#  wap ask the use enter how much tip you want to pay\n",
    "# then calculate total bill\n",
    "\n",
    "# implement the function "
   ]
  },
  {
   "cell_type": "code",
   "execution_count": 17,
   "id": "7dbc78b4",
   "metadata": {},
   "outputs": [
    {
     "name": "stdout",
     "output_type": "stream",
     "text": [
      "enter bill amount:2000\n",
      "enter tip amount:100\n",
      "the total bill is: 2100\n"
     ]
    }
   ],
   "source": [
    "# normal code\n",
    "\n",
    "bill_amount=eval(input(\"enter bill amount:\"))\n",
    "tip_amount=eval(input(\"enter tip amount:\"))\n",
    "total_bill=bill_amount+tip_amount\n",
    "print(\"the total bill is:\",total_bill)"
   ]
  },
  {
   "cell_type": "code",
   "execution_count": 20,
   "id": "be6bfe20",
   "metadata": {},
   "outputs": [],
   "source": [
    "# using functions\n",
    "\n",
    "def amount():\n",
    "    bill_amount=eval(input(\"enter bill amount:\"))\n",
    "    tip_amount=eval(input(\"enter tip amount:\"))\n",
    "    total_bill=bill_amount+tip_amount\n",
    "    print(\"the total bill is:\",total_bill)"
   ]
  },
  {
   "cell_type": "code",
   "execution_count": 21,
   "id": "22f6a6f4",
   "metadata": {},
   "outputs": [
    {
     "name": "stdout",
     "output_type": "stream",
     "text": [
      "enter bill amount:2000\n",
      "enter tip amount:100\n",
      "the total bill is: 2100\n"
     ]
    }
   ],
   "source": [
    "amount()"
   ]
  },
  {
   "cell_type": "code",
   "execution_count": 22,
   "id": "112934b1",
   "metadata": {},
   "outputs": [
    {
     "name": "stdout",
     "output_type": "stream",
     "text": [
      "enter bill amount:3000\n",
      "enter tip amount:200\n",
      "the total bill is: 3200\n"
     ]
    }
   ],
   "source": [
    "amount()"
   ]
  },
  {
   "cell_type": "code",
   "execution_count": 26,
   "id": "65f8cd68",
   "metadata": {},
   "outputs": [],
   "source": [
    "# using try and except with functions\n",
    "\n",
    "def amount():\n",
    "    try:\n",
    "        bill_amount=eval(input(\"enter bill amount:\"))\n",
    "        tip_amount=eval(input(\"enter tip amount:\"))\n",
    "        total_bill=bill_amount+tip_amount\n",
    "        print(\"the total bill is:\",total_bill)\n",
    "        \n",
    "    except Exception as e:\n",
    "        print(e)"
   ]
  },
  {
   "cell_type": "code",
   "execution_count": 27,
   "id": "27d1705a",
   "metadata": {
    "scrolled": true
   },
   "outputs": [
    {
     "name": "stdout",
     "output_type": "stream",
     "text": [
      "enter bill amount:2000\n",
      "enter tip amount:300\n",
      "the total bill is: 2300\n"
     ]
    }
   ],
   "source": [
    "amount()"
   ]
  },
  {
   "cell_type": "code",
   "execution_count": null,
   "id": "eced1538",
   "metadata": {},
   "outputs": [],
   "source": []
  },
  {
   "cell_type": "code",
   "execution_count": null,
   "id": "1d28abdd",
   "metadata": {},
   "outputs": [],
   "source": [
    "# wal ask the user enter a number \n",
    "# print if it a even number or odd number\n",
    "\n",
    "# impleement a function on this code"
   ]
  },
  {
   "cell_type": "code",
   "execution_count": 29,
   "id": "a1ba38fc",
   "metadata": {},
   "outputs": [
    {
     "name": "stdout",
     "output_type": "stream",
     "text": [
      "enter a number:2\n",
      "even number\n"
     ]
    }
   ],
   "source": [
    "# normal code\n",
    "\n",
    "number=eval(input(\"enter a number:\"))\n",
    "if(number%2==0):\n",
    "    print(\"even number\")\n",
    "else:\n",
    "    print(\"odd number\")"
   ]
  },
  {
   "cell_type": "code",
   "execution_count": 4,
   "id": "3e32716a",
   "metadata": {},
   "outputs": [],
   "source": [
    "# using functions\n",
    "\n",
    "def even_odd():\n",
    "    number=eval(input(\"enter a number:\"))\n",
    "    if(number%2==0):\n",
    "        print(\"even number\")\n",
    "    else:\n",
    "        print(\"odd number\")\n",
    "        "
   ]
  },
  {
   "cell_type": "code",
   "execution_count": 6,
   "id": "a512b01f",
   "metadata": {},
   "outputs": [
    {
     "name": "stdout",
     "output_type": "stream",
     "text": [
      "enter a number:3535\n",
      "odd number\n"
     ]
    }
   ],
   "source": [
    "even_odd()"
   ]
  },
  {
   "cell_type": "code",
   "execution_count": 44,
   "id": "a5852682",
   "metadata": {},
   "outputs": [
    {
     "name": "stdout",
     "output_type": "stream",
     "text": [
      "enter a number:62\n",
      "even number\n"
     ]
    }
   ],
   "source": [
    "even_odd()"
   ]
  },
  {
   "cell_type": "code",
   "execution_count": 33,
   "id": "2a3b700b",
   "metadata": {},
   "outputs": [],
   "source": [
    "# using try and except with functions\n",
    "\n",
    "def even_odd():\n",
    "    try:\n",
    "        number=eval(input(\"enter a number:\"))\n",
    "        if(number%2==0):\n",
    "            print(\"even number\")\n",
    "        else:\n",
    "            print(\"odd number\")\n",
    "            \n",
    "    except Exception as e:\n",
    "        print(e)"
   ]
  },
  {
   "cell_type": "code",
   "execution_count": 45,
   "id": "76078347",
   "metadata": {},
   "outputs": [
    {
     "name": "stdout",
     "output_type": "stream",
     "text": [
      "enter a number:865\n",
      "odd number\n"
     ]
    }
   ],
   "source": [
    "even_odd()"
   ]
  },
  {
   "cell_type": "code",
   "execution_count": null,
   "id": "05373d59",
   "metadata": {},
   "outputs": [],
   "source": []
  },
  {
   "cell_type": "code",
   "execution_count": null,
   "id": "955b8484",
   "metadata": {},
   "outputs": [],
   "source": [
    "# without arguments inside the brackets\n",
    "\n",
    "1) add()\n",
    "2) bill()\n",
    "3) avg()\n",
    "4) salary()\n",
    "5) even_odd()\n",
    "\n",
    "# if we provide anny thing inside the brackets\n",
    "# that are called arguments/parameters\n"
   ]
  },
  {
   "cell_type": "code",
   "execution_count": null,
   "id": "06a53087",
   "metadata": {},
   "outputs": [],
   "source": [
    "import random\n",
    "random.randint(a,b)"
   ]
  },
  {
   "cell_type": "markdown",
   "id": "9081927a",
   "metadata": {},
   "source": [
    "# with arguments"
   ]
  },
  {
   "cell_type": "code",
   "execution_count": 48,
   "id": "dbfb0ef2",
   "metadata": {},
   "outputs": [
    {
     "name": "stdout",
     "output_type": "stream",
     "text": [
      "40\n"
     ]
    }
   ],
   "source": [
    "def add():\n",
    "    a=10\n",
    "    b=30\n",
    "    print(a+b)\n",
    "    \n",
    "add()"
   ]
  },
  {
   "cell_type": "code",
   "execution_count": 50,
   "id": "4761aa48",
   "metadata": {},
   "outputs": [
    {
     "name": "stdout",
     "output_type": "stream",
     "text": [
      "40\n"
     ]
    }
   ],
   "source": [
    "# using with arguments\n",
    "\n",
    "def add(a,b):\n",
    "    print(a+b)\n",
    "    \n",
    "add(10,30)"
   ]
  },
  {
   "cell_type": "code",
   "execution_count": 54,
   "id": "3e7cead8",
   "metadata": {},
   "outputs": [
    {
     "name": "stdout",
     "output_type": "stream",
     "text": [
      "100\n"
     ]
    }
   ],
   "source": [
    "def add(a):\n",
    "    b=80\n",
    "    print(a+b)\n",
    "    \n",
    "add(20)"
   ]
  },
  {
   "cell_type": "code",
   "execution_count": 71,
   "id": "9e0c4e83",
   "metadata": {},
   "outputs": [
    {
     "name": "stdout",
     "output_type": "stream",
     "text": [
      "700\n"
     ]
    }
   ],
   "source": [
    "def add(x,y):\n",
    "    x=100                      # updtaed value is taking\n",
    "    print(x+y)\n",
    "    \n",
    "add(300,600)            "
   ]
  },
  {
   "cell_type": "code",
   "execution_count": 56,
   "id": "88505c37",
   "metadata": {},
   "outputs": [
    {
     "ename": "TypeError",
     "evalue": "add() missing 1 required positional argument: 'b'",
     "output_type": "error",
     "traceback": [
      "\u001b[1;31m---------------------------------------------------------------------------\u001b[0m",
      "\u001b[1;31mTypeError\u001b[0m                                 Traceback (most recent call last)",
      "Cell \u001b[1;32mIn[56], line 4\u001b[0m\n\u001b[0;32m      1\u001b[0m \u001b[38;5;28;01mdef\u001b[39;00m \u001b[38;5;21madd\u001b[39m(a,b):\n\u001b[0;32m      2\u001b[0m     \u001b[38;5;28mprint\u001b[39m(a\u001b[38;5;241m+\u001b[39mb)\n\u001b[1;32m----> 4\u001b[0m add(\u001b[38;5;241m100\u001b[39m)\n",
      "\u001b[1;31mTypeError\u001b[0m: add() missing 1 required positional argument: 'b'"
     ]
    }
   ],
   "source": [
    "def add(a,b):\n",
    "    print(a+b)\n",
    "    \n",
    "add(100)"
   ]
  },
  {
   "cell_type": "code",
   "execution_count": 2,
   "id": "3d7bd661",
   "metadata": {},
   "outputs": [
    {
     "name": "stdout",
     "output_type": "stream",
     "text": [
      "40\n",
      "50\n",
      "90\n"
     ]
    }
   ],
   "source": [
    "def add(a,b):\n",
    "    print(a)\n",
    "    print(b)\n",
    "    print(a+b)\n",
    "    \n",
    "add(40,50)"
   ]
  },
  {
   "cell_type": "code",
   "execution_count": 58,
   "id": "910cab1b",
   "metadata": {},
   "outputs": [
    {
     "ename": "TypeError",
     "evalue": "add() missing 1 required positional argument: 'a'",
     "output_type": "error",
     "traceback": [
      "\u001b[1;31m---------------------------------------------------------------------------\u001b[0m",
      "\u001b[1;31mTypeError\u001b[0m                                 Traceback (most recent call last)",
      "Cell \u001b[1;32mIn[58], line 4\u001b[0m\n\u001b[0;32m      1\u001b[0m \u001b[38;5;28;01mdef\u001b[39;00m \u001b[38;5;21madd\u001b[39m(b,a):\n\u001b[0;32m      2\u001b[0m     \u001b[38;5;28mprint\u001b[39m(a\u001b[38;5;241m+\u001b[39mb)\n\u001b[1;32m----> 4\u001b[0m add(\u001b[38;5;241m100\u001b[39m)\n",
      "\u001b[1;31mTypeError\u001b[0m: add() missing 1 required positional argument: 'a'"
     ]
    }
   ],
   "source": [
    "def add(b,a):\n",
    "    print(a+b)\n",
    "    \n",
    "add(100)"
   ]
  },
  {
   "cell_type": "code",
   "execution_count": 60,
   "id": "0969c5d1",
   "metadata": {},
   "outputs": [
    {
     "name": "stdout",
     "output_type": "stream",
     "text": [
      "enter a number:200\n",
      "500\n"
     ]
    }
   ],
   "source": [
    "def add(a):\n",
    "    b=eval(input(\"enter a number:\"))\n",
    "    print(a+b)\n",
    "    \n",
    "add(300)"
   ]
  },
  {
   "cell_type": "code",
   "execution_count": 4,
   "id": "6e29d8c3",
   "metadata": {},
   "outputs": [
    {
     "ename": "NameError",
     "evalue": "name 'x' is not defined",
     "output_type": "error",
     "traceback": [
      "\u001b[1;31m---------------------------------------------------------------------------\u001b[0m",
      "\u001b[1;31mNameError\u001b[0m                                 Traceback (most recent call last)",
      "Cell \u001b[1;32mIn[4], line 4\u001b[0m\n\u001b[0;32m      1\u001b[0m \u001b[38;5;28;01mdef\u001b[39;00m \u001b[38;5;21madd\u001b[39m():\n\u001b[0;32m      2\u001b[0m     \u001b[38;5;28mprint\u001b[39m(x\u001b[38;5;241m+\u001b[39my)\n\u001b[1;32m----> 4\u001b[0m add()\n",
      "Cell \u001b[1;32mIn[4], line 2\u001b[0m, in \u001b[0;36madd\u001b[1;34m()\u001b[0m\n\u001b[0;32m      1\u001b[0m \u001b[38;5;28;01mdef\u001b[39;00m \u001b[38;5;21madd\u001b[39m():\n\u001b[1;32m----> 2\u001b[0m     \u001b[38;5;28mprint\u001b[39m(x\u001b[38;5;241m+\u001b[39my)\n",
      "\u001b[1;31mNameError\u001b[0m: name 'x' is not defined"
     ]
    }
   ],
   "source": [
    "def add():\n",
    "    print(x+y)\n",
    "    \n",
    "add()"
   ]
  },
  {
   "cell_type": "code",
   "execution_count": null,
   "id": "71b2e7fd",
   "metadata": {},
   "outputs": [],
   "source": [
    "# without arguments\n",
    "\n",
    "def amount():\n",
    "    bill_amount=eval(input(\"enter bill amount:\"))\n",
    "    tip_amount=eval(input(\"enter tip amount:\"))\n",
    "    total_bill=bill_amount+tip_amount\n",
    "    print(\"the total bill is:\",total_bill)"
   ]
  },
  {
   "cell_type": "code",
   "execution_count": 67,
   "id": "33f30756",
   "metadata": {},
   "outputs": [
    {
     "name": "stdout",
     "output_type": "stream",
     "text": [
      "the total bill is: 2100\n"
     ]
    }
   ],
   "source": [
    "# with arguments\n",
    "\n",
    "def amount(bill_amount,tip_amount):\n",
    "    total_bill=bill_amount+tip_amount\n",
    "    print(\"the total bill is:\",total_bill)\n",
    "    \n",
    "amount(2000,100)"
   ]
  },
  {
   "cell_type": "code",
   "execution_count": null,
   "id": "5325b4ab",
   "metadata": {},
   "outputs": [],
   "source": []
  },
  {
   "cell_type": "code",
   "execution_count": 73,
   "id": "29bfb12e",
   "metadata": {},
   "outputs": [
    {
     "name": "stdout",
     "output_type": "stream",
     "text": [
      "enter num1:10\n",
      "enter num2:20\n",
      "enter num3:30\n",
      "the average is: 20.0\n"
     ]
    }
   ],
   "source": [
    "# with arguemnts\n",
    "\n",
    "def average():\n",
    "    num1=eval(input(\"enter num1:\"))\n",
    "    num2=eval(input(\"enter num2:\"))\n",
    "    num3=eval(input(\"enter num3:\"))\n",
    "    average=(num1+num2+num3)/3\n",
    "    print(\"the average is:\",average)\n",
    "    \n",
    "average()"
   ]
  },
  {
   "cell_type": "code",
   "execution_count": 75,
   "id": "dda28b0f",
   "metadata": {},
   "outputs": [
    {
     "name": "stdout",
     "output_type": "stream",
     "text": [
      "the average is: 20.0\n"
     ]
    }
   ],
   "source": [
    "# without arguments\n",
    "\n",
    "def average(num1,num2,num3):\n",
    "    average=(num1+num2+num3)/3\n",
    "    print(\"the average is:\",average)\n",
    "    \n",
    "average(10,20,30)"
   ]
  },
  {
   "cell_type": "code",
   "execution_count": 78,
   "id": "ef948621",
   "metadata": {},
   "outputs": [
    {
     "name": "stdout",
     "output_type": "stream",
     "text": [
      "the average is: 20.0\n"
     ]
    }
   ],
   "source": [
    "# using try and except with argumnets\n",
    "\n",
    "def average(num1,num2,num3):\n",
    "    try:\n",
    "        average=(num1+num2+num3)/3\n",
    "        print(\"the average is:\",average)\n",
    "        \n",
    "    except Exception as e:\n",
    "        print(e)\n",
    "        \n",
    "average(10,20,30)"
   ]
  },
  {
   "cell_type": "markdown",
   "id": "39a1e9e0",
   "metadata": {},
   "source": [
    "# default arguments"
   ]
  },
  {
   "cell_type": "code",
   "execution_count": 81,
   "id": "2338f34d",
   "metadata": {},
   "outputs": [
    {
     "name": "stdout",
     "output_type": "stream",
     "text": [
      "the average is: 26.666666666666668\n"
     ]
    }
   ],
   "source": [
    "def average(num1,num2,num3=30):\n",
    "    average=(num1+num2+num3)/3\n",
    "    print(\"the average is:\",average)\n",
    "    \n",
    "average(10,20,50)\n",
    "\n",
    "\n",
    "# fixed means default\n",
    "# here num3 is default argument\n",
    "# default argument should be at last "
   ]
  },
  {
   "cell_type": "code",
   "execution_count": 7,
   "id": "8ffdefd5",
   "metadata": {},
   "outputs": [
    {
     "name": "stdout",
     "output_type": "stream",
     "text": [
      "num1: 10\n",
      "num2: 20\n",
      "num3: 30\n",
      "the average is: 20.0\n"
     ]
    }
   ],
   "source": [
    "# 1st verification \n",
    "\n",
    "def average(num1,num2,num3=500):\n",
    "    print(\"num1:\",num1)\n",
    "    print(\"num2:\",num2)\n",
    "    print(\"num3:\",num3)\n",
    "    average=(num1+num2+num3)/3\n",
    "    print(\"the average is:\",average)\n",
    "    \n",
    "average(10,20,30)"
   ]
  },
  {
   "cell_type": "code",
   "execution_count": 9,
   "id": "00b1fa74",
   "metadata": {},
   "outputs": [
    {
     "name": "stdout",
     "output_type": "stream",
     "text": [
      "num1: 10\n",
      "num2: 20\n",
      "num3: 1000\n",
      "the average is: 343.3333333333333\n"
     ]
    }
   ],
   "source": [
    "def average(num1,num2,num=500):\n",
    "    num3=1000\n",
    "    print(\"num1:\",num1)\n",
    "    print(\"num2:\",num2)\n",
    "    print(\"num3:\",num3)\n",
    "    average=(num1+num2+num3)/3\n",
    "    print(\"the average is:\",average)\n",
    "    \n",
    "average(10,20)"
   ]
  },
  {
   "cell_type": "code",
   "execution_count": 15,
   "id": "b32f532b",
   "metadata": {},
   "outputs": [
    {
     "name": "stdout",
     "output_type": "stream",
     "text": [
      "n1: 10\n",
      "n2: 20\n",
      "n3: 1000\n",
      "average is: 343.3333333333333\n"
     ]
    }
   ],
   "source": [
    "def average(n1,n2,n3=500):\n",
    "    n3=1000\n",
    "    print(\"n1:\",n1)\n",
    "    print(\"n2:\",n2) \n",
    "    print(\"n3:\",n3) \n",
    "    average=(n1+n2+n3)/3\n",
    "    print(\"average is:\",average)\n",
    "    \n",
    "average(10,20,30)\n"
   ]
  },
  {
   "cell_type": "code",
   "execution_count": 16,
   "id": "167c25ca",
   "metadata": {},
   "outputs": [
    {
     "ename": "SyntaxError",
     "evalue": "non-default argument follows default argument (4121744411.py, line 1)",
     "output_type": "error",
     "traceback": [
      "\u001b[1;36m  Cell \u001b[1;32mIn[16], line 1\u001b[1;36m\u001b[0m\n\u001b[1;33m    def average(n1,n2=1000,n3):\u001b[0m\n\u001b[1;37m                           ^\u001b[0m\n\u001b[1;31mSyntaxError\u001b[0m\u001b[1;31m:\u001b[0m non-default argument follows default argument\n"
     ]
    }
   ],
   "source": [
    "def average(n1,n2=1000,n3):\n",
    "    print(\"n1:\",n1)\n",
    "    print(\"n2:\",n2)\n",
    "    print(\"n3:\",n3)\n",
    "    average=(n1+n2+n3)/3\n",
    "    print(\"average is:\",average)\n",
    "    \n",
    "    \n",
    "average(10,20)"
   ]
  },
  {
   "cell_type": "code",
   "execution_count": 21,
   "id": "0cc86129",
   "metadata": {},
   "outputs": [
    {
     "name": "stdout",
     "output_type": "stream",
     "text": [
      "n1: 10\n",
      "n2: 1000\n",
      "n3: 80\n",
      "average is: 363.3333333333333\n"
     ]
    }
   ],
   "source": [
    "def average(n1,n3,n2=1000):\n",
    "    print(\"n1:\",n1) \n",
    "    print(\"n2:\",n2) \n",
    "    print(\"n3:\",n3) \n",
    "    average=(n1+n2+n3)/3\n",
    "    print(\"average is:\",average)\n",
    "    \n",
    "average(10,80)"
   ]
  },
  {
   "cell_type": "code",
   "execution_count": 24,
   "id": "bba97c6e",
   "metadata": {},
   "outputs": [
    {
     "ename": "SyntaxError",
     "evalue": "non-default argument follows default argument (1597304104.py, line 1)",
     "output_type": "error",
     "traceback": [
      "\u001b[1;36m  Cell \u001b[1;32mIn[24], line 1\u001b[1;36m\u001b[0m\n\u001b[1;33m    def average(n1=2000,n2,n3):\u001b[0m\n\u001b[1;37m                        ^\u001b[0m\n\u001b[1;31mSyntaxError\u001b[0m\u001b[1;31m:\u001b[0m non-default argument follows default argument\n"
     ]
    }
   ],
   "source": [
    "def average(n1=2000,n2,n3):\n",
    "    print(\"n1:\",n1)\n",
    "    print(\"n2:\",n2)\n",
    "    print(\"n3:\",n3)\n",
    "    average=(n1+n2+n3)/3\n",
    "    print(\"average is:\",average)\n",
    "average(20,30)"
   ]
  },
  {
   "cell_type": "code",
   "execution_count": null,
   "id": "4b3ae968",
   "metadata": {},
   "outputs": [],
   "source": [
    "- with out argunments\n",
    "\n",
    "- with arguments\n",
    "\n",
    "- default arguments"
   ]
  },
  {
   "cell_type": "code",
   "execution_count": null,
   "id": "a220f325",
   "metadata": {},
   "outputs": [],
   "source": []
  }
 ],
 "metadata": {
  "kernelspec": {
   "display_name": "Python 3 (ipykernel)",
   "language": "python",
   "name": "python3"
  },
  "language_info": {
   "codemirror_mode": {
    "name": "ipython",
    "version": 3
   },
   "file_extension": ".py",
   "mimetype": "text/x-python",
   "name": "python",
   "nbconvert_exporter": "python",
   "pygments_lexer": "ipython3",
   "version": "3.11.5"
  }
 },
 "nbformat": 4,
 "nbformat_minor": 5
}
