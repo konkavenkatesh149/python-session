{
 "cells": [
  {
   "cell_type": "markdown",
   "id": "fd322102",
   "metadata": {},
   "source": [
    "# list"
   ]
  },
  {
   "cell_type": "markdown",
   "id": "61e8b215",
   "metadata": {},
   "source": [
    "- how do we read?\n",
    "\n",
    "- type\n",
    "\n",
    "- len\n",
    "\n",
    "- min\n",
    "\n",
    "- max\n",
    "\n",
    "- concatenation (add two list)\n",
    "\n",
    "- subtract two list\n",
    "\n",
    "- multiply two list\n",
    "\n",
    "- divide two list\n",
    "\n",
    "- index\n",
    "\n",
    "- slice\n",
    "\n",
    "- mutable\n",
    "\n",
    "- list methods"
   ]
  },
  {
   "cell_type": "code",
   "execution_count": null,
   "id": "0b9ecab3",
   "metadata": {},
   "outputs": [],
   "source": [
    "# array is list of elements stored in square brackets"
   ]
  },
  {
   "cell_type": "code",
   "execution_count": 1,
   "id": "7439ea6c",
   "metadata": {},
   "outputs": [
    {
     "data": {
      "text/plain": [
       "[1, 2, 3, 4]"
      ]
     },
     "execution_count": 1,
     "metadata": {},
     "output_type": "execute_result"
    }
   ],
   "source": [
    "list1=[1,2,3,4]\n",
    "list1"
   ]
  },
  {
   "cell_type": "code",
   "execution_count": 2,
   "id": "d377c48e",
   "metadata": {},
   "outputs": [
    {
     "data": {
      "text/plain": [
       "['A', 'B', 'C', 'D']"
      ]
     },
     "execution_count": 2,
     "metadata": {},
     "output_type": "execute_result"
    }
   ],
   "source": [
    "list2=['A','B','C','D']\n",
    "list2"
   ]
  },
  {
   "cell_type": "code",
   "execution_count": 3,
   "id": "b0afb595",
   "metadata": {},
   "outputs": [
    {
     "data": {
      "text/plain": [
       "['Apple', 1234]"
      ]
     },
     "execution_count": 3,
     "metadata": {},
     "output_type": "execute_result"
    }
   ],
   "source": [
    "list3=['Apple',1234]\n",
    "list3"
   ]
  },
  {
   "cell_type": "code",
   "execution_count": 5,
   "id": "00864366",
   "metadata": {},
   "outputs": [
    {
     "data": {
      "text/plain": [
       "['A', 1, 2.6, (10+30j)]"
      ]
     },
     "execution_count": 5,
     "metadata": {},
     "output_type": "execute_result"
    }
   ],
   "source": [
    "list4=['A',1,2.6,10+30j]\n",
    "list4"
   ]
  },
  {
   "cell_type": "markdown",
   "id": "53980fa1",
   "metadata": {},
   "source": [
    "- list is a heterogeneous property\n",
    "\n",
    "- any kind of data type elements we can store in the form of list"
   ]
  },
  {
   "cell_type": "code",
   "execution_count": 6,
   "id": "d89d9232",
   "metadata": {},
   "outputs": [
    {
     "data": {
      "text/plain": [
       "[100, 100, 100]"
      ]
     },
     "execution_count": 6,
     "metadata": {},
     "output_type": "execute_result"
    }
   ],
   "source": [
    "list5=[100,100,100]\n",
    "list5"
   ]
  },
  {
   "cell_type": "markdown",
   "id": "99916345",
   "metadata": {},
   "source": [
    "- list elements can be duplicated\n",
    "\n",
    "- which means duplicate elements are allowed"
   ]
  },
  {
   "cell_type": "code",
   "execution_count": 7,
   "id": "66fe8f57",
   "metadata": {},
   "outputs": [
    {
     "data": {
      "text/plain": [
       "['A', 'a']"
      ]
     },
     "execution_count": 7,
     "metadata": {},
     "output_type": "execute_result"
    }
   ],
   "source": [
    "list6=['A','a']\n",
    "list6"
   ]
  },
  {
   "cell_type": "code",
   "execution_count": 8,
   "id": "e790621f",
   "metadata": {},
   "outputs": [
    {
     "data": {
      "text/plain": [
       "['hai how are you', [1, 2, 3]]"
      ]
     },
     "execution_count": 8,
     "metadata": {},
     "output_type": "execute_result"
    }
   ],
   "source": [
    "list7=['hai how are you',[1,2,3]]\n",
    "list7"
   ]
  },
  {
   "cell_type": "markdown",
   "id": "3a1de3f9",
   "metadata": {},
   "source": [
    "- list in list also it can take"
   ]
  },
  {
   "cell_type": "markdown",
   "id": "9841d0a9",
   "metadata": {},
   "source": [
    "# type"
   ]
  },
  {
   "cell_type": "code",
   "execution_count": 9,
   "id": "5e9e59cb",
   "metadata": {},
   "outputs": [
    {
     "data": {
      "text/plain": [
       "list"
      ]
     },
     "execution_count": 9,
     "metadata": {},
     "output_type": "execute_result"
    }
   ],
   "source": [
    "type(list1)"
   ]
  },
  {
   "cell_type": "code",
   "execution_count": 13,
   "id": "154d921b",
   "metadata": {},
   "outputs": [
    {
     "data": {
      "text/plain": [
       "list"
      ]
     },
     "execution_count": 13,
     "metadata": {},
     "output_type": "execute_result"
    }
   ],
   "source": [
    "type(list7)"
   ]
  },
  {
   "cell_type": "markdown",
   "id": "0e603e5b",
   "metadata": {},
   "source": [
    "# len , min ,max sum"
   ]
  },
  {
   "cell_type": "code",
   "execution_count": 24,
   "id": "cce8b5e7",
   "metadata": {},
   "outputs": [
    {
     "data": {
      "text/plain": [
       "4"
      ]
     },
     "execution_count": 24,
     "metadata": {},
     "output_type": "execute_result"
    }
   ],
   "source": [
    "list1=[1,2,3,4]\n",
    "len(list1)"
   ]
  },
  {
   "cell_type": "code",
   "execution_count": 25,
   "id": "02949b23",
   "metadata": {},
   "outputs": [
    {
     "name": "stdout",
     "output_type": "stream",
     "text": [
      "4\n",
      "4\n",
      "1\n",
      "10\n"
     ]
    }
   ],
   "source": [
    "print(len(list1))    # 4\n",
    "print(max(list1))    # 4 \n",
    "print(min(list1))    # 1\n",
    "print(sum(list1))   # 1+2+3+4 = 10"
   ]
  },
  {
   "cell_type": "code",
   "execution_count": 28,
   "id": "7a50bc35",
   "metadata": {},
   "outputs": [
    {
     "name": "stdout",
     "output_type": "stream",
     "text": [
      "4\n",
      "D\n",
      "A\n"
     ]
    },
    {
     "ename": "TypeError",
     "evalue": "unsupported operand type(s) for +: 'int' and 'str'",
     "output_type": "error",
     "traceback": [
      "\u001b[1;31m---------------------------------------------------------------------------\u001b[0m",
      "\u001b[1;31mTypeError\u001b[0m                                 Traceback (most recent call last)",
      "Cell \u001b[1;32mIn[28], line 5\u001b[0m\n\u001b[0;32m      3\u001b[0m \u001b[38;5;28mprint\u001b[39m(\u001b[38;5;28mmax\u001b[39m(list2))\n\u001b[0;32m      4\u001b[0m \u001b[38;5;28mprint\u001b[39m(\u001b[38;5;28mmin\u001b[39m(list2))\n\u001b[1;32m----> 5\u001b[0m \u001b[38;5;28mprint\u001b[39m(\u001b[38;5;28msum\u001b[39m(list2))\n",
      "\u001b[1;31mTypeError\u001b[0m: unsupported operand type(s) for +: 'int' and 'str'"
     ]
    }
   ],
   "source": [
    "list2=['A','B','C','D']\n",
    "print(len(list2))        # 4\n",
    "print(max(list2))        # D\n",
    "print(min(list2))        # A\n",
    "print(sum(list2))        # error"
   ]
  },
  {
   "cell_type": "code",
   "execution_count": 32,
   "id": "ee07b8db",
   "metadata": {},
   "outputs": [
    {
     "name": "stdout",
     "output_type": "stream",
     "text": [
      "2\n"
     ]
    },
    {
     "ename": "TypeError",
     "evalue": "'>' not supported between instances of 'int' and 'str'",
     "output_type": "error",
     "traceback": [
      "\u001b[1;31m---------------------------------------------------------------------------\u001b[0m",
      "\u001b[1;31mTypeError\u001b[0m                                 Traceback (most recent call last)",
      "Cell \u001b[1;32mIn[32], line 3\u001b[0m\n\u001b[0;32m      1\u001b[0m list3\u001b[38;5;241m=\u001b[39m[\u001b[38;5;124m'\u001b[39m\u001b[38;5;124mApple\u001b[39m\u001b[38;5;124m'\u001b[39m,\u001b[38;5;241m1234\u001b[39m]\n\u001b[0;32m      2\u001b[0m \u001b[38;5;28mprint\u001b[39m(\u001b[38;5;28mlen\u001b[39m(list3))\n\u001b[1;32m----> 3\u001b[0m \u001b[38;5;28mprint\u001b[39m(\u001b[38;5;28mmax\u001b[39m(list3))       \u001b[38;5;66;03m# error\u001b[39;00m\n\u001b[0;32m      4\u001b[0m \u001b[38;5;28mprint\u001b[39m(\u001b[38;5;28mmin\u001b[39m(list3))\n\u001b[0;32m      5\u001b[0m \u001b[38;5;28mprint\u001b[39m(\u001b[38;5;28msum\u001b[39m(list3))\n",
      "\u001b[1;31mTypeError\u001b[0m: '>' not supported between instances of 'int' and 'str'"
     ]
    }
   ],
   "source": [
    "list3=['Apple',1234]\n",
    "print(len(list3))       # 2\n",
    "print(max(list3))       # error\n",
    "print(min(list3))       # error\n",
    "print(sum(list3))       # error"
   ]
  },
  {
   "cell_type": "code",
   "execution_count": 34,
   "id": "12f683cc",
   "metadata": {},
   "outputs": [
    {
     "name": "stdout",
     "output_type": "stream",
     "text": [
      "4\n"
     ]
    },
    {
     "ename": "TypeError",
     "evalue": "'>' not supported between instances of 'int' and 'str'",
     "output_type": "error",
     "traceback": [
      "\u001b[1;31m---------------------------------------------------------------------------\u001b[0m",
      "\u001b[1;31mTypeError\u001b[0m                                 Traceback (most recent call last)",
      "Cell \u001b[1;32mIn[34], line 3\u001b[0m\n\u001b[0;32m      1\u001b[0m list4\u001b[38;5;241m=\u001b[39m[\u001b[38;5;124m'\u001b[39m\u001b[38;5;124mA\u001b[39m\u001b[38;5;124m'\u001b[39m,\u001b[38;5;241m1\u001b[39m,\u001b[38;5;241m2.6\u001b[39m,\u001b[38;5;241m10\u001b[39m\u001b[38;5;241m+\u001b[39m\u001b[38;5;241m30\u001b[39mj]\n\u001b[0;32m      2\u001b[0m \u001b[38;5;28mprint\u001b[39m(\u001b[38;5;28mlen\u001b[39m(list4))\n\u001b[1;32m----> 3\u001b[0m \u001b[38;5;28mprint\u001b[39m(\u001b[38;5;28mmax\u001b[39m(list4))\n\u001b[0;32m      4\u001b[0m \u001b[38;5;28mprint\u001b[39m(\u001b[38;5;28mmin\u001b[39m(list4))\n\u001b[0;32m      5\u001b[0m \u001b[38;5;28mprint\u001b[39m(\u001b[38;5;28msum\u001b[39m(list4))\n",
      "\u001b[1;31mTypeError\u001b[0m: '>' not supported between instances of 'int' and 'str'"
     ]
    }
   ],
   "source": [
    "list4=['A',1,2.6,10+30j]\n",
    "print(len(list4))         # 4\n",
    "print(max(list4))         # error\n",
    "print(min(list4))         # error\n",
    "print(sum(list4))         # error"
   ]
  },
  {
   "cell_type": "code",
   "execution_count": 35,
   "id": "9df6ed8c",
   "metadata": {},
   "outputs": [
    {
     "name": "stdout",
     "output_type": "stream",
     "text": [
      "3\n",
      "100\n",
      "100\n",
      "300\n"
     ]
    }
   ],
   "source": [
    "list5=[100,100,100]\n",
    "print(len(list5))         \n",
    "print(max(list5))         \n",
    "print(min(list5))         \n",
    "print(sum(list5)) "
   ]
  },
  {
   "cell_type": "code",
   "execution_count": 36,
   "id": "337f9c24",
   "metadata": {},
   "outputs": [
    {
     "name": "stdout",
     "output_type": "stream",
     "text": [
      "2\n",
      "a\n",
      "A\n"
     ]
    },
    {
     "ename": "TypeError",
     "evalue": "unsupported operand type(s) for +: 'int' and 'str'",
     "output_type": "error",
     "traceback": [
      "\u001b[1;31m---------------------------------------------------------------------------\u001b[0m",
      "\u001b[1;31mTypeError\u001b[0m                                 Traceback (most recent call last)",
      "Cell \u001b[1;32mIn[36], line 5\u001b[0m\n\u001b[0;32m      3\u001b[0m \u001b[38;5;28mprint\u001b[39m(\u001b[38;5;28mmax\u001b[39m(list6))         \n\u001b[0;32m      4\u001b[0m \u001b[38;5;28mprint\u001b[39m(\u001b[38;5;28mmin\u001b[39m(list6))         \n\u001b[1;32m----> 5\u001b[0m \u001b[38;5;28mprint\u001b[39m(\u001b[38;5;28msum\u001b[39m(list6))\n",
      "\u001b[1;31mTypeError\u001b[0m: unsupported operand type(s) for +: 'int' and 'str'"
     ]
    }
   ],
   "source": [
    "list6=['A','a']\n",
    "print(len(list6))         \n",
    "print(max(list6))         \n",
    "print(min(list6))         \n",
    "print(sum(list6))         # error"
   ]
  },
  {
   "cell_type": "code",
   "execution_count": 37,
   "id": "f1c9af92",
   "metadata": {},
   "outputs": [
    {
     "name": "stdout",
     "output_type": "stream",
     "text": [
      "2\n"
     ]
    },
    {
     "ename": "TypeError",
     "evalue": "'>' not supported between instances of 'list' and 'str'",
     "output_type": "error",
     "traceback": [
      "\u001b[1;31m---------------------------------------------------------------------------\u001b[0m",
      "\u001b[1;31mTypeError\u001b[0m                                 Traceback (most recent call last)",
      "Cell \u001b[1;32mIn[37], line 3\u001b[0m\n\u001b[0;32m      1\u001b[0m list7\u001b[38;5;241m=\u001b[39m[\u001b[38;5;124m'\u001b[39m\u001b[38;5;124mhai how are you\u001b[39m\u001b[38;5;124m'\u001b[39m,[\u001b[38;5;241m1\u001b[39m,\u001b[38;5;241m2\u001b[39m,\u001b[38;5;241m3\u001b[39m]]\n\u001b[0;32m      2\u001b[0m \u001b[38;5;28mprint\u001b[39m(\u001b[38;5;28mlen\u001b[39m(list7))         \n\u001b[1;32m----> 3\u001b[0m \u001b[38;5;28mprint\u001b[39m(\u001b[38;5;28mmax\u001b[39m(list7))         \n\u001b[0;32m      4\u001b[0m \u001b[38;5;28mprint\u001b[39m(\u001b[38;5;28mmin\u001b[39m(list7))         \n\u001b[0;32m      5\u001b[0m \u001b[38;5;28mprint\u001b[39m(\u001b[38;5;28msum\u001b[39m(list7))\n",
      "\u001b[1;31mTypeError\u001b[0m: '>' not supported between instances of 'list' and 'str'"
     ]
    }
   ],
   "source": [
    "list7=['hai how are you',[1,2,3]]\n",
    "print(len(list7))       # 2 \n",
    "print(max(list7))       # error   \n",
    "print(min(list7))       # error   \n",
    "print(sum(list7))       # error"
   ]
  },
  {
   "cell_type": "code",
   "execution_count": 38,
   "id": "14a42174",
   "metadata": {},
   "outputs": [
    {
     "name": "stdout",
     "output_type": "stream",
     "text": [
      "[1, 2, 3, 4]\n",
      "['A', 'B', 'C', 'D']\n"
     ]
    }
   ],
   "source": [
    "print(list1)\n",
    "print(list2)"
   ]
  },
  {
   "cell_type": "markdown",
   "id": "22e2f285",
   "metadata": {},
   "source": [
    "# concatenation"
   ]
  },
  {
   "cell_type": "code",
   "execution_count": 40,
   "id": "8aa1402c",
   "metadata": {},
   "outputs": [
    {
     "data": {
      "text/plain": [
       "[1, 2, 3, 4, 'A', 'B', 'C', 'D']"
      ]
     },
     "execution_count": 40,
     "metadata": {},
     "output_type": "execute_result"
    }
   ],
   "source": [
    "list_concat=list1+list2\n",
    "list_concat"
   ]
  },
  {
   "cell_type": "code",
   "execution_count": 41,
   "id": "0a4ee586",
   "metadata": {},
   "outputs": [
    {
     "name": "stdout",
     "output_type": "stream",
     "text": [
      "[1, 2, 3, 4]\n",
      "['A', 'B', 'C', 'D']\n",
      "[1, 2, 3, 4, 'A', 'B', 'C', 'D']\n"
     ]
    }
   ],
   "source": [
    "print(list1)\n",
    "print(list2)\n",
    "print(list_concat)"
   ]
  },
  {
   "cell_type": "markdown",
   "id": "61935a50",
   "metadata": {},
   "source": [
    "# subtraction, multiply, divide"
   ]
  },
  {
   "cell_type": "code",
   "execution_count": 42,
   "id": "86cd9504",
   "metadata": {},
   "outputs": [
    {
     "ename": "TypeError",
     "evalue": "unsupported operand type(s) for -: 'list' and 'list'",
     "output_type": "error",
     "traceback": [
      "\u001b[1;31m---------------------------------------------------------------------------\u001b[0m",
      "\u001b[1;31mTypeError\u001b[0m                                 Traceback (most recent call last)",
      "Cell \u001b[1;32mIn[42], line 1\u001b[0m\n\u001b[1;32m----> 1\u001b[0m \u001b[38;5;28mprint\u001b[39m(list1\u001b[38;5;241m-\u001b[39mlist2)\n\u001b[0;32m      2\u001b[0m \u001b[38;5;28mprint\u001b[39m(list1\u001b[38;5;241m*\u001b[39mlist2)\n\u001b[0;32m      3\u001b[0m \u001b[38;5;28mprint\u001b[39m(list1\u001b[38;5;241m/\u001b[39mlist2)\n",
      "\u001b[1;31mTypeError\u001b[0m: unsupported operand type(s) for -: 'list' and 'list'"
     ]
    }
   ],
   "source": [
    "print(list1-list2)       # error\n",
    "print(list1*list2)       # error\n",
    "print(list1/list2)       # error"
   ]
  },
  {
   "cell_type": "code",
   "execution_count": 43,
   "id": "bb9a8b9c",
   "metadata": {},
   "outputs": [
    {
     "data": {
      "text/plain": [
       "[1, 2, 3, 4, 1, 2, 3, 4]"
      ]
     },
     "execution_count": 43,
     "metadata": {},
     "output_type": "execute_result"
    }
   ],
   "source": [
    "# multiply with string and int will work\n",
    "2*list1"
   ]
  },
  {
   "cell_type": "markdown",
   "id": "fc0ccb3e",
   "metadata": {},
   "source": [
    "# in"
   ]
  },
  {
   "cell_type": "code",
   "execution_count": 47,
   "id": "6191f9ce",
   "metadata": {},
   "outputs": [
    {
     "name": "stdout",
     "output_type": "stream",
     "text": [
      "True\n",
      "True\n",
      "False\n"
     ]
    }
   ],
   "source": [
    "list2=['A','B','C','D']\n",
    "print('A' in list2)\n",
    "print('B' in list2)\n",
    "print('Z' in list2)"
   ]
  },
  {
   "cell_type": "code",
   "execution_count": null,
   "id": "ca83e99d",
   "metadata": {},
   "outputs": [],
   "source": [
    "# whenever you are reading in operator\n",
    "# iterate the loop (for/while) and print the elements"
   ]
  },
  {
   "cell_type": "code",
   "execution_count": null,
   "id": "9f0d9a57",
   "metadata": {},
   "outputs": [],
   "source": [
    "# i in list2"
   ]
  },
  {
   "cell_type": "code",
   "execution_count": 54,
   "id": "413089b4",
   "metadata": {},
   "outputs": [
    {
     "name": "stdout",
     "output_type": "stream",
     "text": [
      "A\n",
      "B\n",
      "C\n",
      "D\n"
     ]
    }
   ],
   "source": [
    "for i in list2:\n",
    "    print(i)"
   ]
  },
  {
   "cell_type": "code",
   "execution_count": 56,
   "id": "781b5465",
   "metadata": {},
   "outputs": [
    {
     "name": "stdout",
     "output_type": "stream",
     "text": [
      "1\n",
      "2\n",
      "3\n",
      "4\n"
     ]
    }
   ],
   "source": [
    "list1=[1,2,3,4]\n",
    "for i in list1:\n",
    "    print(i)"
   ]
  },
  {
   "cell_type": "code",
   "execution_count": 58,
   "id": "891753d5",
   "metadata": {},
   "outputs": [
    {
     "name": "stdout",
     "output_type": "stream",
     "text": [
      "Apple\n",
      "1234\n"
     ]
    }
   ],
   "source": [
    "list3=['Apple',1234]\n",
    "for i in list3:\n",
    "    print(i)"
   ]
  },
  {
   "cell_type": "code",
   "execution_count": 60,
   "id": "17bb7380",
   "metadata": {},
   "outputs": [
    {
     "name": "stdout",
     "output_type": "stream",
     "text": [
      "100\n",
      "100\n",
      "100\n"
     ]
    }
   ],
   "source": [
    "list5=[100,100,100]\n",
    "for i in list5:\n",
    "    print(i)"
   ]
  },
  {
   "cell_type": "code",
   "execution_count": 62,
   "id": "550b4cb4",
   "metadata": {},
   "outputs": [
    {
     "name": "stdout",
     "output_type": "stream",
     "text": [
      "hai how are you\n",
      "[1, 2, 3]\n"
     ]
    }
   ],
   "source": [
    "for i in list7:\n",
    "    print(i)"
   ]
  },
  {
   "cell_type": "code",
   "execution_count": null,
   "id": "a48e535e",
   "metadata": {},
   "outputs": [],
   "source": []
  },
  {
   "cell_type": "markdown",
   "id": "eb01dbf9",
   "metadata": {},
   "source": [
    "- if we want to deal with while , we required numbers "
   ]
  },
  {
   "cell_type": "markdown",
   "id": "f4a7d84b",
   "metadata": {},
   "source": [
    "# index"
   ]
  },
  {
   "cell_type": "code",
   "execution_count": 69,
   "id": "3d8498d4",
   "metadata": {},
   "outputs": [
    {
     "data": {
      "text/plain": [
       "['A', 'B', 'C', 'D']"
      ]
     },
     "execution_count": 69,
     "metadata": {},
     "output_type": "execute_result"
    }
   ],
   "source": [
    "list2"
   ]
  },
  {
   "cell_type": "code",
   "execution_count": null,
   "id": "bf21958d",
   "metadata": {},
   "outputs": [],
   "source": [
    "# python index starts with zero\n",
    "\n",
    "A     B    C     D\n",
    "0     1    2     3"
   ]
  },
  {
   "cell_type": "code",
   "execution_count": 74,
   "id": "ef62460c",
   "metadata": {},
   "outputs": [
    {
     "data": {
      "text/plain": [
       "('A', 'B', 'C', 'D')"
      ]
     },
     "execution_count": 74,
     "metadata": {},
     "output_type": "execute_result"
    }
   ],
   "source": [
    "list2[0],list2[1],list2[2],list2[3]"
   ]
  },
  {
   "cell_type": "code",
   "execution_count": 82,
   "id": "ca0dc6b5",
   "metadata": {},
   "outputs": [
    {
     "name": "stdout",
     "output_type": "stream",
     "text": [
      "A\n",
      "B\n",
      "C\n",
      "D\n"
     ]
    }
   ],
   "source": [
    "for i in range(len(list2)):\n",
    "    print(list2[i])"
   ]
  },
  {
   "cell_type": "code",
   "execution_count": 83,
   "id": "e18293a2",
   "metadata": {},
   "outputs": [
    {
     "name": "stdout",
     "output_type": "stream",
     "text": [
      "A\n",
      "B\n",
      "C\n",
      "D\n"
     ]
    }
   ],
   "source": [
    "i=0\n",
    "while(i<len(list2)):\n",
    "    print(list2[i])\n",
    "    i=i+1"
   ]
  },
  {
   "cell_type": "code",
   "execution_count": null,
   "id": "6eacd33e",
   "metadata": {},
   "outputs": [],
   "source": []
  },
  {
   "cell_type": "code",
   "execution_count": null,
   "id": "429fd192",
   "metadata": {},
   "outputs": [],
   "source": [
    "===========for /while =============\n",
    "the positive index of A is 0\n",
    "the positive index of B is 1\n",
    "===========for /while ============\n",
    "the negative index of A is 0\n",
    "the negative index of B is 1\n",
    "============for /while =============\n",
    "the positive index of A is 0 and negative index is -4\n",
    "the positive index of B is 1 and negative index is -3"
   ]
  },
  {
   "cell_type": "code",
   "execution_count": 84,
   "id": "518c0a04",
   "metadata": {},
   "outputs": [
    {
     "name": "stdout",
     "output_type": "stream",
     "text": [
      "the positive index of A is 0\n",
      "the positive index of B is 1\n",
      "the positive index of C is 2\n",
      "the positive index of D is 3\n"
     ]
    }
   ],
   "source": [
    "for i in range(len(list2)):\n",
    "    print(\"the positive index of {} is {}\".format(list2[i],i))"
   ]
  },
  {
   "cell_type": "code",
   "execution_count": 86,
   "id": "73a9b6c9",
   "metadata": {},
   "outputs": [
    {
     "name": "stdout",
     "output_type": "stream",
     "text": [
      "the positive index of A is 0\n",
      "the positive index of B is 1\n",
      "the positive index of C is 2\n",
      "the positive index of D is 3\n"
     ]
    }
   ],
   "source": [
    "i=0\n",
    "while(i<len(list2)):\n",
    "    print(\"the positive index of {} is {}\".format(list2[i],i))\n",
    "    i=i+1"
   ]
  },
  {
   "cell_type": "code",
   "execution_count": 87,
   "id": "0a6ac438",
   "metadata": {},
   "outputs": [
    {
     "name": "stdout",
     "output_type": "stream",
     "text": [
      "the negative index of A is 0\n",
      "the negative index of B is 1\n",
      "the negative index of C is 2\n",
      "the negative index of D is 3\n"
     ]
    }
   ],
   "source": [
    "for i in range(len(list2)):\n",
    "    print(\"the negative index of {} is {}\".format(list2[i],i))"
   ]
  },
  {
   "cell_type": "code",
   "execution_count": 88,
   "id": "18b08982",
   "metadata": {},
   "outputs": [
    {
     "name": "stdout",
     "output_type": "stream",
     "text": [
      "the negative index of A is 0\n",
      "the negative index of B is 1\n",
      "the negative index of C is 2\n",
      "the negative index of D is 3\n"
     ]
    }
   ],
   "source": [
    "i=0\n",
    "while(i<len(list2)):\n",
    "    print(\"the negative index of {} is {}\".format(list2[i],i))\n",
    "    i=i+1"
   ]
  },
  {
   "cell_type": "code",
   "execution_count": 89,
   "id": "72ebc132",
   "metadata": {},
   "outputs": [
    {
     "name": "stdout",
     "output_type": "stream",
     "text": [
      "the positive index of A is 0 and negative index is -4\n",
      "the positive index of B is 1 and negative index is -3\n",
      "the positive index of C is 2 and negative index is -2\n",
      "the positive index of D is 3 and negative index is -1\n"
     ]
    }
   ],
   "source": [
    "for i in range(len(list2)):\n",
    "    print(\"the positive index of {} is {} and negative index is {}\".format(list2[i],i,i-len(list2)))"
   ]
  },
  {
   "cell_type": "code",
   "execution_count": 90,
   "id": "3e40f1af",
   "metadata": {},
   "outputs": [
    {
     "name": "stdout",
     "output_type": "stream",
     "text": [
      "the positive index of A is 0 and negative index is -4\n",
      "the positive index of B is 1 and negative index is -3\n",
      "the positive index of C is 2 and negative index is -2\n",
      "the positive index of D is 3 and negative index is -1\n"
     ]
    }
   ],
   "source": [
    "i=0\n",
    "while(i<len(list2)):\n",
    "    print(\"the positive index of {} is {} and negative index is {}\".format(list2[i],i,i-len(list2)))\n",
    "    i=i+1"
   ]
  },
  {
   "cell_type": "markdown",
   "id": "96fa4dd3",
   "metadata": {},
   "source": [
    "# list is mutable "
   ]
  },
  {
   "cell_type": "code",
   "execution_count": 94,
   "id": "caaead9f",
   "metadata": {},
   "outputs": [
    {
     "data": {
      "text/plain": [
       "['A', 'B', 'C', 'D']"
      ]
     },
     "execution_count": 94,
     "metadata": {},
     "output_type": "execute_result"
    }
   ],
   "source": [
    "list2"
   ]
  },
  {
   "cell_type": "code",
   "execution_count": 95,
   "id": "2b27f23c",
   "metadata": {},
   "outputs": [
    {
     "data": {
      "text/plain": [
       "['AAA', 'B', 'C', 'D']"
      ]
     },
     "execution_count": 95,
     "metadata": {},
     "output_type": "execute_result"
    }
   ],
   "source": [
    "list2[0]='AAA'\n",
    "list2"
   ]
  },
  {
   "cell_type": "code",
   "execution_count": 122,
   "id": "51eb5a73",
   "metadata": {},
   "outputs": [
    {
     "data": {
      "text/plain": [
       "4"
      ]
     },
     "execution_count": 122,
     "metadata": {},
     "output_type": "execute_result"
    }
   ],
   "source": [
    "list1=[[[[[1,2,3,4]]]]]\n",
    "list1[0][0][0][0][3]"
   ]
  },
  {
   "cell_type": "code",
   "execution_count": 139,
   "id": "a7181c5c",
   "metadata": {},
   "outputs": [
    {
     "data": {
      "text/plain": [
       "'cherry'"
      ]
     },
     "execution_count": 139,
     "metadata": {},
     "output_type": "execute_result"
    }
   ],
   "source": [
    "list2=[[[[['A','B',[1,2,3,['cherry']]]]]]]\n",
    "list2[0][0][0][0][2][3][0]"
   ]
  },
  {
   "cell_type": "code",
   "execution_count": 165,
   "id": "a2a0e1cf",
   "metadata": {},
   "outputs": [
    {
     "name": "stdout",
     "output_type": "stream",
     "text": [
      "1\n",
      "2\n",
      "3\n"
     ]
    }
   ],
   "source": [
    "list1=[[1,2,3]]\n",
    "list2=list1[0]\n",
    "for i in range(len(list2)):\n",
    "    print(list2[i])"
   ]
  },
  {
   "cell_type": "markdown",
   "id": "ddb45b1d",
   "metadata": {},
   "source": [
    "# slice"
   ]
  },
  {
   "cell_type": "code",
   "execution_count": 1,
   "id": "751f1210",
   "metadata": {},
   "outputs": [],
   "source": [
    "list1=['A','B','C','D','E','F',1,2,3,4,5,6]"
   ]
  },
  {
   "cell_type": "code",
   "execution_count": 3,
   "id": "82775813",
   "metadata": {},
   "outputs": [
    {
     "name": "stdout",
     "output_type": "stream",
     "text": [
      "['C', 'E', 1, 3, 5]\n",
      "[]\n",
      "[]\n",
      "['C']\n",
      "[5]\n",
      "[]\n",
      "[5, 3, 1, 'E', 'C']\n",
      "[]\n"
     ]
    }
   ],
   "source": [
    "print(list1[2:11:2])    # p\n",
    "print(list1[2:11:-2])    # np\n",
    "print(list1[2:-11:2])    # np\n",
    "print(list1[2:-11:-2])   # p\n",
    "print(list1[-2:11:2])    # p\n",
    "print(list1[-2:-11:2])   # np\n",
    "print(list1[-2:-11:-2])  # p\n",
    "print(list1[-2:11:-2])   # np"
   ]
  },
  {
   "cell_type": "code",
   "execution_count": 14,
   "id": "78fa26f0",
   "metadata": {},
   "outputs": [
    {
     "name": "stdout",
     "output_type": "stream",
     "text": [
      "hyderabad\n",
      "delhi\n",
      "chennai\n"
     ]
    }
   ],
   "source": [
    "# wap ask the user print the elements which has length more than 4\n",
    "# list1=['hyderabad','delhi','chennai','blr']\n",
    "# output : hyderabad, chennai, delhi\n",
    "list1=['hyderabad','delhi','chennai','blr']\n",
    "for i in list1:\n",
    "    if(len(i)>4):\n",
    "        print(i)"
   ]
  },
  {
   "cell_type": "code",
   "execution_count": 21,
   "id": "8634d2d1",
   "metadata": {},
   "outputs": [
    {
     "name": "stdout",
     "output_type": "stream",
     "text": [
      "hyderabad\n",
      "delhi\n",
      "chennai\n"
     ]
    }
   ],
   "source": [
    "list1=['hyderabad','delhi','chennai','blr']\n",
    "for i in range(len(list1)):\n",
    "    if len(list1[i])>4:\n",
    "        print(list1[i])"
   ]
  },
  {
   "cell_type": "markdown",
   "id": "ee39b9bb",
   "metadata": {},
   "source": [
    "- in operators ====== direct element\n",
    "\n",
    "- range() requires a number inside the bracket\n",
    "\n",
    "- that number indicates index of the element"
   ]
  },
  {
   "cell_type": "code",
   "execution_count": 22,
   "id": "ce704479",
   "metadata": {},
   "outputs": [
    {
     "name": "stdout",
     "output_type": "stream",
     "text": [
      "hyderab#d\n",
      "chenn#i\n"
     ]
    }
   ],
   "source": [
    "# wap ask the user to print the elements which are having '#' in the element\n",
    "list1=['hyderab#d','delhi','chenn#i','blr']\n",
    "for i in list1:\n",
    "    if('#' in i):\n",
    "        print(i)"
   ]
  },
  {
   "cell_type": "code",
   "execution_count": 40,
   "id": "473d8693",
   "metadata": {},
   "outputs": [
    {
     "name": "stdout",
     "output_type": "stream",
     "text": [
      "hyderab#d\n",
      "chenn#i\n"
     ]
    }
   ],
   "source": [
    "list1=['hyderab#d','delhi','chenn#i','blr']\n",
    "i=0\n",
    "while i<len(list1):\n",
    "    if('#' in list1[i]):\n",
    "        print(list1[i])\n",
    "    i=i+1"
   ]
  },
  {
   "cell_type": "code",
   "execution_count": 45,
   "id": "a84335c6",
   "metadata": {},
   "outputs": [
    {
     "name": "stdout",
     "output_type": "stream",
     "text": [
      "Hyderab#d\n",
      "Haridwar\n"
     ]
    }
   ],
   "source": [
    "# wap ask the user print elements which are starting with 'H'\n",
    "list1=['Hyderab#d','Delhi','Chenn#i','b#lr','Haridwar']\n",
    "for i in range(len(list1)):\n",
    "    if(list1[i][0]=='H'):\n",
    "        print(list1[i])"
   ]
  },
  {
   "cell_type": "code",
   "execution_count": 48,
   "id": "486af9c6",
   "metadata": {},
   "outputs": [
    {
     "name": "stdout",
     "output_type": "stream",
     "text": [
      "Hyderab#d\n",
      "haridwar\n"
     ]
    }
   ],
   "source": [
    "list1=['Hyderab#d','Delhi','Chenn#i','b#lr','haridwar']\n",
    "for i in range(len(list1)):\n",
    "    if(list1[i].lower()[0]=='h'):\n",
    "        print(list1[i])"
   ]
  },
  {
   "cell_type": "code",
   "execution_count": 49,
   "id": "e9031eae",
   "metadata": {},
   "outputs": [
    {
     "name": "stdout",
     "output_type": "stream",
     "text": [
      "Hyderab#d\n",
      "haridwar\n"
     ]
    }
   ],
   "source": [
    "for i in list1:\n",
    "    if(i.lower().startswith('h')):\n",
    "        print(i)"
   ]
  },
  {
   "cell_type": "code",
   "execution_count": 87,
   "id": "1f310c3e",
   "metadata": {},
   "outputs": [
    {
     "name": "stdout",
     "output_type": "stream",
     "text": [
      "nallagoni\n",
      "pasha\n",
      "kadam\n"
     ]
    }
   ],
   "source": [
    "list1=['omkar.nallagoni@gmail.com','kareem.pasha@gmail.com','santhosh.kadam@gmail.com']\n",
    "# print the second names\n",
    "for i in list1:\n",
    "    print(i[i.index('.')+1:i.index('@')])"
   ]
  },
  {
   "cell_type": "code",
   "execution_count": 119,
   "id": "f1dae29d",
   "metadata": {},
   "outputs": [
    {
     "name": "stdout",
     "output_type": "stream",
     "text": [
      "nallagoni\n",
      "pasha\n",
      "kadam\n"
     ]
    }
   ],
   "source": [
    "list1=['omkar.nallagoni@gmail.com','kareem.pasha@gmail.com','santhosh.kadam@gmail.com']\n",
    "for i in list1:\n",
    "    print(i.split('@')[0].split('.')[1])"
   ]
  },
  {
   "cell_type": "markdown",
   "id": "eca402fe",
   "metadata": {},
   "source": [
    "# list methods"
   ]
  },
  {
   "cell_type": "code",
   "execution_count": 97,
   "id": "f62cdc82",
   "metadata": {},
   "outputs": [
    {
     "data": {
      "text/plain": [
       "['__add__',\n",
       " '__class__',\n",
       " '__class_getitem__',\n",
       " '__contains__',\n",
       " '__delattr__',\n",
       " '__delitem__',\n",
       " '__dir__',\n",
       " '__doc__',\n",
       " '__eq__',\n",
       " '__format__',\n",
       " '__ge__',\n",
       " '__getattribute__',\n",
       " '__getitem__',\n",
       " '__getstate__',\n",
       " '__gt__',\n",
       " '__hash__',\n",
       " '__iadd__',\n",
       " '__imul__',\n",
       " '__init__',\n",
       " '__init_subclass__',\n",
       " '__iter__',\n",
       " '__le__',\n",
       " '__len__',\n",
       " '__lt__',\n",
       " '__mul__',\n",
       " '__ne__',\n",
       " '__new__',\n",
       " '__reduce__',\n",
       " '__reduce_ex__',\n",
       " '__repr__',\n",
       " '__reversed__',\n",
       " '__rmul__',\n",
       " '__setattr__',\n",
       " '__setitem__',\n",
       " '__sizeof__',\n",
       " '__str__',\n",
       " '__subclasshook__',\n",
       " 'append',\n",
       " 'clear',\n",
       " 'copy',\n",
       " 'count',\n",
       " 'extend',\n",
       " 'index',\n",
       " 'insert',\n",
       " 'pop',\n",
       " 'remove',\n",
       " 'reverse',\n",
       " 'sort']"
      ]
     },
     "execution_count": 97,
     "metadata": {},
     "output_type": "execute_result"
    }
   ],
   "source": [
    "dir([])"
   ]
  },
  {
   "cell_type": "markdown",
   "id": "01ceede3",
   "metadata": {},
   "source": [
    "## append"
   ]
  },
  {
   "cell_type": "code",
   "execution_count": 101,
   "id": "79cbe921",
   "metadata": {},
   "outputs": [
    {
     "data": {
      "text/plain": [
       "[100, 200, 300, 400]"
      ]
     },
     "execution_count": 101,
     "metadata": {},
     "output_type": "execute_result"
    }
   ],
   "source": [
    "list1=[100,200,300]\n",
    "# now you want to append a new element\n",
    "list1.append(400)\n",
    "# answer will save automatically in original list\n",
    "list1"
   ]
  },
  {
   "cell_type": "code",
   "execution_count": 103,
   "id": "374dd28e",
   "metadata": {},
   "outputs": [
    {
     "data": {
      "text/plain": [
       "[20]"
      ]
     },
     "execution_count": 103,
     "metadata": {},
     "output_type": "execute_result"
    }
   ],
   "source": [
    "l1=[]\n",
    "l1.append(20)\n",
    "l1"
   ]
  },
  {
   "cell_type": "code",
   "execution_count": 108,
   "id": "665017b4",
   "metadata": {},
   "outputs": [
    {
     "data": {
      "text/plain": [
       "[[10, 20, 30], 'python']"
      ]
     },
     "execution_count": 108,
     "metadata": {},
     "output_type": "execute_result"
    }
   ],
   "source": [
    "l2=[]\n",
    "l2.append([10,20,30])\n",
    "l2.append('python')\n",
    "l2"
   ]
  },
  {
   "cell_type": "code",
   "execution_count": 110,
   "id": "63681b6b",
   "metadata": {},
   "outputs": [
    {
     "name": "stdout",
     "output_type": "stream",
     "text": [
      "hyderabad\n",
      "delhi\n",
      "chennai\n"
     ]
    }
   ],
   "source": [
    "# suppose if you want to save the output in a seperate list, you can go with append\n",
    "list1=['hyderabad','delhi','chennai','blr']\n",
    "for i in list1:\n",
    "    if(len(i)>4):\n",
    "        print(i)"
   ]
  },
  {
   "cell_type": "code",
   "execution_count": 111,
   "id": "ad8f8c90",
   "metadata": {},
   "outputs": [
    {
     "data": {
      "text/plain": [
       "['hyderabad', 'delhi', 'chennai']"
      ]
     },
     "execution_count": 111,
     "metadata": {},
     "output_type": "execute_result"
    }
   ],
   "source": [
    "list1=['hyderabad','delhi','chennai','blr']\n",
    "city_list=[]\n",
    "for i in list1:\n",
    "    if(len(i)>4):\n",
    "        city_list.append(i)\n",
    "city_list"
   ]
  },
  {
   "cell_type": "code",
   "execution_count": 114,
   "id": "bb8e44c3",
   "metadata": {},
   "outputs": [
    {
     "name": "stdout",
     "output_type": "stream",
     "text": [
      "hyderab#d\n",
      "chenn#i\n"
     ]
    }
   ],
   "source": [
    "list1=['hyderab#d','delhi','chenn#i','blr']\n",
    "for i in list1:\n",
    "    if('#' in i):\n",
    "        print(i)"
   ]
  },
  {
   "cell_type": "code",
   "execution_count": 115,
   "id": "357921b6",
   "metadata": {},
   "outputs": [
    {
     "data": {
      "text/plain": [
       "['hyderab#d', 'chenn#i']"
      ]
     },
     "execution_count": 115,
     "metadata": {},
     "output_type": "execute_result"
    }
   ],
   "source": [
    "list1=['hyderab#d','delhi','chenn#i','blr']\n",
    "city_list1=[]\n",
    "for i in list1:\n",
    "    if('#' in i):\n",
    "        city_list1.append(i)\n",
    "city_list1"
   ]
  },
  {
   "cell_type": "code",
   "execution_count": 116,
   "id": "6f44a986",
   "metadata": {},
   "outputs": [
    {
     "name": "stdout",
     "output_type": "stream",
     "text": [
      "Hyderab#d\n",
      "haridwar\n"
     ]
    }
   ],
   "source": [
    "list1=['Hyderab#d','Delhi','Chenn#i','b#lr','haridwar']\n",
    "for i in range(len(list1)):\n",
    "    if(list1[i].lower()[0]=='h'):\n",
    "        print(list1[i])"
   ]
  },
  {
   "cell_type": "code",
   "execution_count": 118,
   "id": "4686c342",
   "metadata": {},
   "outputs": [
    {
     "data": {
      "text/plain": [
       "['Hyderab#d', 'haridwar']"
      ]
     },
     "execution_count": 118,
     "metadata": {},
     "output_type": "execute_result"
    }
   ],
   "source": [
    "list1=['Hyderab#d','Delhi','Chenn#i','b#lr','haridwar']\n",
    "city_list2=[]\n",
    "for i in range(len(list1)):\n",
    "    if(list1[i].lower()[0]=='h'):\n",
    "        city_list2.append(list1[i])\n",
    "city_list2"
   ]
  },
  {
   "cell_type": "code",
   "execution_count": 120,
   "id": "7b19e9e1",
   "metadata": {},
   "outputs": [
    {
     "name": "stdout",
     "output_type": "stream",
     "text": [
      "nallagoni\n",
      "pasha\n",
      "kadam\n"
     ]
    }
   ],
   "source": [
    "list1=['omkar.nallagoni@gmail.com','kareem.pasha@gmail.com','santhosh.kadam@gmail.com']\n",
    "for i in list1:\n",
    "    print(i.split('@')[0].split('.')[1])"
   ]
  },
  {
   "cell_type": "code",
   "execution_count": 127,
   "id": "4f860341",
   "metadata": {},
   "outputs": [
    {
     "name": "stdout",
     "output_type": "stream",
     "text": [
      "['omkar', 'kareem', 'santhosh']\n",
      "['nallagoni', 'pasha', 'kadam']\n"
     ]
    }
   ],
   "source": [
    "list1=['omkar.nallagoni@gmail.com','kareem.pasha@gmail.com','santhosh.kadam@gmail.com']\n",
    "city_list4=[]\n",
    "city_list5=[]\n",
    "for i in list1:\n",
    "    city_list5.append(i.split('.')[0])\n",
    "    city_list4.append(i.split('@')[0].split('.')[1])\n",
    "    \n",
    "print(city_list5)\n",
    "print(city_list4)"
   ]
  },
  {
   "cell_type": "code",
   "execution_count": 177,
   "id": "a43c56fe",
   "metadata": {},
   "outputs": [
    {
     "data": {
      "text/plain": [
       "[44, 44, 44, 44, 44, 44, 44, 44, 44, 44]"
      ]
     },
     "execution_count": 177,
     "metadata": {},
     "output_type": "execute_result"
    }
   ],
   "source": [
    "# wap ask the user get 10 random numbers between 10 to 50\n",
    "# get the even and odd number from those 10 random numbers\n",
    "\n",
    "# take two empty lists : even and odd\n",
    "# save the results in even and odd\n",
    "import random\n",
    "even_list=[]\n",
    "odd_list=[]\n",
    "for i in range(10):\n",
    "    n=random.randint(1,50)\n",
    "    if(n%2==0):\n",
    "        even_list.append(n)\n",
    "    else:\n",
    "        odd_list.append(n)\n",
    "    \n",
    "############################################# \n",
    "output9=[n if(n%2==0) else n for i in range(10)]\n",
    "output9"
   ]
  },
  {
   "cell_type": "code",
   "execution_count": 141,
   "id": "f4ac899a",
   "metadata": {},
   "outputs": [
    {
     "data": {
      "text/plain": [
       "[28, 30, 6, 16]"
      ]
     },
     "execution_count": 141,
     "metadata": {},
     "output_type": "execute_result"
    }
   ],
   "source": [
    "even_list"
   ]
  },
  {
   "cell_type": "code",
   "execution_count": 142,
   "id": "75a5d955",
   "metadata": {},
   "outputs": [
    {
     "data": {
      "text/plain": [
       "[25, 9, 23, 15, 45, 13]"
      ]
     },
     "execution_count": 142,
     "metadata": {},
     "output_type": "execute_result"
    }
   ],
   "source": [
    "odd_list"
   ]
  },
  {
   "cell_type": "markdown",
   "id": "5d5dee0b",
   "metadata": {},
   "source": [
    "## list comprehension"
   ]
  },
  {
   "cell_type": "code",
   "execution_count": 144,
   "id": "56076cb5",
   "metadata": {},
   "outputs": [
    {
     "data": {
      "text/plain": [
       "['hyderabad', 'delhi', 'chennai']"
      ]
     },
     "execution_count": 144,
     "metadata": {},
     "output_type": "execute_result"
    }
   ],
   "source": [
    "list1=['hyderabad','delhi','chennai','blr']\n",
    "city_list=[]\n",
    "for i in list1:\n",
    "    if(len(i)>4):\n",
    "        city_list.append(i)\n",
    "city_list\n",
    "\n",
    "# start: you have taken an empty list\n",
    "# end : appending the results\n",
    "\n",
    "output=[i for i in list1 if(len(i)>4)]\n",
    "output"
   ]
  },
  {
   "cell_type": "code",
   "execution_count": 146,
   "id": "ab27ed32",
   "metadata": {},
   "outputs": [
    {
     "data": {
      "text/plain": [
       "['hyderab#d', 'chenn#i']"
      ]
     },
     "execution_count": 146,
     "metadata": {},
     "output_type": "execute_result"
    }
   ],
   "source": [
    "list1=['hyderab#d','delhi','chenn#i','blr']\n",
    "city_list1=[]\n",
    "for i in list1:\n",
    "    if('#' in i):\n",
    "        city_list1.append(i)\n",
    "city_list1\n",
    "\n",
    "####################################################\n",
    "output1=[i for i in list1 if('#' in i)]\n",
    "output1"
   ]
  },
  {
   "cell_type": "code",
   "execution_count": 156,
   "id": "9bc4f138",
   "metadata": {},
   "outputs": [
    {
     "data": {
      "text/plain": [
       "['Hyderab#d', 'haridwar']"
      ]
     },
     "execution_count": 156,
     "metadata": {},
     "output_type": "execute_result"
    }
   ],
   "source": [
    "list1=['Hyderab#d','Delhi','Chenn#i','b#lr','haridwar']\n",
    "city_list2=[]\n",
    "for i in range(len(list1)):\n",
    "    if(list1[i].lower()[0]=='h'):\n",
    "        city_list2.append(list1[i])\n",
    "city_list2\n",
    "\n",
    "#################################################\n",
    "output2=[list1[i] for i in range(len(list1)) if(list1[i].lower()[0]=='h')]\n",
    "output2"
   ]
  },
  {
   "cell_type": "code",
   "execution_count": 165,
   "id": "8c7f39d3",
   "metadata": {},
   "outputs": [
    {
     "data": {
      "text/plain": [
       "(['omkar', 'kareem', 'santhosh'], ['nallagoni', 'pasha', 'kadam'])"
      ]
     },
     "execution_count": 165,
     "metadata": {},
     "output_type": "execute_result"
    }
   ],
   "source": [
    "list1=['omkar.nallagoni@gmail.com','kareem.pasha@gmail.com','santhosh.kadam@gmail.com']\n",
    "city_list4=[]\n",
    "city_list5=[]\n",
    "for i in list1:\n",
    "    city_list5.append(i.split('.')[0])\n",
    "    city_list4.append(i.split('@')[0].split('.')[1])\n",
    "    \n",
    "city_list5\n",
    "city_list4\n",
    "\n",
    "##################################################\n",
    "output3=[i.split('.')[0] for i in list1]\n",
    "output4=[i.split('@')[0].split('.')[1] for i in list1]\n",
    "output3,output4"
   ]
  },
  {
   "cell_type": "code",
   "execution_count": 158,
   "id": "28dd7114",
   "metadata": {},
   "outputs": [
    {
     "data": {
      "text/plain": [
       "[0, 1, 4, 9, 16]"
      ]
     },
     "execution_count": 158,
     "metadata": {},
     "output_type": "execute_result"
    }
   ],
   "source": [
    "square=[]\n",
    "for i in range(5):\n",
    "    square.append(i*i)\n",
    "\n",
    "square"
   ]
  },
  {
   "cell_type": "code",
   "execution_count": 160,
   "id": "2cd3258f",
   "metadata": {},
   "outputs": [
    {
     "data": {
      "text/plain": [
       "[0, 1, 4, 9, 16]"
      ]
     },
     "execution_count": 160,
     "metadata": {},
     "output_type": "execute_result"
    }
   ],
   "source": [
    "output7=[i*i for i in range(5)]\n",
    "output7"
   ]
  },
  {
   "cell_type": "code",
   "execution_count": null,
   "id": "dedea813",
   "metadata": {},
   "outputs": [],
   "source": []
  },
  {
   "cell_type": "code",
   "execution_count": 179,
   "id": "891107a8",
   "metadata": {},
   "outputs": [
    {
     "data": {
      "text/plain": [
       "['even: 0',\n",
       " 'odd: 1',\n",
       " 'even: 2',\n",
       " 'odd: 3',\n",
       " 'even: 4',\n",
       " 'odd: 5',\n",
       " 'even: 6',\n",
       " 'odd: 7',\n",
       " 'even: 8',\n",
       " 'odd: 9']"
      ]
     },
     "execution_count": 179,
     "metadata": {},
     "output_type": "execute_result"
    }
   ],
   "source": [
    "# if else\n",
    "even_odd=[]\n",
    "for i in range(10):\n",
    "    if(i%2==0):\n",
    "        even_odd.append(\"even: {}\".format(i))\n",
    "    else:\n",
    "        even_odd.append(\"odd: {}\".format(i))\n",
    "    \n",
    "even_odd\n",
    "\n",
    "###################################################3333\n",
    "output3=[\"even: {}\".format(i) if(i%2==0) else \"odd: {}\".format(i) for i in range(10)]\n",
    "output3"
   ]
  },
  {
   "cell_type": "code",
   "execution_count": 181,
   "id": "08d53761",
   "metadata": {},
   "outputs": [
    {
     "data": {
      "text/plain": [
       "[0, 'odd', 2, 'odd', 4, 'odd', 6, 'odd', 8, 'odd']"
      ]
     },
     "execution_count": 181,
     "metadata": {},
     "output_type": "execute_result"
    }
   ],
   "source": [
    "output7=[i if(i%2==0) else 'odd' for i in range(10)]\n",
    "output7"
   ]
  },
  {
   "cell_type": "code",
   "execution_count": null,
   "id": "9234877e",
   "metadata": {},
   "outputs": [],
   "source": [
    "[<output> <for loop> <if con>]    # for with if\n",
    "\n",
    "[<if out> <if_cond> else <else_out> <for>]   # for with if-else"
   ]
  },
  {
   "cell_type": "code",
   "execution_count": null,
   "id": "efa31d03",
   "metadata": {},
   "outputs": [],
   "source": []
  },
  {
   "cell_type": "code",
   "execution_count": 3,
   "id": "0f745bf8",
   "metadata": {},
   "outputs": [
    {
     "name": "stdout",
     "output_type": "stream",
     "text": [
      "Apple is good\n",
      "Ball is good\n",
      "Cat is better\n",
      "Dog is better\n",
      "Elephant is good\n"
     ]
    }
   ],
   "source": [
    "list1=['Apple','Ball','Cat','Dog','Elephant']\n",
    "# if len(elements)>3 print it is good\n",
    "# else print it is better\n",
    "\n",
    "for i in list1:\n",
    "    if(len(i)>3):\n",
    "        print(\"{} is good\".format(i))\n",
    "    else:\n",
    "        print(\"{} is better\".format(i))"
   ]
  },
  {
   "cell_type": "code",
   "execution_count": 12,
   "id": "c6d354bc",
   "metadata": {},
   "outputs": [
    {
     "data": {
      "text/plain": [
       "['Apple is good',\n",
       " 'Ball is good',\n",
       " 'Cat is better',\n",
       " 'Dog is better',\n",
       " 'Elephant is good']"
      ]
     },
     "execution_count": 12,
     "metadata": {},
     "output_type": "execute_result"
    }
   ],
   "source": [
    "list1=['Apple','Ball','Cat','Dog','Elephant']\n",
    "items=[]\n",
    "for i in list1:\n",
    "    if(len(i)>3):\n",
    "        items.append('{} is good'.format(i))\n",
    "    else:\n",
    "        items.append('{} is better'.format(i))\n",
    "        \n",
    "items"
   ]
  },
  {
   "cell_type": "code",
   "execution_count": 13,
   "id": "6283ec91",
   "metadata": {},
   "outputs": [],
   "source": [
    "output=['{} is good'.format(i) if(len(i)>3) else '{} is better'.format(i) for i in list1]"
   ]
  },
  {
   "cell_type": "code",
   "execution_count": 15,
   "id": "11ffe0f4",
   "metadata": {},
   "outputs": [
    {
     "data": {
      "text/plain": [
       "['Apple is good',\n",
       " 'Ball is good',\n",
       " 'Cat is better',\n",
       " 'Dog is better',\n",
       " 'Elephant is good']"
      ]
     },
     "execution_count": 15,
     "metadata": {},
     "output_type": "execute_result"
    }
   ],
   "source": [
    "output"
   ]
  },
  {
   "cell_type": "markdown",
   "id": "99744e15",
   "metadata": {},
   "source": [
    "# clear"
   ]
  },
  {
   "cell_type": "code",
   "execution_count": 20,
   "id": "10692784",
   "metadata": {},
   "outputs": [
    {
     "data": {
      "text/plain": [
       "[]"
      ]
     },
     "execution_count": 20,
     "metadata": {},
     "output_type": "execute_result"
    }
   ],
   "source": [
    "list1.clear()\n",
    "list1\n",
    "\n",
    "# clear will clear all the elements in the list"
   ]
  },
  {
   "cell_type": "code",
   "execution_count": 21,
   "id": "9a8d7c92",
   "metadata": {},
   "outputs": [
    {
     "data": {
      "text/plain": [
       "[]"
      ]
     },
     "execution_count": 21,
     "metadata": {},
     "output_type": "execute_result"
    }
   ],
   "source": [
    "list2=[1,2,3,4]\n",
    "list2.clear()\n",
    "list2"
   ]
  },
  {
   "cell_type": "code",
   "execution_count": 32,
   "id": "4aaa49a4",
   "metadata": {},
   "outputs": [],
   "source": [
    "list1=[100,200,300]\n",
    "del list1[0]\n",
    "\n",
    "# del is not a method\n",
    "# to delet a specific element in the list"
   ]
  },
  {
   "cell_type": "code",
   "execution_count": 33,
   "id": "fb0fb8dd",
   "metadata": {},
   "outputs": [
    {
     "data": {
      "text/plain": [
       "[200, 300]"
      ]
     },
     "execution_count": 33,
     "metadata": {},
     "output_type": "execute_result"
    }
   ],
   "source": [
    "list1"
   ]
  },
  {
   "cell_type": "code",
   "execution_count": 50,
   "id": "2a060c15",
   "metadata": {},
   "outputs": [],
   "source": [
    "list1=[1,2,3,4,5]\n",
    "list1.pop()\n",
    "list1.remove(1)"
   ]
  },
  {
   "cell_type": "code",
   "execution_count": 52,
   "id": "f1dec678",
   "metadata": {},
   "outputs": [],
   "source": [
    "list1.remove(2)"
   ]
  },
  {
   "cell_type": "code",
   "execution_count": 53,
   "id": "7f798beb",
   "metadata": {},
   "outputs": [
    {
     "data": {
      "text/plain": [
       "[3, 4]"
      ]
     },
     "execution_count": 53,
     "metadata": {},
     "output_type": "execute_result"
    }
   ],
   "source": [
    "list1"
   ]
  },
  {
   "cell_type": "markdown",
   "id": "ca23a2d7",
   "metadata": {},
   "source": [
    "### pop"
   ]
  },
  {
   "cell_type": "code",
   "execution_count": 54,
   "id": "aba3141b",
   "metadata": {},
   "outputs": [
    {
     "data": {
      "text/plain": [
       "'E'"
      ]
     },
     "execution_count": 54,
     "metadata": {},
     "output_type": "execute_result"
    }
   ],
   "source": [
    "list1=['A','B','C','D','E']\n",
    "list1.pop()\n",
    "\n",
    "# default argument index = -1\n",
    "# which is last element\n",
    "# if you not provide any value, it will delete the last element\n",
    "# it is also return which value deleted\n",
    "# and it saves result in the same list"
   ]
  },
  {
   "cell_type": "code",
   "execution_count": 55,
   "id": "ce90b2dc",
   "metadata": {},
   "outputs": [
    {
     "data": {
      "text/plain": [
       "['A', 'B', 'C', 'D']"
      ]
     },
     "execution_count": 55,
     "metadata": {},
     "output_type": "execute_result"
    }
   ],
   "source": [
    "list1"
   ]
  },
  {
   "cell_type": "code",
   "execution_count": 56,
   "id": "c86ea391",
   "metadata": {},
   "outputs": [
    {
     "data": {
      "text/plain": [
       "'D'"
      ]
     },
     "execution_count": 56,
     "metadata": {},
     "output_type": "execute_result"
    }
   ],
   "source": [
    "list1.pop(3)   # here 3 is index "
   ]
  },
  {
   "cell_type": "markdown",
   "id": "28745915",
   "metadata": {},
   "source": [
    "### remove"
   ]
  },
  {
   "cell_type": "code",
   "execution_count": 60,
   "id": "84e0d41f",
   "metadata": {},
   "outputs": [],
   "source": [
    "list1=['A','B','C','D','E']\n",
    "list1.remove('D')\n",
    "\n",
    "# it takes element of the list directly\n",
    "# it will not return anything\n",
    "# it also saves results in same list"
   ]
  },
  {
   "cell_type": "code",
   "execution_count": 61,
   "id": "9bc13fd0",
   "metadata": {},
   "outputs": [
    {
     "data": {
      "text/plain": [
       "['A', 'B', 'C', 'E']"
      ]
     },
     "execution_count": 61,
     "metadata": {},
     "output_type": "execute_result"
    }
   ],
   "source": [
    "list1"
   ]
  },
  {
   "cell_type": "code",
   "execution_count": null,
   "id": "e9325211",
   "metadata": {},
   "outputs": [],
   "source": []
  },
  {
   "cell_type": "code",
   "execution_count": 67,
   "id": "c29b755e",
   "metadata": {},
   "outputs": [
    {
     "data": {
      "text/plain": [
       "[1,\n",
       " 4,\n",
       " 7,\n",
       " 10,\n",
       " 13,\n",
       " 16,\n",
       " 19,\n",
       " 22,\n",
       " 25,\n",
       " 28,\n",
       " 31,\n",
       " 34,\n",
       " 37,\n",
       " 40,\n",
       " 43,\n",
       " 46,\n",
       " 49,\n",
       " 52,\n",
       " 55,\n",
       " 58,\n",
       " 61,\n",
       " 64,\n",
       " 67,\n",
       " 70,\n",
       " 73,\n",
       " 76,\n",
       " 79,\n",
       " 82,\n",
       " 85,\n",
       " 88,\n",
       " 91,\n",
       " 94,\n",
       " 97]"
      ]
     },
     "execution_count": 67,
     "metadata": {},
     "output_type": "execute_result"
    }
   ],
   "source": [
    "list2=[i for i in range(1,100,3)]\n",
    "list2\n",
    "\n",
    "# from this list2, i want to delete number 55"
   ]
  },
  {
   "cell_type": "code",
   "execution_count": 63,
   "id": "0809015f",
   "metadata": {},
   "outputs": [],
   "source": [
    "list2.remove(55)"
   ]
  },
  {
   "cell_type": "code",
   "execution_count": 64,
   "id": "9e77ab28",
   "metadata": {},
   "outputs": [
    {
     "data": {
      "text/plain": [
       "[1,\n",
       " 4,\n",
       " 7,\n",
       " 10,\n",
       " 13,\n",
       " 16,\n",
       " 19,\n",
       " 22,\n",
       " 25,\n",
       " 28,\n",
       " 31,\n",
       " 34,\n",
       " 37,\n",
       " 40,\n",
       " 43,\n",
       " 46,\n",
       " 49,\n",
       " 52,\n",
       " 58,\n",
       " 61,\n",
       " 64,\n",
       " 67,\n",
       " 70,\n",
       " 73,\n",
       " 76,\n",
       " 79,\n",
       " 82,\n",
       " 85,\n",
       " 88,\n",
       " 91,\n",
       " 94,\n",
       " 97]"
      ]
     },
     "execution_count": 64,
     "metadata": {},
     "output_type": "execute_result"
    }
   ],
   "source": [
    "list2"
   ]
  },
  {
   "cell_type": "code",
   "execution_count": null,
   "id": "cd0190fb",
   "metadata": {},
   "outputs": [],
   "source": []
  },
  {
   "cell_type": "markdown",
   "id": "2bbf2888",
   "metadata": {},
   "source": [
    "# index"
   ]
  },
  {
   "cell_type": "code",
   "execution_count": 69,
   "id": "4ae483cb",
   "metadata": {},
   "outputs": [
    {
     "data": {
      "text/plain": [
       "['A', 'B', 'C', 'E']"
      ]
     },
     "execution_count": 69,
     "metadata": {},
     "output_type": "execute_result"
    }
   ],
   "source": [
    "list1"
   ]
  },
  {
   "cell_type": "code",
   "execution_count": 70,
   "id": "71c160b5",
   "metadata": {},
   "outputs": [
    {
     "data": {
      "text/plain": [
       "2"
      ]
     },
     "execution_count": 70,
     "metadata": {},
     "output_type": "execute_result"
    }
   ],
   "source": [
    "list1.index('C')"
   ]
  },
  {
   "cell_type": "code",
   "execution_count": 71,
   "id": "39204da2",
   "metadata": {},
   "outputs": [
    {
     "data": {
      "text/plain": [
       "'C'"
      ]
     },
     "execution_count": 71,
     "metadata": {},
     "output_type": "execute_result"
    }
   ],
   "source": [
    "list1.pop(list1.index('C'))"
   ]
  },
  {
   "cell_type": "code",
   "execution_count": 72,
   "id": "c9b0607a",
   "metadata": {},
   "outputs": [
    {
     "data": {
      "text/plain": [
       "['A', 'B', 'E']"
      ]
     },
     "execution_count": 72,
     "metadata": {},
     "output_type": "execute_result"
    }
   ],
   "source": [
    "list1"
   ]
  },
  {
   "cell_type": "code",
   "execution_count": null,
   "id": "de40448a",
   "metadata": {},
   "outputs": [],
   "source": []
  },
  {
   "cell_type": "code",
   "execution_count": 95,
   "id": "73913e72",
   "metadata": {},
   "outputs": [
    {
     "name": "stdout",
     "output_type": "stream",
     "text": [
      "['kl', 'virat', 'rohit']\n",
      "['rahul', 'kohli', 'sharma']\n",
      "['pune', 'banglore', 'mumbai']\n"
     ]
    }
   ],
   "source": [
    "string1='kl.rahul@pune.com','virat.kohli@banglore.com','rohit.sharma@mumbai.com'\n",
    "\n",
    "# first names\n",
    "# second names\n",
    "# company names(bcci)\n",
    "\n",
    "str1,str2,str3=[],[],[]\n",
    "for i in (string1):\n",
    "    str1.append(i.split('.')[0])\n",
    "    str2.append(i.split('@')[0].split('.')[1])\n",
    "    str3.append(i.split('@')[1].split('.')[0])\n",
    "print(str1)\n",
    "print(str2)\n",
    "print(str3)\n"
   ]
  },
  {
   "cell_type": "code",
   "execution_count": 126,
   "id": "8e6c0f28",
   "metadata": {},
   "outputs": [],
   "source": [
    "f_name1=[i.split('.')[0] for i in (string1)]\n",
    "s_name2=[i.split('@')[0].split('.')[1] for i in (string1)]\n",
    "c_name3=[i.split('@')[1].split('.')[0] for i in (string1)]"
   ]
  },
  {
   "cell_type": "code",
   "execution_count": 127,
   "id": "8126a138",
   "metadata": {},
   "outputs": [
    {
     "data": {
      "text/plain": [
       "(['kl', 'virat', 'rohit'],\n",
       " ['rahul', 'kohli', 'sharma'],\n",
       " ['pune', 'banglore', 'mumbai'])"
      ]
     },
     "execution_count": 127,
     "metadata": {},
     "output_type": "execute_result"
    }
   ],
   "source": [
    "f_name1,s_name2,c_name3"
   ]
  },
  {
   "cell_type": "code",
   "execution_count": null,
   "id": "3bfdb6db",
   "metadata": {},
   "outputs": [],
   "source": []
  },
  {
   "cell_type": "markdown",
   "id": "14f55aa4",
   "metadata": {},
   "source": [
    "- append\n",
    "\n",
    "- clear\n",
    "\n",
    "- pop\n",
    "\n",
    "- remove\n",
    "\n",
    "- index\n",
    "\n",
    "- del(not a method)"
   ]
  },
  {
   "cell_type": "markdown",
   "id": "3b94f959",
   "metadata": {},
   "source": [
    "# copy"
   ]
  },
  {
   "cell_type": "code",
   "execution_count": 133,
   "id": "89c5780a",
   "metadata": {},
   "outputs": [
    {
     "data": {
      "text/plain": [
       "['A', 'B', 'E']"
      ]
     },
     "execution_count": 133,
     "metadata": {},
     "output_type": "execute_result"
    }
   ],
   "source": [
    "list1.copy()"
   ]
  },
  {
   "cell_type": "code",
   "execution_count": 134,
   "id": "c5df9e0d",
   "metadata": {},
   "outputs": [
    {
     "data": {
      "text/plain": [
       "[1, 2, 3, 4, 5]"
      ]
     },
     "execution_count": 134,
     "metadata": {},
     "output_type": "execute_result"
    }
   ],
   "source": [
    "list1=[1,2,3,4,5,]\n",
    "list1.copy()"
   ]
  },
  {
   "cell_type": "code",
   "execution_count": 146,
   "id": "7eca17f8",
   "metadata": {},
   "outputs": [
    {
     "name": "stdout",
     "output_type": "stream",
     "text": [
      "[]\n",
      "[1, 2, 3, 4, 5]\n"
     ]
    }
   ],
   "source": [
    "list1=[1,2,3,4,5]\n",
    "list2=list1.copy()\n",
    "list1.clear()\n",
    "print(list1)\n",
    "print(list2)"
   ]
  },
  {
   "cell_type": "markdown",
   "id": "911faf62",
   "metadata": {},
   "source": [
    "# extend"
   ]
  },
  {
   "cell_type": "code",
   "execution_count": 159,
   "id": "7f2f2ac5",
   "metadata": {},
   "outputs": [],
   "source": [
    "list1=[1,2,3,4,5]\n",
    "list2=['A','B','C']\n",
    "list1.extend(list2)\n",
    "list2.extend(list1)"
   ]
  },
  {
   "cell_type": "code",
   "execution_count": 160,
   "id": "6a467d7b",
   "metadata": {},
   "outputs": [
    {
     "data": {
      "text/plain": [
       "([1, 2, 3, 4, 5, 'A', 'B', 'C'], ['A', 'B', 'C', 1, 2, 3, 4, 5, 'A', 'B', 'C'])"
      ]
     },
     "execution_count": 160,
     "metadata": {},
     "output_type": "execute_result"
    }
   ],
   "source": [
    "list1,list2"
   ]
  },
  {
   "cell_type": "code",
   "execution_count": null,
   "id": "a05470ac",
   "metadata": {},
   "outputs": [],
   "source": []
  },
  {
   "cell_type": "code",
   "execution_count": 178,
   "id": "e40c1f3d",
   "metadata": {},
   "outputs": [
    {
     "name": "stdout",
     "output_type": "stream",
     "text": [
      "Ram age is 25\n",
      "Raheem age is 30\n",
      "Robert age is 35\n"
     ]
    }
   ],
   "source": [
    "list1=[\"Ram\",\"Raheem\",\"Robert\"]\n",
    "list2=[25,30,35]\n",
    "\n",
    "# ram age is 25\n",
    "# raheem age is 30\n",
    "# robert age is 35\n",
    "\n",
    "for i in range(len(list1)):\n",
    "    if(len(list1[i])>0):\n",
    "        print(\"{} age is {}\".format(list1[i],list2[i]))"
   ]
  },
  {
   "cell_type": "markdown",
   "id": "71a6c951",
   "metadata": {},
   "source": [
    "# zip"
   ]
  },
  {
   "cell_type": "code",
   "execution_count": 170,
   "id": "0053d73a",
   "metadata": {},
   "outputs": [
    {
     "name": "stdout",
     "output_type": "stream",
     "text": [
      "Ram age is 25\n",
      "Raheem age is 30\n",
      "Robert age is 35\n"
     ]
    }
   ],
   "source": [
    "list1=[\"Ram\",\"Raheem\",\"Robert\"]\n",
    "list2=[25,30,35]\n",
    "for i,j in zip(list1,list2):\n",
    "    print('{} age is {}'.format(i,j))"
   ]
  },
  {
   "cell_type": "code",
   "execution_count": null,
   "id": "b4d1107e",
   "metadata": {},
   "outputs": [],
   "source": []
  },
  {
   "cell_type": "markdown",
   "id": "47f334f3",
   "metadata": {},
   "source": [
    "# sort"
   ]
  },
  {
   "cell_type": "code",
   "execution_count": 180,
   "id": "cf069a6c",
   "metadata": {},
   "outputs": [],
   "source": [
    "list2=['B','A','D','C']\n",
    "list2.sort()"
   ]
  },
  {
   "cell_type": "code",
   "execution_count": 182,
   "id": "9ffdbec9",
   "metadata": {},
   "outputs": [
    {
     "data": {
      "text/plain": [
       "['A', 'B', 'C', 'D']"
      ]
     },
     "execution_count": 182,
     "metadata": {},
     "output_type": "execute_result"
    }
   ],
   "source": [
    "list2"
   ]
  },
  {
   "cell_type": "code",
   "execution_count": 189,
   "id": "e2e924e9",
   "metadata": {},
   "outputs": [
    {
     "name": "stdout",
     "output_type": "stream",
     "text": [
      "['A', 'B', 'C', 'D']\n"
     ]
    }
   ],
   "source": [
    "print(list2)"
   ]
  },
  {
   "cell_type": "code",
   "execution_count": 185,
   "id": "9dfcd564",
   "metadata": {},
   "outputs": [],
   "source": [
    "list3=['B','A','D','C']"
   ]
  },
  {
   "cell_type": "code",
   "execution_count": 186,
   "id": "a7d3cf91",
   "metadata": {},
   "outputs": [
    {
     "data": {
      "text/plain": [
       "['A', 'B', 'C', 'D']"
      ]
     },
     "execution_count": 186,
     "metadata": {},
     "output_type": "execute_result"
    }
   ],
   "source": [
    "sorted(list3)"
   ]
  },
  {
   "cell_type": "code",
   "execution_count": 187,
   "id": "71d5627d",
   "metadata": {},
   "outputs": [
    {
     "data": {
      "text/plain": [
       "['B', 'A', 'D', 'C']"
      ]
     },
     "execution_count": 187,
     "metadata": {},
     "output_type": "execute_result"
    }
   ],
   "source": [
    "list3"
   ]
  },
  {
   "cell_type": "code",
   "execution_count": null,
   "id": "493b76d9",
   "metadata": {},
   "outputs": [],
   "source": [
    "# in sorted reults are not saving\n",
    "# in sort , results are saving"
   ]
  },
  {
   "cell_type": "code",
   "execution_count": null,
   "id": "9ae7efb8",
   "metadata": {},
   "outputs": [],
   "source": []
  },
  {
   "cell_type": "markdown",
   "id": "3d0113db",
   "metadata": {},
   "source": [
    "# join"
   ]
  },
  {
   "cell_type": "code",
   "execution_count": null,
   "id": "c584a5cf",
   "metadata": {},
   "outputs": [],
   "source": [
    "string1='kl.rahul@pune.com','virat.kohli@banglore.com','rohit.sharma@mumbai.com'\n"
   ]
  },
  {
   "cell_type": "code",
   "execution_count": 190,
   "id": "830126ab",
   "metadata": {},
   "outputs": [
    {
     "data": {
      "text/plain": [
       "'kl.rahul@pune.com,virat.kohli@banglore.com,rohit.sharma@mumbai.com'"
      ]
     },
     "execution_count": 190,
     "metadata": {},
     "output_type": "execute_result"
    }
   ],
   "source": [
    "# now this is in list\n",
    "# now converting list to strings \n",
    "\n",
    "','.join(string1)"
   ]
  },
  {
   "cell_type": "code",
   "execution_count": 191,
   "id": "3d9526ff",
   "metadata": {},
   "outputs": [],
   "source": [
    "list1=['A','P','P','L','E']"
   ]
  },
  {
   "cell_type": "code",
   "execution_count": 192,
   "id": "1a1a56f5",
   "metadata": {},
   "outputs": [
    {
     "data": {
      "text/plain": [
       "'APPLE'"
      ]
     },
     "execution_count": 192,
     "metadata": {},
     "output_type": "execute_result"
    }
   ],
   "source": [
    "''.join(list1)"
   ]
  },
  {
   "cell_type": "code",
   "execution_count": null,
   "id": "e9d4f500",
   "metadata": {},
   "outputs": [],
   "source": []
  },
  {
   "cell_type": "markdown",
   "id": "7a703c26",
   "metadata": {},
   "source": [
    "# insert"
   ]
  },
  {
   "cell_type": "code",
   "execution_count": 194,
   "id": "8f8be968",
   "metadata": {},
   "outputs": [
    {
     "data": {
      "text/plain": [
       "[1, 2, 3, 4, 5, 6]"
      ]
     },
     "execution_count": 194,
     "metadata": {},
     "output_type": "execute_result"
    }
   ],
   "source": [
    "list1=[1,2,3,4,5]\n",
    "list1.append(6)\n",
    "list1"
   ]
  },
  {
   "cell_type": "code",
   "execution_count": 204,
   "id": "fb73e94b",
   "metadata": {
    "scrolled": true
   },
   "outputs": [
    {
     "data": {
      "text/plain": [
       "[1, 2, 3, 4, 5]"
      ]
     },
     "execution_count": 204,
     "metadata": {},
     "output_type": "execute_result"
    }
   ],
   "source": [
    "list2=[1,2,3,4,5]\n",
    "list2"
   ]
  },
  {
   "cell_type": "code",
   "execution_count": 207,
   "id": "24ee804a",
   "metadata": {},
   "outputs": [
    {
     "data": {
      "text/plain": [
       "[1, 2, 3, 4, 5, 8, 8]"
      ]
     },
     "execution_count": 207,
     "metadata": {},
     "output_type": "execute_result"
    }
   ],
   "source": [
    "list2.insert(5,8)\n",
    "list2"
   ]
  },
  {
   "cell_type": "code",
   "execution_count": 206,
   "id": "6fa39f17",
   "metadata": {},
   "outputs": [
    {
     "data": {
      "text/plain": [
       "[1, 2, 3, 4, 5, 8]"
      ]
     },
     "execution_count": 206,
     "metadata": {},
     "output_type": "execute_result"
    }
   ],
   "source": [
    "# list.insert(index,object)"
   ]
  },
  {
   "cell_type": "code",
   "execution_count": null,
   "id": "87f34bef",
   "metadata": {},
   "outputs": [],
   "source": []
  }
 ],
 "metadata": {
  "kernelspec": {
   "display_name": "Python 3 (ipykernel)",
   "language": "python",
   "name": "python3"
  },
  "language_info": {
   "codemirror_mode": {
    "name": "ipython",
    "version": 3
   },
   "file_extension": ".py",
   "mimetype": "text/x-python",
   "name": "python",
   "nbconvert_exporter": "python",
   "pygments_lexer": "ipython3",
   "version": "3.11.5"
  }
 },
 "nbformat": 4,
 "nbformat_minor": 5
}
