{
 "cells": [
  {
   "cell_type": "markdown",
   "id": "5389fa3e",
   "metadata": {},
   "source": [
    "# STRINGS"
   ]
  },
  {
   "cell_type": "code",
   "execution_count": null,
   "id": "a45a6f78",
   "metadata": {},
   "outputs": [],
   "source": [
    "string is a sequence of characters "
   ]
  },
  {
   "cell_type": "markdown",
   "id": "0c180688",
   "metadata": {},
   "source": [
    "## 1) Reading strings"
   ]
  },
  {
   "cell_type": "code",
   "execution_count": 2,
   "id": "2355fa5e",
   "metadata": {},
   "outputs": [
    {
     "data": {
      "text/plain": [
       "'python'"
      ]
     },
     "execution_count": 2,
     "metadata": {},
     "output_type": "execute_result"
    }
   ],
   "source": [
    "# how to read a string in single quotes\n",
    "name='python'\n",
    "name"
   ]
  },
  {
   "cell_type": "code",
   "execution_count": 3,
   "id": "ae45fc8f",
   "metadata": {},
   "outputs": [
    {
     "data": {
      "text/plain": [
       "'python'"
      ]
     },
     "execution_count": 3,
     "metadata": {},
     "output_type": "execute_result"
    }
   ],
   "source": [
    "# how to read a string in double quotes\n",
    "name1=\"python\"\n",
    "name1"
   ]
  },
  {
   "cell_type": "code",
   "execution_count": null,
   "id": "e27fa3ea",
   "metadata": {},
   "outputs": [],
   "source": [
    "# whatever we mentioned in single quotes or double quotes, we can get output same in both which is string"
   ]
  },
  {
   "cell_type": "code",
   "execution_count": 5,
   "id": "6782490c",
   "metadata": {},
   "outputs": [
    {
     "data": {
      "text/plain": [
       "'hai how are you\\n i am good\\n i am learning python'"
      ]
     },
     "execution_count": 5,
     "metadata": {},
     "output_type": "execute_result"
    }
   ],
   "source": [
    "# how to read a string in triple quotes\n",
    "# triple quotes are called as doc string\n",
    "# whatever we mentioned in the doc string, it is known as information \n",
    "string1=\"\"\"hai how are you\n",
    " i am good\n",
    " i am learning python\"\"\"\n",
    "string1"
   ]
  },
  {
   "cell_type": "code",
   "execution_count": null,
   "id": "e0d8b30d",
   "metadata": {},
   "outputs": [],
   "source": []
  },
  {
   "cell_type": "code",
   "execution_count": 6,
   "id": "ce82a20e",
   "metadata": {},
   "outputs": [
    {
     "name": "stdout",
     "output_type": "stream",
     "text": [
      "hello 'python'\n"
     ]
    }
   ],
   "source": [
    "print(\"hello 'python'\")"
   ]
  },
  {
   "cell_type": "code",
   "execution_count": 7,
   "id": "e462af86",
   "metadata": {},
   "outputs": [
    {
     "name": "stdout",
     "output_type": "stream",
     "text": [
      "hello,\"python\"\n"
     ]
    }
   ],
   "source": [
    "print('hello,\"python\"')"
   ]
  },
  {
   "cell_type": "markdown",
   "id": "70369060",
   "metadata": {},
   "source": [
    "- entire string will be in double quotes, the highlited string in single quotes\n",
    "- entire string will be in single quotes, the highlited string in double quotes"
   ]
  },
  {
   "cell_type": "code",
   "execution_count": null,
   "id": "6623a8de",
   "metadata": {},
   "outputs": [],
   "source": []
  },
  {
   "cell_type": "markdown",
   "id": "cd103026",
   "metadata": {},
   "source": [
    "# 2) Type,len,max,min"
   ]
  },
  {
   "cell_type": "markdown",
   "id": "c35e5efa",
   "metadata": {},
   "source": [
    "## type"
   ]
  },
  {
   "cell_type": "code",
   "execution_count": 9,
   "id": "ee41b40e",
   "metadata": {},
   "outputs": [
    {
     "data": {
      "text/plain": [
       "str"
      ]
     },
     "execution_count": 9,
     "metadata": {},
     "output_type": "execute_result"
    }
   ],
   "source": [
    "# type is used to define the type of datatype\n",
    "string1='python'\n",
    "type(string1)"
   ]
  },
  {
   "cell_type": "markdown",
   "id": "b6eb75d9",
   "metadata": {},
   "source": [
    "## len"
   ]
  },
  {
   "cell_type": "code",
   "execution_count": 10,
   "id": "c7115bdb",
   "metadata": {},
   "outputs": [
    {
     "data": {
      "text/plain": [
       "6"
      ]
     },
     "execution_count": 10,
     "metadata": {},
     "output_type": "execute_result"
    }
   ],
   "source": [
    "# len is used to tell the length of a string\n",
    "string1='python'\n",
    "len(string1)"
   ]
  },
  {
   "cell_type": "markdown",
   "id": "fe556d7b",
   "metadata": {},
   "source": [
    "## max"
   ]
  },
  {
   "cell_type": "code",
   "execution_count": 11,
   "id": "d93324d9",
   "metadata": {},
   "outputs": [
    {
     "data": {
      "text/plain": [
       "'y'"
      ]
     },
     "execution_count": 11,
     "metadata": {},
     "output_type": "execute_result"
    }
   ],
   "source": [
    "# max is used to find the maximum character of a string, based on ASCII values\n",
    "string1='python'\n",
    "max(string1)"
   ]
  },
  {
   "cell_type": "markdown",
   "id": "20c21f8f",
   "metadata": {},
   "source": [
    "## min"
   ]
  },
  {
   "cell_type": "code",
   "execution_count": 12,
   "id": "903d0217",
   "metadata": {},
   "outputs": [
    {
     "data": {
      "text/plain": [
       "'h'"
      ]
     },
     "execution_count": 12,
     "metadata": {},
     "output_type": "execute_result"
    }
   ],
   "source": [
    "# min is used to find the minimum character of a string, based on ASCII values\n",
    "string1='python'\n",
    "min(string1)"
   ]
  },
  {
   "cell_type": "code",
   "execution_count": null,
   "id": "a2a1e41a",
   "metadata": {},
   "outputs": [],
   "source": []
  },
  {
   "cell_type": "markdown",
   "id": "9725af7c",
   "metadata": {},
   "source": [
    "# 3)Concatenation"
   ]
  },
  {
   "cell_type": "code",
   "execution_count": 13,
   "id": "d7865cea",
   "metadata": {},
   "outputs": [
    {
     "data": {
      "text/plain": [
       "'haipython'"
      ]
     },
     "execution_count": 13,
     "metadata": {},
     "output_type": "execute_result"
    }
   ],
   "source": [
    "# concantenation is used to combine two or more strings \n",
    "string1='hai'\n",
    "string2='python'\n",
    "string1+string2"
   ]
  },
  {
   "cell_type": "code",
   "execution_count": null,
   "id": "b13c09e3",
   "metadata": {},
   "outputs": [],
   "source": []
  },
  {
   "cell_type": "markdown",
   "id": "f176bf80",
   "metadata": {},
   "source": [
    "# 4) Mutability concept"
   ]
  },
  {
   "cell_type": "code",
   "execution_count": 15,
   "id": "fdf3b008",
   "metadata": {},
   "outputs": [
    {
     "ename": "TypeError",
     "evalue": "'str' object does not support item assignment",
     "output_type": "error",
     "traceback": [
      "\u001b[1;31m---------------------------------------------------------------------------\u001b[0m",
      "\u001b[1;31mTypeError\u001b[0m                                 Traceback (most recent call last)",
      "Cell \u001b[1;32mIn[15], line 2\u001b[0m\n\u001b[0;32m      1\u001b[0m string1\u001b[38;5;241m=\u001b[39m\u001b[38;5;124m'\u001b[39m\u001b[38;5;124mpython\u001b[39m\u001b[38;5;124m'\u001b[39m\n\u001b[1;32m----> 2\u001b[0m string1[\u001b[38;5;241m0\u001b[39m]\u001b[38;5;241m=\u001b[39m\u001b[38;5;124m'\u001b[39m\u001b[38;5;124mP\u001b[39m\u001b[38;5;124m'\u001b[39m\n",
      "\u001b[1;31mTypeError\u001b[0m: 'str' object does not support item assignment"
     ]
    }
   ],
   "source": [
    "# strings are immutable\n",
    "\n",
    "string1='python'\n",
    "string1[0]='P'"
   ]
  },
  {
   "cell_type": "code",
   "execution_count": null,
   "id": "f1a237bf",
   "metadata": {},
   "outputs": [],
   "source": [
    "# i want to replace 'p' with 'P'\n",
    "# based on index operation if you change it or not\n",
    "# if you change the value by using index operation : mutable\n",
    "# if you could not change the value by using index operation : immutable  (strings)"
   ]
  },
  {
   "cell_type": "code",
   "execution_count": null,
   "id": "e5bceabc",
   "metadata": {},
   "outputs": [],
   "source": []
  },
  {
   "cell_type": "markdown",
   "id": "06c65b1d",
   "metadata": {},
   "source": [
    "# 5)String index"
   ]
  },
  {
   "cell_type": "code",
   "execution_count": 16,
   "id": "2c94ce70",
   "metadata": {},
   "outputs": [],
   "source": [
    "# Indexing allows you to access individual characters in a string directly by using a numeric value.\n",
    "name='python'"
   ]
  },
  {
   "cell_type": "code",
   "execution_count": null,
   "id": "cf0fe1bb",
   "metadata": {},
   "outputs": [],
   "source": [
    "# how many letters are there: 6\n",
    "# python index starts with : 0\n",
    "\n",
    "p    y    t   h   o    n\n",
    "0    1    2   3   4    5"
   ]
  },
  {
   "cell_type": "code",
   "execution_count": 19,
   "id": "19d5f378",
   "metadata": {},
   "outputs": [
    {
     "data": {
      "text/plain": [
       "'p'"
      ]
     },
     "execution_count": 19,
     "metadata": {},
     "output_type": "execute_result"
    }
   ],
   "source": [
    "name[0]"
   ]
  },
  {
   "cell_type": "code",
   "execution_count": null,
   "id": "341b8fc7",
   "metadata": {},
   "outputs": [],
   "source": [
    "name[0]   #  p\n",
    "name[1]   #  y\n",
    "name[2]   #  t\n",
    "name[3]   #  h\n",
    "name[4]   #  o \n",
    "name[5]   #  n"
   ]
  },
  {
   "cell_type": "markdown",
   "id": "42019276",
   "metadata": {},
   "source": [
    "# 6)String slice"
   ]
  },
  {
   "cell_type": "code",
   "execution_count": null,
   "id": "243b5b8a",
   "metadata": {},
   "outputs": [],
   "source": [
    "# this concept is same as range() in for loop\n",
    "# range(start,stop,step)\n",
    "# string1[start:stop:step]"
   ]
  },
  {
   "cell_type": "code",
   "execution_count": 24,
   "id": "df17d68b",
   "metadata": {},
   "outputs": [
    {
     "data": {
      "text/plain": [
       "'llo how '"
      ]
     },
     "execution_count": 24,
     "metadata": {},
     "output_type": "execute_result"
    }
   ],
   "source": [
    "string1=\"hello how are you\"\n",
    "string1[2:10]\n",
    "\n",
    "# string1[start:stop]\n",
    "# start = 2\n",
    "# stop = 10-1 = 9"
   ]
  },
  {
   "cell_type": "code",
   "execution_count": null,
   "id": "ba476361",
   "metadata": {},
   "outputs": [],
   "source": [
    "h  e  l  l  o     h  o  w      a   r   e       y   o   u\n",
    "0  1  2  3  4  5  6  7  8  9  10  11  12  13  14  15   16 "
   ]
  },
  {
   "cell_type": "code",
   "execution_count": 25,
   "id": "c49d667f",
   "metadata": {},
   "outputs": [
    {
     "data": {
      "text/plain": [
       "'el o r '"
      ]
     },
     "execution_count": 25,
     "metadata": {},
     "output_type": "execute_result"
    }
   ],
   "source": [
    "string1[1:15:2]\n",
    "\n",
    "# start=1\n",
    "# stop=15-1 = 14\n",
    "# step = 2"
   ]
  },
  {
   "cell_type": "markdown",
   "id": "ac481183",
   "metadata": {},
   "source": [
    "- nothing mentioned at start position : simply starting of letter\n",
    "\n",
    "- nothing mentioned at stop position : simply last letter\n",
    "\n",
    "- nothing mentioned at step size : it is positive direction with step value 1"
   ]
  },
  {
   "cell_type": "code",
   "execution_count": 26,
   "id": "3f3c1a79",
   "metadata": {},
   "outputs": [
    {
     "name": "stdout",
     "output_type": "stream",
     "text": [
      "hello how are you\n",
      "hello how are you\n",
      "hello how are you\n",
      "hello how are you\n"
     ]
    }
   ],
   "source": [
    "print(string1[0:])\n",
    "print(string1[:len(string1)])\n",
    "print(string1[:])\n",
    "print(string1[::])"
   ]
  },
  {
   "cell_type": "code",
   "execution_count": null,
   "id": "b01d480a",
   "metadata": {},
   "outputs": [],
   "source": [
    "-17 -16 -15  -14 -13 -12  -11  -10  -9  -8  -7  -6  -5   -4  -3  -2  -1  \n",
    " h   e   l    l   o        h    o    w       a   r   e       y   o   u\n",
    "0    1   2    3   4   5    6    7    8   9  10  11  12  13  14  15   16"
   ]
  },
  {
   "cell_type": "code",
   "execution_count": 27,
   "id": "f647a522",
   "metadata": {},
   "outputs": [
    {
     "data": {
      "text/plain": [
       "'oy era woh ol'"
      ]
     },
     "execution_count": 27,
     "metadata": {},
     "output_type": "execute_result"
    }
   ],
   "source": [
    "string1[-2:-15:-1]\n",
    "# start= -2\n",
    "# stop= -15+1 =-14\n",
    "# step is : -ve"
   ]
  },
  {
   "cell_type": "code",
   "execution_count": null,
   "id": "77ad0000",
   "metadata": {},
   "outputs": [],
   "source": []
  },
  {
   "cell_type": "markdown",
   "id": "acae8f8c",
   "metadata": {},
   "source": [
    "# 7)String methods"
   ]
  },
  {
   "cell_type": "code",
   "execution_count": 29,
   "id": "d805eae6",
   "metadata": {},
   "outputs": [
    {
     "data": {
      "text/plain": [
       "['__add__',\n",
       " '__class__',\n",
       " '__contains__',\n",
       " '__delattr__',\n",
       " '__dir__',\n",
       " '__doc__',\n",
       " '__eq__',\n",
       " '__format__',\n",
       " '__ge__',\n",
       " '__getattribute__',\n",
       " '__getitem__',\n",
       " '__getnewargs__',\n",
       " '__getstate__',\n",
       " '__gt__',\n",
       " '__hash__',\n",
       " '__init__',\n",
       " '__init_subclass__',\n",
       " '__iter__',\n",
       " '__le__',\n",
       " '__len__',\n",
       " '__lt__',\n",
       " '__mod__',\n",
       " '__mul__',\n",
       " '__ne__',\n",
       " '__new__',\n",
       " '__reduce__',\n",
       " '__reduce_ex__',\n",
       " '__repr__',\n",
       " '__rmod__',\n",
       " '__rmul__',\n",
       " '__setattr__',\n",
       " '__sizeof__',\n",
       " '__str__',\n",
       " '__subclasshook__',\n",
       " 'capitalize',\n",
       " 'casefold',\n",
       " 'center',\n",
       " 'count',\n",
       " 'encode',\n",
       " 'endswith',\n",
       " 'expandtabs',\n",
       " 'find',\n",
       " 'format',\n",
       " 'format_map',\n",
       " 'index',\n",
       " 'isalnum',\n",
       " 'isalpha',\n",
       " 'isascii',\n",
       " 'isdecimal',\n",
       " 'isdigit',\n",
       " 'isidentifier',\n",
       " 'islower',\n",
       " 'isnumeric',\n",
       " 'isprintable',\n",
       " 'isspace',\n",
       " 'istitle',\n",
       " 'isupper',\n",
       " 'join',\n",
       " 'ljust',\n",
       " 'lower',\n",
       " 'lstrip',\n",
       " 'maketrans',\n",
       " 'partition',\n",
       " 'removeprefix',\n",
       " 'removesuffix',\n",
       " 'replace',\n",
       " 'rfind',\n",
       " 'rindex',\n",
       " 'rjust',\n",
       " 'rpartition',\n",
       " 'rsplit',\n",
       " 'rstrip',\n",
       " 'split',\n",
       " 'splitlines',\n",
       " 'startswith',\n",
       " 'strip',\n",
       " 'swapcase',\n",
       " 'title',\n",
       " 'translate',\n",
       " 'upper',\n",
       " 'zfill']"
      ]
     },
     "execution_count": 29,
     "metadata": {},
     "output_type": "execute_result"
    }
   ],
   "source": [
    "dir('string')"
   ]
  },
  {
   "cell_type": "markdown",
   "id": "c70209a9",
   "metadata": {},
   "source": [
    "## Capitalize/Casefold/upper/lower"
   ]
  },
  {
   "cell_type": "markdown",
   "id": "1fd00f13",
   "metadata": {},
   "source": [
    "### - capitalize"
   ]
  },
  {
   "cell_type": "code",
   "execution_count": 31,
   "id": "838d93a8",
   "metadata": {},
   "outputs": [],
   "source": [
    "name1='venkatesh'"
   ]
  },
  {
   "cell_type": "code",
   "execution_count": 30,
   "id": "f4ac4b56",
   "metadata": {},
   "outputs": [
    {
     "name": "stdout",
     "output_type": "stream",
     "text": [
      "Help on built-in function capitalize:\n",
      "\n",
      "capitalize() method of builtins.str instance\n",
      "    Return a capitalized version of the string.\n",
      "    \n",
      "    More specifically, make the first character have upper case and the rest lower\n",
      "    case.\n",
      "\n"
     ]
    }
   ],
   "source": [
    "help(name.capitalize)                 # help is used to explain how to represent a particular method"
   ]
  },
  {
   "cell_type": "code",
   "execution_count": 32,
   "id": "a6daf100",
   "metadata": {},
   "outputs": [
    {
     "data": {
      "text/plain": [
       "'Venkatesh'"
      ]
     },
     "execution_count": 32,
     "metadata": {},
     "output_type": "execute_result"
    }
   ],
   "source": [
    "# capitalize will make first letter as upper case letter in a given string\n",
    "name1.capitalize()"
   ]
  },
  {
   "cell_type": "markdown",
   "id": "dd79ea31",
   "metadata": {},
   "source": [
    "### - Casefold"
   ]
  },
  {
   "cell_type": "code",
   "execution_count": 36,
   "id": "dfef68ad",
   "metadata": {},
   "outputs": [],
   "source": [
    "name1='VENKATESH'"
   ]
  },
  {
   "cell_type": "code",
   "execution_count": 39,
   "id": "ab9397db",
   "metadata": {},
   "outputs": [
    {
     "name": "stdout",
     "output_type": "stream",
     "text": [
      "Help on built-in function casefold:\n",
      "\n",
      "casefold() method of builtins.str instance\n",
      "    Return a version of the string suitable for caseless comparisons.\n",
      "\n"
     ]
    }
   ],
   "source": [
    "help(name1.casefold)"
   ]
  },
  {
   "cell_type": "code",
   "execution_count": 37,
   "id": "c2d084d1",
   "metadata": {},
   "outputs": [
    {
     "data": {
      "text/plain": [
       "'venkatesh'"
      ]
     },
     "execution_count": 37,
     "metadata": {},
     "output_type": "execute_result"
    }
   ],
   "source": [
    "# casefold will convert a given string into lower case letters\n",
    "name1.casefold()"
   ]
  },
  {
   "cell_type": "markdown",
   "id": "b096d65a",
   "metadata": {},
   "source": [
    "### - upper"
   ]
  },
  {
   "cell_type": "code",
   "execution_count": 40,
   "id": "691330b8",
   "metadata": {},
   "outputs": [],
   "source": [
    "name1='venkatesh'"
   ]
  },
  {
   "cell_type": "code",
   "execution_count": 41,
   "id": "dfbc9c8b",
   "metadata": {},
   "outputs": [
    {
     "name": "stdout",
     "output_type": "stream",
     "text": [
      "Help on built-in function upper:\n",
      "\n",
      "upper() method of builtins.str instance\n",
      "    Return a copy of the string converted to uppercase.\n",
      "\n"
     ]
    }
   ],
   "source": [
    "help(name1.upper)"
   ]
  },
  {
   "cell_type": "code",
   "execution_count": 42,
   "id": "0bf652f3",
   "metadata": {},
   "outputs": [
    {
     "data": {
      "text/plain": [
       "'VENKATESH'"
      ]
     },
     "execution_count": 42,
     "metadata": {},
     "output_type": "execute_result"
    }
   ],
   "source": [
    "# upper will convert a given string into upper case letters\n",
    "name1.upper()"
   ]
  },
  {
   "cell_type": "markdown",
   "id": "742f3d3f",
   "metadata": {},
   "source": [
    "### - lower"
   ]
  },
  {
   "cell_type": "code",
   "execution_count": 44,
   "id": "abe7963a",
   "metadata": {},
   "outputs": [],
   "source": [
    "name1='VENKATESH'"
   ]
  },
  {
   "cell_type": "code",
   "execution_count": 45,
   "id": "6477fb0a",
   "metadata": {},
   "outputs": [
    {
     "name": "stdout",
     "output_type": "stream",
     "text": [
      "Help on built-in function lower:\n",
      "\n",
      "lower() method of builtins.str instance\n",
      "    Return a copy of the string converted to lowercase.\n",
      "\n"
     ]
    }
   ],
   "source": [
    "help(name1.lower)"
   ]
  },
  {
   "cell_type": "code",
   "execution_count": 46,
   "id": "ccf92d08",
   "metadata": {},
   "outputs": [
    {
     "data": {
      "text/plain": [
       "'venkatesh'"
      ]
     },
     "execution_count": 46,
     "metadata": {},
     "output_type": "execute_result"
    }
   ],
   "source": [
    "# lower will convert a given string into lower case letters\n",
    "name1.lower()"
   ]
  },
  {
   "cell_type": "code",
   "execution_count": null,
   "id": "6285b79a",
   "metadata": {},
   "outputs": [],
   "source": []
  },
  {
   "cell_type": "markdown",
   "id": "0a4786e7",
   "metadata": {},
   "source": [
    "## Index/find"
   ]
  },
  {
   "cell_type": "markdown",
   "id": "d96ebdae",
   "metadata": {},
   "source": [
    "### - index"
   ]
  },
  {
   "cell_type": "code",
   "execution_count": 47,
   "id": "b67f5c32",
   "metadata": {},
   "outputs": [
    {
     "data": {
      "text/plain": [
       "2"
      ]
     },
     "execution_count": 47,
     "metadata": {},
     "output_type": "execute_result"
    }
   ],
   "source": [
    "# The process of accessing a specific element in a sequence\n",
    "# if i want to know index of 't'\n",
    "string1='python'\n",
    "string1.index('t')"
   ]
  },
  {
   "cell_type": "code",
   "execution_count": 49,
   "id": "de5701a1",
   "metadata": {},
   "outputs": [
    {
     "data": {
      "text/plain": [
       "2"
      ]
     },
     "execution_count": 49,
     "metadata": {},
     "output_type": "execute_result"
    }
   ],
   "source": [
    "'python'.index('t')"
   ]
  },
  {
   "cell_type": "code",
   "execution_count": 50,
   "id": "eb07ebea",
   "metadata": {},
   "outputs": [
    {
     "name": "stdout",
     "output_type": "stream",
     "text": [
      "3 6\n"
     ]
    }
   ],
   "source": [
    "# suppose if i want to extract index number of 't' in a given string\n",
    "string1='restart'\n",
    "f_o=string1.index('t')\n",
    "s_o=string1.index('t',f_o+1)\n",
    "print(f_o,s_o)"
   ]
  },
  {
   "cell_type": "code",
   "execution_count": 54,
   "id": "80756483",
   "metadata": {},
   "outputs": [
    {
     "ename": "ValueError",
     "evalue": "substring not found",
     "output_type": "error",
     "traceback": [
      "\u001b[1;31m---------------------------------------------------------------------------\u001b[0m",
      "\u001b[1;31mValueError\u001b[0m                                Traceback (most recent call last)",
      "Cell \u001b[1;32mIn[54], line 2\u001b[0m\n\u001b[0;32m      1\u001b[0m string1\u001b[38;5;241m=\u001b[39m\u001b[38;5;124m'\u001b[39m\u001b[38;5;124mpython\u001b[39m\u001b[38;5;124m'\u001b[39m\n\u001b[1;32m----> 2\u001b[0m string1\u001b[38;5;241m.\u001b[39mindex(\u001b[38;5;124m'\u001b[39m\u001b[38;5;124mT\u001b[39m\u001b[38;5;124m'\u001b[39m)\n",
      "\u001b[1;31mValueError\u001b[0m: substring not found"
     ]
    }
   ],
   "source": [
    "string1='python'\n",
    "string1.index('T')\n",
    "# whenever given input is not found in a given string, then it will print error as substring not found"
   ]
  },
  {
   "cell_type": "markdown",
   "id": "0d6f78ea",
   "metadata": {},
   "source": [
    "### - find"
   ]
  },
  {
   "cell_type": "markdown",
   "id": "f33417d1",
   "metadata": {},
   "source": [
    "- both index and find function are same\n",
    "\n",
    "- difference between index and find\n",
    "\n",
    "- when it is error in index , it will show error\n",
    "\n",
    "- when it is error in find , it will return -1 value"
   ]
  },
  {
   "cell_type": "code",
   "execution_count": 56,
   "id": "3671d7a6",
   "metadata": {},
   "outputs": [
    {
     "data": {
      "text/plain": [
       "2"
      ]
     },
     "execution_count": 56,
     "metadata": {},
     "output_type": "execute_result"
    }
   ],
   "source": [
    "string1='python'\n",
    "string1.find('t')"
   ]
  },
  {
   "cell_type": "code",
   "execution_count": 52,
   "id": "a0c9a4f1",
   "metadata": {},
   "outputs": [
    {
     "data": {
      "text/plain": [
       "2"
      ]
     },
     "execution_count": 52,
     "metadata": {},
     "output_type": "execute_result"
    }
   ],
   "source": [
    "'python'.find('t')"
   ]
  },
  {
   "cell_type": "code",
   "execution_count": 53,
   "id": "06e2b609",
   "metadata": {},
   "outputs": [
    {
     "name": "stdout",
     "output_type": "stream",
     "text": [
      "3 6\n"
     ]
    }
   ],
   "source": [
    "# suppose if i want to extract index number of 't' in a given string, we can also use find function or index function\n",
    "string1='restart'\n",
    "f_o=string1.index('t')\n",
    "s_o=string1.index('t',f_o+1)\n",
    "print(f_o,s_o)"
   ]
  },
  {
   "cell_type": "code",
   "execution_count": 55,
   "id": "d1146e6e",
   "metadata": {},
   "outputs": [
    {
     "data": {
      "text/plain": [
       "-1"
      ]
     },
     "execution_count": 55,
     "metadata": {},
     "output_type": "execute_result"
    }
   ],
   "source": [
    "string1='python'\n",
    "string1.find('T')\n",
    "# whenever given input is not found in a given string, then it will return -1 "
   ]
  },
  {
   "cell_type": "code",
   "execution_count": null,
   "id": "164213ee",
   "metadata": {},
   "outputs": [],
   "source": []
  },
  {
   "cell_type": "markdown",
   "id": "44969a4a",
   "metadata": {},
   "source": [
    "## Strip-rstrip-lstrip"
   ]
  },
  {
   "cell_type": "code",
   "execution_count": 60,
   "id": "edd8cb72",
   "metadata": {},
   "outputs": [],
   "source": [
    "string1=' hai how are you ' "
   ]
  },
  {
   "cell_type": "code",
   "execution_count": 61,
   "id": "6c8cf8a4",
   "metadata": {},
   "outputs": [
    {
     "data": {
      "text/plain": [
       "('hai how are you', 'hai how are you ', ' hai how are you')"
      ]
     },
     "execution_count": 61,
     "metadata": {},
     "output_type": "execute_result"
    }
   ],
   "source": [
    "string1.strip(),string1.lstrip(),string1.rstrip()"
   ]
  },
  {
   "cell_type": "markdown",
   "id": "8660d941",
   "metadata": {},
   "source": [
    "- if you want to remove the spaces we use method strip\n",
    "- strip: it will remove spaces both sides\n",
    "- lstrip: it will remove left side space\n",
    "- rstrip: it will remove right side space"
   ]
  },
  {
   "cell_type": "code",
   "execution_count": null,
   "id": "1b1707c6",
   "metadata": {},
   "outputs": [],
   "source": []
  },
  {
   "cell_type": "markdown",
   "id": "4a0beb78",
   "metadata": {},
   "source": [
    "## Startswith/endswith"
   ]
  },
  {
   "cell_type": "code",
   "execution_count": 62,
   "id": "3e89e5cf",
   "metadata": {},
   "outputs": [
    {
     "data": {
      "text/plain": [
       "True"
      ]
     },
     "execution_count": 62,
     "metadata": {},
     "output_type": "execute_result"
    }
   ],
   "source": [
    "string1='hai how are you'\n",
    "string1.startswith('hai')"
   ]
  },
  {
   "cell_type": "code",
   "execution_count": 65,
   "id": "68e823fa",
   "metadata": {},
   "outputs": [
    {
     "data": {
      "text/plain": [
       "True"
      ]
     },
     "execution_count": 65,
     "metadata": {},
     "output_type": "execute_result"
    }
   ],
   "source": [
    "string1.startswith('h')"
   ]
  },
  {
   "cell_type": "code",
   "execution_count": 66,
   "id": "38c28e71",
   "metadata": {},
   "outputs": [
    {
     "data": {
      "text/plain": [
       "False"
      ]
     },
     "execution_count": 66,
     "metadata": {},
     "output_type": "execute_result"
    }
   ],
   "source": [
    "string1.startswith('how')"
   ]
  },
  {
   "cell_type": "code",
   "execution_count": 64,
   "id": "4562bb84",
   "metadata": {},
   "outputs": [
    {
     "data": {
      "text/plain": [
       "True"
      ]
     },
     "execution_count": 64,
     "metadata": {},
     "output_type": "execute_result"
    }
   ],
   "source": [
    "string1.endswith('you')"
   ]
  },
  {
   "cell_type": "code",
   "execution_count": 68,
   "id": "433767c0",
   "metadata": {},
   "outputs": [
    {
     "data": {
      "text/plain": [
       "True"
      ]
     },
     "execution_count": 68,
     "metadata": {},
     "output_type": "execute_result"
    }
   ],
   "source": [
    "string1.endswith('u')"
   ]
  },
  {
   "cell_type": "code",
   "execution_count": null,
   "id": "f4c0f241",
   "metadata": {},
   "outputs": [],
   "source": []
  },
  {
   "cell_type": "markdown",
   "id": "9bb88b3e",
   "metadata": {},
   "source": [
    "## Count"
   ]
  },
  {
   "cell_type": "code",
   "execution_count": 69,
   "id": "c92696ad",
   "metadata": {},
   "outputs": [
    {
     "data": {
      "text/plain": [
       "2"
      ]
     },
     "execution_count": 69,
     "metadata": {},
     "output_type": "execute_result"
    }
   ],
   "source": [
    "string1=\"HAI HAI hai hai\"\n",
    "string1.count('h')\n",
    "# here it is counting the total number of 'h' in a given string"
   ]
  },
  {
   "cell_type": "code",
   "execution_count": 71,
   "id": "c9d9d588",
   "metadata": {},
   "outputs": [
    {
     "name": "stdout",
     "output_type": "stream",
     "text": [
      "3\n",
      "1\n"
     ]
    }
   ],
   "source": [
    "string2=\"ola ola ola ola\"\n",
    "print(string2.count('a',4))\n",
    "# here 4 means we are counting 'a' from 4th index\n",
    "\n",
    "# string.count(<char>,start_index)\n",
    "\n",
    "print(string2.count('a',4,9))\n",
    "# how many 'a' are there in between 4 and 8th(9-1) index"
   ]
  },
  {
   "cell_type": "code",
   "execution_count": 72,
   "id": "e48840f7",
   "metadata": {},
   "outputs": [
    {
     "data": {
      "text/plain": [
       "4"
      ]
     },
     "execution_count": 72,
     "metadata": {},
     "output_type": "execute_result"
    }
   ],
   "source": [
    "string2.count('ola')"
   ]
  },
  {
   "cell_type": "code",
   "execution_count": null,
   "id": "979937e5",
   "metadata": {},
   "outputs": [],
   "source": []
  },
  {
   "cell_type": "markdown",
   "id": "48f31c05",
   "metadata": {},
   "source": [
    "## Replace"
   ]
  },
  {
   "cell_type": "code",
   "execution_count": null,
   "id": "81606300",
   "metadata": {},
   "outputs": [],
   "source": [
    "The replace() method replaces a specified phrase with another specified phrase"
   ]
  },
  {
   "cell_type": "code",
   "execution_count": 77,
   "id": "140728b2",
   "metadata": {},
   "outputs": [
    {
     "data": {
      "text/plain": [
       "'venkaTesh'"
      ]
     },
     "execution_count": 77,
     "metadata": {},
     "output_type": "execute_result"
    }
   ],
   "source": [
    "string1='venkatesh'\n",
    "# i want to replace 't' with 'T'\n",
    "string1.replace('t','T')"
   ]
  },
  {
   "cell_type": "code",
   "execution_count": null,
   "id": "a1ee5b28",
   "metadata": {},
   "outputs": [],
   "source": [
    "# string1.replace(old,new)"
   ]
  },
  {
   "cell_type": "code",
   "execution_count": 81,
   "id": "d6129ae3",
   "metadata": {},
   "outputs": [
    {
     "name": "stdout",
     "output_type": "stream",
     "text": [
      "vEnkatesh\n",
      "venkatEsh\n"
     ]
    }
   ],
   "source": [
    "print(string1.replace('e','E',1))\n",
    "print(string1[:2]+string1[2:].replace('e','E',1))"
   ]
  },
  {
   "cell_type": "code",
   "execution_count": 82,
   "id": "e5743d75",
   "metadata": {},
   "outputs": [
    {
     "name": "stdout",
     "output_type": "stream",
     "text": [
      "$esta$t\n",
      "$estart\n"
     ]
    }
   ],
   "source": [
    "string2='restart'\n",
    "print(string2.replace('r','$'))\n",
    "print(string2.replace('r','$',1))"
   ]
  },
  {
   "cell_type": "code",
   "execution_count": null,
   "id": "a34ebe8e",
   "metadata": {},
   "outputs": [],
   "source": []
  },
  {
   "cell_type": "code",
   "execution_count": null,
   "id": "18331c14",
   "metadata": {},
   "outputs": [],
   "source": []
  },
  {
   "cell_type": "code",
   "execution_count": null,
   "id": "e0365dea",
   "metadata": {},
   "outputs": [],
   "source": []
  }
 ],
 "metadata": {
  "kernelspec": {
   "display_name": "Python 3 (ipykernel)",
   "language": "python",
   "name": "python3"
  },
  "language_info": {
   "codemirror_mode": {
    "name": "ipython",
    "version": 3
   },
   "file_extension": ".py",
   "mimetype": "text/x-python",
   "name": "python",
   "nbconvert_exporter": "python",
   "pygments_lexer": "ipython3",
   "version": "3.11.5"
  }
 },
 "nbformat": 4,
 "nbformat_minor": 5
}
