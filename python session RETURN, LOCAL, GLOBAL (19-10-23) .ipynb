{
 "cells": [
  {
   "cell_type": "code",
   "execution_count": null,
   "id": "ff062dc2",
   "metadata": {},
   "outputs": [],
   "source": [
    "# avg problem\n",
    "# WAP ask the user enter 3 number and find the avergae\n",
    "# 1) Normal code\n",
    "# 2) with out arguments\n",
    "# 3) with arguments\n",
    "# 4) default arguments"
   ]
  },
  {
   "cell_type": "code",
   "execution_count": 1,
   "id": "d42feffd",
   "metadata": {},
   "outputs": [
    {
     "name": "stdout",
     "output_type": "stream",
     "text": [
      "enter number1:10\n",
      "enter number2:20\n",
      "enter number3:30\n",
      "the addition of 10 20 and 30 is 60 \n",
      "the average of 10 20 and 30 is: 20.0 \n"
     ]
    }
   ],
   "source": [
    "# normal code \n",
    "\n",
    "n1=eval(input(\"enter number1:\"))\n",
    "n2=eval(input(\"enter number2:\"))\n",
    "n3=eval(input(\"enter number3:\"))\n",
    "add=n1+n2+n3\n",
    "average=add/3\n",
    "print(\"the addition of {} {} and {} is {} \".format(n1,n2,n3,add))\n",
    "print(\"the average of {} {} and {} is: {} \".format(n1,n2,n3,average))"
   ]
  },
  {
   "cell_type": "code",
   "execution_count": 3,
   "id": "1d5c9687",
   "metadata": {},
   "outputs": [
    {
     "name": "stdout",
     "output_type": "stream",
     "text": [
      "enter number1:10\n",
      "enter number2:20\n",
      "enter number3:30\n",
      "the addition of 10 20 and 30 is 60 \n",
      "the average of 10 20 and 30 is: 20.0 \n"
     ]
    }
   ],
   "source": [
    "# with out arguments\n",
    "\n",
    "def avg_with_out():\n",
    "    n1=eval(input(\"enter number1:\"))\n",
    "    n2=eval(input(\"enter number2:\"))\n",
    "    n3=eval(input(\"enter number3:\"))\n",
    "    add=n1+n2+n3\n",
    "    average=add/3\n",
    "    print(\"the addition of {} {} and {} is {} \".format(n1,n2,n3,add))\n",
    "    print(\"the average of {} {} and {} is: {} \".format(n1,n2,n3,average))\n",
    "    \n",
    "avg()"
   ]
  },
  {
   "cell_type": "code",
   "execution_count": 5,
   "id": "6c7852e7",
   "metadata": {},
   "outputs": [
    {
     "name": "stdout",
     "output_type": "stream",
     "text": [
      "the addition of 10 20 and 30 is 60 \n",
      "the average of 10 20 and 30 is: 20.0 \n"
     ]
    }
   ],
   "source": [
    "# with arguments\n",
    "\n",
    "def avg_with(n1,n2,n3):\n",
    "    add=n1+n2+n3\n",
    "    average=add/3\n",
    "    print(\"the addition of {} {} and {} is {} \".format(n1,n2,n3,add))\n",
    "    print(\"the average of {} {} and {} is: {} \".format(n1,n2,n3,average))\n",
    "    \n",
    "avg(10,20,30)\n",
    "    "
   ]
  },
  {
   "cell_type": "code",
   "execution_count": 7,
   "id": "8e1809e9",
   "metadata": {},
   "outputs": [
    {
     "name": "stdout",
     "output_type": "stream",
     "text": [
      "the addition of 10 40 and 100 is 150 \n",
      "the average of 10 40 and 100 is: 50.0 \n"
     ]
    }
   ],
   "source": [
    "# with default arguments\n",
    "\n",
    "def avg(n1,n2,n3=100):\n",
    "    add=n1+n2+n3\n",
    "    average=add/3\n",
    "    print(\"the addition of {} {} and {} is {} \".format(n1,n2,n3,add))\n",
    "    print(\"the average of {} {} and {} is: {} \".format(n1,n2,n3,average))\n",
    "    \n",
    "avg(10,40)"
   ]
  },
  {
   "cell_type": "code",
   "execution_count": null,
   "id": "e1b0b5b6",
   "metadata": {},
   "outputs": [],
   "source": []
  },
  {
   "cell_type": "code",
   "execution_count": 12,
   "id": "f6401e72",
   "metadata": {},
   "outputs": [],
   "source": [
    "def avg_with_out():\n",
    "    n1=eval(input(\"enter number1:\"))\n",
    "    n2=eval(input(\"enter number2:\"))\n",
    "    n3=eval(input(\"enter number3:\"))\n",
    "    add=n1+n2+n3\n",
    "    average=add/3\n",
    "    print(\"the addition of {} {} and {} is: {} \".format(n1,n2,n3,add))\n",
    "    print(\"the average of {} {} and {} is: {} \".format(n1,n2,n3,average))"
   ]
  },
  {
   "cell_type": "code",
   "execution_count": 13,
   "id": "6c0893f6",
   "metadata": {},
   "outputs": [
    {
     "name": "stdout",
     "output_type": "stream",
     "text": [
      "enter number1:10\n",
      "enter number2:20\n",
      "enter number3:30\n",
      "the addition of 10 20 and 30 is: 60 \n",
      "the average of 10 20 and 30 is: 20.0 \n"
     ]
    }
   ],
   "source": [
    "avg_with_out()"
   ]
  },
  {
   "cell_type": "markdown",
   "id": "8a086b79",
   "metadata": {},
   "source": [
    "## return"
   ]
  },
  {
   "cell_type": "code",
   "execution_count": 22,
   "id": "5ec30288",
   "metadata": {},
   "outputs": [],
   "source": [
    "def avg_with_out():\n",
    "    n1=eval(input(\"enter number1:\"))\n",
    "    n2=eval(input(\"enter number2:\"))\n",
    "    n3=eval(input(\"enter number3:\"))\n",
    "    ADD11=n1+n2+n3\n",
    "    AVG11=round(ADD11/3,2)\n",
    "    print(\"The addition of {} {} and {} is: {}\".format(n1,n2,n3,ADD11))\n",
    "    print(\"The average of {} {} and {} is: {}\".format(n1,n2,n3,AVG11))\n",
    "    return(AVG11)"
   ]
  },
  {
   "cell_type": "code",
   "execution_count": 20,
   "id": "da7f1ab6",
   "metadata": {},
   "outputs": [
    {
     "name": "stdout",
     "output_type": "stream",
     "text": [
      "enter number1:10\n",
      "enter number2:20\n",
      "enter number3:30\n",
      "The addition of 10 20 and 30 is: 60\n",
      "The average of 10 20 and 30 is: 20.0\n"
     ]
    }
   ],
   "source": [
    "avg_value=avg_with_out()"
   ]
  },
  {
   "cell_type": "code",
   "execution_count": 21,
   "id": "4fdb938c",
   "metadata": {},
   "outputs": [
    {
     "name": "stdout",
     "output_type": "stream",
     "text": [
      "20.0\n"
     ]
    }
   ],
   "source": [
    "print(avg_value)"
   ]
  },
  {
   "cell_type": "code",
   "execution_count": 9,
   "id": "59d1915e",
   "metadata": {},
   "outputs": [],
   "source": [
    " def avg_with_out():\n",
    "    n1=eval(input(\"enter number1:\"))\n",
    "    n2=eval(input(\"enter number2:\"))\n",
    "    n3=eval(input(\"enter number3:\"))\n",
    "    ADD1=n1+n2+n3\n",
    "    AVG=ADD1/3\n",
    "    print(\"the addition of {} {} and {} is: {} \".format(n1,n2,n3,ADD1))\n",
    "    print(\"the average of {} {} and {} is: {} \".format(n1,n2,n3,AVG))\n",
    "    return(ADD1,AVG)"
   ]
  },
  {
   "cell_type": "code",
   "execution_count": 24,
   "id": "486efa1d",
   "metadata": {},
   "outputs": [
    {
     "name": "stdout",
     "output_type": "stream",
     "text": [
      "enter number1:10\n",
      "enter number2:20\n",
      "enter number3:30\n",
      "The addition of 10 20 and 30 is: 60\n",
      "The average of 10 20 and 30 is: 20.0\n"
     ]
    },
    {
     "ename": "TypeError",
     "evalue": "cannot unpack non-iterable float object",
     "output_type": "error",
     "traceback": [
      "\u001b[1;31m---------------------------------------------------------------------------\u001b[0m",
      "\u001b[1;31mTypeError\u001b[0m                                 Traceback (most recent call last)",
      "Cell \u001b[1;32mIn[24], line 1\u001b[0m\n\u001b[1;32m----> 1\u001b[0m output1,output2\u001b[38;5;241m=\u001b[39mavg_with_out()\n",
      "\u001b[1;31mTypeError\u001b[0m: cannot unpack non-iterable float object"
     ]
    }
   ],
   "source": [
    "output1,output2=avg_with_out()"
   ]
  },
  {
   "cell_type": "code",
   "execution_count": 26,
   "id": "8329f5b9",
   "metadata": {},
   "outputs": [
    {
     "name": "stdout",
     "output_type": "stream",
     "text": [
      "60 20.0\n"
     ]
    }
   ],
   "source": [
    "print(output1,output2)"
   ]
  },
  {
   "cell_type": "code",
   "execution_count": 13,
   "id": "bfaf72c0",
   "metadata": {},
   "outputs": [
    {
     "data": {
      "text/plain": [
       "60"
      ]
     },
     "execution_count": 13,
     "metadata": {},
     "output_type": "execute_result"
    }
   ],
   "source": [
    "output1"
   ]
  },
  {
   "cell_type": "code",
   "execution_count": null,
   "id": "9a71d8de",
   "metadata": {},
   "outputs": [],
   "source": []
  },
  {
   "cell_type": "code",
   "execution_count": null,
   "id": "5b822785",
   "metadata": {},
   "outputs": [],
   "source": [
    "# create a function with default parameter as tax_percentage=10\n",
    "# enter your salary\n",
    "# calculate total tax you want to pay\n",
    "# return the tax amount"
   ]
  },
  {
   "cell_type": "code",
   "execution_count": 34,
   "id": "d108ec19",
   "metadata": {},
   "outputs": [],
   "source": [
    "def amount(tax_percentage=10):\n",
    "    salary=eval(input(\"enter your salary:\"))\n",
    "    total_tax=(tax_percentage*salary)/100\n",
    "    print(\"total tax you want to pay:\",total_tax)\n",
    "    return(total_tax)"
   ]
  },
  {
   "cell_type": "code",
   "execution_count": 35,
   "id": "d657d788",
   "metadata": {},
   "outputs": [
    {
     "name": "stdout",
     "output_type": "stream",
     "text": [
      "enter your salary:10000\n",
      "total tax you want to pay: 1000.0\n"
     ]
    }
   ],
   "source": [
    "number1=amount()"
   ]
  },
  {
   "cell_type": "code",
   "execution_count": 24,
   "id": "133eb2d3",
   "metadata": {},
   "outputs": [
    {
     "name": "stdout",
     "output_type": "stream",
     "text": [
      "5000.0\n"
     ]
    }
   ],
   "source": [
    "print(number1)"
   ]
  },
  {
   "cell_type": "code",
   "execution_count": null,
   "id": "64173952",
   "metadata": {},
   "outputs": [],
   "source": []
  },
  {
   "cell_type": "code",
   "execution_count": null,
   "id": "75583cde",
   "metadata": {},
   "outputs": [],
   "source": [
    "# wap with two arguments a and b \n",
    "# return add,sub , mul, div"
   ]
  },
  {
   "cell_type": "code",
   "execution_count": 36,
   "id": "1a69dfd8",
   "metadata": {},
   "outputs": [],
   "source": [
    "def add_sub_mul_div(a,b):\n",
    "    ADD=a+b\n",
    "    SUB=a-b\n",
    "    MUL=a*b\n",
    "    DIV=a/b\n",
    "    print(ADD,SUB,MUL,DIV)\n",
    "    return(ADD,SUB,MUL,DIV)\n",
    "    "
   ]
  },
  {
   "cell_type": "code",
   "execution_count": 38,
   "id": "d462506f",
   "metadata": {},
   "outputs": [
    {
     "name": "stdout",
     "output_type": "stream",
     "text": [
      "120 40 3200 2.0\n",
      "120 40 3200 2.0\n"
     ]
    }
   ],
   "source": [
    "add,sub,mul,div=add_sub_mul_div(80,40)\n",
    "print(add,sub,mul,div)"
   ]
  },
  {
   "cell_type": "code",
   "execution_count": 39,
   "id": "fa48b6a7",
   "metadata": {},
   "outputs": [
    {
     "data": {
      "text/plain": [
       "120"
      ]
     },
     "execution_count": 39,
     "metadata": {},
     "output_type": "execute_result"
    }
   ],
   "source": [
    "add"
   ]
  },
  {
   "cell_type": "code",
   "execution_count": 40,
   "id": "ddb232af",
   "metadata": {},
   "outputs": [
    {
     "data": {
      "text/plain": [
       "40"
      ]
     },
     "execution_count": 40,
     "metadata": {},
     "output_type": "execute_result"
    }
   ],
   "source": [
    "sub"
   ]
  },
  {
   "cell_type": "markdown",
   "id": "dbbac52d",
   "metadata": {},
   "source": [
    "# local variables"
   ]
  },
  {
   "cell_type": "code",
   "execution_count": null,
   "id": "2efd2730",
   "metadata": {},
   "outputs": [],
   "source": [
    "Local varaibles means inside the function\n",
    "\n",
    "you cant use out side the function untill unless you return the variables"
   ]
  },
  {
   "cell_type": "code",
   "execution_count": 53,
   "id": "070a6e5c",
   "metadata": {},
   "outputs": [],
   "source": [
    "def avg_with_out():\n",
    "    n1=eval(input(\"enter number1:\"))\n",
    "    n2=eval(input(\"enter number2:\"))\n",
    "    n3=eval(input(\"enter number3:\"))\n",
    "    ADD_11=n1+n2+n3\n",
    "    AVG_11=round(ADD_11/3,2)\n",
    "    print(\"The addition of {} {} and {} is: {}\".format(n1,n2,n3,ADD_11))\n",
    "    print(\"The average of {} {} and {} is: {}\".format(n1,n2,n3,AVG_11))\n",
    "    return(AVG11,ADD11)\n",
    "\n",
    "\n",
    "# How many variables are there:5\n",
    "# n1 n2 n3 are values provided by user\n",
    "# ADD_11 and AVG_11 is getting by python code\n",
    "\n",
    "# n1 n2 n3 are inside the function: local variables\n",
    "# these local variables you cant use outside the function"
   ]
  },
  {
   "cell_type": "code",
   "execution_count": null,
   "id": "d25ea0ee",
   "metadata": {},
   "outputs": [],
   "source": [
    "def tax_per(tax_percentage11=10):\n",
    "salary=eval(input(\"enter your salary:\"))\n",
    "tax_amount=tax_percentage*salary/100\n",
    "return(tax_amount)\n",
    "\n",
    "# what are local variables in this code: tax_percentage,salary,tax_amount"
   ]
  },
  {
   "cell_type": "code",
   "execution_count": null,
   "id": "e0a5a27a",
   "metadata": {},
   "outputs": [],
   "source": []
  },
  {
   "cell_type": "markdown",
   "id": "93b06046",
   "metadata": {},
   "source": [
    "# global variables"
   ]
  },
  {
   "cell_type": "code",
   "execution_count": null,
   "id": "311a7db4",
   "metadata": {},
   "outputs": [],
   "source": [
    "Global variable are out side the function, it can use inside the function also"
   ]
  },
  {
   "cell_type": "code",
   "execution_count": 4,
   "id": "51c778bf",
   "metadata": {},
   "outputs": [
    {
     "name": "stdout",
     "output_type": "stream",
     "text": [
      "enter number1:10\n",
      "enter number2:20\n",
      "enter number3:30\n"
     ]
    }
   ],
   "source": [
    "n1=eval(input(\"enter number1:\")) # GV\n",
    "n2=eval(input(\"enter number2:\")) # GV\n",
    "n3=eval(input(\"enter number3:\")) # GV\n",
    "def avg_with_out():\n",
    "    ADD_11=n1+n2+n3              #LV\n",
    "    AVG_11=round(ADD_11/3,2)     #LV\n",
    "    print(\"The addition of {} {} and {} is: {}\".format(n1,n2,n3,ADD_11))\n",
    "    print(\"The average of {} {} and {} is: {}\".format(n1,n2,n3,AVG_11))\n",
    "    return(AVG_11,ADD_11)"
   ]
  },
  {
   "cell_type": "code",
   "execution_count": 5,
   "id": "48ddcb68",
   "metadata": {},
   "outputs": [
    {
     "name": "stdout",
     "output_type": "stream",
     "text": [
      "The addition of 10 20 and 30 is: 60\n",
      "The average of 10 20 and 30 is: 20.0\n",
      "20.0 60\n"
     ]
    }
   ],
   "source": [
    "one,two=avg_with_out()\n",
    "print(one,two)"
   ]
  },
  {
   "cell_type": "code",
   "execution_count": null,
   "id": "8e414531",
   "metadata": {},
   "outputs": [],
   "source": []
  },
  {
   "cell_type": "code",
   "execution_count": null,
   "id": "a9aa7328",
   "metadata": {},
   "outputs": [],
   "source": [
    "# take three numbers and print greatest number among three"
   ]
  },
  {
   "cell_type": "code",
   "execution_count": null,
   "id": "049bbd13",
   "metadata": {},
   "outputs": [],
   "source": [
    "- define the functiins\n",
    "- with out arguments\n",
    "- with arguments\n",
    "- default arguments\n",
    "- return\n",
    "- local variable\n",
    "- global variable"
   ]
  },
  {
   "cell_type": "code",
   "execution_count": 68,
   "id": "1bb5781c",
   "metadata": {},
   "outputs": [
    {
     "name": "stdout",
     "output_type": "stream",
     "text": [
      "enter a number1:300\n",
      "enter a number2:100\n",
      "enter a number3:200\n",
      "300 is greatest number\n"
     ]
    }
   ],
   "source": [
    "# normal code \n",
    "\n",
    "n1=eval(input(\"enter a number1:\"))\n",
    "n2=eval(input(\"enter a number2:\"))\n",
    "n3=eval(input(\"enter a number3:\"))\n",
    "if(n1>n2 and n1>n3):\n",
    "    print(\"{} is greatest number\".format(n1))\n",
    "elif(n2>n1 and n2>n3):\n",
    "    print(\"{} is greatest number\".format(n2))\n",
    "else:\n",
    "    print(\"{} is greatest number\".format(n3))"
   ]
  },
  {
   "cell_type": "code",
   "execution_count": 61,
   "id": "d561880a",
   "metadata": {},
   "outputs": [
    {
     "name": "stdout",
     "output_type": "stream",
     "text": [
      "enter a number1:300\n",
      "enter a number2:100\n",
      "enter a number3:200\n",
      "300 is greatest number\n"
     ]
    }
   ],
   "source": [
    "# with out arguments\n",
    "\n",
    "def greatest():\n",
    "    n1=eval(input(\"enter a number1:\"))\n",
    "    n2=eval(input(\"enter a number2:\"))\n",
    "    n3=eval(input(\"enter a number3:\"))\n",
    "    if(n1>n2 and n1>n3):\n",
    "        print(\"{} is greatest number\".format(n1))\n",
    "    elif(n2>n1 and n2>n3):\n",
    "        print(\"{} is greatest number\".format(n2))\n",
    "    else:\n",
    "        print(\"{} is greatest number\".format(n3))\n",
    "        \n",
    "greatest()"
   ]
  },
  {
   "cell_type": "code",
   "execution_count": 69,
   "id": "df3b7fe4",
   "metadata": {},
   "outputs": [
    {
     "name": "stdout",
     "output_type": "stream",
     "text": [
      "300 is greatest number\n"
     ]
    }
   ],
   "source": [
    "# with arguments\n",
    "\n",
    "def greatest(n1,n2,n3):\n",
    "    if(n1>n2 and n1>n3):\n",
    "        print(\"{} is greatest number\".format(n1))\n",
    "    elif(n2>n1 and n2>n3):\n",
    "        print(\"{} is greatest number\".format(n2))\n",
    "    else:\n",
    "        print(\"{} is greatest number\".format(n3))\n",
    "    \n",
    "greatest(100,300,200)"
   ]
  },
  {
   "cell_type": "code",
   "execution_count": 2,
   "id": "142d8c59",
   "metadata": {},
   "outputs": [
    {
     "name": "stdout",
     "output_type": "stream",
     "text": [
      "300 is greatest number\n"
     ]
    }
   ],
   "source": [
    "# default arguments\n",
    "\n",
    "def greatest(n1,n2,n3=45):\n",
    "    if(n1>n2 and n1>n3):\n",
    "        print(\"{} is greatest number\".format(n1))\n",
    "    elif(n2>n1 and n2>n3):\n",
    "        print(\"{} is greatest number\".format(n2))\n",
    "    else:\n",
    "        print(\"{} is greatest number\".format(n3))\n",
    "        \n",
    "greatest(100,300)"
   ]
  },
  {
   "cell_type": "code",
   "execution_count": 73,
   "id": "a968176b",
   "metadata": {},
   "outputs": [],
   "source": [
    "# return statement with inputs\n",
    "\n",
    "def greatest():\n",
    "    n1=eval(input(\"enter a number1:\"))\n",
    "    n2=eval(input(\"enter a number2:\"))\n",
    "    n3=eval(input(\"enter a number3:\"))\n",
    "    if(n1>n2 and n1>n3):\n",
    "        print(\"{} is greatest number\".format(n1))\n",
    "    elif(n2>n1 and n2>n3):\n",
    "        print(\"{} is greatest number\".format(n2))\n",
    "    else:\n",
    "        print(\"{} is greatest number\".format(n3))\n",
    "    return(n1,n2,n3)"
   ]
  },
  {
   "cell_type": "code",
   "execution_count": 76,
   "id": "f154b7d0",
   "metadata": {},
   "outputs": [
    {
     "name": "stdout",
     "output_type": "stream",
     "text": [
      "enter a number1:100\n",
      "enter a number2:300\n",
      "enter a number3:200\n",
      "300 is greatest number\n",
      "100 300 200\n"
     ]
    }
   ],
   "source": [
    "n1,n2,n3=greatest()\n",
    "print(n1,n2,n3)"
   ]
  },
  {
   "cell_type": "code",
   "execution_count": 77,
   "id": "fefdac73",
   "metadata": {},
   "outputs": [
    {
     "data": {
      "text/plain": [
       "100"
      ]
     },
     "execution_count": 77,
     "metadata": {},
     "output_type": "execute_result"
    }
   ],
   "source": [
    "n1"
   ]
  },
  {
   "cell_type": "code",
   "execution_count": 78,
   "id": "0f62e476",
   "metadata": {},
   "outputs": [
    {
     "data": {
      "text/plain": [
       "300"
      ]
     },
     "execution_count": 78,
     "metadata": {},
     "output_type": "execute_result"
    }
   ],
   "source": [
    "n2"
   ]
  },
  {
   "cell_type": "code",
   "execution_count": 79,
   "id": "28b1544c",
   "metadata": {},
   "outputs": [
    {
     "data": {
      "text/plain": [
       "200"
      ]
     },
     "execution_count": 79,
     "metadata": {},
     "output_type": "execute_result"
    }
   ],
   "source": [
    "n3"
   ]
  },
  {
   "cell_type": "code",
   "execution_count": 80,
   "id": "9ae73ea0",
   "metadata": {},
   "outputs": [],
   "source": [
    "# return statement wihtout inputs\n",
    "\n",
    "def greatest(n1,n2,n3):\n",
    "    if(n1>n2 and n1>n3):\n",
    "        print(\"{} is greatest number\".format(n1))\n",
    "    elif(n2>n1 and n2>n3):\n",
    "        print(\"{} is greatest number\".format(n2))\n",
    "    else:\n",
    "        print(\"{} is greatest number\".format(n3))\n",
    "    return(n1,n2,n3)"
   ]
  },
  {
   "cell_type": "code",
   "execution_count": 82,
   "id": "2769e8be",
   "metadata": {},
   "outputs": [
    {
     "name": "stdout",
     "output_type": "stream",
     "text": [
      "300 is greatest number\n",
      "100 300 200\n"
     ]
    }
   ],
   "source": [
    "n1,n2,n3=greatest(100,300,200)\n",
    "print(n1,n2,n3)"
   ]
  },
  {
   "cell_type": "code",
   "execution_count": 83,
   "id": "b8058cb3",
   "metadata": {},
   "outputs": [],
   "source": [
    "# local variable\n",
    "\n",
    "def avg_local():\n",
    "    n1=eval(input(\"enter a number1:\"))\n",
    "    n2=eval(input(\"enter a number2:\"))\n",
    "    n3=eval(input(\"enter a number3:\"))\n",
    "    if(n1>n2 and n1>n3):\n",
    "        print(\"{} is greatest number\".format(n1))\n",
    "    elif(n2>n1 and n2>n3):\n",
    "        print(\"{} is greatest number\".format(n2))\n",
    "    else:\n",
    "        print(\"{} is greatest number\".format(n3))\n",
    "    return(n1,n2,n3)"
   ]
  },
  {
   "cell_type": "code",
   "execution_count": 85,
   "id": "0a3272aa",
   "metadata": {},
   "outputs": [
    {
     "name": "stdout",
     "output_type": "stream",
     "text": [
      "enter a number1:100\n",
      "enter a number2:300\n",
      "enter a number3:200\n",
      "300 is greatest number\n",
      "100 300 200\n"
     ]
    }
   ],
   "source": [
    "num1,num2,num3=avg_local()\n",
    "print(num1,num2,num3)"
   ]
  },
  {
   "cell_type": "code",
   "execution_count": 86,
   "id": "b76caa95",
   "metadata": {},
   "outputs": [
    {
     "name": "stdout",
     "output_type": "stream",
     "text": [
      "enter a number1:100\n",
      "enter a number2:300\n",
      "enter a number3:200\n"
     ]
    }
   ],
   "source": [
    "# global variable\n",
    "\n",
    "n1=eval(input(\"enter a number1:\"))\n",
    "n2=eval(input(\"enter a number2:\"))\n",
    "n3=eval(input(\"enter a number3:\"))\n",
    "def avg_global():\n",
    "    if(n1>n2 and n1>n3):\n",
    "        print(\"{} is greatest number\".format(n1))\n",
    "    elif(n2>n1 and n2>n3):\n",
    "        print(\"{} is greatest number\".format(n2))\n",
    "    else:\n",
    "        print(\"{} is greatest number\".format(n3))\n",
    "    return(n1,n2,n3)"
   ]
  },
  {
   "cell_type": "code",
   "execution_count": 88,
   "id": "a0a07e7a",
   "metadata": {},
   "outputs": [
    {
     "name": "stdout",
     "output_type": "stream",
     "text": [
      "300 is greatest number\n",
      "100 300 200\n"
     ]
    }
   ],
   "source": [
    "n1,n2,n3=avg_global()\n",
    "print(n1,n2,n3)"
   ]
  },
  {
   "cell_type": "code",
   "execution_count": null,
   "id": "7771c07d",
   "metadata": {},
   "outputs": [],
   "source": []
  },
  {
   "cell_type": "markdown",
   "id": "73ffbcf2",
   "metadata": {},
   "source": [
    "### "
   ]
  }
 ],
 "metadata": {
  "kernelspec": {
   "display_name": "Python 3 (ipykernel)",
   "language": "python",
   "name": "python3"
  },
  "language_info": {
   "codemirror_mode": {
    "name": "ipython",
    "version": 3
   },
   "file_extension": ".py",
   "mimetype": "text/x-python",
   "name": "python",
   "nbconvert_exporter": "python",
   "pygments_lexer": "ipython3",
   "version": "3.11.5"
  }
 },
 "nbformat": 4,
 "nbformat_minor": 5
}
