{
 "cells": [
  {
   "cell_type": "markdown",
   "id": "91383e84",
   "metadata": {},
   "source": [
    "- 1. Write a program that asks the user to enter a string. The program should then print the following:\n",
    "-  (a) The total number of characters in the string\n",
    "-  (b) The string repeated 10 times\n",
    "- (c) The first character of the string (remember that string indices start at 0) (d) The first three\n",
    "      characters of the string\n",
    "- (e) The last three characters of the string\n",
    "- (f) The string backwards\n",
    "- (g) The seventh character of the string if the string is long enough and a message otherwise\n",
    "- (h) The string with its first and last characters removed\n",
    "- (i) The string in all caps\n",
    "- (j) The string with every a replaced with an e"
   ]
  },
  {
   "cell_type": "code",
   "execution_count": 16,
   "id": "0ea932b5",
   "metadata": {},
   "outputs": [],
   "source": [
    "string1=\"venkatesh\""
   ]
  },
  {
   "cell_type": "code",
   "execution_count": 31,
   "id": "4f55b424",
   "metadata": {},
   "outputs": [
    {
     "name": "stdout",
     "output_type": "stream",
     "text": [
      "9\n",
      "venkateshvenkateshvenkateshvenkateshvenkateshvenkateshvenkateshvenkateshvenkateshvenkatesh\n",
      "v\n",
      "ven\n",
      "esh\n",
      "hsetaknev\n",
      "e\n"
     ]
    }
   ],
   "source": [
    "print(len(string1))         # (a) The total number of characters in the string\n",
    "print(string1*10)           # (b) The string repeated 10 times\n",
    "print(string1[0])           # (c) The first character of the string (remember that string indices start at 0)\n",
    "print(string1[:3])          # (d)The first three characters of the string\n",
    "print(string1[6:9])         # (e) The last three characters of the string\n",
    "print(string1[::-1])        # (f) The string backwards\n",
    "print(string1[6])           # (g) The seventh character of the string if the string is long enough and a message otherwise"
   ]
  },
  {
   "cell_type": "code",
   "execution_count": 55,
   "id": "2952478d",
   "metadata": {},
   "outputs": [
    {
     "name": "stdout",
     "output_type": "stream",
     "text": [
      "enkates\n",
      "enkates\n"
     ]
    }
   ],
   "source": [
    "# (h) The string with its first and last characters removed\n",
    "print(string1[1:-1])\n",
    "print(string1.split('v')[1].split('h')[0])"
   ]
  },
  {
   "cell_type": "code",
   "execution_count": 56,
   "id": "054a56a3",
   "metadata": {},
   "outputs": [
    {
     "data": {
      "text/plain": [
       "'VENKATESH'"
      ]
     },
     "execution_count": 56,
     "metadata": {},
     "output_type": "execute_result"
    }
   ],
   "source": [
    "# (i) The string in all caps\n",
    "string1.upper()"
   ]
  },
  {
   "cell_type": "code",
   "execution_count": 57,
   "id": "8a963982",
   "metadata": {},
   "outputs": [
    {
     "data": {
      "text/plain": [
       "'venketesh'"
      ]
     },
     "execution_count": 57,
     "metadata": {},
     "output_type": "execute_result"
    }
   ],
   "source": [
    "# (j) The string with every a replaced with an e\n",
    "string1.replace('a','e')"
   ]
  },
  {
   "cell_type": "markdown",
   "id": "119844f7",
   "metadata": {},
   "source": [
    "- 2. A simple way to estimate the number of words in a string is to count the number of\n",
    "    spaces in the string. Write a program that asks the user for a string and \n",
    "    returns an estimate of how many words are in the string.\n",
    "   Tip: You need to count the number of words using spaces"
   ]
  },
  {
   "cell_type": "code",
   "execution_count": 126,
   "id": "2bcb9c8e",
   "metadata": {},
   "outputs": [
    {
     "name": "stdout",
     "output_type": "stream",
     "text": [
      "the spaces in the string: 3\n",
      "the number of words in a string: 12\n"
     ]
    }
   ],
   "source": [
    "string2=\"hai how are you\"\n",
    "count=0\n",
    "for i in string2:\n",
    "    if(i in \" \"):\n",
    "        count=count+1\n",
    "    else:\n",
    "        count=count+1\n",
    "print(\"the spaces in the string:\",string2.count(\" \"))\n",
    "print(\"the number of words in a string:\",len(string2)-string2.count(\" \"))"
   ]
  },
  {
   "cell_type": "code",
   "execution_count": 127,
   "id": "f0df35d8",
   "metadata": {},
   "outputs": [
    {
     "name": "stdout",
     "output_type": "stream",
     "text": [
      "the spaces in the string: 3\n",
      "the number of words in a string: 12\n"
     ]
    }
   ],
   "source": [
    "output1=string2.count(\" \")\n",
    "print(\"the spaces in the string:\",output1)\n",
    "output=(len(string2))\n",
    "print(\"the number of words in a string:\",output-output1)"
   ]
  },
  {
   "cell_type": "markdown",
   "id": "4d1e7750",
   "metadata": {},
   "source": [
    "- 3.Write a program that asks the user to enter a word and prints out whether that word contains any\n",
    "  vowels."
   ]
  },
  {
   "cell_type": "code",
   "execution_count": 128,
   "id": "93b84b49",
   "metadata": {},
   "outputs": [
    {
     "name": "stdout",
     "output_type": "stream",
     "text": [
      "e\n",
      "a\n",
      "e\n"
     ]
    }
   ],
   "source": [
    "name1='venkatesh'\n",
    "for i in name1:\n",
    "    if(i in 'aeiou'):\n",
    "        print(i)"
   ]
  },
  {
   "cell_type": "markdown",
   "id": "27e51467",
   "metadata": {},
   "source": [
    "- 4. Improvise above code by providing unique vowels"
   ]
  },
  {
   "cell_type": "code",
   "execution_count": 129,
   "id": "b7175ba2",
   "metadata": {},
   "outputs": [
    {
     "name": "stdout",
     "output_type": "stream",
     "text": [
      "ea\n"
     ]
    }
   ],
   "source": [
    "name1='venkatesh'\n",
    "name2=\"\"\n",
    "for i in name1:\n",
    "    if(i in 'aeiou'):\n",
    "        if(i not in name2):\n",
    "            name2=name2+i\n",
    "print(name2)"
   ]
  },
  {
   "cell_type": "markdown",
   "id": "369853cc",
   "metadata": {},
   "source": [
    "- 5. Write a program that asks the user to enter a string. The program should create a new string\n",
    "  called new_string from the user’s string such that the second character is changed to an asterisk and\n",
    "  three exclamation points are attached to the end of the string. Finally, print new_string.\n",
    "   Typical output is shown below:\n",
    " - Enter your string: Qbert\n",
    " -  Output: Q*ert!!!"
   ]
  },
  {
   "cell_type": "code",
   "execution_count": 20,
   "id": "835f69bd",
   "metadata": {},
   "outputs": [
    {
     "name": "stdout",
     "output_type": "stream",
     "text": [
      "enter a string:Qbert\n"
     ]
    },
    {
     "data": {
      "text/plain": [
       "'Q*ert!!!'"
      ]
     },
     "execution_count": 20,
     "metadata": {},
     "output_type": "execute_result"
    }
   ],
   "source": [
    "string=input(\"enter a string:\")\n",
    "new_string=string.replace('b','*')+('!!!')\n",
    "new_string"
   ]
  },
  {
   "cell_type": "markdown",
   "id": "19a29c9f",
   "metadata": {},
   "source": [
    "- 6. Write a program that asks the user to enter a word and determines whether the word is a\n",
    "  palindrome or not. A palindrome is a word that reads the same backwards as forwards"
   ]
  },
  {
   "cell_type": "code",
   "execution_count": 45,
   "id": "19348171",
   "metadata": {},
   "outputs": [
    {
     "name": "stdout",
     "output_type": "stream",
     "text": [
      "enter a word:venkat\n",
      "palindrome\n"
     ]
    }
   ],
   "source": [
    "word=input(\"enter a word:\")\n",
    "new_word=word\n",
    "word[::-1]\n",
    "if(word==new_word):\n",
    "    print(\"palindrome\")\n",
    "else:\n",
    "    print(\"not a palindrome\")"
   ]
  },
  {
   "cell_type": "markdown",
   "id": "6ee96a22",
   "metadata": {},
   "source": [
    "- 7. At a certain school, student email addresses end with @student.college.edu, while professor\n",
    "   email addresses end with @prof.college.edu. Write a program that first asks the user how many\n",
    "   email addresses they will be entering, and then has the user enter those addresses. After all the\n",
    "  email addresses are entered, the program should print out a message indicating either that all the\n",
    "  addresses are student addresses or that there were some professor addresses entered."
   ]
  },
  {
   "cell_type": "code",
   "execution_count": 88,
   "id": "6c69fa41",
   "metadata": {},
   "outputs": [
    {
     "name": "stdout",
     "output_type": "stream",
     "text": [
      "enter a number of email address:4\n",
      "enter email address:konka@student.college.edu\n",
      "enter email address:venkatesh@prof.college.edu\n",
      "enter email address:chowdary@prof.college.edu\n",
      "enter email address:redbus@student.college.edu\n",
      "2\n",
      "2\n",
      "There are 2 student mails and 2 professor mails\n"
     ]
    }
   ],
   "source": [
    "email=eval(input('enter a number of email address:'))\n",
    "count1=0\n",
    "count2=0\n",
    "for i in range(email):\n",
    "    address=input(\"enter email address:\".format(email+1))\n",
    "    if address.endswith('@student.college.edu'):\n",
    "        count1=count1+1\n",
    "    elif address.endswith('@prof.college.edu'):\n",
    "        count2=count2+1\n",
    "print(count1)\n",
    "print(count2)\n",
    "if(count1==email):\n",
    "    print(\"some mails are student mails\")\n",
    "elif(count2==email):\n",
    "    print(\"some mails are professor mails\")\n",
    "else:\n",
    "    print(\"There are {} student mails and {} professor mails\".format(count1,count2))"
   ]
  },
  {
   "cell_type": "markdown",
   "id": "8380aa92",
   "metadata": {},
   "source": [
    "- 8. Write a program that asks the user to enter a string, then prints out each letter of the string\n",
    "  doubled and on a separate line. For instance,\n",
    " - if the user entered HEY,\n",
    "  - the output would be\n",
    "  - HH\n",
    "  - EE\n",
    "  - YY"
   ]
  },
  {
   "cell_type": "code",
   "execution_count": 93,
   "id": "0b74e611",
   "metadata": {},
   "outputs": [
    {
     "name": "stdout",
     "output_type": "stream",
     "text": [
      "enter a string:HEY\n",
      "HH\n",
      "EE\n",
      "YY\n"
     ]
    }
   ],
   "source": [
    "string1=input(\"enter a string:\")\n",
    "for i in string1:\n",
    "    if(i in string1):\n",
    "        print(i*2)"
   ]
  },
  {
   "cell_type": "code",
   "execution_count": 95,
   "id": "3cffa0d7",
   "metadata": {},
   "outputs": [
    {
     "name": "stdout",
     "output_type": "stream",
     "text": [
      "enter a string:HEY\n",
      "HH\n",
      "EE\n",
      "YY\n"
     ]
    }
   ],
   "source": [
    "string2=input(\"enter a string:\")\n",
    "for i in range(len(string2)):\n",
    "    if(string2[i] in string2):\n",
    "        print(string2[i]*2)"
   ]
  },
  {
   "cell_type": "markdown",
   "id": "4a755b63",
   "metadata": {},
   "source": [
    "- 9.Write a program that asks the user to enter a word that contains the letter a. The program should\n",
    "  then print the following two lines: On the first line should be the part of the string up to and\n",
    "  including the the first a, and on the second line should be the rest of the string.\n",
    "  Sample output is shown below:\n",
    "- Enter a word: buffalo\n",
    "- buffa\n",
    "- lo"
   ]
  },
  {
   "cell_type": "code",
   "execution_count": 43,
   "id": "db174267",
   "metadata": {},
   "outputs": [
    {
     "name": "stdout",
     "output_type": "stream",
     "text": [
      "enter a word:buffalo\n",
      "buffa\n",
      "lo\n"
     ]
    }
   ],
   "source": [
    "string=input(\"enter a word:\")\n",
    "new_string=string.index('a')+1\n",
    "print(string[:new_string])\n",
    "print(string[new_string:])"
   ]
  },
  {
   "cell_type": "code",
   "execution_count": 243,
   "id": "03bc592c",
   "metadata": {},
   "outputs": [
    {
     "name": "stdout",
     "output_type": "stream",
     "text": [
      "enter a word:buffalo\n",
      "buffa\n",
      "lo\n"
     ]
    }
   ],
   "source": [
    "string=input(\"enter a word:\")\n",
    "print(string.split('l')[0])\n",
    "print(string.split('a')[1])"
   ]
  },
  {
   "cell_type": "markdown",
   "id": "f01d3a03",
   "metadata": {},
   "source": [
    "- 10. Write a program that asks the user to enter a word and then capitalizes every other letter of that\n",
    "  word.\n",
    "- So if the user enters rhinoceros,\n",
    "- the program should print rHiNoCeRoS."
   ]
  },
  {
   "cell_type": "code",
   "execution_count": 82,
   "id": "0c2f261a",
   "metadata": {},
   "outputs": [
    {
     "name": "stdout",
     "output_type": "stream",
     "text": [
      "enter a word:rhinoceros\n",
      "rHiNoCeRoS"
     ]
    }
   ],
   "source": [
    "string1=input(\"enter a word:\")\n",
    "for i in range(len(string1)):\n",
    "    if(i%2!=0):\n",
    "        print(string1[i].upper(),end='')\n",
    "    else:\n",
    "        print(string1[i],end='')"
   ]
  },
  {
   "cell_type": "code",
   "execution_count": 83,
   "id": "b1cdda2c",
   "metadata": {},
   "outputs": [
    {
     "name": "stdout",
     "output_type": "stream",
     "text": [
      "enter a word:rhinoceros\n",
      "rHiNoCeRoS"
     ]
    }
   ],
   "source": [
    "string1=input(\"enter a word:\")\n",
    "for i in range(len(string1)):\n",
    "    if(i%2==0):\n",
    "        print(string1[i],end='')\n",
    "    else:\n",
    "        print(string1[i].upper(),end='')"
   ]
  },
  {
   "cell_type": "code",
   "execution_count": 96,
   "id": "5a2be67e",
   "metadata": {},
   "outputs": [
    {
     "name": "stdout",
     "output_type": "stream",
     "text": [
      "enter a word:rhinoceros\n"
     ]
    },
    {
     "data": {
      "text/plain": [
       "'rHiNoCeRoS'"
      ]
     },
     "execution_count": 96,
     "metadata": {},
     "output_type": "execute_result"
    }
   ],
   "source": [
    "string1=input(\"enter a word:\")\n",
    "output=[string1[i] if(i%2==0) else string1[i].upper() for i in range(len(string1))]\n",
    "output\n",
    "''.join(output)"
   ]
  },
  {
   "cell_type": "markdown",
   "id": "26d88a3c",
   "metadata": {},
   "source": [
    "- 11. Write a program that asks the user to enter two strings of the same length. The program should\n",
    "  then check to see if the strings are of the same length. If they are not, the program should print an\n",
    "  appropriate message and exit. If they are of the same length, the program should alternate the\n",
    "  characters of the two strings. For example,\n",
    "- if the user enters abcde and ABCDE\n",
    "- the program should print out AaBbCcDdEe."
   ]
  },
  {
   "cell_type": "code",
   "execution_count": 106,
   "id": "1c7699bd",
   "metadata": {},
   "outputs": [
    {
     "name": "stdout",
     "output_type": "stream",
     "text": [
      "enter the string1:ABCDE\n",
      "enter the string2:abcde\n",
      "AaBbCcDdEe"
     ]
    }
   ],
   "source": [
    "string1=input(\"enter the string1:\")\n",
    "string2=input(\"enter the string2:\")\n",
    "for i in range(len(string1)):\n",
    "    if(len(string1)!=len(string2)) :\n",
    "        print(\"An appropriate message\")\n",
    "    else:\n",
    "        print(string1[i]+string2[i],end='')"
   ]
  },
  {
   "cell_type": "markdown",
   "id": "e8120cca",
   "metadata": {},
   "source": [
    "- 12. Write a program that asks the user to enter their name in lowercase and then capitalizes the first\n",
    "  letter of each word of their name."
   ]
  },
  {
   "cell_type": "code",
   "execution_count": 137,
   "id": "5710bd91",
   "metadata": {},
   "outputs": [
    {
     "name": "stdout",
     "output_type": "stream",
     "text": [
      "enter a name:konka venkatesh chowdary\n"
     ]
    },
    {
     "data": {
      "text/plain": [
       "'Konka Venkatesh Chowdary'"
      ]
     },
     "execution_count": 137,
     "metadata": {},
     "output_type": "execute_result"
    }
   ],
   "source": [
    "name=input(\"enter a name:\")\n",
    "name.title()"
   ]
  },
  {
   "cell_type": "markdown",
   "id": "b2b8273d",
   "metadata": {},
   "source": [
    "-  13. The goal of this exercise is to see if you can mimic the behavior of the in operator and the count\n",
    "   and index methods using only variables, for loops, and if statements.\n",
    "-  (a) Without using the in operator, write a program that asks the user for a string and a letter\n",
    "   and prints out whether or not the letter appears in the string.\n",
    "-  (b) Without using the count method, write a program that asks the user for a string and a\n",
    "   letter and counts how many occurrences there are of the letter in the string.\n",
    "-  (c) Without using the index method, write a program that asks the user for a string and a\n",
    "   letter and prints out the index of the first occurrence of the letter in the string. If the letter is\n",
    "   not in the string, the program should say so."
   ]
  },
  {
   "cell_type": "code",
   "execution_count": null,
   "id": "897db0f4",
   "metadata": {},
   "outputs": [],
   "source": []
  },
  {
   "cell_type": "markdown",
   "id": "ee654ea2",
   "metadata": {},
   "source": [
    "- 14. Finding a substring within a string\n",
    "- For example, if we were presented a series of lines formatted as follows:\n",
    " - From stephen.marquard@uct.ac.za Sat Jan 5 09:14:16 2008\n",
    " - and we wanted to pull out only the second half of the address (i.e., uct.ac.za)"
   ]
  },
  {
   "cell_type": "code",
   "execution_count": 180,
   "id": "c45925da",
   "metadata": {},
   "outputs": [
    {
     "data": {
      "text/plain": [
       "'uct.ac.za'"
      ]
     },
     "execution_count": 180,
     "metadata": {},
     "output_type": "execute_result"
    }
   ],
   "source": [
    "string='mailto:stephen.marquard@uct.ac.za Sat Jan 5 09:14:16 2008'\n",
    "string.split('@')[1].split(' S')[0]"
   ]
  },
  {
   "cell_type": "code",
   "execution_count": 188,
   "id": "0122ef86",
   "metadata": {},
   "outputs": [
    {
     "data": {
      "text/plain": [
       "'uct.ac.za'"
      ]
     },
     "execution_count": 188,
     "metadata": {},
     "output_type": "execute_result"
    }
   ],
   "source": [
    "string[string.index('@')+1:string.index(' S')]"
   ]
  },
  {
   "cell_type": "markdown",
   "id": "5adce62f",
   "metadata": {},
   "source": [
    "- 15. Write a Python program to add 'ing' at the end of a given string (length should be at least 3). If the\n",
    "  given string already ends with 'ing' then add 'ly' instead.\n",
    "  If the string length of the given string is less than 3, leave it unchanged.\n",
    "    Go to the editor\n",
    "  - Sample String : 'abc'\n",
    "  - Expected Result : 'abcing'\n",
    "  - Sample String : 'string'\n",
    "  - Expected Result : 'stringly'"
   ]
  },
  {
   "cell_type": "code",
   "execution_count": 194,
   "id": "286549b6",
   "metadata": {},
   "outputs": [
    {
     "name": "stdout",
     "output_type": "stream",
     "text": [
      "enter a string:abc\n",
      "abcing\n"
     ]
    }
   ],
   "source": [
    "string=input(\"enter a string:\")\n",
    "if string.endswith('ing') :\n",
    "    print(string+'ly')\n",
    "else:\n",
    "    print(string+'ing')"
   ]
  },
  {
   "cell_type": "code",
   "execution_count": 195,
   "id": "521c1065",
   "metadata": {},
   "outputs": [
    {
     "name": "stdout",
     "output_type": "stream",
     "text": [
      "enter a string:string\n",
      "stringly\n"
     ]
    }
   ],
   "source": [
    "string=input(\"enter a string:\")\n",
    "if string.endswith('ing') :\n",
    "    print(string+'ly')\n",
    "else:\n",
    "    print(string+'ing')"
   ]
  },
  {
   "cell_type": "markdown",
   "id": "07f6bad5",
   "metadata": {},
   "source": [
    "- 16. Take the following Python code that stores a string:‘\n",
    "- string = 'X-DSPAM-Confidence: 0.8475'\n",
    "- Extract the portion of the string after the colon character and then use the float function to convert\n",
    "  the extracted string into a floating point number."
   ]
  },
  {
   "cell_type": "code",
   "execution_count": 238,
   "id": "7f43987a",
   "metadata": {},
   "outputs": [
    {
     "data": {
      "text/plain": [
       "0.8475"
      ]
     },
     "execution_count": 238,
     "metadata": {},
     "output_type": "execute_result"
    }
   ],
   "source": [
    "string = 'X-DSPAM-Confidence:0.8475'\n",
    "float(string.split(':')[1])"
   ]
  },
  {
   "cell_type": "code",
   "execution_count": 240,
   "id": "b3930bd1",
   "metadata": {},
   "outputs": [
    {
     "data": {
      "text/plain": [
       "0.8475"
      ]
     },
     "execution_count": 240,
     "metadata": {},
     "output_type": "execute_result"
    }
   ],
   "source": [
    "float(string[string.index(':')+1:])"
   ]
  },
  {
   "cell_type": "code",
   "execution_count": null,
   "id": "08f2cb82",
   "metadata": {},
   "outputs": [],
   "source": []
  }
 ],
 "metadata": {
  "kernelspec": {
   "display_name": "Python 3 (ipykernel)",
   "language": "python",
   "name": "python3"
  },
  "language_info": {
   "codemirror_mode": {
    "name": "ipython",
    "version": 3
   },
   "file_extension": ".py",
   "mimetype": "text/x-python",
   "name": "python",
   "nbconvert_exporter": "python",
   "pygments_lexer": "ipython3",
   "version": "3.11.5"
  }
 },
 "nbformat": 4,
 "nbformat_minor": 5
}
