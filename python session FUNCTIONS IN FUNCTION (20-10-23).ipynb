{
 "cells": [
  {
   "cell_type": "code",
   "execution_count": 2,
   "id": "e54c2d94",
   "metadata": {},
   "outputs": [],
   "source": [
    "a=20\n",
    "\n",
    "def val():\n",
    "    a=30\n",
    "    print(\"the value of a:\",a)"
   ]
  },
  {
   "cell_type": "code",
   "execution_count": 3,
   "id": "1184cddc",
   "metadata": {},
   "outputs": [
    {
     "name": "stdout",
     "output_type": "stream",
     "text": [
      "the value of a: 30\n"
     ]
    }
   ],
   "source": [
    "val()"
   ]
  },
  {
   "cell_type": "code",
   "execution_count": 4,
   "id": "79b1ccef",
   "metadata": {},
   "outputs": [
    {
     "name": "stdout",
     "output_type": "stream",
     "text": [
      "20\n"
     ]
    }
   ],
   "source": [
    "print(a)"
   ]
  },
  {
   "cell_type": "code",
   "execution_count": null,
   "id": "a9616eef",
   "metadata": {},
   "outputs": [],
   "source": [
    "# my main aim is i want to use a=30 value without return \n",
    "# i want to use latest a value i.e., 30 outside the function\n",
    "# local =====> global \n",
    "# convert local to global varaible"
   ]
  },
  {
   "cell_type": "code",
   "execution_count": null,
   "id": "f17a9510",
   "metadata": {},
   "outputs": [],
   "source": [
    "keyword : global"
   ]
  },
  {
   "cell_type": "code",
   "execution_count": 6,
   "id": "87c411a6",
   "metadata": {},
   "outputs": [],
   "source": [
    "a1=20\n",
    "\n",
    "def val():\n",
    "    global a1\n",
    "    a1=30\n",
    "    print(\"the value of a1:\",a1)"
   ]
  },
  {
   "cell_type": "code",
   "execution_count": 7,
   "id": "38ce9723",
   "metadata": {},
   "outputs": [
    {
     "name": "stdout",
     "output_type": "stream",
     "text": [
      "the value of a1: 30\n"
     ]
    }
   ],
   "source": [
    "val()"
   ]
  },
  {
   "cell_type": "code",
   "execution_count": 9,
   "id": "8153fac4",
   "metadata": {},
   "outputs": [
    {
     "name": "stdout",
     "output_type": "stream",
     "text": [
      "30\n"
     ]
    }
   ],
   "source": [
    "print(a1)"
   ]
  },
  {
   "cell_type": "code",
   "execution_count": 3,
   "id": "16edcc53",
   "metadata": {},
   "outputs": [
    {
     "name": "stdout",
     "output_type": "stream",
     "text": [
      "the value of a: 30\n",
      "20\n",
      "the value of a: 30\n",
      "30\n"
     ]
    }
   ],
   "source": [
    "a=20                 # global variable\n",
    "\n",
    "def val():\n",
    "    a=30              # local variable\n",
    "    print('the value of a:',a)\n",
    "    \n",
    "val()\n",
    "print(a)\n",
    "\n",
    "\n",
    "#===========================================================================\n",
    "# use case: we want to use latest value of a\n",
    "# we want to use local variable outside function call with out return \n",
    "#===========================================================================\n",
    "\n",
    "\n",
    "\n",
    "a=20 # global variable\n",
    "\n",
    "def val():\n",
    "    global a\n",
    "    a=30\n",
    "    print(\"the value of a:\",a)\n",
    "    \n",
    "val()\n",
    "print(a)\n"
   ]
  },
  {
   "cell_type": "code",
   "execution_count": null,
   "id": "1e07cfd0",
   "metadata": {},
   "outputs": [],
   "source": []
  },
  {
   "cell_type": "code",
   "execution_count": 5,
   "id": "7b1a8975",
   "metadata": {},
   "outputs": [
    {
     "name": "stdout",
     "output_type": "stream",
     "text": [
      "30\n"
     ]
    }
   ],
   "source": [
    "num1=30\n",
    "def add(num2,num3):\n",
    "    num1=num2+num3\n",
    "    \n",
    "    \n",
    "add(50,40)\n",
    "print(num1)"
   ]
  },
  {
   "cell_type": "code",
   "execution_count": 6,
   "id": "f0bfc565",
   "metadata": {},
   "outputs": [
    {
     "name": "stdout",
     "output_type": "stream",
     "text": [
      "90\n"
     ]
    }
   ],
   "source": [
    "num1=30\n",
    "def add(num2,num3):\n",
    "    global num1              # updated local to global\n",
    "    num1=num2+num3\n",
    "\n",
    "    \n",
    "add(50,40)\n",
    "print(num1)"
   ]
  },
  {
   "cell_type": "code",
   "execution_count": 11,
   "id": "634fd6b5",
   "metadata": {},
   "outputs": [
    {
     "name": "stdout",
     "output_type": "stream",
     "text": [
      "90\n",
      "90\n"
     ]
    }
   ],
   "source": [
    "num1=30\n",
    "def add(num2,num3):\n",
    "    global num1              # updated local to global\n",
    "    num1=num2+num3\n",
    "    print(num1)\n",
    "    \n",
    "add(50,40)\n",
    "print(num1)"
   ]
  },
  {
   "cell_type": "code",
   "execution_count": 20,
   "id": "b10829f3",
   "metadata": {},
   "outputs": [
    {
     "name": "stdout",
     "output_type": "stream",
     "text": [
      "70\n",
      "30\n"
     ]
    }
   ],
   "source": [
    "num1=30\n",
    "def add(num2,num3):\n",
    "    global num1              # updated local to global\n",
    "    num1=num2+num3\n",
    "    return(num2)            # return is used whenever there are parameters \n",
    "    \n",
    "num2=add(30,40)\n",
    "print(num1)\n",
    "print(num2)"
   ]
  },
  {
   "cell_type": "code",
   "execution_count": 1,
   "id": "b856ad4b",
   "metadata": {},
   "outputs": [
    {
     "ename": "SyntaxError",
     "evalue": "name 'num2' is parameter and global (559365712.py, line 4)",
     "output_type": "error",
     "traceback": [
      "\u001b[1;36m  Cell \u001b[1;32mIn[1], line 4\u001b[1;36m\u001b[0m\n\u001b[1;33m    global num1,num2      # num2 also gloabl\u001b[0m\n\u001b[1;37m    ^\u001b[0m\n\u001b[1;31mSyntaxError\u001b[0m\u001b[1;31m:\u001b[0m name 'num2' is parameter and global\n"
     ]
    }
   ],
   "source": [
    "# Can I use global variable on num2?\n",
    "num1=30      # global varaible\n",
    "def add(num2,num3):       # with argument num2 is a parameter\n",
    "    global num1,num2      # num2 also gloabl\n",
    "    num1=num2+num3\n",
    "\n",
    "num2=add(30,40)\n",
    "print(num1)        # 70\n",
    "print(num2)        # 30\n",
    "\n",
    "# parameters never become a global variable\n",
    "# that are always inside the function only"
   ]
  },
  {
   "cell_type": "code",
   "execution_count": 21,
   "id": "7437692a",
   "metadata": {},
   "outputs": [
    {
     "name": "stdout",
     "output_type": "stream",
     "text": [
      "enter number:30\n",
      "70\n",
      "30\n"
     ]
    }
   ],
   "source": [
    "num1=30\n",
    "def add(num3):\n",
    "    global num1,num2\n",
    "    num2=eval(input(\"enter number:\"))\n",
    "    num1=num2+num3\n",
    "    \n",
    "    \n",
    "add(40)\n",
    "print(num1)\n",
    "print(num2)"
   ]
  },
  {
   "cell_type": "code",
   "execution_count": null,
   "id": "9c8087ed",
   "metadata": {},
   "outputs": [],
   "source": []
  },
  {
   "cell_type": "code",
   "execution_count": null,
   "id": "1e157040",
   "metadata": {},
   "outputs": [],
   "source": [
    "# tip and bill\n",
    "# step-1 : take bill as a global variable      # bill=1000\n",
    "# step-2 : create a function, inside the function provide default parameter as tip    # tip=100\n",
    "# step-3 : create a global keyword as total amount\n",
    "# step-4 : calculate total amount\n",
    "# step-5 : print total amount outside the function"
   ]
  },
  {
   "cell_type": "code",
   "execution_count": 34,
   "id": "d2398380",
   "metadata": {},
   "outputs": [
    {
     "name": "stdout",
     "output_type": "stream",
     "text": [
      "1100\n"
     ]
    }
   ],
   "source": [
    "bill=1000\n",
    "def amount(tip=100):\n",
    "    global total_amount\n",
    "    total_amount=bill+tip\n",
    "\n",
    "amount()\n",
    "print(total_amount)"
   ]
  },
  {
   "cell_type": "code",
   "execution_count": 33,
   "id": "a00b8ee3",
   "metadata": {},
   "outputs": [
    {
     "name": "stdout",
     "output_type": "stream",
     "text": [
      "Please enter Bill AMount:1500\n",
      "Total Bill is: 1530\n"
     ]
    }
   ],
   "source": [
    "Bill=eval(input(\"Please enter Bill AMount:\"))\n",
    "def Total_Bill(Tip=30):\n",
    "    try:\n",
    "        global total_bill\n",
    "        total_bill = Bill + Tip\n",
    "    except Exception as e:\n",
    "        print(e)\n",
    "        \n",
    "Total_Bill()\n",
    "print (\"Total Bill is:\",total_bill)"
   ]
  },
  {
   "cell_type": "code",
   "execution_count": null,
   "id": "b5c20ebc",
   "metadata": {},
   "outputs": [],
   "source": []
  },
  {
   "cell_type": "markdown",
   "id": "6d8b438b",
   "metadata": {},
   "source": [
    "# functions in functions"
   ]
  },
  {
   "cell_type": "code",
   "execution_count": 27,
   "id": "3a43e4e2",
   "metadata": {},
   "outputs": [
    {
     "name": "stdout",
     "output_type": "stream",
     "text": [
      "vamsi\n",
      "hello good morning\n",
      "how do you do\n"
     ]
    }
   ],
   "source": [
    "def hey():\n",
    "    print(\"vamsi\")\n",
    "    print(\"hello good morning\")\n",
    "    print(\"how do you do\")\n",
    "    \n",
    "hey()  "
   ]
  },
  {
   "cell_type": "code",
   "execution_count": 29,
   "id": "a88a5133",
   "metadata": {},
   "outputs": [
    {
     "name": "stdout",
     "output_type": "stream",
     "text": [
      "hello good morning\n"
     ]
    }
   ],
   "source": [
    "def greet():\n",
    "    print(\"hello good morning\")\n",
    "\n",
    "greet()"
   ]
  },
  {
   "cell_type": "code",
   "execution_count": 30,
   "id": "c51a1a92",
   "metadata": {},
   "outputs": [
    {
     "name": "stdout",
     "output_type": "stream",
     "text": [
      "vamsi\n",
      "hello good morning\n",
      "how do you do\n"
     ]
    }
   ],
   "source": [
    "def greet():\n",
    "    print(\"hello good morning\")\n",
    "\n",
    "def hey():\n",
    "    print(\"vamsi\")\n",
    "    greet()\n",
    "    print(\"how do you do\")\n",
    "    \n",
    "hey()  "
   ]
  },
  {
   "cell_type": "code",
   "execution_count": 35,
   "id": "db2b294a",
   "metadata": {},
   "outputs": [
    {
     "name": "stdout",
     "output_type": "stream",
     "text": [
      "how much 3+5\n",
      "good morning\n",
      "hello\n",
      "i think i dont know\n",
      "end the story\n"
     ]
    }
   ],
   "source": [
    "def greet1():\n",
    "    print(\"hello\")\n",
    "    \n",
    "def greet2():\n",
    "    print(\"good morning\")\n",
    "    \n",
    "def greet3():\n",
    "    print(\"how much 3+5\")\n",
    "    \n",
    "def greet4():\n",
    "    print(\"i think i dont know\")\n",
    "    \n",
    "def solve():\n",
    "    greet3()\n",
    "    greet2()\n",
    "    greet1()\n",
    "    greet4()\n",
    "    print(\"end the story\")\n",
    "    \n",
    "solve()\n",
    "    \n"
   ]
  },
  {
   "cell_type": "code",
   "execution_count": 3,
   "id": "28d200ff",
   "metadata": {},
   "outputs": [
    {
     "name": "stdout",
     "output_type": "stream",
     "text": [
      "how much 3+5\n",
      "good morning\n",
      "hello: venky\n",
      "i think i dont know\n",
      "end the story\n"
     ]
    }
   ],
   "source": [
    "def greet1(name):\n",
    "    print(\"hello:\",name)\n",
    "    \n",
    "def greet2():\n",
    "    print(\"good morning\")\n",
    "    \n",
    "def greet3():\n",
    "    print(\"how much 3+5\")\n",
    "    \n",
    "def greet4():\n",
    "    print(\"i think i dont know\")\n",
    "    \n",
    "def solve(name):\n",
    "    greet3()\n",
    "    greet2()\n",
    "    greet1(name)\n",
    "    greet4()\n",
    "    print(\"end the story\")\n",
    "    \n",
    "solve(\"venky\")\n",
    "    "
   ]
  },
  {
   "cell_type": "code",
   "execution_count": 3,
   "id": "3b3fc422",
   "metadata": {},
   "outputs": [
    {
     "name": "stdout",
     "output_type": "stream",
     "text": [
      "good morning anil\n",
      "hello: venky\n",
      "i think i dont know\n",
      "end the story\n"
     ]
    }
   ],
   "source": [
    "def greet1(name1):\n",
    "    print(\"hello:\",name1)\n",
    "    \n",
    "def greet2(name2):\n",
    "    print(\"good morning\",name2)\n",
    "    \n",
    "def greet3():\n",
    "    print(\"how much 3+5\")\n",
    "    \n",
    "def greet4():\n",
    "    print(\"i think i dont know\")\n",
    "    \n",
    "def solve(name1,name2):\n",
    "    greet3()\n",
    "    greet2(name2)\n",
    "    greet1(name1)\n",
    "    greet4()\n",
    "    print(\"end the story\")\n",
    "    \n",
    "solve(\"venky\",\"anil\")\n",
    "   "
   ]
  },
  {
   "cell_type": "code",
   "execution_count": null,
   "id": "ab0edc47",
   "metadata": {},
   "outputs": [],
   "source": []
  },
  {
   "cell_type": "code",
   "execution_count": null,
   "id": "957ab7e5",
   "metadata": {},
   "outputs": [],
   "source": [
    "# simple calculator\n",
    "# define 4 functions individually\n",
    "# first function : add ==== two arg\n",
    "#                : print(\"the addition of a and b is:\",a+b)\n",
    "# second function : sub ==== two arg\n",
    "#               : print(\"thesubtraction of a and b is:\",a-b)\n",
    "# third function : mul ==== two arg\n",
    "#                 print(\"the multiplication of a and b is:\",a*b)\n",
    "# fourth function : div ==== two arg\n",
    "#                print(\"the division of a and b is:\",a/b)\n",
    "\n",
    "# define main function as calculator:\n",
    "# inside function write as number=input(\"enter a numbver between 1 to 4\")\n",
    "# if that number  === '1' : then call add(a,b)\n",
    "# if that number  === '2' : then call sub(a,b)\n",
    "# if that number  === '3' : then call mul(a,b)\n",
    "# if that number  === '4' : then call div(a,b)\n",
    "\n",
    "calculator(10,20)"
   ]
  },
  {
   "cell_type": "code",
   "execution_count": 2,
   "id": "e50a2696",
   "metadata": {},
   "outputs": [
    {
     "name": "stdout",
     "output_type": "stream",
     "text": [
      "if that number is equal to 1 then call addition\n",
      "if that number is equal to 2 then call subtraction\n",
      "if that number is equal to 3 then call multiplication\n",
      "if that number is equal to 4 then call division\n",
      "enter a number between 1 to 4:01\n"
     ]
    },
    {
     "ename": "SyntaxError",
     "evalue": "leading zeros in decimal integer literals are not permitted; use an 0o prefix for octal integers (<string>, line 1)",
     "output_type": "error",
     "traceback": [
      "Traceback \u001b[1;36m(most recent call last)\u001b[0m:\n",
      "\u001b[0m  File \u001b[0;32m~\\anaconda3\\Lib\\site-packages\\IPython\\core\\interactiveshell.py:3526\u001b[0m in \u001b[0;35mrun_code\u001b[0m\n    exec(code_obj, self.user_global_ns, self.user_ns)\u001b[0m\n",
      "\u001b[0m  Cell \u001b[0;32mIn[2], line 31\u001b[0m\n    calculator(10,20)\u001b[0m\n",
      "\u001b[1;36m  Cell \u001b[1;32mIn[2], line 18\u001b[1;36m in \u001b[1;35mcalculator\u001b[1;36m\n\u001b[1;33m    number=eval(input(\"enter a number between 1 to 4:\"))\u001b[1;36m\n",
      "\u001b[1;36m  File \u001b[1;32m<string>:1\u001b[1;36m\u001b[0m\n\u001b[1;33m    01\u001b[0m\n\u001b[1;37m    ^\u001b[0m\n\u001b[1;31mSyntaxError\u001b[0m\u001b[1;31m:\u001b[0m leading zeros in decimal integer literals are not permitted; use an 0o prefix for octal integers\n"
     ]
    }
   ],
   "source": [
    "def add(a,b):\n",
    "    print(\"the addition of {} and {} is {} \".format(a,b,a+b))\n",
    "    \n",
    "def sub(a,b):\n",
    "    print(\"the subtraction of {} and {} is {} \".format(a,b,a-b))\n",
    "    \n",
    "def mul(a,b):\n",
    "    print(\"the multiplication of {} and {} is {} \".format(a,b,a*b))\n",
    "\n",
    "def div(a,b):\n",
    "    print(\"the division of {} and {} is {} \".format(a,b,a/b))\n",
    "    \n",
    "def calculator(a,b):\n",
    "    print(\"if that number is equal to 1 then call addition\")\n",
    "    print(\"if that number is equal to 2 then call subtraction\")\n",
    "    print(\"if that number is equal to 3 then call multiplication\")\n",
    "    print(\"if that number is equal to 4 then call division\")\n",
    "    number=eval(input(\"enter a number between 1 to 4:\"))\n",
    "    if(number==1):\n",
    "        add(a,b)\n",
    "    elif(number==2):\n",
    "        sub(a,b)\n",
    "    elif(number==3):\n",
    "        mul(a,b)\n",
    "    elif(number==4):\n",
    "        div(a,b)\n",
    "    else:\n",
    "        print(\"enter valid number\")\n",
    "        \n",
    "calculator(10,20)"
   ]
  },
  {
   "cell_type": "code",
   "execution_count": null,
   "id": "02286d2f",
   "metadata": {},
   "outputs": [],
   "source": []
  },
  {
   "cell_type": "code",
   "execution_count": null,
   "id": "ad4fbccb",
   "metadata": {},
   "outputs": [],
   "source": []
  },
  {
   "cell_type": "code",
   "execution_count": null,
   "id": "e11d86ef",
   "metadata": {},
   "outputs": [],
   "source": []
  },
  {
   "cell_type": "code",
   "execution_count": null,
   "id": "1080880c",
   "metadata": {},
   "outputs": [],
   "source": []
  },
  {
   "cell_type": "code",
   "execution_count": null,
   "id": "52de2879",
   "metadata": {},
   "outputs": [],
   "source": []
  }
 ],
 "metadata": {
  "kernelspec": {
   "display_name": "Python 3 (ipykernel)",
   "language": "python",
   "name": "python3"
  },
  "language_info": {
   "codemirror_mode": {
    "name": "ipython",
    "version": 3
   },
   "file_extension": ".py",
   "mimetype": "text/x-python",
   "name": "python",
   "nbconvert_exporter": "python",
   "pygments_lexer": "ipython3",
   "version": "3.11.5"
  }
 },
 "nbformat": 4,
 "nbformat_minor": 5
}
