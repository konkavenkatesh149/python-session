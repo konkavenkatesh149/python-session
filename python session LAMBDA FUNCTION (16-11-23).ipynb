{
 "cells": [
  {
   "cell_type": "markdown",
   "id": "8685b240",
   "metadata": {},
   "source": [
    "# lambda function using one argument"
   ]
  },
  {
   "cell_type": "code",
   "execution_count": 1,
   "id": "8b6acfcc",
   "metadata": {},
   "outputs": [
    {
     "data": {
      "text/plain": [
       "20"
      ]
     },
     "execution_count": 1,
     "metadata": {},
     "output_type": "execute_result"
    }
   ],
   "source": [
    "# normal function\n",
    "\n",
    "def add(x):\n",
    "    return(x+10)\n",
    "\n",
    "add(10)"
   ]
  },
  {
   "cell_type": "code",
   "execution_count": null,
   "id": "ee015c26",
   "metadata": {},
   "outputs": [],
   "source": [
    "# how many arguments are there     x\n",
    "# what you are returning           x+10\n",
    " \n",
    "<function_name>= lambda <argument_name>:<return_value>"
   ]
  },
  {
   "cell_type": "code",
   "execution_count": 9,
   "id": "03759e1b",
   "metadata": {},
   "outputs": [
    {
     "data": {
      "text/plain": [
       "20"
      ]
     },
     "execution_count": 9,
     "metadata": {},
     "output_type": "execute_result"
    }
   ],
   "source": [
    "add=lambda x:x+10\n",
    "add(10)"
   ]
  },
  {
   "cell_type": "code",
   "execution_count": 10,
   "id": "ddf36ea7",
   "metadata": {},
   "outputs": [
    {
     "data": {
      "text/plain": [
       "25"
      ]
     },
     "execution_count": 10,
     "metadata": {},
     "output_type": "execute_result"
    }
   ],
   "source": [
    "def mul(num):\n",
    "    return(num*num)\n",
    "\n",
    "mul(5)"
   ]
  },
  {
   "cell_type": "code",
   "execution_count": 11,
   "id": "3bc3efff",
   "metadata": {},
   "outputs": [
    {
     "data": {
      "text/plain": [
       "25"
      ]
     },
     "execution_count": 11,
     "metadata": {},
     "output_type": "execute_result"
    }
   ],
   "source": [
    "mul=lambda num:num*num\n",
    "mul(5)"
   ]
  },
  {
   "cell_type": "code",
   "execution_count": 12,
   "id": "6a11c2a8",
   "metadata": {},
   "outputs": [
    {
     "data": {
      "text/plain": [
       "27"
      ]
     },
     "execution_count": 12,
     "metadata": {},
     "output_type": "execute_result"
    }
   ],
   "source": [
    "def cube(val):\n",
    "    return(val*val*val)\n",
    "\n",
    "cube(3)"
   ]
  },
  {
   "cell_type": "code",
   "execution_count": 13,
   "id": "40ca94fb",
   "metadata": {},
   "outputs": [
    {
     "data": {
      "text/plain": [
       "27"
      ]
     },
     "execution_count": 13,
     "metadata": {},
     "output_type": "execute_result"
    }
   ],
   "source": [
    "cube=lambda val:val*val*val\n",
    "cube(3)"
   ]
  },
  {
   "cell_type": "markdown",
   "id": "8b27c4e4",
   "metadata": {},
   "source": [
    "# lambda function using two argumments"
   ]
  },
  {
   "cell_type": "code",
   "execution_count": 14,
   "id": "a1bf0949",
   "metadata": {},
   "outputs": [
    {
     "data": {
      "text/plain": [
       "40"
      ]
     },
     "execution_count": 14,
     "metadata": {},
     "output_type": "execute_result"
    }
   ],
   "source": [
    "def sum1(a,b):\n",
    "    return(a+b)\n",
    "\n",
    "sum1(10,30)"
   ]
  },
  {
   "cell_type": "code",
   "execution_count": 17,
   "id": "a151d945",
   "metadata": {},
   "outputs": [
    {
     "data": {
      "text/plain": [
       "40"
      ]
     },
     "execution_count": 17,
     "metadata": {},
     "output_type": "execute_result"
    }
   ],
   "source": [
    "sum1=lambda a,b:a+b\n",
    "sum1(10,30)"
   ]
  },
  {
   "cell_type": "code",
   "execution_count": 18,
   "id": "7b01892e",
   "metadata": {},
   "outputs": [
    {
     "data": {
      "text/plain": [
       "4.0"
      ]
     },
     "execution_count": 18,
     "metadata": {},
     "output_type": "execute_result"
    }
   ],
   "source": [
    "def avg(a,b,c):\n",
    "    return((a+b+c)/3)\n",
    "\n",
    "avg(3,4,5)"
   ]
  },
  {
   "cell_type": "code",
   "execution_count": 19,
   "id": "b5748087",
   "metadata": {},
   "outputs": [
    {
     "data": {
      "text/plain": [
       "4.0"
      ]
     },
     "execution_count": 19,
     "metadata": {},
     "output_type": "execute_result"
    }
   ],
   "source": [
    "avg=lambda a,b,c:(a+b+c)/3\n",
    "avg(3,4,5)"
   ]
  },
  {
   "cell_type": "code",
   "execution_count": 28,
   "id": "3f0874b6",
   "metadata": {},
   "outputs": [
    {
     "data": {
      "text/plain": [
       "35.67"
      ]
     },
     "execution_count": 28,
     "metadata": {},
     "output_type": "execute_result"
    }
   ],
   "source": [
    "def avg(a,b,c=100):\n",
    "    return((a+b+c)/3)\n",
    "\n",
    "avg(3,4)\n",
    "round(avg(3,4),2)"
   ]
  },
  {
   "cell_type": "code",
   "execution_count": 25,
   "id": "47f18158",
   "metadata": {},
   "outputs": [
    {
     "data": {
      "text/plain": [
       "35.67"
      ]
     },
     "execution_count": 25,
     "metadata": {},
     "output_type": "execute_result"
    }
   ],
   "source": [
    "avg=lambda a,b,c=100:round((a+b+c)/3,2)\n",
    "avg(3,4)"
   ]
  },
  {
   "cell_type": "markdown",
   "id": "0bcb3788",
   "metadata": {},
   "source": [
    "# lambda function with if else"
   ]
  },
  {
   "cell_type": "code",
   "execution_count": 29,
   "id": "370a0510",
   "metadata": {},
   "outputs": [
    {
     "data": {
      "text/plain": [
       "100"
      ]
     },
     "execution_count": 29,
     "metadata": {},
     "output_type": "execute_result"
    }
   ],
   "source": [
    "def greater(num1,num2):\n",
    "    if(num1>num2):\n",
    "        return(num1)\n",
    "    else:\n",
    "        return(num2)\n",
    "    \n",
    "greater(50,100)"
   ]
  },
  {
   "cell_type": "code",
   "execution_count": 34,
   "id": "4780fa5c",
   "metadata": {},
   "outputs": [
    {
     "data": {
      "text/plain": [
       "100"
      ]
     },
     "execution_count": 34,
     "metadata": {},
     "output_type": "execute_result"
    }
   ],
   "source": [
    "greater=lambda num1,num2:num1 if(num1>num2) else num2\n",
    "greater(50,100)"
   ]
  },
  {
   "cell_type": "markdown",
   "id": "50207ad6",
   "metadata": {},
   "source": [
    "# lambda function with list"
   ]
  },
  {
   "cell_type": "code",
   "execution_count": 46,
   "id": "d17c5472",
   "metadata": {},
   "outputs": [
    {
     "data": {
      "text/plain": [
       "['Hyd', 'Mumbai', 'Bengaluru']"
      ]
     },
     "execution_count": 46,
     "metadata": {},
     "output_type": "execute_result"
    }
   ],
   "source": [
    "# method-1\n",
    "\n",
    "list1=[\"hyd\",\"mumbai\",\"bengaluru\"]\n",
    "\n",
    "# output : ['HYD','MUMBAI','BANGLORE']\n",
    "\n",
    "list2=[]\n",
    "for i in list1:\n",
    "        list2.append(i.capitalize())\n",
    "        \n",
    "list2"
   ]
  },
  {
   "cell_type": "code",
   "execution_count": 45,
   "id": "27344813",
   "metadata": {},
   "outputs": [
    {
     "data": {
      "text/plain": [
       "['Hyd', 'Mumbai', 'Bengaluru']"
      ]
     },
     "execution_count": 45,
     "metadata": {},
     "output_type": "execute_result"
    }
   ],
   "source": [
    "# method-2\n",
    "\n",
    "output=[i.capitalize() for i in list1]\n",
    "output"
   ]
  },
  {
   "cell_type": "code",
   "execution_count": 71,
   "id": "0cf15842",
   "metadata": {},
   "outputs": [
    {
     "data": {
      "text/plain": [
       "['Hyd', 'Mumbai', 'Bengaluru']"
      ]
     },
     "execution_count": 71,
     "metadata": {},
     "output_type": "execute_result"
    }
   ],
   "source": [
    " # method-3\n",
    "    # lambda <var> : <output> , <list1/str/tuple>\n",
    "\n",
    "list1=[\"hyd\",\"mumbai\",\"bengaluru\"]\n",
    "list(map(lambda i:i.capitalize(),list1))\n",
    "\n",
    "# step-1 : create a lambda function : lambda i:i.capitalize()\n",
    "# step-2 : add your iterator\n",
    "\n",
    "#            lambda i:i.capitalize(),list1    \n",
    "\n",
    "# step-3 : mapping of both step-1 and step-2 \n",
    "            \n",
    "#             map(step1,step2)\n",
    "#             map(lambda i:i.capitalize(),list1)\n",
    "\n",
    "# step-4 : save the results again in a list or tuple\n",
    "  \n",
    "#             map(step1,step2)\n",
    "#             list(map(lambda i:i.capitalize(),list1))            "
   ]
  },
  {
   "cell_type": "code",
   "execution_count": null,
   "id": "ccb3dd54",
   "metadata": {},
   "outputs": [],
   "source": [
    "# what is meant by iterater \n",
    "\n",
    "# which data type you can iterate\n",
    "\n",
    "# which means which data types you can print by using for loop?"
   ]
  },
  {
   "cell_type": "code",
   "execution_count": null,
   "id": "16bf8a68",
   "metadata": {},
   "outputs": [],
   "source": []
  },
  {
   "cell_type": "code",
   "execution_count": 72,
   "id": "01cb739f",
   "metadata": {},
   "outputs": [
    {
     "data": {
      "text/plain": [
       "[1, 4, 9, 16]"
      ]
     },
     "execution_count": 72,
     "metadata": {},
     "output_type": "execute_result"
    }
   ],
   "source": [
    "list1=[1,2,3,4]\n",
    "\n",
    "# output=[1,4,9,16]\n",
    "\n",
    "list2=[]\n",
    "for i in list1:\n",
    "    list2.append(i*i)\n",
    "    \n",
    "list2"
   ]
  },
  {
   "cell_type": "code",
   "execution_count": 75,
   "id": "ce3255a3",
   "metadata": {},
   "outputs": [
    {
     "data": {
      "text/plain": [
       "100"
      ]
     },
     "execution_count": 75,
     "metadata": {},
     "output_type": "execute_result"
    }
   ],
   "source": [
    "def square(num):\n",
    "    return(num*num)\n",
    "\n",
    "square(10)"
   ]
  },
  {
   "cell_type": "code",
   "execution_count": 73,
   "id": "e4cf6fdf",
   "metadata": {},
   "outputs": [
    {
     "data": {
      "text/plain": [
       "[1, 4, 9, 16]"
      ]
     },
     "execution_count": 73,
     "metadata": {},
     "output_type": "execute_result"
    }
   ],
   "source": [
    "list(map(lambda i:i*i,list1))"
   ]
  },
  {
   "cell_type": "code",
   "execution_count": null,
   "id": "b549caf2",
   "metadata": {},
   "outputs": [],
   "source": []
  },
  {
   "cell_type": "code",
   "execution_count": 93,
   "id": "512d1be9",
   "metadata": {},
   "outputs": [
    {
     "data": {
      "text/plain": [
       "['Biryani', 'Buvaneshwar', 'rasagulla']"
      ]
     },
     "execution_count": 93,
     "metadata": {},
     "output_type": "execute_result"
    }
   ],
   "source": [
    "list1=['hyd','Biryani','Buvaneshwar','rasagulla']\n",
    "\n",
    "# output: ['Biryani','Buvaneshwar','rasagulla']\n",
    "\n",
    "list2=[]\n",
    "for i in list1:\n",
    "    if(len(i)>3):\n",
    "        list2.append(i)\n",
    "list2"
   ]
  },
  {
   "cell_type": "code",
   "execution_count": 106,
   "id": "5f4d99a2",
   "metadata": {},
   "outputs": [
    {
     "data": {
      "text/plain": [
       "[False, True, True, True]"
      ]
     },
     "execution_count": 106,
     "metadata": {},
     "output_type": "execute_result"
    }
   ],
   "source": [
    "list(map(lambda i:(len(i)>3),list1))              # map is without condition"
   ]
  },
  {
   "cell_type": "code",
   "execution_count": 107,
   "id": "78def805",
   "metadata": {},
   "outputs": [
    {
     "data": {
      "text/plain": [
       "['Biryani', 'Buvaneshwar', 'rasagulla']"
      ]
     },
     "execution_count": 107,
     "metadata": {},
     "output_type": "execute_result"
    }
   ],
   "source": [
    "list(filter(lambda i:(len(i)>3),list1))          # whenever we see the condition"
   ]
  },
  {
   "cell_type": "code",
   "execution_count": null,
   "id": "6dca9a90",
   "metadata": {},
   "outputs": [],
   "source": []
  },
  {
   "cell_type": "code",
   "execution_count": 112,
   "id": "46ac1abf",
   "metadata": {},
   "outputs": [
    {
     "name": "stdout",
     "output_type": "stream",
     "text": [
      "Biry#ani\n",
      "Buvan#eshwar\n",
      "ra#gulla\n"
     ]
    }
   ],
   "source": [
    "list1=['hyd','Biry#ani','Buvan#eshwar','ra#gulla']\n",
    "for i in list1:\n",
    "    if(\"#\" in i):\n",
    "        print(i)"
   ]
  },
  {
   "cell_type": "code",
   "execution_count": 113,
   "id": "360281d6",
   "metadata": {},
   "outputs": [
    {
     "data": {
      "text/plain": [
       "['Biry#ani', 'Buvan#eshwar', 'ra#gulla']"
      ]
     },
     "execution_count": 113,
     "metadata": {},
     "output_type": "execute_result"
    }
   ],
   "source": [
    "list1=['hyd','Biry#ani','Buvan#eshwar','ra#gulla']\n",
    "list2=[]\n",
    "for i in list1:\n",
    "    if(\"#\" in i):\n",
    "        list2.append(i)\n",
    "        \n",
    "list2"
   ]
  },
  {
   "cell_type": "code",
   "execution_count": 111,
   "id": "1c952fc1",
   "metadata": {},
   "outputs": [
    {
     "data": {
      "text/plain": [
       "['Biry#ani', 'Buvan#eshwar', 'ra#gulla']"
      ]
     },
     "execution_count": 111,
     "metadata": {},
     "output_type": "execute_result"
    }
   ],
   "source": [
    "list(filter(lambda i:('#' in i),list1)) "
   ]
  },
  {
   "cell_type": "code",
   "execution_count": null,
   "id": "48cbcf62",
   "metadata": {},
   "outputs": [],
   "source": []
  },
  {
   "cell_type": "code",
   "execution_count": 128,
   "id": "12617493",
   "metadata": {},
   "outputs": [
    {
     "data": {
      "text/plain": [
       "{'even': [2, 4, 6], 'odd': [1, 3, 5]}"
      ]
     },
     "execution_count": 128,
     "metadata": {},
     "output_type": "execute_result"
    }
   ],
   "source": [
    "list1=[1,2,3,4,5,6]\n",
    "list2=[]\n",
    "list3=[]\n",
    "dict1={}\n",
    "for i in list1:\n",
    "    if(i%2==0):\n",
    "        list2.append(i)\n",
    "    else:\n",
    "        list3.append(i)\n",
    "        \n",
    "dict1[\"even\"]=list2\n",
    "dict1[\"odd\"]=list3\n",
    "dict1"
   ]
  },
  {
   "cell_type": "code",
   "execution_count": 145,
   "id": "df806655",
   "metadata": {},
   "outputs": [
    {
     "data": {
      "text/plain": [
       "[{1: 'even'}, {2: 'odd'}, {3: 'even'}, {4: 'odd'}, {5: 'even'}, {6: 'odd'}]"
      ]
     },
     "execution_count": 145,
     "metadata": {},
     "output_type": "execute_result"
    }
   ],
   "source": [
    "list(map(lambda i:{i:'odd'} if(i%2==0) else {i:'even'},list1))"
   ]
  },
  {
   "cell_type": "code",
   "execution_count": null,
   "id": "06b0db14",
   "metadata": {},
   "outputs": [],
   "source": []
  },
  {
   "cell_type": "code",
   "execution_count": 4,
   "id": "8f60c45d",
   "metadata": {},
   "outputs": [
    {
     "ename": "FileNotFoundError",
     "evalue": "[Errno 2] No such file or directory: 'C:\\\\Users\\\\Venkatesh\\\\Documents\\\\Datafiles\\\\mbox-short.txt'",
     "output_type": "error",
     "traceback": [
      "\u001b[1;31m---------------------------------------------------------------------------\u001b[0m",
      "\u001b[1;31mFileNotFoundError\u001b[0m                         Traceback (most recent call last)",
      "Cell \u001b[1;32mIn[4], line 2\u001b[0m\n\u001b[0;32m      1\u001b[0m file_path\u001b[38;5;241m=\u001b[39m\u001b[38;5;124m\"\u001b[39m\u001b[38;5;124mC:\u001b[39m\u001b[38;5;130;01m\\\\\u001b[39;00m\u001b[38;5;124mUsers\u001b[39m\u001b[38;5;130;01m\\\\\u001b[39;00m\u001b[38;5;124mVenkatesh\u001b[39m\u001b[38;5;130;01m\\\\\u001b[39;00m\u001b[38;5;124mDocuments\u001b[39m\u001b[38;5;130;01m\\\\\u001b[39;00m\u001b[38;5;124mDatafiles\u001b[39m\u001b[38;5;130;01m\\\\\u001b[39;00m\u001b[38;5;124mmbox-short.txt\u001b[39m\u001b[38;5;124m\"\u001b[39m\n\u001b[1;32m----> 2\u001b[0m file\u001b[38;5;241m=\u001b[39m\u001b[38;5;28mopen\u001b[39m(file_path,mode\u001b[38;5;241m=\u001b[39m\u001b[38;5;124m'\u001b[39m\u001b[38;5;124mr\u001b[39m\u001b[38;5;124m'\u001b[39m,encoding\u001b[38;5;241m=\u001b[39m\u001b[38;5;124m'\u001b[39m\u001b[38;5;124mutf-8\u001b[39m\u001b[38;5;124m'\u001b[39m)\n\u001b[0;32m      3\u001b[0m \u001b[38;5;28mprint\u001b[39m(file\u001b[38;5;241m.\u001b[39mread())\n",
      "File \u001b[1;32m~\\anaconda3\\Lib\\site-packages\\IPython\\core\\interactiveshell.py:286\u001b[0m, in \u001b[0;36m_modified_open\u001b[1;34m(file, *args, **kwargs)\u001b[0m\n\u001b[0;32m    279\u001b[0m \u001b[38;5;28;01mif\u001b[39;00m file \u001b[38;5;129;01min\u001b[39;00m {\u001b[38;5;241m0\u001b[39m, \u001b[38;5;241m1\u001b[39m, \u001b[38;5;241m2\u001b[39m}:\n\u001b[0;32m    280\u001b[0m     \u001b[38;5;28;01mraise\u001b[39;00m \u001b[38;5;167;01mValueError\u001b[39;00m(\n\u001b[0;32m    281\u001b[0m         \u001b[38;5;124mf\u001b[39m\u001b[38;5;124m\"\u001b[39m\u001b[38;5;124mIPython won\u001b[39m\u001b[38;5;124m'\u001b[39m\u001b[38;5;124mt let you open fd=\u001b[39m\u001b[38;5;132;01m{\u001b[39;00mfile\u001b[38;5;132;01m}\u001b[39;00m\u001b[38;5;124m by default \u001b[39m\u001b[38;5;124m\"\u001b[39m\n\u001b[0;32m    282\u001b[0m         \u001b[38;5;124m\"\u001b[39m\u001b[38;5;124mas it is likely to crash IPython. If you know what you are doing, \u001b[39m\u001b[38;5;124m\"\u001b[39m\n\u001b[0;32m    283\u001b[0m         \u001b[38;5;124m\"\u001b[39m\u001b[38;5;124myou can use builtins\u001b[39m\u001b[38;5;124m'\u001b[39m\u001b[38;5;124m open.\u001b[39m\u001b[38;5;124m\"\u001b[39m\n\u001b[0;32m    284\u001b[0m     )\n\u001b[1;32m--> 286\u001b[0m \u001b[38;5;28;01mreturn\u001b[39;00m io_open(file, \u001b[38;5;241m*\u001b[39margs, \u001b[38;5;241m*\u001b[39m\u001b[38;5;241m*\u001b[39mkwargs)\n",
      "\u001b[1;31mFileNotFoundError\u001b[0m: [Errno 2] No such file or directory: 'C:\\\\Users\\\\Venkatesh\\\\Documents\\\\Datafiles\\\\mbox-short.txt'"
     ]
    }
   ],
   "source": [
    "file_path=\"C:\\\\Users\\\\Venkatesh\\\\Documents\\\\Datafiles\\\\mbox-short.txt\"\n",
    "file=open(file_path,mode='r',encoding='utf-8')\n",
    "print(file.read())"
   ]
  },
  {
   "cell_type": "code",
   "execution_count": null,
   "id": "90a78444",
   "metadata": {},
   "outputs": [],
   "source": []
  }
 ],
 "metadata": {
  "kernelspec": {
   "display_name": "Python 3 (ipykernel)",
   "language": "python",
   "name": "python3"
  },
  "language_info": {
   "codemirror_mode": {
    "name": "ipython",
    "version": 3
   },
   "file_extension": ".py",
   "mimetype": "text/x-python",
   "name": "python",
   "nbconvert_exporter": "python",
   "pygments_lexer": "ipython3",
   "version": "3.11.5"
  }
 },
 "nbformat": 4,
 "nbformat_minor": 5
}
