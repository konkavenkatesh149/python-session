{
 "cells": [
  {
   "cell_type": "markdown",
   "id": "f4d21d7d",
   "metadata": {},
   "source": [
    "# strings"
   ]
  },
  {
   "cell_type": "code",
   "execution_count": 5,
   "id": "2e518877",
   "metadata": {},
   "outputs": [
    {
     "data": {
      "text/plain": [
       "str"
      ]
     },
     "execution_count": 5,
     "metadata": {},
     "output_type": "execute_result"
    }
   ],
   "source": [
    "name='python'\n",
    "type(name)"
   ]
  },
  {
   "cell_type": "code",
   "execution_count": 2,
   "id": "c67bf236",
   "metadata": {},
   "outputs": [
    {
     "data": {
      "text/plain": [
       "'python'"
      ]
     },
     "execution_count": 2,
     "metadata": {},
     "output_type": "execute_result"
    }
   ],
   "source": [
    "name"
   ]
  },
  {
   "cell_type": "code",
   "execution_count": 3,
   "id": "8221f758",
   "metadata": {},
   "outputs": [
    {
     "data": {
      "text/plain": [
       "'python'"
      ]
     },
     "execution_count": 3,
     "metadata": {},
     "output_type": "execute_result"
    }
   ],
   "source": [
    "name1=\"python\"\n",
    "name1"
   ]
  },
  {
   "cell_type": "code",
   "execution_count": 4,
   "id": "05b6306c",
   "metadata": {},
   "outputs": [
    {
     "name": "stdout",
     "output_type": "stream",
     "text": [
      "python\n"
     ]
    }
   ],
   "source": [
    "print(name)"
   ]
  },
  {
   "cell_type": "markdown",
   "id": "d3e3f6f0",
   "metadata": {},
   "source": [
    "# doc string"
   ]
  },
  {
   "cell_type": "code",
   "execution_count": 4,
   "id": "94d31d3d",
   "metadata": {},
   "outputs": [],
   "source": [
    "# doc string: triple quotes\n",
    "# multiple lines\n",
    "# jupyter we have markdown\n",
    "# vs code\n",
    "# pycharm\n",
    "# notepad++\n",
    "\n",
    "string1=\"\"\"hai how are you\n",
    "    i am good\n",
    "    i am learning python\"\"\"\n"
   ]
  },
  {
   "cell_type": "code",
   "execution_count": 5,
   "id": "f64a7793",
   "metadata": {},
   "outputs": [
    {
     "data": {
      "text/plain": [
       "'hai how are you\\n    i am good\\n    i am learning python'"
      ]
     },
     "execution_count": 5,
     "metadata": {},
     "output_type": "execute_result"
    }
   ],
   "source": [
    "string1"
   ]
  },
  {
   "cell_type": "code",
   "execution_count": 9,
   "id": "d63e9f13",
   "metadata": {},
   "outputs": [],
   "source": [
    "\"\"\"\n",
    "this program about infinite while loop\n",
    "the original password='python'\n",
    "function:\n",
    "    arguments: None\n",
    "    return: None\n",
    "\"\"\"\n",
    "\n",
    "def pwd():\n",
    "    password='python' # random number (1,10)\n",
    "    while True:\n",
    "        user_pwd=input(\"enter pwd\") # user number= eval(input)\n",
    "        if password==user_pwd:\n",
    "            print('you won')\n",
    "            break\n",
    "        else:\n",
    "            print(\"the password is wrong\")"
   ]
  },
  {
   "cell_type": "code",
   "execution_count": 3,
   "id": "2bb1c4c5",
   "metadata": {},
   "outputs": [
    {
     "name": "stdout",
     "output_type": "stream",
     "text": [
      "hello 'python'\n"
     ]
    }
   ],
   "source": [
    "print(\"hello 'python'\")"
   ]
  },
  {
   "cell_type": "code",
   "execution_count": 7,
   "id": "08567e5a",
   "metadata": {},
   "outputs": [
    {
     "name": "stdout",
     "output_type": "stream",
     "text": [
      "hello,\"python\"\n"
     ]
    }
   ],
   "source": [
    "print('hello,\"python\"')"
   ]
  },
  {
   "cell_type": "markdown",
   "id": "c0f136cb",
   "metadata": {},
   "source": [
    "- entire string will be in double quotes, the highlited string in single quotes\n",
    "- entire string will be in single quotes, the highlited string in double quotes"
   ]
  },
  {
   "cell_type": "code",
   "execution_count": 8,
   "id": "4b579b53",
   "metadata": {},
   "outputs": [
    {
     "data": {
      "text/plain": [
       "'python'"
      ]
     },
     "execution_count": 8,
     "metadata": {},
     "output_type": "execute_result"
    }
   ],
   "source": [
    "string1='python'\n",
    "string2=string1 # 'py'\n",
    "string3='hello' # 'he'\n",
    "string4=string3 # 'he'\n",
    "string4=string1 # 'py'\n",
    "string4=string2 # 'py'\n",
    "string5=string4 #'py'\n",
    "string5"
   ]
  },
  {
   "cell_type": "markdown",
   "id": "fd233bcf",
   "metadata": {},
   "source": [
    "- type\n",
    "\n",
    "- len\n",
    "\n",
    "- max\n",
    "\n",
    "- min"
   ]
  },
  {
   "cell_type": "code",
   "execution_count": 10,
   "id": "1987eb30",
   "metadata": {},
   "outputs": [
    {
     "data": {
      "text/plain": [
       "str"
      ]
     },
     "execution_count": 10,
     "metadata": {},
     "output_type": "execute_result"
    }
   ],
   "source": [
    "string1='python'\n",
    "type(string1)"
   ]
  },
  {
   "cell_type": "code",
   "execution_count": 11,
   "id": "84f2ee46",
   "metadata": {},
   "outputs": [
    {
     "data": {
      "text/plain": [
       "str"
      ]
     },
     "execution_count": 11,
     "metadata": {},
     "output_type": "execute_result"
    }
   ],
   "source": [
    "type(string1)"
   ]
  },
  {
   "cell_type": "code",
   "execution_count": 12,
   "id": "a3ff5345",
   "metadata": {},
   "outputs": [
    {
     "data": {
      "text/plain": [
       "6"
      ]
     },
     "execution_count": 12,
     "metadata": {},
     "output_type": "execute_result"
    }
   ],
   "source": [
    "len(string1)"
   ]
  },
  {
   "cell_type": "code",
   "execution_count": 13,
   "id": "651173ad",
   "metadata": {},
   "outputs": [
    {
     "data": {
      "text/plain": [
       "'h'"
      ]
     },
     "execution_count": 13,
     "metadata": {},
     "output_type": "execute_result"
    }
   ],
   "source": [
    "min(string1)"
   ]
  },
  {
   "cell_type": "code",
   "execution_count": 14,
   "id": "75bf3914",
   "metadata": {},
   "outputs": [
    {
     "data": {
      "text/plain": [
       "'y'"
      ]
     },
     "execution_count": 14,
     "metadata": {},
     "output_type": "execute_result"
    }
   ],
   "source": [
    "max(string1)"
   ]
  },
  {
   "cell_type": "markdown",
   "id": "987f0228",
   "metadata": {},
   "source": [
    "- in"
   ]
  },
  {
   "cell_type": "code",
   "execution_count": null,
   "id": "8b917a62",
   "metadata": {},
   "outputs": [],
   "source": [
    "# iterate a loop on string1\n",
    "# print each letter\n",
    "# get the ascii value\n",
    "'p' in 'python'\n",
    "'y' in 'python'\n",
    "'t' in 'python'\n",
    "'h' in 'python'\n",
    "'o' in 'python'\n",
    "'n' in 'python'\n",
    "# i in 'python'"
   ]
  },
  {
   "cell_type": "code",
   "execution_count": 20,
   "id": "46a91331",
   "metadata": {},
   "outputs": [
    {
     "name": "stdout",
     "output_type": "stream",
     "text": [
      "p-->112\n",
      "y-->121\n",
      "t-->116\n",
      "h-->104\n",
      "o-->111\n",
      "n-->110\n"
     ]
    }
   ],
   "source": [
    "for i in string1:\n",
    "    print(i,ord(i),sep=\"-->\")"
   ]
  },
  {
   "cell_type": "code",
   "execution_count": 21,
   "id": "8f1e5f74",
   "metadata": {},
   "outputs": [],
   "source": [
    "string1='hai'\n",
    "string2='python'"
   ]
  },
  {
   "cell_type": "code",
   "execution_count": 37,
   "id": "8dd10e47",
   "metadata": {},
   "outputs": [
    {
     "data": {
      "text/plain": [
       "'haipython'"
      ]
     },
     "execution_count": 37,
     "metadata": {},
     "output_type": "execute_result"
    }
   ],
   "source": [
    "string1+string2        # string concatenation"
   ]
  },
  {
   "cell_type": "code",
   "execution_count": 33,
   "id": "0b2a6429",
   "metadata": {},
   "outputs": [
    {
     "ename": "TypeError",
     "evalue": "unsupported operand type(s) for -: 'str' and 'str'",
     "output_type": "error",
     "traceback": [
      "\u001b[1;31m---------------------------------------------------------------------------\u001b[0m",
      "\u001b[1;31mTypeError\u001b[0m                                 Traceback (most recent call last)",
      "Cell \u001b[1;32mIn[33], line 1\u001b[0m\n\u001b[1;32m----> 1\u001b[0m string1\u001b[38;5;241m-\u001b[39mstring2\n",
      "\u001b[1;31mTypeError\u001b[0m: unsupported operand type(s) for -: 'str' and 'str'"
     ]
    }
   ],
   "source": [
    "string1-string2    \n",
    "\n",
    "# i can not do subtraction between two string"
   ]
  },
  {
   "cell_type": "code",
   "execution_count": 9,
   "id": "26d09753",
   "metadata": {},
   "outputs": [
    {
     "ename": "TypeError",
     "evalue": "can't multiply sequence by non-int of type 'str'",
     "output_type": "error",
     "traceback": [
      "\u001b[1;31m---------------------------------------------------------------------------\u001b[0m",
      "\u001b[1;31mTypeError\u001b[0m                                 Traceback (most recent call last)",
      "Cell \u001b[1;32mIn[9], line 1\u001b[0m\n\u001b[1;32m----> 1\u001b[0m string1\u001b[38;5;241m*\u001b[39mstring2\n",
      "\u001b[1;31mTypeError\u001b[0m: can't multiply sequence by non-int of type 'str'"
     ]
    }
   ],
   "source": [
    "string1*string2\n",
    "\n",
    "# i cant do division between two strings"
   ]
  },
  {
   "cell_type": "code",
   "execution_count": 38,
   "id": "945e4ad8",
   "metadata": {},
   "outputs": [
    {
     "data": {
      "text/plain": [
       "'pythonpythonpython'"
      ]
     },
     "execution_count": 38,
     "metadata": {},
     "output_type": "execute_result"
    }
   ],
   "source": [
    "# why the error is different in multiply the strings\n",
    "# bcz string type\n",
    "# change anyone string, then it will come\n",
    "\n",
    "3*string2 \n",
    "\n",
    "# python+python+python"
   ]
  },
  {
   "cell_type": "code",
   "execution_count": 32,
   "id": "a3758545",
   "metadata": {},
   "outputs": [
    {
     "ename": "TypeError",
     "evalue": "unsupported operand type(s) for /: 'str' and 'str'",
     "output_type": "error",
     "traceback": [
      "\u001b[1;31m---------------------------------------------------------------------------\u001b[0m",
      "\u001b[1;31mTypeError\u001b[0m                                 Traceback (most recent call last)",
      "Cell \u001b[1;32mIn[32], line 1\u001b[0m\n\u001b[1;32m----> 1\u001b[0m string1\u001b[38;5;241m/\u001b[39mstring2\n",
      "\u001b[1;31mTypeError\u001b[0m: unsupported operand type(s) for /: 'str' and 'str'"
     ]
    }
   ],
   "source": [
    "string1/string2\n",
    "\n",
    "# i cant do division between two strings"
   ]
  },
  {
   "cell_type": "code",
   "execution_count": null,
   "id": "87831316",
   "metadata": {},
   "outputs": [],
   "source": [
    "string1+string2\n",
    "string1-string2\n",
    "string1*string2\n",
    "string1/string2\n",
    "# read the errors"
   ]
  },
  {
   "cell_type": "code",
   "execution_count": 15,
   "id": "eeb7980f",
   "metadata": {},
   "outputs": [],
   "source": [
    "name1='venky'\n",
    "name2='victory'\n"
   ]
  },
  {
   "cell_type": "code",
   "execution_count": 16,
   "id": "cdecc1fb",
   "metadata": {},
   "outputs": [
    {
     "data": {
      "text/plain": [
       "'venkyvictory'"
      ]
     },
     "execution_count": 16,
     "metadata": {},
     "output_type": "execute_result"
    }
   ],
   "source": [
    "name1+name2"
   ]
  },
  {
   "cell_type": "code",
   "execution_count": 18,
   "id": "3f93fee3",
   "metadata": {},
   "outputs": [
    {
     "data": {
      "text/plain": [
       "'venkyvenky'"
      ]
     },
     "execution_count": 18,
     "metadata": {},
     "output_type": "execute_result"
    }
   ],
   "source": [
    "name1+name1"
   ]
  },
  {
   "cell_type": "code",
   "execution_count": 11,
   "id": "c1edb222",
   "metadata": {},
   "outputs": [
    {
     "data": {
      "text/plain": [
       "'venkyvenky'"
      ]
     },
     "execution_count": 11,
     "metadata": {},
     "output_type": "execute_result"
    }
   ],
   "source": [
    "2*name1"
   ]
  },
  {
   "cell_type": "code",
   "execution_count": 12,
   "id": "b328f455",
   "metadata": {},
   "outputs": [
    {
     "data": {
      "text/plain": [
       "'victoryvictoryvictory'"
      ]
     },
     "execution_count": 12,
     "metadata": {},
     "output_type": "execute_result"
    }
   ],
   "source": [
    "3*name2"
   ]
  },
  {
   "cell_type": "code",
   "execution_count": null,
   "id": "ba16c2a5",
   "metadata": {},
   "outputs": [],
   "source": [
    "# how to read the string\n",
    "# single / double / triple quotes\n",
    "# triple quotes : doc string\n",
    "# type\n",
    "# len\n",
    "# min \n",
    "# max\n",
    "# '+' : concate\n",
    "# '-'\n",
    "# '*'\n",
    "# '/'\n",
    "# in"
   ]
  },
  {
   "cell_type": "markdown",
   "id": "3f112000",
   "metadata": {},
   "source": [
    "## indexing"
   ]
  },
  {
   "cell_type": "code",
   "execution_count": 1,
   "id": "0744d803",
   "metadata": {},
   "outputs": [],
   "source": [
    "name='python'"
   ]
  },
  {
   "cell_type": "code",
   "execution_count": null,
   "id": "65dab13c",
   "metadata": {},
   "outputs": [],
   "source": [
    "# how many letters are there: 6\n",
    "# python index starts with : 0\n",
    "\n",
    "p    y    t   h   o    n\n",
    "0    1    2   3   4    5"
   ]
  },
  {
   "cell_type": "code",
   "execution_count": 2,
   "id": "937bd8e2",
   "metadata": {},
   "outputs": [
    {
     "data": {
      "text/plain": [
       "'p'"
      ]
     },
     "execution_count": 2,
     "metadata": {},
     "output_type": "execute_result"
    }
   ],
   "source": [
    "name[0]"
   ]
  },
  {
   "cell_type": "code",
   "execution_count": 3,
   "id": "66676bcb",
   "metadata": {},
   "outputs": [
    {
     "data": {
      "text/plain": [
       "'y'"
      ]
     },
     "execution_count": 3,
     "metadata": {},
     "output_type": "execute_result"
    }
   ],
   "source": [
    "name[1]"
   ]
  },
  {
   "cell_type": "code",
   "execution_count": null,
   "id": "5d6a87f4",
   "metadata": {},
   "outputs": [],
   "source": [
    "name[0]   #  p\n",
    "name[1]   #  y\n",
    "name[2]   #  t\n",
    "name[3]   #  h\n",
    "name[4]   #  o \n",
    "name[5]   #  n\n",
    "\n",
    "name[i]  "
   ]
  },
  {
   "cell_type": "code",
   "execution_count": 4,
   "id": "6087996c",
   "metadata": {},
   "outputs": [
    {
     "name": "stdout",
     "output_type": "stream",
     "text": [
      "p\n",
      "y\n",
      "t\n",
      "h\n",
      "o\n",
      "n\n"
     ]
    }
   ],
   "source": [
    "# how to print any word/sentence by using ragne method\n",
    "\n",
    "for i in range(6):\n",
    "    print(name[i])"
   ]
  },
  {
   "cell_type": "code",
   "execution_count": 5,
   "id": "d665b8f1",
   "metadata": {},
   "outputs": [
    {
     "name": "stdout",
     "output_type": "stream",
     "text": [
      "p\n",
      "y\n",
      "t\n",
      "h\n",
      "o\n",
      "n\n"
     ]
    },
    {
     "ename": "IndexError",
     "evalue": "string index out of range",
     "output_type": "error",
     "traceback": [
      "\u001b[1;31m---------------------------------------------------------------------------\u001b[0m",
      "\u001b[1;31mIndexError\u001b[0m                                Traceback (most recent call last)",
      "Cell \u001b[1;32mIn[5], line 3\u001b[0m\n\u001b[0;32m      1\u001b[0m name\u001b[38;5;241m=\u001b[39m\u001b[38;5;124m'\u001b[39m\u001b[38;5;124mpython\u001b[39m\u001b[38;5;124m'\u001b[39m\n\u001b[0;32m      2\u001b[0m \u001b[38;5;28;01mfor\u001b[39;00m i \u001b[38;5;129;01min\u001b[39;00m \u001b[38;5;28mrange\u001b[39m(\u001b[38;5;241m7\u001b[39m):\n\u001b[1;32m----> 3\u001b[0m     \u001b[38;5;28mprint\u001b[39m(name[i])\n",
      "\u001b[1;31mIndexError\u001b[0m: string index out of range"
     ]
    }
   ],
   "source": [
    "name='python'\n",
    "for i in range(7):\n",
    "    print(name[i])            # name[6]=== not matching"
   ]
  },
  {
   "cell_type": "code",
   "execution_count": 9,
   "id": "37408507",
   "metadata": {},
   "outputs": [
    {
     "name": "stdout",
     "output_type": "stream",
     "text": [
      "17\n",
      "h e l l o   h o w   a r e   y o u "
     ]
    }
   ],
   "source": [
    "name1='hello how are you'    \n",
    "# spaces also consider as one character\n",
    "print(len(name1))\n",
    "# i need to provide some number\n",
    "for i in range(len(name1)):\n",
    "    print(name1[i],end=' ')"
   ]
  },
  {
   "cell_type": "code",
   "execution_count": 17,
   "id": "ade64526",
   "metadata": {},
   "outputs": [
    {
     "name": "stdout",
     "output_type": "stream",
     "text": [
      "the index of p is: 0\n",
      "the index of y is: 1\n",
      "the index of t is: 2\n",
      "the index of h is: 3\n",
      "the index of o is: 4\n",
      "the index of n is: 5\n"
     ]
    }
   ],
   "source": [
    "# wap ask the user print the letters from a given word\n",
    "# using for loop\n",
    "# the index of p is : 0\n",
    "# the index of y is : 1\n",
    "\n",
    "# i want letter as well as attached index number\n",
    "\n",
    "name2='python'\n",
    "for i in range(len(name2)):\n",
    "    print(\"the index of {} is: {}\".format(name2[i],i))"
   ]
  },
  {
   "cell_type": "code",
   "execution_count": 24,
   "id": "b280f105",
   "metadata": {},
   "outputs": [
    {
     "name": "stdout",
     "output_type": "stream",
     "text": [
      "the index of p is: 0\n",
      "the index of y is: 1\n",
      "the index of t is: 2\n",
      "the index of h is: 3\n",
      "the index of o is: 4\n",
      "the index of n is: 5\n"
     ]
    }
   ],
   "source": [
    "# same code using while loop\n",
    "\n",
    "name2='python'\n",
    "i=0\n",
    "while(i<len(name2)):\n",
    "    print(\"the index of {} is: {}\".format(name2[i],i))\n",
    "    i=i+1"
   ]
  },
  {
   "cell_type": "code",
   "execution_count": null,
   "id": "c0c1ce5e",
   "metadata": {},
   "outputs": [],
   "source": [
    "-6  -5   -4  -3  -2   - 1 =============> negative index\n",
    "p    y    t   h   o    n\n",
    "0    1    2   3   4    5 ==============> positive index"
   ]
  },
  {
   "cell_type": "code",
   "execution_count": 19,
   "id": "b6497998",
   "metadata": {},
   "outputs": [
    {
     "data": {
      "text/plain": [
       "'p'"
      ]
     },
     "execution_count": 19,
     "metadata": {},
     "output_type": "execute_result"
    }
   ],
   "source": [
    "name3='python'          # in negative direction it starts from last\n",
    "name3[-6]"
   ]
  },
  {
   "cell_type": "code",
   "execution_count": 43,
   "id": "3a63176f",
   "metadata": {},
   "outputs": [
    {
     "name": "stdout",
     "output_type": "stream",
     "text": [
      "the negative index of p is: -6\n",
      "the negative index of y is: -5\n",
      "the negative index of t is: -4\n",
      "the negative index of h is: -3\n",
      "the negative index of o is: -2\n",
      "the negative index of n is: -1\n"
     ]
    }
   ],
   "source": [
    "# wap ask the user print the letters from a given word\n",
    "# using for loop\n",
    "# 'the negative index of p is:-6'\n",
    "# 'the negative index of y is:-5'\n",
    "# i want letter as well as attached index number\n",
    "\n",
    "name2='python'\n",
    "for i in range(len(name2)):\n",
    "    print(\"the negative index of {} is: {}\".format(name2[i],i-len(name2)))"
   ]
  },
  {
   "cell_type": "code",
   "execution_count": 44,
   "id": "c7884818",
   "metadata": {},
   "outputs": [
    {
     "name": "stdout",
     "output_type": "stream",
     "text": [
      "the negative index of p is: -6\n",
      "the negative index of y is: -5\n",
      "the negative index of t is: -4\n",
      "the negative index of h is: -3\n",
      "the negative index of o is: -2\n",
      "the negative index of n is: -1\n"
     ]
    }
   ],
   "source": [
    "name2='python'\n",
    "for i in range(-6,0):\n",
    "    print(\"the negative index of {} is: {}\".format(name2[i],i))"
   ]
  },
  {
   "cell_type": "code",
   "execution_count": 45,
   "id": "37767e8b",
   "metadata": {},
   "outputs": [
    {
     "name": "stdout",
     "output_type": "stream",
     "text": [
      "the negative index of p is: -6\n",
      "the negative index of y is: -5\n",
      "the negative index of t is: -4\n",
      "the negative index of h is: -3\n",
      "the negative index of o is: -2\n",
      "the negative index of n is: -1\n"
     ]
    }
   ],
   "source": [
    "name2='python'\n",
    "for i in range(-len(name2),0):\n",
    "    print(\"the negative index of {} is: {}\".format(name2[i],i))"
   ]
  },
  {
   "cell_type": "code",
   "execution_count": 28,
   "id": "ab04ff8a",
   "metadata": {},
   "outputs": [
    {
     "name": "stdout",
     "output_type": "stream",
     "text": [
      "the negative index of p is: -6\n",
      "the negative index of n is: -5\n",
      "the negative index of o is: -4\n",
      "the negative index of h is: -3\n",
      "the negative index of t is: -2\n",
      "the negative index of y is: -1\n"
     ]
    }
   ],
   "source": [
    "# same code using while loop\n",
    "\n",
    "i=0\n",
    "name2='python'\n",
    "while(i>-len(name2)):\n",
    "    print(\"the negative index of {} is: {}\".format(name2[i],-len(name2)-i))\n",
    "    i=i-1"
   ]
  },
  {
   "cell_type": "code",
   "execution_count": 26,
   "id": "011410ba",
   "metadata": {},
   "outputs": [
    {
     "name": "stdout",
     "output_type": "stream",
     "text": [
      "the negative index of p is: -6\n",
      "the negative index of y is: -5\n",
      "the negative index of t is: -4\n",
      "the negative index of h is: -3\n",
      "the negative index of o is: -2\n",
      "the negative index of n is: -1\n"
     ]
    }
   ],
   "source": [
    "name2='python'\n",
    "i=-6\n",
    "while(i<0):\n",
    "    print(\"the negative index of {} is: {}\".format(name2[i],i))\n",
    "    i=i+1  "
   ]
  },
  {
   "cell_type": "code",
   "execution_count": 74,
   "id": "6929b060",
   "metadata": {},
   "outputs": [
    {
     "name": "stdout",
     "output_type": "stream",
     "text": [
      "the negative index of p is: -6\n",
      "the negative index of y is: -5\n",
      "the negative index of t is: -4\n",
      "the negative index of h is: -3\n",
      "the negative index of o is: -2\n",
      "the negative index of n is: -1\n"
     ]
    }
   ],
   "source": [
    "name3='python'\n",
    "i=-len(name3)\n",
    "while(i<0):\n",
    "    print(\"the negative index of {} is: {}\".format(name3[i],i))\n",
    "    i=i+1"
   ]
  },
  {
   "cell_type": "code",
   "execution_count": 80,
   "id": "76ce8df2",
   "metadata": {},
   "outputs": [
    {
     "name": "stdout",
     "output_type": "stream",
     "text": [
      "the positive index is 0 and negative index is -6 for: p\n",
      "the positive index is 1 and negative index is -5 for: y\n",
      "the positive index is 2 and negative index is -4 for: t\n",
      "the positive index is 3 and negative index is -3 for: h\n",
      "the positive index is 4 and negative index is -2 for: o\n",
      "the positive index is 5 and negative index is -1 for: n\n"
     ]
    }
   ],
   "source": [
    "# output is\n",
    "# the positive index is 0 and negative index is -6 for p\n",
    "# the positive index is 1 and negative index is -5 for y\n",
    "\n",
    "\n",
    "name2='python'\n",
    "for i in range(len(name2)):\n",
    "    print(\"the positive index is {} and negative index is {} for: {}\".format(i,i-len(name2),name2[i]))"
   ]
  },
  {
   "cell_type": "code",
   "execution_count": 84,
   "id": "2b6c6f7e",
   "metadata": {},
   "outputs": [
    {
     "name": "stdout",
     "output_type": "stream",
     "text": [
      "the positive index is 0 and negative index is -6 for: p\n",
      "the positive index is 1 and negative index is -5 for: y\n",
      "the positive index is 2 and negative index is -4 for: t\n",
      "the positive index is 3 and negative index is -3 for: h\n",
      "the positive index is 4 and negative index is -2 for: o\n",
      "the positive index is 5 and negative index is -1 for: n\n"
     ]
    }
   ],
   "source": [
    "name5='python'\n",
    "i=-len(name5)\n",
    "while(i<0):\n",
    "    print(\"the positive index is {} and negative index is {} for: {}\".format(i+len(name5),i,name5[i]))\n",
    "    i=i+1"
   ]
  },
  {
   "cell_type": "code",
   "execution_count": 92,
   "id": "55767fbc",
   "metadata": {},
   "outputs": [
    {
     "name": "stdout",
     "output_type": "stream",
     "text": [
      "the positive index is 0 and negative index is -6 for: p\n",
      "the positive index is 1 and negative index is -5 for: y\n",
      "the positive index is 2 and negative index is -4 for: t\n",
      "the positive index is 3 and negative index is -3 for: h\n",
      "the positive index is 4 and negative index is -2 for: o\n",
      "the positive index is 5 and negative index is -1 for: n\n"
     ]
    }
   ],
   "source": [
    "name5='python'\n",
    "i=0\n",
    "while(i<len(name5)):\n",
    "    print(\"the positive index is {} and negative index is {} for: {}\".format(i,i-len(name5),name5[i]))\n",
    "    i=i+1"
   ]
  },
  {
   "cell_type": "code",
   "execution_count": null,
   "id": "0b1ad1a8",
   "metadata": {},
   "outputs": [],
   "source": []
  },
  {
   "cell_type": "code",
   "execution_count": null,
   "id": "51f20073",
   "metadata": {},
   "outputs": [],
   "source": [
    "sent='hai hai how are you'\n",
    "#Q1 print how many 'a' are there \n",
    "#Q2 print the index of 'a'  \n",
    "#Q3 print the no.of unique 'a'\n",
    "#Q4 print the number of vowels: a a i o a e o u:  9\n",
    "#Q5 print the number of unique vowels: a i o e u:  5"
   ]
  },
  {
   "cell_type": "code",
   "execution_count": 29,
   "id": "fd905898",
   "metadata": {},
   "outputs": [
    {
     "name": "stdout",
     "output_type": "stream",
     "text": [
      "no.of repeated 'a' are: 3\n"
     ]
    }
   ],
   "source": [
    "#Q1 print how many 'a' are there \n",
    "\n",
    "sent='hai hai how are you'\n",
    "count=0\n",
    "for i in range(len(sent)):\n",
    "    if(sent[i]=='a'):\n",
    "        count=count+1\n",
    "print(\"no.of repeated 'a' are:\",count)"
   ]
  },
  {
   "cell_type": "code",
   "execution_count": 109,
   "id": "cbb88359",
   "metadata": {},
   "outputs": [
    {
     "name": "stdout",
     "output_type": "stream",
     "text": [
      "1\n",
      "5\n",
      "12\n"
     ]
    }
   ],
   "source": [
    "#Q2 print the index of 'a'\n",
    "\n",
    "sent='hai hai how are you'\n",
    "for i in range(len(sent)):\n",
    "    if(sent[i]=='a'):\n",
    "        print(i)"
   ]
  },
  {
   "cell_type": "code",
   "execution_count": 33,
   "id": "650aa00f",
   "metadata": {},
   "outputs": [
    {
     "name": "stdout",
     "output_type": "stream",
     "text": [
      "a i a i o a e o u \n",
      "total no.of vowels are: 9\n"
     ]
    }
   ],
   "source": [
    "#Q4 print the number of vowels: a a i o a e o u:  9\n",
    "\n",
    "sent='hai hai how are you'\n",
    "count=0\n",
    "for i in range(len(sent)):\n",
    "    if(sent[i] in 'aeiou'):\n",
    "        count=count+1\n",
    "        print(sent[i],end=\" \")\n",
    "print(\"\\ntotal no.of vowels are:\",count)"
   ]
  },
  {
   "cell_type": "code",
   "execution_count": 37,
   "id": "55f2cd90",
   "metadata": {},
   "outputs": [
    {
     "name": "stdout",
     "output_type": "stream",
     "text": [
      "the unique vowels are: aioeu\n"
     ]
    }
   ],
   "source": [
    "#Q5 print the number of unique vowels: a i o e u:  4\n",
    "\n",
    "\n",
    "# take an empty string\n",
    "#string=''\n",
    "# iterate through loop\n",
    "# if 'a' in 'aeiou':\n",
    "#      if 'a' not in 'aeiou':\n",
    "#           string=string+'a'        # string='a'\n",
    "\n",
    "\n",
    "# check two conditions parallel\n",
    "# the given letter is in 'aeiou'\n",
    "# if that is true check above same letter it is there in empty string\n",
    "# if it is not there move to empty string\n",
    "# if it is there dont move\n",
    "\n",
    "\n",
    "sent='hai hai how are you'\n",
    "string=''\n",
    "for i in range(len(sent)):\n",
    "    if(sent[i] in 'aeiou'):\n",
    "        if(sent[i] not in string):\n",
    "            string=string+sent[i]\n",
    "print(\"the unique vowels are:\",string)"
   ]
  },
  {
   "cell_type": "code",
   "execution_count": 39,
   "id": "ceafde0e",
   "metadata": {},
   "outputs": [
    {
     "name": "stdout",
     "output_type": "stream",
     "text": [
      "the unique vowels are: a\n"
     ]
    }
   ],
   "source": [
    "#Q3 print the no.of unique 'a'\n",
    "\n",
    "sent='hai hai how are you'\n",
    "string=''\n",
    "for i in range(len(sent)):\n",
    "    if('a' in 'aeiou'):\n",
    "        if('a' not in string):\n",
    "            string=string+'a'\n",
    "print(\"the unique vowels are:\",string)"
   ]
  },
  {
   "cell_type": "code",
   "execution_count": null,
   "id": "88214497",
   "metadata": {},
   "outputs": [],
   "source": []
  },
  {
   "cell_type": "markdown",
   "id": "61a19c30",
   "metadata": {},
   "source": [
    "## 03-11-23"
   ]
  },
  {
   "cell_type": "markdown",
   "id": "b2ab7f28",
   "metadata": {},
   "source": [
    "### mutability-immutability\n",
    "### strings are immutable"
   ]
  },
  {
   "cell_type": "code",
   "execution_count": 1,
   "id": "f6a276fb",
   "metadata": {},
   "outputs": [],
   "source": [
    "string1='python'"
   ]
  },
  {
   "cell_type": "code",
   "execution_count": null,
   "id": "a7720dd4",
   "metadata": {},
   "outputs": [],
   "source": [
    "# i want to replace 'p' with 'P'\n",
    "# based on index operation if you change it or not\n",
    "# if you change the value by using index operation : mutable\n",
    "# if you could not change the value by using index operation : immutable  (strings)"
   ]
  },
  {
   "cell_type": "code",
   "execution_count": 2,
   "id": "2362fc6e",
   "metadata": {},
   "outputs": [
    {
     "ename": "TypeError",
     "evalue": "'str' object does not support item assignment",
     "output_type": "error",
     "traceback": [
      "\u001b[1;31m---------------------------------------------------------------------------\u001b[0m",
      "\u001b[1;31mTypeError\u001b[0m                                 Traceback (most recent call last)",
      "Cell \u001b[1;32mIn[2], line 1\u001b[0m\n\u001b[1;32m----> 1\u001b[0m string1[\u001b[38;5;241m0\u001b[39m]\u001b[38;5;241m=\u001b[39m\u001b[38;5;124m'\u001b[39m\u001b[38;5;124mP\u001b[39m\u001b[38;5;124m'\u001b[39m\n",
      "\u001b[1;31mTypeError\u001b[0m: 'str' object does not support item assignment"
     ]
    }
   ],
   "source": [
    "string1[0]='P'"
   ]
  },
  {
   "cell_type": "markdown",
   "id": "9616c8ca",
   "metadata": {},
   "source": [
    "# above strings are immutable"
   ]
  },
  {
   "cell_type": "markdown",
   "id": "de688da1",
   "metadata": {},
   "source": [
    "## slicing"
   ]
  },
  {
   "cell_type": "code",
   "execution_count": null,
   "id": "8389ceda",
   "metadata": {},
   "outputs": [],
   "source": [
    "# this concept is same as range() in for loop\n",
    "# range(start,stop,step)\n",
    "# string1[start:stop:step]"
   ]
  },
  {
   "cell_type": "code",
   "execution_count": 16,
   "id": "27c19c59",
   "metadata": {},
   "outputs": [
    {
     "data": {
      "text/plain": [
       "'h'"
      ]
     },
     "execution_count": 16,
     "metadata": {},
     "output_type": "execute_result"
    }
   ],
   "source": [
    "string1=\"hello how are you\"\n",
    "string1[0]"
   ]
  },
  {
   "cell_type": "code",
   "execution_count": 17,
   "id": "4f02cd4f",
   "metadata": {},
   "outputs": [
    {
     "data": {
      "text/plain": [
       "'llo how'"
      ]
     },
     "execution_count": 17,
     "metadata": {},
     "output_type": "execute_result"
    }
   ],
   "source": [
    "string1[2:9]\n",
    "\n",
    "# string1[start:stop]\n",
    "# what si the difference : positive \n",
    "# start = 2\n",
    "# stop = 10-1 = 9"
   ]
  },
  {
   "cell_type": "code",
   "execution_count": null,
   "id": "d225f752",
   "metadata": {},
   "outputs": [],
   "source": [
    "h  e  l  l  o     h  o  w      a   r   e       y   o   u\n",
    "0  1  2  3  4  5  6  7  8  9  10  11  12  13  14  15   16  "
   ]
  },
  {
   "cell_type": "code",
   "execution_count": 7,
   "id": "b08bbb3c",
   "metadata": {},
   "outputs": [
    {
     "data": {
      "text/plain": [
       "17"
      ]
     },
     "execution_count": 7,
     "metadata": {},
     "output_type": "execute_result"
    }
   ],
   "source": [
    "len(string1)"
   ]
  },
  {
   "cell_type": "code",
   "execution_count": 8,
   "id": "012e205d",
   "metadata": {},
   "outputs": [
    {
     "data": {
      "text/plain": [
       "'el o r '"
      ]
     },
     "execution_count": 8,
     "metadata": {},
     "output_type": "execute_result"
    }
   ],
   "source": [
    "string1[1:15:2]\n",
    "\n",
    "# start=1\n",
    "# stop=15-1 = 14\n",
    "# step = 2"
   ]
  },
  {
   "cell_type": "code",
   "execution_count": 10,
   "id": "1e05322e",
   "metadata": {},
   "outputs": [
    {
     "data": {
      "text/plain": [
       "''"
      ]
     },
     "execution_count": 10,
     "metadata": {},
     "output_type": "execute_result"
    }
   ],
   "source": [
    "string1[1:15:-2]\n",
    "\n",
    "# start=1\n",
    "# stop = 15-1 = 14\n",
    "# direction = -ve"
   ]
  },
  {
   "cell_type": "code",
   "execution_count": 11,
   "id": "694350c6",
   "metadata": {},
   "outputs": [
    {
     "data": {
      "text/plain": [
       "'hello how are you'"
      ]
     },
     "execution_count": 11,
     "metadata": {},
     "output_type": "execute_result"
    }
   ],
   "source": [
    "string1[:]                  # string1[start:stop]\n",
    "\n",
    "# start=0\n",
    "# stop = till last character\n",
    "# ntg means +ve"
   ]
  },
  {
   "cell_type": "code",
   "execution_count": 13,
   "id": "d4b8225f",
   "metadata": {},
   "outputs": [
    {
     "data": {
      "text/plain": [
       "'hello how are you'"
      ]
     },
     "execution_count": 13,
     "metadata": {},
     "output_type": "execute_result"
    }
   ],
   "source": [
    "string1[::]                  # string1[start:stop:stop]"
   ]
  },
  {
   "cell_type": "markdown",
   "id": "c95a7b44",
   "metadata": {},
   "source": [
    "- nothing mentioned at start position : simply starting of letter\n",
    "    \n",
    "- nothing mentioned at stop position : simply last letter\n",
    "    \n",
    "- nothing mentioned at step size : it is positive direction with step value 1"
   ]
  },
  {
   "cell_type": "code",
   "execution_count": 19,
   "id": "52ab3d4e",
   "metadata": {},
   "outputs": [
    {
     "data": {
      "text/plain": [
       "'hello how are you'"
      ]
     },
     "execution_count": 19,
     "metadata": {},
     "output_type": "execute_result"
    }
   ],
   "source": [
    "string1[0:]"
   ]
  },
  {
   "cell_type": "code",
   "execution_count": 20,
   "id": "a394c1b6",
   "metadata": {},
   "outputs": [
    {
     "data": {
      "text/plain": [
       "'hello how are you'"
      ]
     },
     "execution_count": 20,
     "metadata": {},
     "output_type": "execute_result"
    }
   ],
   "source": [
    "string1[:len(string1)]"
   ]
  },
  {
   "cell_type": "code",
   "execution_count": 21,
   "id": "8bd09425",
   "metadata": {},
   "outputs": [
    {
     "data": {
      "text/plain": [
       "'hello how are you'"
      ]
     },
     "execution_count": 21,
     "metadata": {},
     "output_type": "execute_result"
    }
   ],
   "source": [
    "string1[:]"
   ]
  },
  {
   "cell_type": "code",
   "execution_count": 22,
   "id": "d6dc275c",
   "metadata": {},
   "outputs": [
    {
     "data": {
      "text/plain": [
       "'hello how are you'"
      ]
     },
     "execution_count": 22,
     "metadata": {},
     "output_type": "execute_result"
    }
   ],
   "source": [
    "string1[::]"
   ]
  },
  {
   "cell_type": "code",
   "execution_count": null,
   "id": "b7a6f8db",
   "metadata": {},
   "outputs": [],
   "source": [
    "-17 -16 -15  -14 -13 -12  -11  -10  -9  -8  -7  -6  -5   -4  -3  -2  -1  \n",
    " h   e   l    l   o        h    o    w       a   r   e       y   o   u\n",
    "0    1   2    3   4   5    6    7    8   9  10  11  12  13  14  15   16"
   ]
  },
  {
   "cell_type": "code",
   "execution_count": 26,
   "id": "9673bc9e",
   "metadata": {},
   "outputs": [
    {
     "data": {
      "text/plain": [
       "''"
      ]
     },
     "execution_count": 26,
     "metadata": {},
     "output_type": "execute_result"
    }
   ],
   "source": [
    "string1[-2:-15]\n",
    "# start=-2\n",
    "# stop = -15+1 = -14\n",
    "# by default steop is : =+ve"
   ]
  },
  {
   "cell_type": "code",
   "execution_count": 28,
   "id": "33995153",
   "metadata": {},
   "outputs": [
    {
     "data": {
      "text/plain": [
       "'oy era woh ol'"
      ]
     },
     "execution_count": 28,
     "metadata": {},
     "output_type": "execute_result"
    }
   ],
   "source": [
    "string1[-2:-15:-1]\n",
    "# start= -2\n",
    "# stop= -15+1 =-14\n",
    "# step is : -ve"
   ]
  },
  {
   "cell_type": "code",
   "execution_count": 29,
   "id": "fc19e6ae",
   "metadata": {},
   "outputs": [
    {
     "data": {
      "text/plain": [
       "'woh ol'"
      ]
     },
     "execution_count": 29,
     "metadata": {},
     "output_type": "execute_result"
    }
   ],
   "source": [
    "string1[8:-15:-1]"
   ]
  },
  {
   "cell_type": "code",
   "execution_count": 33,
   "id": "005dc3a9",
   "metadata": {},
   "outputs": [
    {
     "data": {
      "text/plain": [
       "'w'"
      ]
     },
     "execution_count": 33,
     "metadata": {},
     "output_type": "execute_result"
    }
   ],
   "source": [
    "string1[8:-10:-1]"
   ]
  },
  {
   "cell_type": "code",
   "execution_count": 34,
   "id": "224eda15",
   "metadata": {},
   "outputs": [
    {
     "data": {
      "text/plain": [
       "'w'"
      ]
     },
     "execution_count": 34,
     "metadata": {},
     "output_type": "execute_result"
    }
   ],
   "source": [
    "string1[8:-10:-2]"
   ]
  },
  {
   "cell_type": "code",
   "execution_count": 35,
   "id": "24172f5f",
   "metadata": {},
   "outputs": [
    {
     "data": {
      "text/plain": [
       "'hello how are you'"
      ]
     },
     "execution_count": 35,
     "metadata": {},
     "output_type": "execute_result"
    }
   ],
   "source": [
    "string1[::1]"
   ]
  },
  {
   "cell_type": "code",
   "execution_count": 36,
   "id": "344aa4d7",
   "metadata": {},
   "outputs": [
    {
     "data": {
      "text/plain": [
       "'uoy era woh olleh'"
      ]
     },
     "execution_count": 36,
     "metadata": {},
     "output_type": "execute_result"
    }
   ],
   "source": [
    "string1[::-1]"
   ]
  },
  {
   "cell_type": "code",
   "execution_count": null,
   "id": "e95857bb",
   "metadata": {},
   "outputs": [],
   "source": []
  },
  {
   "cell_type": "markdown",
   "id": "9ba290ba",
   "metadata": {},
   "source": [
    "## string methods:"
   ]
  },
  {
   "cell_type": "code",
   "execution_count": 40,
   "id": "457ed66b",
   "metadata": {},
   "outputs": [
    {
     "data": {
      "text/plain": [
       "['__add__',\n",
       " '__class__',\n",
       " '__contains__',\n",
       " '__delattr__',\n",
       " '__dir__',\n",
       " '__doc__',\n",
       " '__eq__',\n",
       " '__format__',\n",
       " '__ge__',\n",
       " '__getattribute__',\n",
       " '__getitem__',\n",
       " '__getnewargs__',\n",
       " '__getstate__',\n",
       " '__gt__',\n",
       " '__hash__',\n",
       " '__init__',\n",
       " '__init_subclass__',\n",
       " '__iter__',\n",
       " '__le__',\n",
       " '__len__',\n",
       " '__lt__',\n",
       " '__mod__',\n",
       " '__mul__',\n",
       " '__ne__',\n",
       " '__new__',\n",
       " '__reduce__',\n",
       " '__reduce_ex__',\n",
       " '__repr__',\n",
       " '__rmod__',\n",
       " '__rmul__',\n",
       " '__setattr__',\n",
       " '__sizeof__',\n",
       " '__str__',\n",
       " '__subclasshook__',\n",
       " 'capitalize',\n",
       " 'casefold',\n",
       " 'center',\n",
       " 'count',\n",
       " 'encode',\n",
       " 'endswith',\n",
       " 'expandtabs',\n",
       " 'find',\n",
       " 'format',\n",
       " 'format_map',\n",
       " 'index',\n",
       " 'isalnum',\n",
       " 'isalpha',\n",
       " 'isascii',\n",
       " 'isdecimal',\n",
       " 'isdigit',\n",
       " 'isidentifier',\n",
       " 'islower',\n",
       " 'isnumeric',\n",
       " 'isprintable',\n",
       " 'isspace',\n",
       " 'istitle',\n",
       " 'isupper',\n",
       " 'join',\n",
       " 'ljust',\n",
       " 'lower',\n",
       " 'lstrip',\n",
       " 'maketrans',\n",
       " 'partition',\n",
       " 'removeprefix',\n",
       " 'removesuffix',\n",
       " 'replace',\n",
       " 'rfind',\n",
       " 'rindex',\n",
       " 'rjust',\n",
       " 'rpartition',\n",
       " 'rsplit',\n",
       " 'rstrip',\n",
       " 'split',\n",
       " 'splitlines',\n",
       " 'startswith',\n",
       " 'strip',\n",
       " 'swapcase',\n",
       " 'title',\n",
       " 'translate',\n",
       " 'upper',\n",
       " 'zfill']"
      ]
     },
     "execution_count": 40,
     "metadata": {},
     "output_type": "execute_result"
    }
   ],
   "source": [
    "dir('')"
   ]
  },
  {
   "cell_type": "markdown",
   "id": "27b9074e",
   "metadata": {},
   "source": [
    "- capitalize"
   ]
  },
  {
   "cell_type": "code",
   "execution_count": 42,
   "id": "c9011313",
   "metadata": {},
   "outputs": [],
   "source": [
    "name='naresh it'"
   ]
  },
  {
   "cell_type": "code",
   "execution_count": 43,
   "id": "4cf44e34",
   "metadata": {},
   "outputs": [
    {
     "name": "stdout",
     "output_type": "stream",
     "text": [
      "Help on built-in function capitalize:\n",
      "\n",
      "capitalize() method of builtins.str instance\n",
      "    Return a capitalized version of the string.\n",
      "    \n",
      "    More specifically, make the first character have upper case and the rest lower\n",
      "    case.\n",
      "\n"
     ]
    }
   ],
   "source": [
    "help(name.capitalize)"
   ]
  },
  {
   "cell_type": "code",
   "execution_count": 44,
   "id": "32774fe9",
   "metadata": {},
   "outputs": [
    {
     "data": {
      "text/plain": [
       "'Naresh it'"
      ]
     },
     "execution_count": 44,
     "metadata": {},
     "output_type": "execute_result"
    }
   ],
   "source": [
    "name.capitalize()"
   ]
  },
  {
   "cell_type": "code",
   "execution_count": 50,
   "id": "b7cb2b28",
   "metadata": {},
   "outputs": [
    {
     "data": {
      "text/plain": [
       "'Venkatesh'"
      ]
     },
     "execution_count": 50,
     "metadata": {},
     "output_type": "execute_result"
    }
   ],
   "source": [
    "user='venkatesh'\n",
    "user.capitalize()"
   ]
  },
  {
   "cell_type": "code",
   "execution_count": null,
   "id": "57a2947f",
   "metadata": {},
   "outputs": [],
   "source": [
    "# upper \n",
    "# lower"
   ]
  },
  {
   "cell_type": "markdown",
   "id": "bd138ab3",
   "metadata": {},
   "source": [
    "- upper"
   ]
  },
  {
   "cell_type": "code",
   "execution_count": 51,
   "id": "504972d1",
   "metadata": {},
   "outputs": [
    {
     "data": {
      "text/plain": [
       "'VENKATESH'"
      ]
     },
     "execution_count": 51,
     "metadata": {},
     "output_type": "execute_result"
    }
   ],
   "source": [
    "name='venkatesh'\n",
    "name.upper()"
   ]
  },
  {
   "cell_type": "markdown",
   "id": "6dbb1978",
   "metadata": {},
   "source": [
    "- lower"
   ]
  },
  {
   "cell_type": "code",
   "execution_count": 57,
   "id": "73bb4cae",
   "metadata": {},
   "outputs": [
    {
     "data": {
      "text/plain": [
       "'venkatesh'"
      ]
     },
     "execution_count": 57,
     "metadata": {},
     "output_type": "execute_result"
    }
   ],
   "source": [
    "name='VENKATESH'\n",
    "name.lower()"
   ]
  },
  {
   "cell_type": "code",
   "execution_count": null,
   "id": "f1604c4b",
   "metadata": {},
   "outputs": [],
   "source": []
  },
  {
   "cell_type": "code",
   "execution_count": 59,
   "id": "49a880dc",
   "metadata": {},
   "outputs": [
    {
     "name": "stdout",
     "output_type": "stream",
     "text": [
      "Naresh it\n",
      "NARESH IT\n",
      "naresh it\n"
     ]
    }
   ],
   "source": [
    "name1='naresh IT'\n",
    "print(name1.capitalize())\n",
    "print(name1.upper())\n",
    "print(name1.lower())"
   ]
  },
  {
   "cell_type": "markdown",
   "id": "f45588d6",
   "metadata": {},
   "source": [
    "- casefold"
   ]
  },
  {
   "cell_type": "code",
   "execution_count": 60,
   "id": "1c680229",
   "metadata": {},
   "outputs": [
    {
     "name": "stdout",
     "output_type": "stream",
     "text": [
      "Help on built-in function casefold:\n",
      "\n",
      "casefold() method of builtins.str instance\n",
      "    Return a version of the string suitable for caseless comparisons.\n",
      "\n"
     ]
    }
   ],
   "source": [
    "help(name.casefold)"
   ]
  },
  {
   "cell_type": "code",
   "execution_count": 65,
   "id": "d3d7da5a",
   "metadata": {},
   "outputs": [
    {
     "data": {
      "text/plain": [
       "'venky'"
      ]
     },
     "execution_count": 65,
     "metadata": {},
     "output_type": "execute_result"
    }
   ],
   "source": [
    "name3='venky'\n",
    "name3.casefold()      "
   ]
  },
  {
   "cell_type": "code",
   "execution_count": 66,
   "id": "0a29956b",
   "metadata": {},
   "outputs": [
    {
     "name": "stdout",
     "output_type": "stream",
     "text": [
      "venky\n"
     ]
    }
   ],
   "source": [
    "name3='venky'\n",
    "print(name3.casefold())"
   ]
  },
  {
   "cell_type": "code",
   "execution_count": null,
   "id": "0bd371e7",
   "metadata": {},
   "outputs": [],
   "source": []
  },
  {
   "cell_type": "code",
   "execution_count": 69,
   "id": "dae83b35",
   "metadata": {},
   "outputs": [
    {
     "data": {
      "text/plain": [
       "'Hello'"
      ]
     },
     "execution_count": 69,
     "metadata": {},
     "output_type": "execute_result"
    }
   ],
   "source": [
    "string1='hello'\n",
    "\n",
    "# output : string1='Hello'   with out using string method\n",
    "\n",
    "'H'+string1[1:5]"
   ]
  },
  {
   "cell_type": "code",
   "execution_count": 98,
   "id": "8cccaed6",
   "metadata": {},
   "outputs": [
    {
     "data": {
      "text/plain": [
       "'Hello'"
      ]
     },
     "execution_count": 98,
     "metadata": {},
     "output_type": "execute_result"
    }
   ],
   "source": [
    "string1='hello'\n",
    "string2='H'\n",
    "string3=string2+string1[1:]\n",
    "string3"
   ]
  },
  {
   "cell_type": "markdown",
   "id": "81e98cc3",
   "metadata": {},
   "source": [
    "# 04-11-23"
   ]
  },
  {
   "cell_type": "code",
   "execution_count": null,
   "id": "e6ef3a56",
   "metadata": {},
   "outputs": [],
   "source": [
    "# now we are in the count method"
   ]
  },
  {
   "cell_type": "markdown",
   "id": "6c10b51a",
   "metadata": {},
   "source": [
    "#  count"
   ]
  },
  {
   "cell_type": "code",
   "execution_count": 2,
   "id": "f2e8a574",
   "metadata": {},
   "outputs": [],
   "source": [
    "string1=\"HAI HAI hai hai\"\n",
    "# hoew maqny h are there\n",
    "# if this methiod will give 'H' and 'h'"
   ]
  },
  {
   "cell_type": "code",
   "execution_count": 3,
   "id": "05a522ee",
   "metadata": {},
   "outputs": [
    {
     "data": {
      "text/plain": [
       "2"
      ]
     },
     "execution_count": 3,
     "metadata": {},
     "output_type": "execute_result"
    }
   ],
   "source": [
    "string1.count('H')"
   ]
  },
  {
   "cell_type": "code",
   "execution_count": 4,
   "id": "51c46f25",
   "metadata": {},
   "outputs": [
    {
     "data": {
      "text/plain": [
       "2"
      ]
     },
     "execution_count": 4,
     "metadata": {},
     "output_type": "execute_result"
    }
   ],
   "source": [
    "string1.count('h')"
   ]
  },
  {
   "cell_type": "code",
   "execution_count": null,
   "id": "2c49a3ae",
   "metadata": {},
   "outputs": [],
   "source": []
  },
  {
   "cell_type": "code",
   "execution_count": 18,
   "id": "2eef6dbf",
   "metadata": {},
   "outputs": [
    {
     "data": {
      "text/plain": [
       "'hai hai hai hai'"
      ]
     },
     "execution_count": 18,
     "metadata": {},
     "output_type": "execute_result"
    }
   ],
   "source": [
    "# wap convert above string into lower case\n",
    "# and count number of 'h'\n",
    "\n",
    "# do by using string methods\n",
    "# do by using with out string methods\n",
    "\n",
    "# method-1:\n",
    "string1=\"HAI HAI hai hai\"\n",
    "string3=string1.lower()\n",
    "string3"
   ]
  },
  {
   "cell_type": "code",
   "execution_count": 19,
   "id": "05c62b7b",
   "metadata": {},
   "outputs": [
    {
     "data": {
      "text/plain": [
       "4"
      ]
     },
     "execution_count": 19,
     "metadata": {},
     "output_type": "execute_result"
    }
   ],
   "source": [
    "string3.count('h')"
   ]
  },
  {
   "cell_type": "code",
   "execution_count": 20,
   "id": "6c11a417",
   "metadata": {},
   "outputs": [
    {
     "data": {
      "text/plain": [
       "4"
      ]
     },
     "execution_count": 20,
     "metadata": {},
     "output_type": "execute_result"
    }
   ],
   "source": [
    "# method-2:\n",
    "string1.lower().count('h')"
   ]
  },
  {
   "cell_type": "code",
   "execution_count": 21,
   "id": "b95fccad",
   "metadata": {},
   "outputs": [
    {
     "data": {
      "text/plain": [
       "4"
      ]
     },
     "execution_count": 21,
     "metadata": {},
     "output_type": "execute_result"
    }
   ],
   "source": [
    "# method-3:\n",
    "\"HAI HAI hai hai\".lower().count('h')"
   ]
  },
  {
   "cell_type": "code",
   "execution_count": 24,
   "id": "94e95e40",
   "metadata": {},
   "outputs": [
    {
     "name": "stdout",
     "output_type": "stream",
     "text": [
      "4\n"
     ]
    }
   ],
   "source": [
    "# method-1, using in operator\n",
    "string1=\"HAI HAI hai hai\"\n",
    "count=0\n",
    "for i in string1:\n",
    "    if(i=='H' or i=='h'):\n",
    "        count=count+1\n",
    "print(count)"
   ]
  },
  {
   "cell_type": "code",
   "execution_count": 25,
   "id": "40d64c5d",
   "metadata": {},
   "outputs": [
    {
     "name": "stdout",
     "output_type": "stream",
     "text": [
      "4\n"
     ]
    }
   ],
   "source": [
    "# method-2, using in operator\n",
    "string1=\"HAI HAI hai hai\"\n",
    "count=0\n",
    "for i in string1.lower():\n",
    "    if(i=='h'):\n",
    "        count=count+1\n",
    "print(count)"
   ]
  },
  {
   "cell_type": "code",
   "execution_count": 26,
   "id": "27e487f0",
   "metadata": {},
   "outputs": [
    {
     "name": "stdout",
     "output_type": "stream",
     "text": [
      "4\n"
     ]
    }
   ],
   "source": [
    "# method-3, using in operator\n",
    "string1=\"HAI HAI hai hai\"\n",
    "count=0\n",
    "for i in string1:\n",
    "    if(i.lower()=='h'):\n",
    "        count=count+1\n",
    "print(count)"
   ]
  },
  {
   "cell_type": "code",
   "execution_count": 27,
   "id": "41e18e11",
   "metadata": {},
   "outputs": [
    {
     "name": "stdout",
     "output_type": "stream",
     "text": [
      "4\n"
     ]
    }
   ],
   "source": [
    "# method-4 , using ramge operation \n",
    "\n",
    "string1=\"HAI HAI hai hai\"\n",
    "count=0\n",
    "for i in range(len(string1)):\n",
    "    if(string1[i].lower()=='h'):\n",
    "        count=count+1\n",
    "print(count)"
   ]
  },
  {
   "cell_type": "code",
   "execution_count": null,
   "id": "427c67ba",
   "metadata": {},
   "outputs": [],
   "source": []
  },
  {
   "cell_type": "code",
   "execution_count": 34,
   "id": "f66d5380",
   "metadata": {},
   "outputs": [
    {
     "name": "stdout",
     "output_type": "stream",
     "text": [
      "4\n",
      "4\n",
      "0\n",
      "3\n"
     ]
    }
   ],
   "source": [
    "string2=\"ola ola ola ola\"\n",
    "print(string2.count(\"ola\"))\n",
    "print(string2.count(\"ol\"))\n",
    "print(string2.count(\"oa\"))\n",
    "print(string2.count(\"ola \"))"
   ]
  },
  {
   "cell_type": "code",
   "execution_count": null,
   "id": "3a290ffc",
   "metadata": {},
   "outputs": [],
   "source": []
  },
  {
   "cell_type": "code",
   "execution_count": 11,
   "id": "7df70d94",
   "metadata": {},
   "outputs": [
    {
     "data": {
      "text/plain": [
       "15"
      ]
     },
     "execution_count": 11,
     "metadata": {},
     "output_type": "execute_result"
    }
   ],
   "source": [
    "string2=\"ola ola ola ola\"\n",
    "len(string2)"
   ]
  },
  {
   "cell_type": "code",
   "execution_count": 12,
   "id": "e9bb70a4",
   "metadata": {},
   "outputs": [
    {
     "name": "stdout",
     "output_type": "stream",
     "text": [
      "3\n",
      "1\n"
     ]
    }
   ],
   "source": [
    "print(string2.count('a',4))\n",
    "# here 4 means we are counting 'a' from 4th index\n",
    "\n",
    "# string.count(<char>,start_index)\n",
    "\n",
    "print(string2.count('a',4,9))\n",
    "# how many 'a' are there in between 4 and 8th index"
   ]
  },
  {
   "cell_type": "code",
   "execution_count": 14,
   "id": "d764b1bd",
   "metadata": {},
   "outputs": [
    {
     "data": {
      "text/plain": [
       "3"
      ]
     },
     "execution_count": 14,
     "metadata": {},
     "output_type": "execute_result"
    }
   ],
   "source": [
    "string2[4:].count('a')"
   ]
  },
  {
   "cell_type": "code",
   "execution_count": 16,
   "id": "84960e65",
   "metadata": {},
   "outputs": [
    {
     "name": "stdout",
     "output_type": "stream",
     "text": [
      "0\n"
     ]
    }
   ],
   "source": [
    "# wap by using for if\n",
    "\n",
    "string2=\"ola ola ola ola\"\n",
    "count=0\n",
    "for i in range(len(string2)):\n",
    "    if i>=4:\n",
    "        if(string2[i]=='ola'):\n",
    "            count=count+1\n",
    "print(count)\n",
    "\n",
    "# output : 3"
   ]
  },
  {
   "cell_type": "code",
   "execution_count": 55,
   "id": "39ad0746",
   "metadata": {},
   "outputs": [
    {
     "data": {
      "text/plain": [
       "3"
      ]
     },
     "execution_count": 55,
     "metadata": {},
     "output_type": "execute_result"
    }
   ],
   "source": [
    "string2[4:].count('ola')"
   ]
  },
  {
   "cell_type": "code",
   "execution_count": 45,
   "id": "bb18529e",
   "metadata": {},
   "outputs": [
    {
     "data": {
      "text/plain": [
       "3"
      ]
     },
     "execution_count": 45,
     "metadata": {},
     "output_type": "execute_result"
    }
   ],
   "source": [
    "string2.count('ola',4)"
   ]
  },
  {
   "cell_type": "code",
   "execution_count": 62,
   "id": "3cedf613",
   "metadata": {},
   "outputs": [
    {
     "name": "stdout",
     "output_type": "stream",
     "text": [
      "3\n"
     ]
    }
   ],
   "source": [
    "string2=\"ola ola ola ola\"\n",
    "count=0\n",
    "for i in range(len(string2)-2):\n",
    "    if i>=4:\n",
    "        if(string2[i]+string2[i+1]+string2[i+2]=='ola'):\n",
    "            count=count+1\n",
    "print(count)"
   ]
  },
  {
   "cell_type": "markdown",
   "id": "ca713f36",
   "metadata": {},
   "source": [
    "- how many 'a'\n",
    "- index of 'a'\n",
    "- number of vowels in a given string\n",
    "- unique vowels"
   ]
  },
  {
   "cell_type": "code",
   "execution_count": 1,
   "id": "5dd2d832",
   "metadata": {},
   "outputs": [
    {
     "name": "stdout",
     "output_type": "stream",
     "text": [
      "2\n"
     ]
    }
   ],
   "source": [
    "# 1) how many 'a'\n",
    "\n",
    "string1=\" hai hello how are you\"\n",
    "count=0\n",
    "for i in string1:\n",
    "    if(i=='a'):\n",
    "        count=count+1\n",
    "print(count)"
   ]
  },
  {
   "cell_type": "code",
   "execution_count": 4,
   "id": "a979994a",
   "metadata": {},
   "outputs": [
    {
     "name": "stdout",
     "output_type": "stream",
     "text": [
      "2\n",
      "15\n"
     ]
    }
   ],
   "source": [
    "#  2) index of 'a'\n",
    "\n",
    "string1=\" hai hello how are you\"\n",
    "for i in range(len(string1)):\n",
    "    if(string1[i]=='a'):\n",
    "        print(i)"
   ]
  },
  {
   "cell_type": "code",
   "execution_count": 14,
   "id": "fea5c2e1",
   "metadata": {},
   "outputs": [
    {
     "name": "stdout",
     "output_type": "stream",
     "text": [
      "9\n"
     ]
    }
   ],
   "source": [
    "# 3)number of vowels in a given string\n",
    "\n",
    "string1=\"hai hello how are you\"\n",
    "count=0\n",
    "for i in range(len(string1)):\n",
    "    if(string1[i] in 'aeiou'):\n",
    "        count=count+1\n",
    "print(count)"
   ]
  },
  {
   "cell_type": "code",
   "execution_count": 35,
   "id": "ecec953f",
   "metadata": {},
   "outputs": [
    {
     "name": "stdout",
     "output_type": "stream",
     "text": [
      " \n"
     ]
    }
   ],
   "source": [
    "# 4) unique vowels\n",
    "\n",
    "string1='hai hello how are you'\n",
    "string2=' '\n",
    "for i in string1:\n",
    "    if(i in 'aeiou'):\n",
    "        if(i not in 'aeiou'):\n",
    "            string2=i+string2\n",
    "print(string2)"
   ]
  },
  {
   "cell_type": "markdown",
   "id": "b06d8305",
   "metadata": {},
   "source": [
    "# 06-11-23"
   ]
  },
  {
   "cell_type": "markdown",
   "id": "a3c66462",
   "metadata": {},
   "source": [
    "## replace"
   ]
  },
  {
   "cell_type": "code",
   "execution_count": 2,
   "id": "56270040",
   "metadata": {},
   "outputs": [],
   "source": [
    "string1='welcome'\n",
    "# i want to replace 'l' with 'L'"
   ]
  },
  {
   "cell_type": "code",
   "execution_count": 4,
   "id": "e80e52c5",
   "metadata": {},
   "outputs": [
    {
     "ename": "TypeError",
     "evalue": "'str' object does not support item assignment",
     "output_type": "error",
     "traceback": [
      "\u001b[1;31m---------------------------------------------------------------------------\u001b[0m",
      "\u001b[1;31mTypeError\u001b[0m                                 Traceback (most recent call last)",
      "Cell \u001b[1;32mIn[4], line 1\u001b[0m\n\u001b[1;32m----> 1\u001b[0m string1[\u001b[38;5;241m2\u001b[39m]\u001b[38;5;241m=\u001b[39m\u001b[38;5;124m'\u001b[39m\u001b[38;5;124mL\u001b[39m\u001b[38;5;124m'\u001b[39m\n",
      "\u001b[1;31mTypeError\u001b[0m: 'str' object does not support item assignment"
     ]
    }
   ],
   "source": [
    "string1[2]='L'           # string is immutable, bcz we are using index operation"
   ]
  },
  {
   "cell_type": "code",
   "execution_count": 5,
   "id": "a11154ad",
   "metadata": {},
   "outputs": [
    {
     "data": {
      "text/plain": [
       "'weLcome'"
      ]
     },
     "execution_count": 5,
     "metadata": {},
     "output_type": "execute_result"
    }
   ],
   "source": [
    "string1[:2]+'L'+string1[3:]         # slicing and concatenation"
   ]
  },
  {
   "cell_type": "code",
   "execution_count": 6,
   "id": "7d123262",
   "metadata": {},
   "outputs": [
    {
     "data": {
      "text/plain": [
       "'weLcome'"
      ]
     },
     "execution_count": 6,
     "metadata": {},
     "output_type": "execute_result"
    }
   ],
   "source": [
    "string1.replace('l','L')          # by using replace method"
   ]
  },
  {
   "cell_type": "code",
   "execution_count": 20,
   "id": "baf7293f",
   "metadata": {},
   "outputs": [
    {
     "data": {
      "text/plain": [
       "'$esta$t'"
      ]
     },
     "execution_count": 20,
     "metadata": {},
     "output_type": "execute_result"
    }
   ],
   "source": [
    "# input is restart\n",
    "# output1: $estart\n",
    "# output2: resta$t\n",
    "# using replace method\n",
    "\n",
    "# what is the initial dRAWBACK \n",
    "string2='restart'\n",
    "string2.replace('r','$')\n",
    "# replace method will replace all\n",
    "# all occurences"
   ]
  },
  {
   "cell_type": "code",
   "execution_count": 20,
   "id": "86c1a8e0",
   "metadata": {},
   "outputs": [
    {
     "name": "stdout",
     "output_type": "stream",
     "text": [
      "$estart\n",
      "resta$t\n",
      "$esta$t\n"
     ]
    }
   ],
   "source": [
    "string1 ='restart'\n",
    "print('$'+string1[1:])                   # we already know\n",
    "print(string1[:5]+'$'+string1[6:])        # we already know\n",
    "print(string1.replace('r','$'))"
   ]
  },
  {
   "cell_type": "code",
   "execution_count": 21,
   "id": "19429d2c",
   "metadata": {},
   "outputs": [
    {
     "data": {
      "text/plain": [
       "'$$$$$$$'"
      ]
     },
     "execution_count": 21,
     "metadata": {},
     "output_type": "execute_result"
    }
   ],
   "source": [
    "'restart'.replace('restart','$$$$$$$')"
   ]
  },
  {
   "cell_type": "code",
   "execution_count": 22,
   "id": "3143dfc3",
   "metadata": {},
   "outputs": [
    {
     "data": {
      "text/plain": [
       "'resta$t'"
      ]
     },
     "execution_count": 22,
     "metadata": {},
     "output_type": "execute_result"
    }
   ],
   "source": [
    "string4='restart'\n",
    "string4.replace('restart','resta$t')"
   ]
  },
  {
   "cell_type": "code",
   "execution_count": 19,
   "id": "b902ad9b",
   "metadata": {},
   "outputs": [
    {
     "data": {
      "text/plain": [
       "'$estart'"
      ]
     },
     "execution_count": 19,
     "metadata": {},
     "output_type": "execute_result"
    }
   ],
   "source": [
    "str1='restart'\n",
    "str1.replace('restart','$estart')"
   ]
  },
  {
   "cell_type": "code",
   "execution_count": 49,
   "id": "8e586c81",
   "metadata": {},
   "outputs": [
    {
     "ename": "TypeError",
     "evalue": "str.replace() takes no keyword arguments",
     "output_type": "error",
     "traceback": [
      "\u001b[1;31m---------------------------------------------------------------------------\u001b[0m",
      "\u001b[1;31mTypeError\u001b[0m                                 Traceback (most recent call last)",
      "Cell \u001b[1;32mIn[49], line 1\u001b[0m\n\u001b[1;32m----> 1\u001b[0m string2\u001b[38;5;241m.\u001b[39mreplace(\u001b[38;5;124m'\u001b[39m\u001b[38;5;124mr\u001b[39m\u001b[38;5;124m'\u001b[39m,\u001b[38;5;124m'\u001b[39m\u001b[38;5;124m$\u001b[39m\u001b[38;5;124m'\u001b[39m,count\u001b[38;5;241m=\u001b[39m\u001b[38;5;241m1\u001b[39m)\n",
      "\u001b[1;31mTypeError\u001b[0m: str.replace() takes no keyword arguments"
     ]
    }
   ],
   "source": [
    "string2.replace('r','$',count=1)\n",
    "\n",
    "# -1 replaces all\n",
    "# count is a keyword\n",
    "# slash '/' is there for in future there is something going to impelmented\n",
    "# remove count"
   ]
  },
  {
   "cell_type": "code",
   "execution_count": 50,
   "id": "8c3c7dc0",
   "metadata": {},
   "outputs": [
    {
     "data": {
      "text/plain": [
       "'$estart'"
      ]
     },
     "execution_count": 50,
     "metadata": {},
     "output_type": "execute_result"
    }
   ],
   "source": [
    "string2.replace('r','$',1)"
   ]
  },
  {
   "cell_type": "code",
   "execution_count": 22,
   "id": "b2a494d7",
   "metadata": {},
   "outputs": [
    {
     "name": "stdout",
     "output_type": "stream",
     "text": [
      "resta$t\n"
     ]
    }
   ],
   "source": [
    "# 1 means only replace onme occurenace\n",
    "# now i want to do 2nd occureancce\n",
    "# as of now er are counting the index\n",
    "\n",
    "string2[1:]\n",
    "string2[:1]\n",
    "print(string2[:1]+string2[1:].replace('r','$',1))"
   ]
  },
  {
   "cell_type": "code",
   "execution_count": 55,
   "id": "6521ec05",
   "metadata": {},
   "outputs": [
    {
     "name": "stdout",
     "output_type": "stream",
     "text": [
      "resta$t\n"
     ]
    }
   ],
   "source": [
    "print(string2[::-1].replace('r','$',1)[::-1])"
   ]
  },
  {
   "cell_type": "code",
   "execution_count": 28,
   "id": "32d22fd4",
   "metadata": {},
   "outputs": [
    {
     "name": "stdout",
     "output_type": "stream",
     "text": [
      "resta$t\n"
     ]
    }
   ],
   "source": [
    "str1=string2[1:]\n",
    "str2=string2[:1]\n",
    "str3=str1.replace('r','$',1)\n",
    "print(str2+str3)"
   ]
  },
  {
   "cell_type": "code",
   "execution_count": 34,
   "id": "f3e4563d",
   "metadata": {},
   "outputs": [
    {
     "name": "stdout",
     "output_type": "stream",
     "text": [
      "$esta$t\n",
      "$estart\n",
      "estart\n",
      "r\n",
      "resta$t\n"
     ]
    }
   ],
   "source": [
    "string1='restart'\n",
    "print(string1.replace('r','$'))\n",
    "print(string1.replace('r','$',1))\n",
    "\n",
    "\n",
    "print(string1[1:])\n",
    "print(string1[:1])\n",
    "print(string1[:1]+string1[1:].replace('r','$',1))"
   ]
  },
  {
   "cell_type": "code",
   "execution_count": 46,
   "id": "eb91750f",
   "metadata": {},
   "outputs": [
    {
     "name": "stdout",
     "output_type": "stream",
     "text": [
      "vEnkatEsh\n",
      "vEnkatesh\n",
      "venkatEsh\n",
      "venkatEsh\n",
      "vEnkatesh\n",
      "vEnkatEsh\n"
     ]
    }
   ],
   "source": [
    "name='venkatesh'\n",
    "print(name.replace('e','E'))\n",
    "print(name.replace('e','E',1))\n",
    "print(name[:2]+name[2:].replace('e','E',1))\n",
    "print(name.replace('venkatesh','venkatEsh'))\n",
    "print(name.replace('venkatesh','vEnkatesh'))\n",
    "print(name.replace('venkatesh','vEnkatEsh'))"
   ]
  },
  {
   "cell_type": "markdown",
   "id": "cc26a321",
   "metadata": {},
   "source": [
    "# index"
   ]
  },
  {
   "cell_type": "code",
   "execution_count": 61,
   "id": "a24a1d5b",
   "metadata": {},
   "outputs": [
    {
     "data": {
      "text/plain": [
       "2"
      ]
     },
     "execution_count": 61,
     "metadata": {},
     "output_type": "execute_result"
    }
   ],
   "source": [
    "string1='python'\n",
    "# if i want to know'\n",
    "# index of 't'\n",
    "string1.index('t')\n",
    "\n",
    "# this is very very important method"
   ]
  },
  {
   "cell_type": "code",
   "execution_count": 47,
   "id": "7f711139",
   "metadata": {},
   "outputs": [
    {
     "data": {
      "text/plain": [
       "'restar2'"
      ]
     },
     "execution_count": 47,
     "metadata": {},
     "output_type": "execute_result"
    }
   ],
   "source": [
    "string1='restart'\n",
    "\n",
    "# replace the 2nd 't' with 2\n",
    "# some slice\n",
    "\n",
    "string1[:6]+'2'"
   ]
  },
  {
   "cell_type": "code",
   "execution_count": 57,
   "id": "2dd25a48",
   "metadata": {},
   "outputs": [
    {
     "name": "stdout",
     "output_type": "stream",
     "text": [
      "art\n",
      "art\n",
      "3\n"
     ]
    }
   ],
   "source": [
    "string1='restart'\n",
    "# i need 'art' without slicing,replace\n",
    "print(string1.replace('restart','art'))          # using replace\n",
    "print(string1[4:])                              # using slicing\n",
    "print(string1.index('t'))                     "
   ]
  },
  {
   "cell_type": "code",
   "execution_count": 52,
   "id": "4618ced2",
   "metadata": {},
   "outputs": [
    {
     "data": {
      "text/plain": [
       "'art'"
      ]
     },
     "execution_count": 52,
     "metadata": {},
     "output_type": "execute_result"
    }
   ],
   "source": [
    "string1[string1.index('t')+1:]              # using index"
   ]
  },
  {
   "cell_type": "code",
   "execution_count": 58,
   "id": "9d825ef3",
   "metadata": {},
   "outputs": [
    {
     "data": {
      "text/plain": [
       "'art'"
      ]
     },
     "execution_count": 58,
     "metadata": {},
     "output_type": "execute_result"
    }
   ],
   "source": [
    "string1[string1.find('t')+1:]              # using find"
   ]
  },
  {
   "cell_type": "code",
   "execution_count": 89,
   "id": "76af863f",
   "metadata": {},
   "outputs": [
    {
     "name": "stdout",
     "output_type": "stream",
     "text": [
      "3 6\n"
     ]
    }
   ],
   "source": [
    "string1='restart'\n",
    "f_o=string1.index('t')\n",
    "s_o=string1.index('t',f_o+1)\n",
    "print(f_o,s_o)"
   ]
  },
  {
   "cell_type": "code",
   "execution_count": 91,
   "id": "54b2dd14",
   "metadata": {},
   "outputs": [],
   "source": [
    "string1='restart how to'"
   ]
  },
  {
   "cell_type": "code",
   "execution_count": 93,
   "id": "a6a90847",
   "metadata": {},
   "outputs": [
    {
     "name": "stdout",
     "output_type": "stream",
     "text": [
      "3 6 12\n"
     ]
    }
   ],
   "source": [
    "f_o=string1.index('t')\n",
    "s_o=string1.index('t',f_o+1)\n",
    "t_o=string1.index('t',s_o+1)\n",
    "print(f_o,s_o,t_o)"
   ]
  },
  {
   "cell_type": "code",
   "execution_count": 103,
   "id": "d585bef2",
   "metadata": {},
   "outputs": [
    {
     "name": "stdout",
     "output_type": "stream",
     "text": [
      "3\n",
      "3\n"
     ]
    }
   ],
   "source": [
    "string1='restart how to'\n",
    "print(string1.count('t')) # 3\n",
    "print(string1.index('t')) # 3"
   ]
  },
  {
   "cell_type": "code",
   "execution_count": 108,
   "id": "610f2b13",
   "metadata": {},
   "outputs": [
    {
     "name": "stdout",
     "output_type": "stream",
     "text": [
      "0\n"
     ]
    },
    {
     "ename": "ValueError",
     "evalue": "substring not found",
     "output_type": "error",
     "traceback": [
      "\u001b[1;31m---------------------------------------------------------------------------\u001b[0m",
      "\u001b[1;31mValueError\u001b[0m                                Traceback (most recent call last)",
      "Cell \u001b[1;32mIn[108], line 3\u001b[0m\n\u001b[0;32m      1\u001b[0m string1\u001b[38;5;241m=\u001b[39m\u001b[38;5;124m'\u001b[39m\u001b[38;5;124mrestart how to\u001b[39m\u001b[38;5;124m'\u001b[39m\n\u001b[0;32m      2\u001b[0m \u001b[38;5;28mprint\u001b[39m(string1\u001b[38;5;241m.\u001b[39mcount(\u001b[38;5;124m'\u001b[39m\u001b[38;5;124mT\u001b[39m\u001b[38;5;124m'\u001b[39m)) \u001b[38;5;66;03m# 0\u001b[39;00m\n\u001b[1;32m----> 3\u001b[0m \u001b[38;5;28mprint\u001b[39m(string1\u001b[38;5;241m.\u001b[39mindex(\u001b[38;5;124m'\u001b[39m\u001b[38;5;124mT\u001b[39m\u001b[38;5;124m'\u001b[39m))\n",
      "\u001b[1;31mValueError\u001b[0m: substring not found"
     ]
    }
   ],
   "source": [
    "string1='restart how to'\n",
    "print(string1.count('T')) # 0\n",
    "print(string1.index('T')) # sub string error"
   ]
  },
  {
   "cell_type": "code",
   "execution_count": 109,
   "id": "c00e9a4b",
   "metadata": {},
   "outputs": [
    {
     "name": "stdout",
     "output_type": "stream",
     "text": [
      "restart how to\n"
     ]
    }
   ],
   "source": [
    "print(string1.replace('TTTT','&')) # restart how to"
   ]
  },
  {
   "cell_type": "markdown",
   "id": "72dc1efb",
   "metadata": {},
   "source": [
    "# find"
   ]
  },
  {
   "cell_type": "code",
   "execution_count": 111,
   "id": "2b3a9952",
   "metadata": {},
   "outputs": [
    {
     "data": {
      "text/plain": [
       "-1"
      ]
     },
     "execution_count": 111,
     "metadata": {},
     "output_type": "execute_result"
    }
   ],
   "source": [
    "string1='restart how to'\n",
    "string1.find('T')                  # in find ,if it doestnot exist , it will print -1"
   ]
  },
  {
   "cell_type": "markdown",
   "id": "cc480225",
   "metadata": {},
   "source": [
    "-  difference between index and find\n",
    "\n",
    "-  when it is error in index , it will show error\n",
    "\n",
    "-  when it is eroor in find , it will return -1 value"
   ]
  },
  {
   "cell_type": "code",
   "execution_count": 112,
   "id": "3724d859",
   "metadata": {},
   "outputs": [
    {
     "ename": "NameError",
     "evalue": "name 'string' is not defined",
     "output_type": "error",
     "traceback": [
      "\u001b[1;31m---------------------------------------------------------------------------\u001b[0m",
      "\u001b[1;31mNameError\u001b[0m                                 Traceback (most recent call last)",
      "Cell \u001b[1;32mIn[112], line 1\u001b[0m\n\u001b[1;32m----> 1\u001b[0m string\u001b[38;5;241m.\u001b[39mindex(\u001b[38;5;124m'\u001b[39m\u001b[38;5;124mT\u001b[39m\u001b[38;5;124m'\u001b[39m)\n",
      "\u001b[1;31mNameError\u001b[0m: name 'string' is not defined"
     ]
    }
   ],
   "source": [
    "string.index('T')                 # in index, if it doest not exist ,it will show error "
   ]
  },
  {
   "cell_type": "code",
   "execution_count": 102,
   "id": "41650092",
   "metadata": {},
   "outputs": [
    {
     "name": "stdout",
     "output_type": "stream",
     "text": [
      "0\n",
      "restart how to\n",
      "-1\n"
     ]
    }
   ],
   "source": [
    "string1='restart how to'\n",
    "print(string1.count('T'))       # 0\n",
    "# print(string1.index('T'))          # sub string not found\n",
    "print(string1.replace('TTTT','&'))   # no error\n",
    "'python'.replace('z','ZZZZZ')        # no error\n",
    "print(string1.find('T'))              # -1 ( in find )"
   ]
  },
  {
   "cell_type": "markdown",
   "id": "4a53309a",
   "metadata": {},
   "source": [
    "# split"
   ]
  },
  {
   "cell_type": "code",
   "execution_count": 93,
   "id": "45c07596",
   "metadata": {},
   "outputs": [
    {
     "data": {
      "text/plain": [
       "['hai', 'how', 'are', 'you']"
      ]
     },
     "execution_count": 93,
     "metadata": {},
     "output_type": "execute_result"
    }
   ],
   "source": [
    "string1=\"hai how are you\"\n",
    "string1.split()                          # ntg mentioned means it takes the space"
   ]
  },
  {
   "cell_type": "code",
   "execution_count": 94,
   "id": "cbf0168e",
   "metadata": {},
   "outputs": [
    {
     "data": {
      "text/plain": [
       "['hai how', 'are you']"
      ]
     },
     "execution_count": 94,
     "metadata": {},
     "output_type": "execute_result"
    }
   ],
   "source": [
    "string2=\"hai how,are you\"\n",
    "string2.split(',')"
   ]
  },
  {
   "cell_type": "code",
   "execution_count": 96,
   "id": "02b6ccc8",
   "metadata": {},
   "outputs": [
    {
     "name": "stdout",
     "output_type": "stream",
     "text": [
      "hai how,are you\n"
     ]
    }
   ],
   "source": [
    "var1='hai how'\n",
    "var2='are you'\n",
    "print(var1,var2,sep=',')"
   ]
  },
  {
   "cell_type": "code",
   "execution_count": 115,
   "id": "68eec312",
   "metadata": {},
   "outputs": [
    {
     "data": {
      "text/plain": [
       "['h', 'i how,', 're you']"
      ]
     },
     "execution_count": 115,
     "metadata": {},
     "output_type": "execute_result"
    }
   ],
   "source": [
    "string2=\"hai how,are you\"\n",
    "string2.split('a')"
   ]
  },
  {
   "cell_type": "markdown",
   "id": "fe32b326",
   "metadata": {},
   "source": [
    "# 07-11-23"
   ]
  },
  {
   "cell_type": "markdown",
   "id": "c72a6c3e",
   "metadata": {},
   "source": [
    "- string/ double string/ triple string(doc string)\n",
    "- len \n",
    "- type\n",
    "- min \n",
    "- max\n",
    "- in\n",
    "- capitalize/upper / lower/ casefold\n",
    "- slicing\n",
    "- count\n",
    "- index/find\n",
    "- replace\n",
    "- split"
   ]
  },
  {
   "cell_type": "code",
   "execution_count": 114,
   "id": "63baee64",
   "metadata": {},
   "outputs": [],
   "source": [
    "sent1='rashaad.omkar@gmail.com'\n",
    "# exract only: omkar"
   ]
  },
  {
   "cell_type": "code",
   "execution_count": 122,
   "id": "bba9dbb0",
   "metadata": {},
   "outputs": [
    {
     "name": "stdout",
     "output_type": "stream",
     "text": [
      "7\n",
      "13\n"
     ]
    }
   ],
   "source": [
    "f_o=sent1.index('.',1)\n",
    "s_o=sent1.index('@')\n",
    "print(f_o)\n",
    "print(s_o)"
   ]
  },
  {
   "cell_type": "code",
   "execution_count": 12,
   "id": "e6e2c544",
   "metadata": {},
   "outputs": [
    {
     "data": {
      "text/plain": [
       "'omkar'"
      ]
     },
     "execution_count": 12,
     "metadata": {},
     "output_type": "execute_result"
    }
   ],
   "source": [
    "sent1.replace('rashaad.omkar@gmail.com','omkar')"
   ]
  },
  {
   "cell_type": "code",
   "execution_count": 14,
   "id": "a84bad53",
   "metadata": {},
   "outputs": [
    {
     "data": {
      "text/plain": [
       "'omkar'"
      ]
     },
     "execution_count": 14,
     "metadata": {},
     "output_type": "execute_result"
    }
   ],
   "source": [
    "sent1.replace('rashaad.','').replace('@gmail.com','')"
   ]
  },
  {
   "cell_type": "code",
   "execution_count": 18,
   "id": "c945e203",
   "metadata": {},
   "outputs": [
    {
     "data": {
      "text/plain": [
       "'omkar'"
      ]
     },
     "execution_count": 18,
     "metadata": {},
     "output_type": "execute_result"
    }
   ],
   "source": [
    "sent1[sent1.find('.')+1:sent1.find('@')]"
   ]
  },
  {
   "cell_type": "code",
   "execution_count": 20,
   "id": "953f2a69",
   "metadata": {},
   "outputs": [
    {
     "data": {
      "text/plain": [
       "'omkar'"
      ]
     },
     "execution_count": 20,
     "metadata": {},
     "output_type": "execute_result"
    }
   ],
   "source": [
    "sent1[sent1.index('.')+1:sent1.index('@')]"
   ]
  },
  {
   "cell_type": "code",
   "execution_count": 126,
   "id": "24f20944",
   "metadata": {},
   "outputs": [
    {
     "name": "stdout",
     "output_type": "stream",
     "text": [
      "5\n",
      "uma\n"
     ]
    }
   ],
   "source": [
    "sent2='mobin.sourav@uma.com'\n",
    "# extract : uma\n",
    "sent2.index('.')\n",
    "sent2[sent2.index('@')+1:sent2.index('.',sent2.index('.')+1)]"
   ]
  },
  {
   "cell_type": "code",
   "execution_count": 131,
   "id": "c8713c26",
   "metadata": {},
   "outputs": [
    {
     "data": {
      "text/plain": [
       "'nareshit'"
      ]
     },
     "execution_count": 131,
     "metadata": {},
     "output_type": "execute_result"
    }
   ],
   "source": [
    "sent2='mobin.souravsahoo@nareshit.ac.in'\n",
    "\n",
    "# between '@' and '.' (second dot)\n",
    "index1=sent2.index('@')\n",
    "first_dot_index=sent2.index('.')\n",
    "sec_dot_index=sent2.index('.',first_dot_index+1)\n",
    "sent2[index1+1:sec_dot_index]"
   ]
  },
  {
   "cell_type": "code",
   "execution_count": 133,
   "id": "ff93c0b2",
   "metadata": {},
   "outputs": [
    {
     "data": {
      "text/plain": [
       "'nareshit'"
      ]
     },
     "execution_count": 133,
     "metadata": {},
     "output_type": "execute_result"
    }
   ],
   "source": [
    "sent2.index('.')\n",
    "sent2.index('@')\n",
    "sent2[sent2.index('@')+1:sent2.index('.',sent2.index('.')+1)]"
   ]
  },
  {
   "cell_type": "markdown",
   "id": "475132a9",
   "metadata": {},
   "source": [
    "- lets say all the mauls are in a text file\n",
    "- how to read the text file\n",
    "- fist second comany email"
   ]
  },
  {
   "cell_type": "markdown",
   "id": "4923a068",
   "metadata": {},
   "source": [
    "# strip-lstrip-rstriop"
   ]
  },
  {
   "cell_type": "code",
   "execution_count": 31,
   "id": "cbf624fb",
   "metadata": {},
   "outputs": [],
   "source": [
    "string1=' hai how are you '    # strip\n",
    "string2='hai how are you '     # strip/lstrip \n",
    "string3=' hai how are you'     # strip/rstrip"
   ]
  },
  {
   "cell_type": "markdown",
   "id": "92e98160",
   "metadata": {},
   "source": [
    "- if you want to remove the spaces we use method strip\n",
    "- strip: it will remove spaces both sides\n",
    "- lstrip: it will remove left side space\n",
    "- rstrip: it will remove right side space    "
   ]
  },
  {
   "cell_type": "code",
   "execution_count": 32,
   "id": "08ed846a",
   "metadata": {},
   "outputs": [
    {
     "data": {
      "text/plain": [
       "('hai how are you', 'hai how are you ', ' hai how are you')"
      ]
     },
     "execution_count": 32,
     "metadata": {},
     "output_type": "execute_result"
    }
   ],
   "source": [
    "string1.strip(),string1.lstrip(),string1.rstrip()"
   ]
  },
  {
   "cell_type": "code",
   "execution_count": 37,
   "id": "25bca494",
   "metadata": {},
   "outputs": [
    {
     "name": "stdout",
     "output_type": "stream",
     "text": [
      "hello\n",
      "hello&&&&&&\n",
      "&&&&&hello\n"
     ]
    }
   ],
   "source": [
    "string1='&&&&&hello&&&&&&'\n",
    "print(string1.strip('&'))\n",
    "print(string1.lstrip('&'))\n",
    "print(string1.rstrip('&'))"
   ]
  },
  {
   "cell_type": "markdown",
   "id": "5b614fd8",
   "metadata": {},
   "source": [
    "# startswith-endswith"
   ]
  },
  {
   "cell_type": "code",
   "execution_count": 39,
   "id": "5600765d",
   "metadata": {},
   "outputs": [
    {
     "data": {
      "text/plain": [
       "True"
      ]
     },
     "execution_count": 39,
     "metadata": {},
     "output_type": "execute_result"
    }
   ],
   "source": [
    "string1='hai how are you'\n",
    "string1.startswith('hai')"
   ]
  },
  {
   "cell_type": "code",
   "execution_count": 40,
   "id": "06e52c51",
   "metadata": {},
   "outputs": [
    {
     "data": {
      "text/plain": [
       "False"
      ]
     },
     "execution_count": 40,
     "metadata": {},
     "output_type": "execute_result"
    }
   ],
   "source": [
    "string1.startswith('how')"
   ]
  },
  {
   "cell_type": "code",
   "execution_count": 41,
   "id": "8b716e68",
   "metadata": {},
   "outputs": [
    {
     "data": {
      "text/plain": [
       "True"
      ]
     },
     "execution_count": 41,
     "metadata": {},
     "output_type": "execute_result"
    }
   ],
   "source": [
    "string1.startswith('h')"
   ]
  },
  {
   "cell_type": "code",
   "execution_count": 42,
   "id": "52edecbe",
   "metadata": {},
   "outputs": [
    {
     "data": {
      "text/plain": [
       "True"
      ]
     },
     "execution_count": 42,
     "metadata": {},
     "output_type": "execute_result"
    }
   ],
   "source": [
    "string1.startswith('ha')"
   ]
  },
  {
   "cell_type": "code",
   "execution_count": 43,
   "id": "261dca4b",
   "metadata": {},
   "outputs": [
    {
     "data": {
      "text/plain": [
       "True"
      ]
     },
     "execution_count": 43,
     "metadata": {},
     "output_type": "execute_result"
    }
   ],
   "source": [
    "string1.endswith('you')"
   ]
  },
  {
   "cell_type": "code",
   "execution_count": 44,
   "id": "2c5a63fc",
   "metadata": {},
   "outputs": [
    {
     "data": {
      "text/plain": [
       "True"
      ]
     },
     "execution_count": 44,
     "metadata": {},
     "output_type": "execute_result"
    }
   ],
   "source": [
    "string1.endswith('u')"
   ]
  },
  {
   "cell_type": "code",
   "execution_count": 48,
   "id": "9359517f",
   "metadata": {},
   "outputs": [
    {
     "data": {
      "text/plain": [
       "False"
      ]
     },
     "execution_count": 48,
     "metadata": {},
     "output_type": "execute_result"
    }
   ],
   "source": [
    "string1.endswith('oou')"
   ]
  },
  {
   "cell_type": "code",
   "execution_count": 47,
   "id": "d4bcafd5",
   "metadata": {},
   "outputs": [
    {
     "name": "stdout",
     "output_type": "stream",
     "text": [
      "True\n",
      "True\n"
     ]
    }
   ],
   "source": [
    "print(string1.startswith(string1))\n",
    "print(string1.endswith(string1))"
   ]
  },
  {
   "cell_type": "code",
   "execution_count": null,
   "id": "c55f3a3a",
   "metadata": {},
   "outputs": [],
   "source": []
  },
  {
   "cell_type": "markdown",
   "id": "fefa1019",
   "metadata": {},
   "source": [
    "- capitalize/upper/lower/casefold\n",
    "- index/find\n",
    "- count\n",
    "- replace\n",
    "- split\n",
    "- strip/lstrip/rstrip\n",
    "- startswith/endswith"
   ]
  },
  {
   "cell_type": "code",
   "execution_count": 78,
   "id": "0d02e39c",
   "metadata": {},
   "outputs": [
    {
     "data": {
      "text/plain": [
       "False"
      ]
     },
     "execution_count": 78,
     "metadata": {},
     "output_type": "execute_result"
    }
   ],
   "source": [
    "string1='1234'\n",
    "string1.isalpha()"
   ]
  },
  {
   "cell_type": "code",
   "execution_count": 79,
   "id": "64636018",
   "metadata": {},
   "outputs": [
    {
     "data": {
      "text/plain": [
       "True"
      ]
     },
     "execution_count": 79,
     "metadata": {},
     "output_type": "execute_result"
    }
   ],
   "source": [
    "string1='python1234'\n",
    "string1.isalnum()"
   ]
  },
  {
   "cell_type": "code",
   "execution_count": 81,
   "id": "52bd7b11",
   "metadata": {},
   "outputs": [
    {
     "data": {
      "text/plain": [
       "False"
      ]
     },
     "execution_count": 81,
     "metadata": {},
     "output_type": "execute_result"
    }
   ],
   "source": [
    "string1='12.4'\n",
    "string1.isdecimal()"
   ]
  },
  {
   "cell_type": "code",
   "execution_count": 82,
   "id": "2a6c8c88",
   "metadata": {},
   "outputs": [
    {
     "data": {
      "text/plain": [
       "False"
      ]
     },
     "execution_count": 82,
     "metadata": {},
     "output_type": "execute_result"
    }
   ],
   "source": [
    "string1='python'\n",
    "string1.isupper()"
   ]
  },
  {
   "cell_type": "code",
   "execution_count": 83,
   "id": "ab926308",
   "metadata": {},
   "outputs": [
    {
     "data": {
      "text/plain": [
       "True"
      ]
     },
     "execution_count": 83,
     "metadata": {},
     "output_type": "execute_result"
    }
   ],
   "source": [
    "string1='python'\n",
    "string1.islower()"
   ]
  },
  {
   "cell_type": "code",
   "execution_count": 87,
   "id": "7f496728",
   "metadata": {},
   "outputs": [
    {
     "name": "stdout",
     "output_type": "stream",
     "text": [
      "False\n",
      "False\n",
      "False\n",
      "False\n"
     ]
    }
   ],
   "source": [
    "string2='10.5'\n",
    "print(string2.isnumeric())\n",
    "print(string2.isalnum())\n",
    "print(string2.isdecimal())\n",
    "print(string2.isdigit())"
   ]
  },
  {
   "cell_type": "code",
   "execution_count": 88,
   "id": "5ceb22fe",
   "metadata": {},
   "outputs": [
    {
     "data": {
      "text/plain": [
       "False"
      ]
     },
     "execution_count": 88,
     "metadata": {},
     "output_type": "execute_result"
    }
   ],
   "source": [
    "string1='python1234 '\n",
    "string1.isalnum()"
   ]
  },
  {
   "cell_type": "code",
   "execution_count": 91,
   "id": "5e5f3929",
   "metadata": {},
   "outputs": [
    {
     "data": {
      "text/plain": [
       "True"
      ]
     },
     "execution_count": 91,
     "metadata": {},
     "output_type": "execute_result"
    }
   ],
   "source": [
    "string1='python '\n",
    "string1.rstrip().isalnum()"
   ]
  },
  {
   "cell_type": "code",
   "execution_count": null,
   "id": "84964da2",
   "metadata": {},
   "outputs": [],
   "source": [
    "Q1) in a given sentence what is the most repeated word\n",
    "# example: 'hai how are you you hai'\n",
    "\n",
    "Q2) in a given sentence what is the maximaum length of the string\n",
    "Q3) in a given sentence what is the minimum length of the string\n",
    "# example: 'hello how are youuuuu' \n",
    "\n",
    "Q4) str1='hyd'   str2='chennai'    str3='mumbai'\n",
    "     # greatest word and smallest word : by using ascii values"
   ]
  },
  {
   "cell_type": "code",
   "execution_count": null,
   "id": "723698ea",
   "metadata": {},
   "outputs": [],
   "source": [
    "string1=\"hai how are you you you hai\"\n",
    "count=''\n",
    "for 'you'  in string1:\n",
    "    ------\n",
    "    ------\n",
    "    "
   ]
  },
  {
   "cell_type": "markdown",
   "id": "78a5629b",
   "metadata": {},
   "source": [
    "- single/double/triple\n",
    "- type/len/min/max\n",
    "- capitalize/casefold/upper/lower\n",
    "- in\n",
    "- slicing\n",
    "- index/find\n",
    "- count\n",
    "- replace\n",
    "- split\n",
    "- strip/lstrip/rstrip\n",
    "- startswith/endswith"
   ]
  },
  {
   "cell_type": "code",
   "execution_count": null,
   "id": "b1ab73d6",
   "metadata": {},
   "outputs": [],
   "source": []
  }
 ],
 "metadata": {
  "kernelspec": {
   "display_name": "Python 3 (ipykernel)",
   "language": "python",
   "name": "python3"
  },
  "language_info": {
   "codemirror_mode": {
    "name": "ipython",
    "version": 3
   },
   "file_extension": ".py",
   "mimetype": "text/x-python",
   "name": "python",
   "nbconvert_exporter": "python",
   "pygments_lexer": "ipython3",
   "version": "3.11.5"
  }
 },
 "nbformat": 4,
 "nbformat_minor": 5
}
