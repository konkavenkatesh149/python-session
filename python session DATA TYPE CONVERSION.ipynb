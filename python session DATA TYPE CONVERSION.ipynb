{
 "cells": [
  {
   "cell_type": "markdown",
   "id": "fc4ed936",
   "metadata": {},
   "source": [
    "# Type casting\n",
    "\n",
    "### data type conversion \n",
    "\n",
    "### converting one data type to another data type "
   ]
  },
  {
   "cell_type": "code",
   "execution_count": null,
   "id": "f756bcf4",
   "metadata": {},
   "outputs": [],
   "source": [
    "int \n",
    "\n",
    "float\n",
    "\n",
    "str\n",
    "\n",
    "bool\n",
    "\n",
    "complex\n"
   ]
  },
  {
   "cell_type": "code",
   "execution_count": null,
   "id": "cc13ae09",
   "metadata": {},
   "outputs": [],
   "source": []
  },
  {
   "cell_type": "markdown",
   "id": "b404b9f0",
   "metadata": {},
   "source": [
    "### int to other data type"
   ]
  },
  {
   "cell_type": "code",
   "execution_count": 1,
   "id": "74fb8ed5",
   "metadata": {},
   "outputs": [
    {
     "data": {
      "text/plain": [
       "int"
      ]
     },
     "execution_count": 1,
     "metadata": {},
     "output_type": "execute_result"
    }
   ],
   "source": [
    "number=100\n",
    "type(number)"
   ]
  },
  {
   "cell_type": "markdown",
   "id": "a26d0c95",
   "metadata": {},
   "source": [
    "# 1.convert int to float\n",
    "float(number)"
   ]
  },
  {
   "cell_type": "code",
   "execution_count": 4,
   "id": "7396c2c3",
   "metadata": {},
   "outputs": [
    {
     "data": {
      "text/plain": [
       "100"
      ]
     },
     "execution_count": 4,
     "metadata": {},
     "output_type": "execute_result"
    }
   ],
   "source": [
    "float_number=100\n",
    "float_number"
   ]
  },
  {
   "cell_type": "code",
   "execution_count": 5,
   "id": "4459b97a",
   "metadata": {},
   "outputs": [
    {
     "data": {
      "text/plain": [
       "int"
      ]
     },
     "execution_count": 5,
     "metadata": {},
     "output_type": "execute_result"
    }
   ],
   "source": [
    "type(float_number)"
   ]
  },
  {
   "cell_type": "code",
   "execution_count": 6,
   "id": "310e3785",
   "metadata": {},
   "outputs": [
    {
     "data": {
      "text/plain": [
       "100.0"
      ]
     },
     "execution_count": 6,
     "metadata": {},
     "output_type": "execute_result"
    }
   ],
   "source": [
    "float(float_number)"
   ]
  },
  {
   "cell_type": "markdown",
   "id": "b4611069",
   "metadata": {},
   "source": [
    "# 2.convert into str type"
   ]
  },
  {
   "cell_type": "code",
   "execution_count": 5,
   "id": "6a664eaf",
   "metadata": {},
   "outputs": [
    {
     "data": {
      "text/plain": [
       "'100'"
      ]
     },
     "execution_count": 5,
     "metadata": {},
     "output_type": "execute_result"
    }
   ],
   "source": [
    "#int to string\n",
    "\n",
    "str(number)"
   ]
  },
  {
   "cell_type": "code",
   "execution_count": 6,
   "id": "e91b68ae",
   "metadata": {},
   "outputs": [
    {
     "data": {
      "text/plain": [
       "'100'"
      ]
     },
     "execution_count": 6,
     "metadata": {},
     "output_type": "execute_result"
    }
   ],
   "source": [
    "string_number=str(number)\n",
    "string_number"
   ]
  },
  {
   "cell_type": "code",
   "execution_count": 7,
   "id": "0c0b4b80",
   "metadata": {},
   "outputs": [
    {
     "data": {
      "text/plain": [
       "str"
      ]
     },
     "execution_count": 7,
     "metadata": {},
     "output_type": "execute_result"
    }
   ],
   "source": [
    "type(string_number)"
   ]
  },
  {
   "cell_type": "markdown",
   "id": "404c027a",
   "metadata": {},
   "source": [
    "# 3.convert into boolean"
   ]
  },
  {
   "cell_type": "code",
   "execution_count": 9,
   "id": "81ef94d2",
   "metadata": {},
   "outputs": [
    {
     "data": {
      "text/plain": [
       "True"
      ]
     },
     "execution_count": 9,
     "metadata": {},
     "output_type": "execute_result"
    }
   ],
   "source": [
    "#int to bool\n",
    "\n",
    "bool(number)"
   ]
  },
  {
   "cell_type": "code",
   "execution_count": 10,
   "id": "ac3cb49a",
   "metadata": {},
   "outputs": [
    {
     "data": {
      "text/plain": [
       "True"
      ]
     },
     "execution_count": 10,
     "metadata": {},
     "output_type": "execute_result"
    }
   ],
   "source": [
    "bool(-200)"
   ]
  },
  {
   "cell_type": "code",
   "execution_count": 11,
   "id": "29e4ea0c",
   "metadata": {},
   "outputs": [
    {
     "data": {
      "text/plain": [
       "False"
      ]
     },
     "execution_count": 11,
     "metadata": {},
     "output_type": "execute_result"
    }
   ],
   "source": [
    "bool(0)"
   ]
  },
  {
   "cell_type": "markdown",
   "id": "295dc47f",
   "metadata": {},
   "source": [
    "# 4.convert into complex"
   ]
  },
  {
   "cell_type": "code",
   "execution_count": 12,
   "id": "90e8449c",
   "metadata": {},
   "outputs": [
    {
     "data": {
      "text/plain": [
       "(200+0j)"
      ]
     },
     "execution_count": 12,
     "metadata": {},
     "output_type": "execute_result"
    }
   ],
   "source": [
    "# int to complex\n",
    "a=200\n",
    "complex(a)"
   ]
  },
  {
   "cell_type": "code",
   "execution_count": 13,
   "id": "e01d5b9a",
   "metadata": {},
   "outputs": [
    {
     "data": {
      "text/plain": [
       "(200+300j)"
      ]
     },
     "execution_count": 13,
     "metadata": {},
     "output_type": "execute_result"
    }
   ],
   "source": [
    "a=200\n",
    "b=300\n",
    "complex(a,b)"
   ]
  },
  {
   "cell_type": "code",
   "execution_count": 16,
   "id": "69ab5362",
   "metadata": {},
   "outputs": [
    {
     "data": {
      "text/plain": [
       "300j"
      ]
     },
     "execution_count": 16,
     "metadata": {},
     "output_type": "execute_result"
    }
   ],
   "source": [
    "a=0\n",
    "b=300\n",
    "complex(a,b)"
   ]
  },
  {
   "cell_type": "markdown",
   "id": "c358eec8",
   "metadata": {},
   "source": [
    "# converting float to other data type"
   ]
  },
  {
   "cell_type": "code",
   "execution_count": 18,
   "id": "05b86e0c",
   "metadata": {},
   "outputs": [
    {
     "data": {
      "text/plain": [
       "10.5"
      ]
     },
     "execution_count": 18,
     "metadata": {},
     "output_type": "execute_result"
    }
   ],
   "source": [
    "#1. float to int\n",
    "number1=10.5\n",
    "number1"
   ]
  },
  {
   "cell_type": "code",
   "execution_count": 20,
   "id": "828dce8a",
   "metadata": {},
   "outputs": [
    {
     "data": {
      "text/plain": [
       "float"
      ]
     },
     "execution_count": 20,
     "metadata": {},
     "output_type": "execute_result"
    }
   ],
   "source": [
    "type(number1)"
   ]
  },
  {
   "cell_type": "code",
   "execution_count": 19,
   "id": "44ce3693",
   "metadata": {},
   "outputs": [
    {
     "data": {
      "text/plain": [
       "10"
      ]
     },
     "execution_count": 19,
     "metadata": {},
     "output_type": "execute_result"
    }
   ],
   "source": [
    "int(number1)"
   ]
  },
  {
   "cell_type": "markdown",
   "id": "898e1845",
   "metadata": {},
   "source": [
    "### 2.float to str"
   ]
  },
  {
   "cell_type": "code",
   "execution_count": 21,
   "id": "b099ca6e",
   "metadata": {},
   "outputs": [
    {
     "data": {
      "text/plain": [
       "10.0"
      ]
     },
     "execution_count": 21,
     "metadata": {},
     "output_type": "execute_result"
    }
   ],
   "source": [
    "number1=10.0\n",
    "number1"
   ]
  },
  {
   "cell_type": "code",
   "execution_count": 22,
   "id": "50090b80",
   "metadata": {},
   "outputs": [
    {
     "data": {
      "text/plain": [
       "'10.0'"
      ]
     },
     "execution_count": 22,
     "metadata": {},
     "output_type": "execute_result"
    }
   ],
   "source": [
    "str(number1)"
   ]
  },
  {
   "cell_type": "markdown",
   "id": "65cd628d",
   "metadata": {},
   "source": [
    "### 3.float to bool"
   ]
  },
  {
   "cell_type": "code",
   "execution_count": 23,
   "id": "276e351f",
   "metadata": {},
   "outputs": [
    {
     "data": {
      "text/plain": [
       "10.0"
      ]
     },
     "execution_count": 23,
     "metadata": {},
     "output_type": "execute_result"
    }
   ],
   "source": [
    "number1=10.0\n",
    "number1"
   ]
  },
  {
   "cell_type": "code",
   "execution_count": 24,
   "id": "1bad476d",
   "metadata": {},
   "outputs": [
    {
     "data": {
      "text/plain": [
       "True"
      ]
     },
     "execution_count": 24,
     "metadata": {},
     "output_type": "execute_result"
    }
   ],
   "source": [
    "bool(number1)"
   ]
  },
  {
   "cell_type": "markdown",
   "id": "06a0de3b",
   "metadata": {},
   "source": [
    "### 4. float to complex\n"
   ]
  },
  {
   "cell_type": "code",
   "execution_count": 27,
   "id": "f5f105dc",
   "metadata": {},
   "outputs": [
    {
     "data": {
      "text/plain": [
       "10.2"
      ]
     },
     "execution_count": 27,
     "metadata": {},
     "output_type": "execute_result"
    }
   ],
   "source": [
    "number1=10.2\n",
    "number1"
   ]
  },
  {
   "cell_type": "code",
   "execution_count": 29,
   "id": "f8621abf",
   "metadata": {},
   "outputs": [
    {
     "data": {
      "text/plain": [
       "(10.2+0j)"
      ]
     },
     "execution_count": 29,
     "metadata": {},
     "output_type": "execute_result"
    }
   ],
   "source": [
    "complex(number1)"
   ]
  },
  {
   "cell_type": "code",
   "execution_count": null,
   "id": "5739d204",
   "metadata": {},
   "outputs": [],
   "source": []
  },
  {
   "cell_type": "markdown",
   "id": "64547b24",
   "metadata": {},
   "source": [
    "# converting string to other data type"
   ]
  },
  {
   "cell_type": "code",
   "execution_count": null,
   "id": "1c08c821",
   "metadata": {},
   "outputs": [],
   "source": [
    "string1='python'\n",
    "\n",
    "int(string1)           # english letters can't convert into mathematics(decimal)\n",
    "float(string1)         # english letters can't convert into mathematics(decimal) \n",
    "bool(string1)\n",
    "complex(string1)       # english letters can't convert into mathematics(decimal)"
   ]
  },
  {
   "cell_type": "markdown",
   "id": "5ae31097",
   "metadata": {},
   "source": [
    "### 1.string to int"
   ]
  },
  {
   "cell_type": "code",
   "execution_count": 30,
   "id": "22685549",
   "metadata": {},
   "outputs": [
    {
     "ename": "ValueError",
     "evalue": "invalid literal for int() with base 10: 'python'",
     "output_type": "error",
     "traceback": [
      "\u001b[1;31m---------------------------------------------------------------------------\u001b[0m",
      "\u001b[1;31mValueError\u001b[0m                                Traceback (most recent call last)",
      "Cell \u001b[1;32mIn[30], line 2\u001b[0m\n\u001b[0;32m      1\u001b[0m string1\u001b[38;5;241m=\u001b[39m\u001b[38;5;124m'\u001b[39m\u001b[38;5;124mpython\u001b[39m\u001b[38;5;124m'\u001b[39m\n\u001b[1;32m----> 2\u001b[0m \u001b[38;5;28mint\u001b[39m(string1)\n",
      "\u001b[1;31mValueError\u001b[0m: invalid literal for int() with base 10: 'python'"
     ]
    }
   ],
   "source": [
    "string1='python'\n",
    "int(string1)"
   ]
  },
  {
   "cell_type": "markdown",
   "id": "227c4205",
   "metadata": {},
   "source": [
    "### 2.string to float"
   ]
  },
  {
   "cell_type": "code",
   "execution_count": 31,
   "id": "f61a73a2",
   "metadata": {},
   "outputs": [
    {
     "ename": "ValueError",
     "evalue": "could not convert string to float: 'python'",
     "output_type": "error",
     "traceback": [
      "\u001b[1;31m---------------------------------------------------------------------------\u001b[0m",
      "\u001b[1;31mValueError\u001b[0m                                Traceback (most recent call last)",
      "Cell \u001b[1;32mIn[31], line 2\u001b[0m\n\u001b[0;32m      1\u001b[0m string1\u001b[38;5;241m=\u001b[39m\u001b[38;5;124m'\u001b[39m\u001b[38;5;124mpython\u001b[39m\u001b[38;5;124m'\u001b[39m\n\u001b[1;32m----> 2\u001b[0m \u001b[38;5;28mfloat\u001b[39m(string1)\n",
      "\u001b[1;31mValueError\u001b[0m: could not convert string to float: 'python'"
     ]
    }
   ],
   "source": [
    "string1='python'\n",
    "float(string1)"
   ]
  },
  {
   "cell_type": "markdown",
   "id": "d2a0d780",
   "metadata": {},
   "source": [
    "### 3.string to bool"
   ]
  },
  {
   "cell_type": "code",
   "execution_count": 32,
   "id": "90d471fd",
   "metadata": {},
   "outputs": [
    {
     "data": {
      "text/plain": [
       "True"
      ]
     },
     "execution_count": 32,
     "metadata": {},
     "output_type": "execute_result"
    }
   ],
   "source": [
    "string1='python'    # when string is with some name, then it is true\n",
    "bool(string1)"
   ]
  },
  {
   "cell_type": "code",
   "execution_count": 37,
   "id": "2b107c96",
   "metadata": {},
   "outputs": [
    {
     "data": {
      "text/plain": [
       "False"
      ]
     },
     "execution_count": 37,
     "metadata": {},
     "output_type": "execute_result"
    }
   ],
   "source": [
    "string1=\"\"      # when string is empty, then it is false\n",
    "bool(string1)"
   ]
  },
  {
   "cell_type": "markdown",
   "id": "8ad548a9",
   "metadata": {},
   "source": [
    "### 4.string to complex"
   ]
  },
  {
   "cell_type": "code",
   "execution_count": 33,
   "id": "ee0e6faa",
   "metadata": {},
   "outputs": [
    {
     "ename": "ValueError",
     "evalue": "complex() arg is a malformed string",
     "output_type": "error",
     "traceback": [
      "\u001b[1;31m---------------------------------------------------------------------------\u001b[0m",
      "\u001b[1;31mValueError\u001b[0m                                Traceback (most recent call last)",
      "Cell \u001b[1;32mIn[33], line 2\u001b[0m\n\u001b[0;32m      1\u001b[0m string1\u001b[38;5;241m=\u001b[39m\u001b[38;5;124m'\u001b[39m\u001b[38;5;124mpython\u001b[39m\u001b[38;5;124m'\u001b[39m\n\u001b[1;32m----> 2\u001b[0m \u001b[38;5;28mcomplex\u001b[39m(string1)\n",
      "\u001b[1;31mValueError\u001b[0m: complex() arg is a malformed string"
     ]
    }
   ],
   "source": [
    "string1='python'\n",
    "complex(string1)"
   ]
  },
  {
   "cell_type": "code",
   "execution_count": null,
   "id": "e9584203",
   "metadata": {},
   "outputs": [],
   "source": []
  },
  {
   "cell_type": "code",
   "execution_count": 40,
   "id": "6bf68404",
   "metadata": {},
   "outputs": [
    {
     "data": {
      "text/plain": [
       "10"
      ]
     },
     "execution_count": 40,
     "metadata": {},
     "output_type": "execute_result"
    }
   ],
   "source": [
    "int('10')      # 10 is integer type"
   ]
  },
  {
   "cell_type": "code",
   "execution_count": 41,
   "id": "ca4e3ee6",
   "metadata": {},
   "outputs": [
    {
     "ename": "ValueError",
     "evalue": "invalid literal for int() with base 10: '10.5'",
     "output_type": "error",
     "traceback": [
      "\u001b[1;31m---------------------------------------------------------------------------\u001b[0m",
      "\u001b[1;31mValueError\u001b[0m                                Traceback (most recent call last)",
      "Cell \u001b[1;32mIn[41], line 1\u001b[0m\n\u001b[1;32m----> 1\u001b[0m \u001b[38;5;28mint\u001b[39m(\u001b[38;5;124m'\u001b[39m\u001b[38;5;124m10.5\u001b[39m\u001b[38;5;124m'\u001b[39m)\n",
      "\u001b[1;31mValueError\u001b[0m: invalid literal for int() with base 10: '10.5'"
     ]
    }
   ],
   "source": [
    "int('10.5')      # 10.5 is float type,can't work with integer"
   ]
  },
  {
   "cell_type": "code",
   "execution_count": 42,
   "id": "1f052499",
   "metadata": {},
   "outputs": [
    {
     "data": {
      "text/plain": [
       "10.0"
      ]
     },
     "execution_count": 42,
     "metadata": {},
     "output_type": "execute_result"
    }
   ],
   "source": [
    "float('10')"
   ]
  },
  {
   "cell_type": "code",
   "execution_count": 43,
   "id": "2f83b0fd",
   "metadata": {},
   "outputs": [
    {
     "data": {
      "text/plain": [
       "10.5"
      ]
     },
     "execution_count": 43,
     "metadata": {},
     "output_type": "execute_result"
    }
   ],
   "source": [
    "float('10.5')"
   ]
  },
  {
   "cell_type": "code",
   "execution_count": null,
   "id": "3805de6a",
   "metadata": {},
   "outputs": [],
   "source": []
  },
  {
   "cell_type": "markdown",
   "id": "1a194de3",
   "metadata": {},
   "source": [
    "# converting complex to otgher data type"
   ]
  },
  {
   "cell_type": "code",
   "execution_count": 50,
   "id": "15a3ad49",
   "metadata": {},
   "outputs": [
    {
     "data": {
      "text/plain": [
       "(20+30j)"
      ]
     },
     "execution_count": 50,
     "metadata": {},
     "output_type": "execute_result"
    }
   ],
   "source": [
    "string4=20+30j\n",
    "complex(string4)"
   ]
  },
  {
   "cell_type": "code",
   "execution_count": 7,
   "id": "a77a99ee",
   "metadata": {},
   "outputs": [
    {
     "data": {
      "text/plain": [
       "(100+300j)"
      ]
     },
     "execution_count": 7,
     "metadata": {},
     "output_type": "execute_result"
    }
   ],
   "source": [
    "num1=100+300j\n",
    "num1"
   ]
  },
  {
   "cell_type": "code",
   "execution_count": 8,
   "id": "5b027b1c",
   "metadata": {},
   "outputs": [
    {
     "ename": "TypeError",
     "evalue": "int() argument must be a string, a bytes-like object or a real number, not 'complex'",
     "output_type": "error",
     "traceback": [
      "\u001b[1;31m---------------------------------------------------------------------------\u001b[0m",
      "\u001b[1;31mTypeError\u001b[0m                                 Traceback (most recent call last)",
      "Cell \u001b[1;32mIn[8], line 1\u001b[0m\n\u001b[1;32m----> 1\u001b[0m \u001b[38;5;28mint\u001b[39m(num1)\n",
      "\u001b[1;31mTypeError\u001b[0m: int() argument must be a string, a bytes-like object or a real number, not 'complex'"
     ]
    }
   ],
   "source": [
    "int(num1)"
   ]
  },
  {
   "cell_type": "code",
   "execution_count": 9,
   "id": "0a2a6c9c",
   "metadata": {},
   "outputs": [
    {
     "ename": "TypeError",
     "evalue": "float() argument must be a string or a real number, not 'complex'",
     "output_type": "error",
     "traceback": [
      "\u001b[1;31m---------------------------------------------------------------------------\u001b[0m",
      "\u001b[1;31mTypeError\u001b[0m                                 Traceback (most recent call last)",
      "Cell \u001b[1;32mIn[9], line 1\u001b[0m\n\u001b[1;32m----> 1\u001b[0m \u001b[38;5;28mfloat\u001b[39m(num1)\n",
      "\u001b[1;31mTypeError\u001b[0m: float() argument must be a string or a real number, not 'complex'"
     ]
    }
   ],
   "source": [
    "float(num1)"
   ]
  },
  {
   "cell_type": "code",
   "execution_count": 10,
   "id": "115ed43e",
   "metadata": {},
   "outputs": [
    {
     "data": {
      "text/plain": [
       "'(100+300j)'"
      ]
     },
     "execution_count": 10,
     "metadata": {},
     "output_type": "execute_result"
    }
   ],
   "source": [
    "str(num1)"
   ]
  },
  {
   "cell_type": "code",
   "execution_count": 11,
   "id": "5b3a92d9",
   "metadata": {},
   "outputs": [
    {
     "data": {
      "text/plain": [
       "True"
      ]
     },
     "execution_count": 11,
     "metadata": {},
     "output_type": "execute_result"
    }
   ],
   "source": [
    "bool(num1)"
   ]
  },
  {
   "cell_type": "code",
   "execution_count": null,
   "id": "6adab108",
   "metadata": {},
   "outputs": [],
   "source": []
  }
 ],
 "metadata": {
  "kernelspec": {
   "display_name": "Python 3 (ipykernel)",
   "language": "python",
   "name": "python3"
  },
  "language_info": {
   "codemirror_mode": {
    "name": "ipython",
    "version": 3
   },
   "file_extension": ".py",
   "mimetype": "text/x-python",
   "name": "python",
   "nbconvert_exporter": "python",
   "pygments_lexer": "ipython3",
   "version": "3.11.5"
  }
 },
 "nbformat": 4,
 "nbformat_minor": 5
}
