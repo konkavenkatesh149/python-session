{
 "cells": [
  {
   "cell_type": "markdown",
   "id": "847ab843",
   "metadata": {},
   "source": [
    "- single , double , triple string"
   ]
  },
  {
   "cell_type": "markdown",
   "id": "17633453",
   "metadata": {},
   "source": [
    "name='venky'\n",
    "name"
   ]
  },
  {
   "cell_type": "code",
   "execution_count": 2,
   "id": "df9850f7",
   "metadata": {},
   "outputs": [
    {
     "data": {
      "text/plain": [
       "str"
      ]
     },
     "execution_count": 2,
     "metadata": {},
     "output_type": "execute_result"
    }
   ],
   "source": [
    "type(name)"
   ]
  },
  {
   "cell_type": "code",
   "execution_count": 3,
   "id": "176d9d9a",
   "metadata": {},
   "outputs": [
    {
     "data": {
      "text/plain": [
       "'venky'"
      ]
     },
     "execution_count": 3,
     "metadata": {},
     "output_type": "execute_result"
    }
   ],
   "source": [
    "name=\"venky\"\n",
    "name"
   ]
  },
  {
   "cell_type": "code",
   "execution_count": 5,
   "id": "615d3384",
   "metadata": {},
   "outputs": [],
   "source": [
    "name1=\"\"\"hi venkat how are you\n",
    "  where are you from\n",
    "  i am from italy\"\"\""
   ]
  },
  {
   "cell_type": "code",
   "execution_count": 6,
   "id": "f5f02063",
   "metadata": {},
   "outputs": [
    {
     "data": {
      "text/plain": [
       "'hi venkat how are you\\n  where are you from\\n  i am from italy'"
      ]
     },
     "execution_count": 6,
     "metadata": {},
     "output_type": "execute_result"
    }
   ],
   "source": [
    "name1"
   ]
  },
  {
   "cell_type": "markdown",
   "id": "ef5fb845",
   "metadata": {},
   "source": [
    "- type, len ,min ,max"
   ]
  },
  {
   "cell_type": "code",
   "execution_count": 8,
   "id": "3db93957",
   "metadata": {},
   "outputs": [
    {
     "data": {
      "text/plain": [
       "str"
      ]
     },
     "execution_count": 8,
     "metadata": {},
     "output_type": "execute_result"
    }
   ],
   "source": [
    "type(name)"
   ]
  },
  {
   "cell_type": "code",
   "execution_count": 9,
   "id": "a41ddff9",
   "metadata": {},
   "outputs": [
    {
     "data": {
      "text/plain": [
       "5"
      ]
     },
     "execution_count": 9,
     "metadata": {},
     "output_type": "execute_result"
    }
   ],
   "source": [
    "len(name)"
   ]
  },
  {
   "cell_type": "code",
   "execution_count": 10,
   "id": "8eed8445",
   "metadata": {},
   "outputs": [
    {
     "data": {
      "text/plain": [
       "6"
      ]
     },
     "execution_count": 10,
     "metadata": {},
     "output_type": "execute_result"
    }
   ],
   "source": [
    "len('venkat')"
   ]
  },
  {
   "cell_type": "code",
   "execution_count": 11,
   "id": "af7ea447",
   "metadata": {},
   "outputs": [
    {
     "data": {
      "text/plain": [
       "'e'"
      ]
     },
     "execution_count": 11,
     "metadata": {},
     "output_type": "execute_result"
    }
   ],
   "source": [
    "min(name)"
   ]
  },
  {
   "cell_type": "code",
   "execution_count": 12,
   "id": "a62c2b38",
   "metadata": {},
   "outputs": [
    {
     "data": {
      "text/plain": [
       "1234"
      ]
     },
     "execution_count": 12,
     "metadata": {},
     "output_type": "execute_result"
    }
   ],
   "source": [
    "string1=1234\n",
    "string1"
   ]
  },
  {
   "cell_type": "code",
   "execution_count": 13,
   "id": "65d39eb2",
   "metadata": {},
   "outputs": [
    {
     "ename": "TypeError",
     "evalue": "'int' object is not iterable",
     "output_type": "error",
     "traceback": [
      "\u001b[1;31m---------------------------------------------------------------------------\u001b[0m",
      "\u001b[1;31mTypeError\u001b[0m                                 Traceback (most recent call last)",
      "Cell \u001b[1;32mIn[13], line 1\u001b[0m\n\u001b[1;32m----> 1\u001b[0m \u001b[38;5;28mmin\u001b[39m(string1)\n",
      "\u001b[1;31mTypeError\u001b[0m: 'int' object is not iterable"
     ]
    }
   ],
   "source": [
    "min(string1)"
   ]
  },
  {
   "cell_type": "code",
   "execution_count": 14,
   "id": "312b7f5b",
   "metadata": {},
   "outputs": [
    {
     "data": {
      "text/plain": [
       "'y'"
      ]
     },
     "execution_count": 14,
     "metadata": {},
     "output_type": "execute_result"
    }
   ],
   "source": [
    "max(name)"
   ]
  },
  {
   "cell_type": "code",
   "execution_count": 296,
   "id": "ddbca64a",
   "metadata": {},
   "outputs": [
    {
     "data": {
      "text/plain": [
       "['__add__',\n",
       " '__class__',\n",
       " '__contains__',\n",
       " '__delattr__',\n",
       " '__dir__',\n",
       " '__doc__',\n",
       " '__eq__',\n",
       " '__format__',\n",
       " '__ge__',\n",
       " '__getattribute__',\n",
       " '__getitem__',\n",
       " '__getnewargs__',\n",
       " '__getstate__',\n",
       " '__gt__',\n",
       " '__hash__',\n",
       " '__init__',\n",
       " '__init_subclass__',\n",
       " '__iter__',\n",
       " '__le__',\n",
       " '__len__',\n",
       " '__lt__',\n",
       " '__mod__',\n",
       " '__mul__',\n",
       " '__ne__',\n",
       " '__new__',\n",
       " '__reduce__',\n",
       " '__reduce_ex__',\n",
       " '__repr__',\n",
       " '__rmod__',\n",
       " '__rmul__',\n",
       " '__setattr__',\n",
       " '__sizeof__',\n",
       " '__str__',\n",
       " '__subclasshook__',\n",
       " 'capitalize',\n",
       " 'casefold',\n",
       " 'center',\n",
       " 'count',\n",
       " 'encode',\n",
       " 'endswith',\n",
       " 'expandtabs',\n",
       " 'find',\n",
       " 'format',\n",
       " 'format_map',\n",
       " 'index',\n",
       " 'isalnum',\n",
       " 'isalpha',\n",
       " 'isascii',\n",
       " 'isdecimal',\n",
       " 'isdigit',\n",
       " 'isidentifier',\n",
       " 'islower',\n",
       " 'isnumeric',\n",
       " 'isprintable',\n",
       " 'isspace',\n",
       " 'istitle',\n",
       " 'isupper',\n",
       " 'join',\n",
       " 'ljust',\n",
       " 'lower',\n",
       " 'lstrip',\n",
       " 'maketrans',\n",
       " 'partition',\n",
       " 'removeprefix',\n",
       " 'removesuffix',\n",
       " 'replace',\n",
       " 'rfind',\n",
       " 'rindex',\n",
       " 'rjust',\n",
       " 'rpartition',\n",
       " 'rsplit',\n",
       " 'rstrip',\n",
       " 'split',\n",
       " 'splitlines',\n",
       " 'startswith',\n",
       " 'strip',\n",
       " 'swapcase',\n",
       " 'title',\n",
       " 'translate',\n",
       " 'upper',\n",
       " 'zfill']"
      ]
     },
     "execution_count": 296,
     "metadata": {},
     "output_type": "execute_result"
    }
   ],
   "source": [
    "dir('')"
   ]
  },
  {
   "cell_type": "markdown",
   "id": "3508ee19",
   "metadata": {},
   "source": [
    "# capitalize, upper , lower, casefold"
   ]
  },
  {
   "cell_type": "code",
   "execution_count": 15,
   "id": "c4d9511c",
   "metadata": {},
   "outputs": [
    {
     "data": {
      "text/plain": [
       "'python'"
      ]
     },
     "execution_count": 15,
     "metadata": {},
     "output_type": "execute_result"
    }
   ],
   "source": [
    "name='python'\n",
    "name"
   ]
  },
  {
   "cell_type": "code",
   "execution_count": 16,
   "id": "6a861701",
   "metadata": {},
   "outputs": [
    {
     "data": {
      "text/plain": [
       "'Python'"
      ]
     },
     "execution_count": 16,
     "metadata": {},
     "output_type": "execute_result"
    }
   ],
   "source": [
    "name.capitalize()"
   ]
  },
  {
   "cell_type": "code",
   "execution_count": 17,
   "id": "55dc478a",
   "metadata": {},
   "outputs": [
    {
     "data": {
      "text/plain": [
       "'PYTHON'"
      ]
     },
     "execution_count": 17,
     "metadata": {},
     "output_type": "execute_result"
    }
   ],
   "source": [
    "name.upper()"
   ]
  },
  {
   "cell_type": "code",
   "execution_count": 23,
   "id": "49c8a27a",
   "metadata": {},
   "outputs": [
    {
     "data": {
      "text/plain": [
       "'PYTHON'"
      ]
     },
     "execution_count": 23,
     "metadata": {},
     "output_type": "execute_result"
    }
   ],
   "source": [
    "name2='PYTHON'\n",
    "name2"
   ]
  },
  {
   "cell_type": "code",
   "execution_count": 19,
   "id": "d97cf289",
   "metadata": {},
   "outputs": [
    {
     "data": {
      "text/plain": [
       "'python'"
      ]
     },
     "execution_count": 19,
     "metadata": {},
     "output_type": "execute_result"
    }
   ],
   "source": [
    "name1.lower()"
   ]
  },
  {
   "cell_type": "code",
   "execution_count": 20,
   "id": "5e99e9f9",
   "metadata": {},
   "outputs": [
    {
     "data": {
      "text/plain": [
       "'python'"
      ]
     },
     "execution_count": 20,
     "metadata": {},
     "output_type": "execute_result"
    }
   ],
   "source": [
    "name1.casefold()"
   ]
  },
  {
   "cell_type": "code",
   "execution_count": 41,
   "id": "963a4569",
   "metadata": {},
   "outputs": [
    {
     "data": {
      "text/plain": [
       "'name,order,voilet,venky,yaz'"
      ]
     },
     "execution_count": 41,
     "metadata": {},
     "output_type": "execute_result"
    }
   ],
   "source": [
    "string5='name,order,voilet,venky,yaz'\n",
    "string5"
   ]
  },
  {
   "cell_type": "code",
   "execution_count": 42,
   "id": "fc3a2636",
   "metadata": {},
   "outputs": [
    {
     "data": {
      "text/plain": [
       "'z'"
      ]
     },
     "execution_count": 42,
     "metadata": {},
     "output_type": "execute_result"
    }
   ],
   "source": [
    "max(string5)"
   ]
  },
  {
   "cell_type": "code",
   "execution_count": 43,
   "id": "0982124c",
   "metadata": {},
   "outputs": [
    {
     "data": {
      "text/plain": [
       "','"
      ]
     },
     "execution_count": 43,
     "metadata": {},
     "output_type": "execute_result"
    }
   ],
   "source": [
    "min(string5)"
   ]
  },
  {
   "cell_type": "code",
   "execution_count": 44,
   "id": "6ca377d7",
   "metadata": {},
   "outputs": [
    {
     "data": {
      "text/plain": [
       "44"
      ]
     },
     "execution_count": 44,
     "metadata": {},
     "output_type": "execute_result"
    }
   ],
   "source": [
    "ord(',')"
   ]
  },
  {
   "cell_type": "markdown",
   "id": "72fa7b40",
   "metadata": {},
   "source": [
    "# string methods"
   ]
  },
  {
   "cell_type": "code",
   "execution_count": 46,
   "id": "ff5097ae",
   "metadata": {},
   "outputs": [
    {
     "data": {
      "text/plain": [
       "['__add__',\n",
       " '__class__',\n",
       " '__contains__',\n",
       " '__delattr__',\n",
       " '__dir__',\n",
       " '__doc__',\n",
       " '__eq__',\n",
       " '__format__',\n",
       " '__ge__',\n",
       " '__getattribute__',\n",
       " '__getitem__',\n",
       " '__getnewargs__',\n",
       " '__getstate__',\n",
       " '__gt__',\n",
       " '__hash__',\n",
       " '__init__',\n",
       " '__init_subclass__',\n",
       " '__iter__',\n",
       " '__le__',\n",
       " '__len__',\n",
       " '__lt__',\n",
       " '__mod__',\n",
       " '__mul__',\n",
       " '__ne__',\n",
       " '__new__',\n",
       " '__reduce__',\n",
       " '__reduce_ex__',\n",
       " '__repr__',\n",
       " '__rmod__',\n",
       " '__rmul__',\n",
       " '__setattr__',\n",
       " '__sizeof__',\n",
       " '__str__',\n",
       " '__subclasshook__',\n",
       " 'capitalize',\n",
       " 'casefold',\n",
       " 'center',\n",
       " 'count',\n",
       " 'encode',\n",
       " 'endswith',\n",
       " 'expandtabs',\n",
       " 'find',\n",
       " 'format',\n",
       " 'format_map',\n",
       " 'index',\n",
       " 'isalnum',\n",
       " 'isalpha',\n",
       " 'isascii',\n",
       " 'isdecimal',\n",
       " 'isdigit',\n",
       " 'isidentifier',\n",
       " 'islower',\n",
       " 'isnumeric',\n",
       " 'isprintable',\n",
       " 'isspace',\n",
       " 'istitle',\n",
       " 'isupper',\n",
       " 'join',\n",
       " 'ljust',\n",
       " 'lower',\n",
       " 'lstrip',\n",
       " 'maketrans',\n",
       " 'partition',\n",
       " 'removeprefix',\n",
       " 'removesuffix',\n",
       " 'replace',\n",
       " 'rfind',\n",
       " 'rindex',\n",
       " 'rjust',\n",
       " 'rpartition',\n",
       " 'rsplit',\n",
       " 'rstrip',\n",
       " 'split',\n",
       " 'splitlines',\n",
       " 'startswith',\n",
       " 'strip',\n",
       " 'swapcase',\n",
       " 'title',\n",
       " 'translate',\n",
       " 'upper',\n",
       " 'zfill']"
      ]
     },
     "execution_count": 46,
     "metadata": {},
     "output_type": "execute_result"
    }
   ],
   "source": [
    "dir('string')"
   ]
  },
  {
   "cell_type": "code",
   "execution_count": 52,
   "id": "8e20dde4",
   "metadata": {},
   "outputs": [
    {
     "name": "stdout",
     "output_type": "stream",
     "text": [
      "No Python documentation found for 'string.center'.\n",
      "Use help() to get the interactive help utility.\n",
      "Use help(str) for help on the str class.\n",
      "\n"
     ]
    }
   ],
   "source": [
    "import string\n",
    "dir('string.center')"
   ]
  },
  {
   "cell_type": "code",
   "execution_count": 65,
   "id": "c09406f2",
   "metadata": {},
   "outputs": [
    {
     "data": {
      "text/plain": [
       "'venky'"
      ]
     },
     "execution_count": 65,
     "metadata": {},
     "output_type": "execute_result"
    }
   ],
   "source": [
    "name='venky'\n",
    "name.center(0)"
   ]
  },
  {
   "cell_type": "markdown",
   "id": "da51c1d3",
   "metadata": {},
   "source": [
    "# in, count, replace, slicing, index, find, split, lstrip, strip , rstrip , endswith ,  startswith  "
   ]
  },
  {
   "cell_type": "markdown",
   "id": "f4ba2c0e",
   "metadata": {},
   "source": [
    "# in"
   ]
  },
  {
   "cell_type": "code",
   "execution_count": null,
   "id": "d5dff434",
   "metadata": {},
   "outputs": [],
   "source": [
    "in operator will be used to check whether it is present inside the gievn string. \n",
    "in in operator we use only string name:\n",
    "and we use onlu i in print statemnt\n",
    "in and not in are two methods for in operation"
   ]
  },
  {
   "cell_type": "code",
   "execution_count": null,
   "id": "47e96535",
   "metadata": {},
   "outputs": [],
   "source": []
  },
  {
   "cell_type": "markdown",
   "id": "e40928e4",
   "metadata": {},
   "source": [
    "# count"
   ]
  },
  {
   "cell_type": "code",
   "execution_count": 85,
   "id": "bffb1594",
   "metadata": {},
   "outputs": [],
   "source": [
    "string='hello venkat how are yoou'"
   ]
  },
  {
   "cell_type": "code",
   "execution_count": 80,
   "id": "c1ffc176",
   "metadata": {},
   "outputs": [
    {
     "data": {
      "text/plain": [
       "'hello venkat how are you'"
      ]
     },
     "execution_count": 80,
     "metadata": {},
     "output_type": "execute_result"
    }
   ],
   "source": [
    "string"
   ]
  },
  {
   "cell_type": "code",
   "execution_count": 86,
   "id": "f1e38a19",
   "metadata": {},
   "outputs": [
    {
     "data": {
      "text/plain": [
       "4"
      ]
     },
     "execution_count": 86,
     "metadata": {},
     "output_type": "execute_result"
    }
   ],
   "source": [
    "string.count('o')"
   ]
  },
  {
   "cell_type": "code",
   "execution_count": 87,
   "id": "3f676de3",
   "metadata": {},
   "outputs": [
    {
     "data": {
      "text/plain": [
       "2"
      ]
     },
     "execution_count": 87,
     "metadata": {},
     "output_type": "execute_result"
    }
   ],
   "source": [
    "string.count('h')"
   ]
  },
  {
   "cell_type": "code",
   "execution_count": 93,
   "id": "7bd91e08",
   "metadata": {},
   "outputs": [
    {
     "name": "stdout",
     "output_type": "stream",
     "text": [
      "3\n"
     ]
    }
   ],
   "source": [
    "print(string.count('o',5))"
   ]
  },
  {
   "cell_type": "code",
   "execution_count": 110,
   "id": "71a0478e",
   "metadata": {},
   "outputs": [
    {
     "data": {
      "text/plain": [
       "1"
      ]
     },
     "execution_count": 110,
     "metadata": {},
     "output_type": "execute_result"
    }
   ],
   "source": [
    "string.count('h',1,14)"
   ]
  },
  {
   "cell_type": "code",
   "execution_count": 116,
   "id": "8cc3adf7",
   "metadata": {},
   "outputs": [
    {
     "data": {
      "text/plain": [
       "1"
      ]
     },
     "execution_count": 116,
     "metadata": {},
     "output_type": "execute_result"
    }
   ],
   "source": [
    "string.count('how',13)"
   ]
  },
  {
   "cell_type": "markdown",
   "id": "21c251d1",
   "metadata": {},
   "source": [
    "# slicing "
   ]
  },
  {
   "cell_type": "code",
   "execution_count": 117,
   "id": "0dda0d64",
   "metadata": {},
   "outputs": [],
   "source": [
    "name=\"hello kanna miss you\""
   ]
  },
  {
   "cell_type": "code",
   "execution_count": 118,
   "id": "c4120038",
   "metadata": {},
   "outputs": [
    {
     "data": {
      "text/plain": [
       "'hello kanna miss you'"
      ]
     },
     "execution_count": 118,
     "metadata": {},
     "output_type": "execute_result"
    }
   ],
   "source": [
    "name[::]"
   ]
  },
  {
   "cell_type": "code",
   "execution_count": 119,
   "id": "a54137d2",
   "metadata": {},
   "outputs": [
    {
     "data": {
      "text/plain": [
       "'hello kanna miss you'"
      ]
     },
     "execution_count": 119,
     "metadata": {},
     "output_type": "execute_result"
    }
   ],
   "source": [
    "name[::1]"
   ]
  },
  {
   "cell_type": "code",
   "execution_count": 121,
   "id": "f6c0178c",
   "metadata": {},
   "outputs": [
    {
     "data": {
      "text/plain": [
       "'hello kanna miss you'"
      ]
     },
     "execution_count": 121,
     "metadata": {},
     "output_type": "execute_result"
    }
   ],
   "source": [
    "name[:len(name):]"
   ]
  },
  {
   "cell_type": "code",
   "execution_count": 122,
   "id": "8e2f07fe",
   "metadata": {},
   "outputs": [
    {
     "data": {
      "text/plain": [
       "'hello kanna miss you'"
      ]
     },
     "execution_count": 122,
     "metadata": {},
     "output_type": "execute_result"
    }
   ],
   "source": [
    "name[0:len(name):1]"
   ]
  },
  {
   "cell_type": "code",
   "execution_count": 123,
   "id": "d7d7fb56",
   "metadata": {},
   "outputs": [
    {
     "data": {
      "text/plain": [
       "'hello kanna miss you'"
      ]
     },
     "execution_count": 123,
     "metadata": {},
     "output_type": "execute_result"
    }
   ],
   "source": [
    "name[:]"
   ]
  },
  {
   "cell_type": "code",
   "execution_count": 124,
   "id": "ef2e0e83",
   "metadata": {},
   "outputs": [
    {
     "data": {
      "text/plain": [
       "'uoy ssim annak olleh'"
      ]
     },
     "execution_count": 124,
     "metadata": {},
     "output_type": "execute_result"
    }
   ],
   "source": [
    "name[::-1]"
   ]
  },
  {
   "cell_type": "code",
   "execution_count": 127,
   "id": "7fed233e",
   "metadata": {},
   "outputs": [
    {
     "data": {
      "text/plain": [
       "'hello kan'"
      ]
     },
     "execution_count": 127,
     "metadata": {},
     "output_type": "execute_result"
    }
   ],
   "source": [
    "name[0:9]"
   ]
  },
  {
   "cell_type": "code",
   "execution_count": 128,
   "id": "bab11fa8",
   "metadata": {},
   "outputs": [
    {
     "data": {
      "text/plain": [
       "'hlokn'"
      ]
     },
     "execution_count": 128,
     "metadata": {},
     "output_type": "execute_result"
    }
   ],
   "source": [
    "name[0:9:2]"
   ]
  },
  {
   "cell_type": "code",
   "execution_count": 129,
   "id": "7d18c865",
   "metadata": {},
   "outputs": [
    {
     "data": {
      "text/plain": [
       "'hello kan'"
      ]
     },
     "execution_count": 129,
     "metadata": {},
     "output_type": "execute_result"
    }
   ],
   "source": [
    "name[:9:]"
   ]
  },
  {
   "cell_type": "code",
   "execution_count": 130,
   "id": "84cab900",
   "metadata": {},
   "outputs": [
    {
     "data": {
      "text/plain": [
       "'hlokn'"
      ]
     },
     "execution_count": 130,
     "metadata": {},
     "output_type": "execute_result"
    }
   ],
   "source": [
    "name[:9:2]"
   ]
  },
  {
   "cell_type": "code",
   "execution_count": 136,
   "id": "693c3c04",
   "metadata": {},
   "outputs": [
    {
     "data": {
      "text/plain": [
       "'h'"
      ]
     },
     "execution_count": 136,
     "metadata": {},
     "output_type": "execute_result"
    }
   ],
   "source": [
    "name[:1:]"
   ]
  },
  {
   "cell_type": "markdown",
   "id": "d29c9ba7",
   "metadata": {},
   "source": [
    "# replace"
   ]
  },
  {
   "cell_type": "code",
   "execution_count": 137,
   "id": "45de5126",
   "metadata": {},
   "outputs": [],
   "source": [
    "name=\"hello kanna miss you\""
   ]
  },
  {
   "cell_type": "code",
   "execution_count": 138,
   "id": "a2e47305",
   "metadata": {},
   "outputs": [
    {
     "data": {
      "text/plain": [
       "'hello chinni miss you'"
      ]
     },
     "execution_count": 138,
     "metadata": {},
     "output_type": "execute_result"
    }
   ],
   "source": [
    "name.replace('kanna','chinni')"
   ]
  },
  {
   "cell_type": "code",
   "execution_count": 143,
   "id": "34a3cc68",
   "metadata": {},
   "outputs": [
    {
     "data": {
      "text/plain": [
       "'helly kanna miss you'"
      ]
     },
     "execution_count": 143,
     "metadata": {},
     "output_type": "execute_result"
    }
   ],
   "source": [
    "name.replace('o','y',1)"
   ]
  },
  {
   "cell_type": "code",
   "execution_count": 144,
   "id": "abe512bd",
   "metadata": {},
   "outputs": [],
   "source": [
    "name=\"hai hello how are youh\""
   ]
  },
  {
   "cell_type": "code",
   "execution_count": 145,
   "id": "54d6d62a",
   "metadata": {},
   "outputs": [
    {
     "data": {
      "text/plain": [
       "'pai pello pow are youp'"
      ]
     },
     "execution_count": 145,
     "metadata": {},
     "output_type": "execute_result"
    }
   ],
   "source": [
    "name.replace('h','p')"
   ]
  },
  {
   "cell_type": "code",
   "execution_count": 149,
   "id": "ea7d9716",
   "metadata": {},
   "outputs": [
    {
     "data": {
      "text/plain": [
       "'pai pello pow are youh'"
      ]
     },
     "execution_count": 149,
     "metadata": {},
     "output_type": "execute_result"
    }
   ],
   "source": [
    "name.replace('h','p',3)"
   ]
  },
  {
   "cell_type": "code",
   "execution_count": 150,
   "id": "7019a33b",
   "metadata": {},
   "outputs": [
    {
     "ename": "TypeError",
     "evalue": "'str' object does not support item assignment",
     "output_type": "error",
     "traceback": [
      "\u001b[1;31m---------------------------------------------------------------------------\u001b[0m",
      "\u001b[1;31mTypeError\u001b[0m                                 Traceback (most recent call last)",
      "Cell \u001b[1;32mIn[150], line 1\u001b[0m\n\u001b[1;32m----> 1\u001b[0m name[\u001b[38;5;241m1\u001b[39m]\u001b[38;5;241m=\u001b[39m\u001b[38;5;124m'\u001b[39m\u001b[38;5;124mu\u001b[39m\u001b[38;5;124m'\u001b[39m\n",
      "\u001b[1;31mTypeError\u001b[0m: 'str' object does not support item assignment"
     ]
    }
   ],
   "source": [
    "name[1]='u'"
   ]
  },
  {
   "cell_type": "markdown",
   "id": "9b841a5f",
   "metadata": {},
   "source": [
    "- bu using index operation we can not change the value or character"
   ]
  },
  {
   "cell_type": "code",
   "execution_count": 152,
   "id": "c2e7c55c",
   "metadata": {},
   "outputs": [],
   "source": [
    "name2='hai hunter'"
   ]
  },
  {
   "cell_type": "code",
   "execution_count": 154,
   "id": "555d83d5",
   "metadata": {},
   "outputs": [
    {
     "data": {
      "text/plain": [
       "'Hai Hunter'"
      ]
     },
     "execution_count": 154,
     "metadata": {},
     "output_type": "execute_result"
    }
   ],
   "source": [
    "name2.replace('h','H')"
   ]
  },
  {
   "cell_type": "code",
   "execution_count": 155,
   "id": "8425ac5d",
   "metadata": {},
   "outputs": [
    {
     "data": {
      "text/plain": [
       "'Hai hunter'"
      ]
     },
     "execution_count": 155,
     "metadata": {},
     "output_type": "execute_result"
    }
   ],
   "source": [
    "name2.replace('h','H',1)"
   ]
  },
  {
   "cell_type": "code",
   "execution_count": 157,
   "id": "0131d573",
   "metadata": {},
   "outputs": [
    {
     "data": {
      "text/plain": [
       "'Hai hunter'"
      ]
     },
     "execution_count": 157,
     "metadata": {},
     "output_type": "execute_result"
    }
   ],
   "source": [
    "'H'+name2[1:]"
   ]
  },
  {
   "cell_type": "code",
   "execution_count": 159,
   "id": "73b50841",
   "metadata": {},
   "outputs": [
    {
     "data": {
      "text/plain": [
       "'hai Hunter'"
      ]
     },
     "execution_count": 159,
     "metadata": {},
     "output_type": "execute_result"
    }
   ],
   "source": [
    "name2[:3]+' '+'H'+name2[5:]"
   ]
  },
  {
   "cell_type": "code",
   "execution_count": 160,
   "id": "63c30601",
   "metadata": {},
   "outputs": [
    {
     "data": {
      "text/plain": [
       "'hello'"
      ]
     },
     "execution_count": 160,
     "metadata": {},
     "output_type": "execute_result"
    }
   ],
   "source": [
    "name2.replace('hai hunter','hello')"
   ]
  },
  {
   "cell_type": "code",
   "execution_count": 161,
   "id": "71b80a81",
   "metadata": {},
   "outputs": [
    {
     "data": {
      "text/plain": [
       "'hai hunter'"
      ]
     },
     "execution_count": 161,
     "metadata": {},
     "output_type": "execute_result"
    }
   ],
   "source": [
    "name2.replace('$$$$','hello')"
   ]
  },
  {
   "cell_type": "markdown",
   "id": "5a1c25d0",
   "metadata": {},
   "source": [
    "# index , find , split"
   ]
  },
  {
   "cell_type": "code",
   "execution_count": 237,
   "id": "efcee6ba",
   "metadata": {},
   "outputs": [],
   "source": [
    "string1='restart how to'\n",
    "# art\n",
    "f_o=string1.index('t')\n",
    "s_o=string1.index('t',4)\n",
    "u_o=string1.index('t',s_o+1)"
   ]
  },
  {
   "cell_type": "code",
   "execution_count": 234,
   "id": "bc25353b",
   "metadata": {},
   "outputs": [
    {
     "data": {
      "text/plain": [
       "3"
      ]
     },
     "execution_count": 234,
     "metadata": {},
     "output_type": "execute_result"
    }
   ],
   "source": [
    "f_o"
   ]
  },
  {
   "cell_type": "code",
   "execution_count": 235,
   "id": "bfe474db",
   "metadata": {},
   "outputs": [
    {
     "data": {
      "text/plain": [
       "6"
      ]
     },
     "execution_count": 235,
     "metadata": {},
     "output_type": "execute_result"
    }
   ],
   "source": [
    "s_o"
   ]
  },
  {
   "cell_type": "code",
   "execution_count": 236,
   "id": "a7ef60e2",
   "metadata": {},
   "outputs": [
    {
     "data": {
      "text/plain": [
       "7"
      ]
     },
     "execution_count": 236,
     "metadata": {},
     "output_type": "execute_result"
    }
   ],
   "source": [
    "u_o"
   ]
  },
  {
   "cell_type": "code",
   "execution_count": 231,
   "id": "475aec57",
   "metadata": {},
   "outputs": [
    {
     "data": {
      "text/plain": [
       "' how '"
      ]
     },
     "execution_count": 231,
     "metadata": {},
     "output_type": "execute_result"
    }
   ],
   "source": [
    "string1[string1.index(' ',string1.index('t')+1):string1.index('t',u_o)]"
   ]
  },
  {
   "cell_type": "code",
   "execution_count": 285,
   "id": "da813d8f",
   "metadata": {},
   "outputs": [
    {
     "data": {
      "text/plain": [
       "'art'"
      ]
     },
     "execution_count": 285,
     "metadata": {},
     "output_type": "execute_result"
    }
   ],
   "source": [
    "string1.split()[0].split('rest')[1]"
   ]
  },
  {
   "cell_type": "markdown",
   "id": "c2e2dbff",
   "metadata": {},
   "source": [
    "# strip, rstrip, lstrip"
   ]
  },
  {
   "cell_type": "code",
   "execution_count": 254,
   "id": "d85eaf10",
   "metadata": {},
   "outputs": [],
   "source": [
    "string1=' restart how to '"
   ]
  },
  {
   "cell_type": "code",
   "execution_count": 255,
   "id": "823acdcb",
   "metadata": {},
   "outputs": [
    {
     "data": {
      "text/plain": [
       "'restart how to '"
      ]
     },
     "execution_count": 255,
     "metadata": {},
     "output_type": "execute_result"
    }
   ],
   "source": [
    "string1.lstrip()"
   ]
  },
  {
   "cell_type": "code",
   "execution_count": 256,
   "id": "b2b423bb",
   "metadata": {},
   "outputs": [
    {
     "data": {
      "text/plain": [
       "' restart how to'"
      ]
     },
     "execution_count": 256,
     "metadata": {},
     "output_type": "execute_result"
    }
   ],
   "source": [
    "string1.rstrip()"
   ]
  },
  {
   "cell_type": "code",
   "execution_count": 257,
   "id": "940c3634",
   "metadata": {},
   "outputs": [
    {
     "data": {
      "text/plain": [
       "'restart how to'"
      ]
     },
     "execution_count": 257,
     "metadata": {},
     "output_type": "execute_result"
    }
   ],
   "source": [
    "string1.strip()"
   ]
  },
  {
   "cell_type": "code",
   "execution_count": 258,
   "id": "a5dd65f6",
   "metadata": {},
   "outputs": [
    {
     "data": {
      "text/plain": [
       "'hai hello how are you'"
      ]
     },
     "execution_count": 258,
     "metadata": {},
     "output_type": "execute_result"
    }
   ],
   "source": [
    "string2='hai hello how are you '\n",
    "string2.strip()"
   ]
  },
  {
   "cell_type": "code",
   "execution_count": 259,
   "id": "7c16d7c0",
   "metadata": {},
   "outputs": [
    {
     "data": {
      "text/plain": [
       "'hai hello how are you'"
      ]
     },
     "execution_count": 259,
     "metadata": {},
     "output_type": "execute_result"
    }
   ],
   "source": [
    "string2.rstrip()"
   ]
  },
  {
   "cell_type": "code",
   "execution_count": 260,
   "id": "69443a37",
   "metadata": {},
   "outputs": [
    {
     "data": {
      "text/plain": [
       "'hai hello how are you '"
      ]
     },
     "execution_count": 260,
     "metadata": {},
     "output_type": "execute_result"
    }
   ],
   "source": [
    "string2.lstrip()"
   ]
  },
  {
   "cell_type": "markdown",
   "id": "d21c793a",
   "metadata": {},
   "source": [
    "# startswith , endswith"
   ]
  },
  {
   "cell_type": "code",
   "execution_count": 261,
   "id": "b48ea998",
   "metadata": {},
   "outputs": [
    {
     "data": {
      "text/plain": [
       "'hai hello how are you'"
      ]
     },
     "execution_count": 261,
     "metadata": {},
     "output_type": "execute_result"
    }
   ],
   "source": [
    "string2='hai hello how are you '\n",
    "string3=string2.strip()\n",
    "string3"
   ]
  },
  {
   "cell_type": "code",
   "execution_count": 262,
   "id": "dc64648c",
   "metadata": {},
   "outputs": [
    {
     "data": {
      "text/plain": [
       "True"
      ]
     },
     "execution_count": 262,
     "metadata": {},
     "output_type": "execute_result"
    }
   ],
   "source": [
    "string3.endswith('you')"
   ]
  },
  {
   "cell_type": "code",
   "execution_count": 264,
   "id": "273a5cf4",
   "metadata": {},
   "outputs": [
    {
     "data": {
      "text/plain": [
       "True"
      ]
     },
     "execution_count": 264,
     "metadata": {},
     "output_type": "execute_result"
    }
   ],
   "source": [
    "string3.endswith('u')"
   ]
  },
  {
   "cell_type": "code",
   "execution_count": 269,
   "id": "ab6643ea",
   "metadata": {},
   "outputs": [
    {
     "data": {
      "text/plain": [
       "True"
      ]
     },
     "execution_count": 269,
     "metadata": {},
     "output_type": "execute_result"
    }
   ],
   "source": [
    "string3.endswith(string3)"
   ]
  },
  {
   "cell_type": "code",
   "execution_count": 271,
   "id": "b1286f22",
   "metadata": {},
   "outputs": [
    {
     "data": {
      "text/plain": [
       "True"
      ]
     },
     "execution_count": 271,
     "metadata": {},
     "output_type": "execute_result"
    }
   ],
   "source": [
    "string3.startswith('hai')"
   ]
  },
  {
   "cell_type": "code",
   "execution_count": 273,
   "id": "f279303b",
   "metadata": {},
   "outputs": [
    {
     "data": {
      "text/plain": [
       "True"
      ]
     },
     "execution_count": 273,
     "metadata": {},
     "output_type": "execute_result"
    }
   ],
   "source": [
    "string3.startswith(string3)"
   ]
  },
  {
   "cell_type": "code",
   "execution_count": 274,
   "id": "97f1ae70",
   "metadata": {},
   "outputs": [
    {
     "data": {
      "text/plain": [
       "True"
      ]
     },
     "execution_count": 274,
     "metadata": {},
     "output_type": "execute_result"
    }
   ],
   "source": [
    "string.startswith('h')"
   ]
  },
  {
   "cell_type": "code",
   "execution_count": 294,
   "id": "861dc339",
   "metadata": {},
   "outputs": [
    {
     "data": {
      "text/plain": [
       "'nareshit'"
      ]
     },
     "execution_count": 294,
     "metadata": {},
     "output_type": "execute_result"
    }
   ],
   "source": [
    "sent2='mobin.souravsahoo@nareshit.ac.in'\n",
    "sent2.split('.')[1].split('@')[1]"
   ]
  },
  {
   "cell_type": "code",
   "execution_count": 295,
   "id": "35d4472e",
   "metadata": {},
   "outputs": [
    {
     "data": {
      "text/plain": [
       "'nareshit'"
      ]
     },
     "execution_count": 295,
     "metadata": {},
     "output_type": "execute_result"
    }
   ],
   "source": [
    "sent2.split('@')[1].split('.')[0]"
   ]
  },
  {
   "cell_type": "markdown",
   "id": "14804431",
   "metadata": {},
   "source": [
    "# type, len , min, max, concatenation, subtraction, muliply, division, in , count, slicing, replace, ,index, find, list comprehension\n",
    "\n",
    "# append, clear , copy, pop, remove, reverse, extend, insert, sort ,   \n",
    "\n"
   ]
  },
  {
   "cell_type": "code",
   "execution_count": null,
   "id": "78c0a9da",
   "metadata": {},
   "outputs": [],
   "source": [
    "type, len, min, max, concatenation, sub, mul, div, in , count, slice, index, find\n",
    "\n",
    "append, pop, remove, clear, copy, reverse, insert, sort, extend\n",
    "\n",
    "sorted, zip, join,"
   ]
  },
  {
   "cell_type": "markdown",
   "id": "a9b600cb",
   "metadata": {},
   "source": [
    "## type, len, min, max"
   ]
  },
  {
   "cell_type": "code",
   "execution_count": 297,
   "id": "f77040bc",
   "metadata": {},
   "outputs": [],
   "source": [
    "list1=[1,2,3,4]\n",
    "list2=[\"APPLE\",\"BALL\",\"CAT\",\"DOLL\"]"
   ]
  },
  {
   "cell_type": "code",
   "execution_count": 298,
   "id": "0adc2d8b",
   "metadata": {},
   "outputs": [
    {
     "data": {
      "text/plain": [
       "[1, 2, 3, 4]"
      ]
     },
     "execution_count": 298,
     "metadata": {},
     "output_type": "execute_result"
    }
   ],
   "source": [
    "list1                            # list is a set of elements with heterogenous dayatype. list is mutable\n"
   ]
  },
  {
   "cell_type": "code",
   "execution_count": 299,
   "id": "bd725a64",
   "metadata": {},
   "outputs": [
    {
     "data": {
      "text/plain": [
       "['APPLE', 'BALL', 'CAT', 'DOLL']"
      ]
     },
     "execution_count": 299,
     "metadata": {},
     "output_type": "execute_result"
    }
   ],
   "source": [
    "list2"
   ]
  },
  {
   "cell_type": "code",
   "execution_count": 300,
   "id": "b1261a46",
   "metadata": {},
   "outputs": [],
   "source": [
    "list1=list2"
   ]
  },
  {
   "cell_type": "code",
   "execution_count": 301,
   "id": "d7278912",
   "metadata": {},
   "outputs": [
    {
     "data": {
      "text/plain": [
       "['APPLE', 'BALL', 'CAT', 'DOLL']"
      ]
     },
     "execution_count": 301,
     "metadata": {},
     "output_type": "execute_result"
    }
   ],
   "source": [
    "list1"
   ]
  },
  {
   "cell_type": "code",
   "execution_count": 303,
   "id": "8319b6c0",
   "metadata": {},
   "outputs": [
    {
     "data": {
      "text/plain": [
       "['APPLE', 'BALL', 'CAT', 'DOLL']"
      ]
     },
     "execution_count": 303,
     "metadata": {},
     "output_type": "execute_result"
    }
   ],
   "source": [
    "list1"
   ]
  },
  {
   "cell_type": "code",
   "execution_count": 304,
   "id": "a8cf65d8",
   "metadata": {},
   "outputs": [],
   "source": [
    "list1=[1,2,3,4]\n",
    "list2=[\"APPLE\",\"BALL\",\"CAT\",\"DOLL\"]"
   ]
  },
  {
   "cell_type": "code",
   "execution_count": 305,
   "id": "7ab0ebf4",
   "metadata": {},
   "outputs": [
    {
     "data": {
      "text/plain": [
       "[1, 2, 3, 4]"
      ]
     },
     "execution_count": 305,
     "metadata": {},
     "output_type": "execute_result"
    }
   ],
   "source": [
    "list1"
   ]
  },
  {
   "cell_type": "code",
   "execution_count": 306,
   "id": "a782b042",
   "metadata": {},
   "outputs": [
    {
     "data": {
      "text/plain": [
       "['APPLE', 'BALL', 'CAT', 'DOLL']"
      ]
     },
     "execution_count": 306,
     "metadata": {},
     "output_type": "execute_result"
    }
   ],
   "source": [
    "list2"
   ]
  },
  {
   "cell_type": "code",
   "execution_count": 318,
   "id": "af9a90fc",
   "metadata": {},
   "outputs": [
    {
     "data": {
      "text/plain": [
       "4"
      ]
     },
     "execution_count": 318,
     "metadata": {},
     "output_type": "execute_result"
    }
   ],
   "source": [
    "len(list2)"
   ]
  },
  {
   "cell_type": "code",
   "execution_count": 320,
   "id": "605970cd",
   "metadata": {},
   "outputs": [
    {
     "data": {
      "text/plain": [
       "list"
      ]
     },
     "execution_count": 320,
     "metadata": {},
     "output_type": "execute_result"
    }
   ],
   "source": [
    "type(list2)"
   ]
  },
  {
   "cell_type": "code",
   "execution_count": 322,
   "id": "65157ab6",
   "metadata": {},
   "outputs": [
    {
     "data": {
      "text/plain": [
       "'APPLE'"
      ]
     },
     "execution_count": 322,
     "metadata": {},
     "output_type": "execute_result"
    }
   ],
   "source": [
    "min(list2)"
   ]
  },
  {
   "cell_type": "code",
   "execution_count": 324,
   "id": "0f082302",
   "metadata": {},
   "outputs": [
    {
     "ename": "TypeError",
     "evalue": "unsupported operand type(s) for +: 'int' and 'str'",
     "output_type": "error",
     "traceback": [
      "\u001b[1;31m---------------------------------------------------------------------------\u001b[0m",
      "\u001b[1;31mTypeError\u001b[0m                                 Traceback (most recent call last)",
      "Cell \u001b[1;32mIn[324], line 1\u001b[0m\n\u001b[1;32m----> 1\u001b[0m \u001b[38;5;28msum\u001b[39m(list2)\n",
      "\u001b[1;31mTypeError\u001b[0m: unsupported operand type(s) for +: 'int' and 'str'"
     ]
    }
   ],
   "source": [
    "sum(list2)"
   ]
  },
  {
   "cell_type": "code",
   "execution_count": 325,
   "id": "72dbfc96",
   "metadata": {},
   "outputs": [
    {
     "data": {
      "text/plain": [
       "4"
      ]
     },
     "execution_count": 325,
     "metadata": {},
     "output_type": "execute_result"
    }
   ],
   "source": [
    "max(list1)"
   ]
  },
  {
   "cell_type": "code",
   "execution_count": 326,
   "id": "294dbc5d",
   "metadata": {},
   "outputs": [
    {
     "data": {
      "text/plain": [
       "'DOLL'"
      ]
     },
     "execution_count": 326,
     "metadata": {},
     "output_type": "execute_result"
    }
   ],
   "source": [
    "max(list2)"
   ]
  },
  {
   "cell_type": "code",
   "execution_count": null,
   "id": "af435ccd",
   "metadata": {},
   "outputs": [],
   "source": []
  },
  {
   "cell_type": "markdown",
   "id": "6f308e57",
   "metadata": {},
   "source": [
    "# concatenation, subtraction, muliply, division"
   ]
  },
  {
   "cell_type": "code",
   "execution_count": 307,
   "id": "9869f2fc",
   "metadata": {},
   "outputs": [
    {
     "data": {
      "text/plain": [
       "[1, 2, 3, 4, 'APPLE', 'BALL', 'CAT', 'DOLL']"
      ]
     },
     "execution_count": 307,
     "metadata": {},
     "output_type": "execute_result"
    }
   ],
   "source": [
    "list1+list2"
   ]
  },
  {
   "cell_type": "code",
   "execution_count": 308,
   "id": "ff5259d1",
   "metadata": {},
   "outputs": [
    {
     "ename": "TypeError",
     "evalue": "unsupported operand type(s) for -: 'list' and 'list'",
     "output_type": "error",
     "traceback": [
      "\u001b[1;31m---------------------------------------------------------------------------\u001b[0m",
      "\u001b[1;31mTypeError\u001b[0m                                 Traceback (most recent call last)",
      "Cell \u001b[1;32mIn[308], line 1\u001b[0m\n\u001b[1;32m----> 1\u001b[0m list1\u001b[38;5;241m-\u001b[39mlist2\n",
      "\u001b[1;31mTypeError\u001b[0m: unsupported operand type(s) for -: 'list' and 'list'"
     ]
    }
   ],
   "source": [
    "list1-list2"
   ]
  },
  {
   "cell_type": "code",
   "execution_count": 313,
   "id": "defa6fa4",
   "metadata": {},
   "outputs": [
    {
     "data": {
      "text/plain": [
       "[1, 2, 3, 4, 1, 2, 3, 4]"
      ]
     },
     "execution_count": 313,
     "metadata": {},
     "output_type": "execute_result"
    }
   ],
   "source": [
    "2*list1"
   ]
  },
  {
   "cell_type": "code",
   "execution_count": 314,
   "id": "762c87ec",
   "metadata": {},
   "outputs": [
    {
     "ename": "TypeError",
     "evalue": "unsupported operand type(s) for /: 'list' and 'list'",
     "output_type": "error",
     "traceback": [
      "\u001b[1;31m---------------------------------------------------------------------------\u001b[0m",
      "\u001b[1;31mTypeError\u001b[0m                                 Traceback (most recent call last)",
      "Cell \u001b[1;32mIn[314], line 1\u001b[0m\n\u001b[1;32m----> 1\u001b[0m list1\u001b[38;5;241m/\u001b[39mlist2\n",
      "\u001b[1;31mTypeError\u001b[0m: unsupported operand type(s) for /: 'list' and 'list'"
     ]
    }
   ],
   "source": [
    "list1/list2"
   ]
  },
  {
   "cell_type": "code",
   "execution_count": 316,
   "id": "7490ad15",
   "metadata": {},
   "outputs": [
    {
     "ename": "TypeError",
     "evalue": "unsupported operand type(s) for +: 'int' and 'str'",
     "output_type": "error",
     "traceback": [
      "\u001b[1;31m---------------------------------------------------------------------------\u001b[0m",
      "\u001b[1;31mTypeError\u001b[0m                                 Traceback (most recent call last)",
      "Cell \u001b[1;32mIn[316], line 1\u001b[0m\n\u001b[1;32m----> 1\u001b[0m \u001b[38;5;28msum\u001b[39m(list2)\n",
      "\u001b[1;31mTypeError\u001b[0m: unsupported operand type(s) for +: 'int' and 'str'"
     ]
    }
   ],
   "source": [
    "sum(list2)"
   ]
  },
  {
   "cell_type": "markdown",
   "id": "09510e89",
   "metadata": {},
   "source": [
    "# in"
   ]
  },
  {
   "cell_type": "code",
   "execution_count": 328,
   "id": "20e795cc",
   "metadata": {},
   "outputs": [
    {
     "data": {
      "text/plain": [
       "[1, 2, 3, 4]"
      ]
     },
     "execution_count": 328,
     "metadata": {},
     "output_type": "execute_result"
    }
   ],
   "source": [
    "list1"
   ]
  },
  {
   "cell_type": "code",
   "execution_count": 337,
   "id": "2b6dbc22",
   "metadata": {},
   "outputs": [
    {
     "name": "stdout",
     "output_type": "stream",
     "text": [
      "list[1] is 1\n",
      "list[2] is 2\n",
      "list[3] is 3\n",
      "list[4] is 4\n"
     ]
    }
   ],
   "source": [
    "for i in list1:\n",
    "    print(\"{} is {}\".format(list[i],i))"
   ]
  },
  {
   "cell_type": "code",
   "execution_count": 340,
   "id": "a97821c7",
   "metadata": {},
   "outputs": [
    {
     "data": {
      "text/plain": [
       "True"
      ]
     },
     "execution_count": 340,
     "metadata": {},
     "output_type": "execute_result"
    }
   ],
   "source": [
    "1 in list1"
   ]
  },
  {
   "cell_type": "code",
   "execution_count": 341,
   "id": "dab6eef1",
   "metadata": {},
   "outputs": [
    {
     "data": {
      "text/plain": [
       "False"
      ]
     },
     "execution_count": 341,
     "metadata": {},
     "output_type": "execute_result"
    }
   ],
   "source": [
    "5 in list1"
   ]
  },
  {
   "cell_type": "markdown",
   "id": "64d9813e",
   "metadata": {},
   "source": [
    "# index"
   ]
  },
  {
   "cell_type": "code",
   "execution_count": 342,
   "id": "f678d872",
   "metadata": {},
   "outputs": [
    {
     "data": {
      "text/plain": [
       "['APPLE', 'BALL', 'CAT', 'DOLL']"
      ]
     },
     "execution_count": 342,
     "metadata": {},
     "output_type": "execute_result"
    }
   ],
   "source": [
    "list2"
   ]
  },
  {
   "cell_type": "code",
   "execution_count": 343,
   "id": "fc5b3658",
   "metadata": {},
   "outputs": [
    {
     "data": {
      "text/plain": [
       "'BALL'"
      ]
     },
     "execution_count": 343,
     "metadata": {},
     "output_type": "execute_result"
    }
   ],
   "source": [
    "list2[1]"
   ]
  },
  {
   "cell_type": "code",
   "execution_count": 346,
   "id": "0476e970",
   "metadata": {},
   "outputs": [
    {
     "data": {
      "text/plain": [
       "('APPLE', 'BALL', 'CAT', 'DOLL')"
      ]
     },
     "execution_count": 346,
     "metadata": {},
     "output_type": "execute_result"
    }
   ],
   "source": [
    "list2[0],list2[1],list2[2],list2[3]"
   ]
  },
  {
   "cell_type": "code",
   "execution_count": 349,
   "id": "a0f1b94d",
   "metadata": {},
   "outputs": [
    {
     "name": "stdout",
     "output_type": "stream",
     "text": [
      "the positive index of APPLE is 0 and negative index of APPLE is -4\n",
      "the positive index of BALL is 1 and negative index of BALL is -3\n",
      "the positive index of CAT is 2 and negative index of CAT is -2\n",
      "the positive index of DOLL is 3 and negative index of DOLL is -1\n"
     ]
    }
   ],
   "source": [
    "for i in range(len(list2)):\n",
    "    print(\"the positive index of {} is {} and negative index of {} is {}\".format(list2[i],i,list2[i],i-len(list2)))"
   ]
  },
  {
   "cell_type": "markdown",
   "id": "977d0a92",
   "metadata": {},
   "source": [
    "# list is mutable"
   ]
  },
  {
   "cell_type": "code",
   "execution_count": 353,
   "id": "8ec314a4",
   "metadata": {},
   "outputs": [],
   "source": [
    "list3=[[[\"cherry\",[1,2,3,[\"apple\",\"ball\"]]]]]"
   ]
  },
  {
   "cell_type": "code",
   "execution_count": 364,
   "id": "e2d55556",
   "metadata": {},
   "outputs": [
    {
     "data": {
      "text/plain": [
       "'ball'"
      ]
     },
     "execution_count": 364,
     "metadata": {},
     "output_type": "execute_result"
    }
   ],
   "source": [
    "\n",
    "list3[0][0][1][3][1]"
   ]
  },
  {
   "cell_type": "code",
   "execution_count": 365,
   "id": "f0518dfe",
   "metadata": {},
   "outputs": [],
   "source": [
    "list2=[[[[['A','B',[1,2,3,['cherry']]]]]]]"
   ]
  },
  {
   "cell_type": "code",
   "execution_count": 368,
   "id": "4d21d0e8",
   "metadata": {},
   "outputs": [
    {
     "data": {
      "text/plain": [
       "3"
      ]
     },
     "execution_count": 368,
     "metadata": {},
     "output_type": "execute_result"
    }
   ],
   "source": [
    "list2[0][0][0][0][2][2]"
   ]
  },
  {
   "cell_type": "markdown",
   "id": "8ce1b947",
   "metadata": {},
   "source": [
    "# slicing"
   ]
  },
  {
   "cell_type": "code",
   "execution_count": 370,
   "id": "1264fcb9",
   "metadata": {},
   "outputs": [],
   "source": [
    "list1=['A','B','C','D','E','F',1,2,3,4,5,6]"
   ]
  },
  {
   "cell_type": "code",
   "execution_count": 371,
   "id": "b8b18039",
   "metadata": {},
   "outputs": [
    {
     "data": {
      "text/plain": [
       "['A', 'B', 'C', 'D', 'E', 'F', 1, 2, 3, 4, 5, 6]"
      ]
     },
     "execution_count": 371,
     "metadata": {},
     "output_type": "execute_result"
    }
   ],
   "source": [
    "list1[0::]"
   ]
  },
  {
   "cell_type": "code",
   "execution_count": 376,
   "id": "fb3f5fd8",
   "metadata": {},
   "outputs": [
    {
     "data": {
      "text/plain": [
       "['A', 'B', 'C', 'D', 'E', 'F', 1, 2, 3, 4, 5, 6]"
      ]
     },
     "execution_count": 376,
     "metadata": {},
     "output_type": "execute_result"
    }
   ],
   "source": [
    "list1[0:len(list1):1]"
   ]
  },
  {
   "cell_type": "code",
   "execution_count": 378,
   "id": "f8f6fdbf",
   "metadata": {},
   "outputs": [
    {
     "data": {
      "text/plain": [
       "['A', 'C', 'E']"
      ]
     },
     "execution_count": 378,
     "metadata": {},
     "output_type": "execute_result"
    }
   ],
   "source": [
    "list1[0:5:2]"
   ]
  },
  {
   "cell_type": "code",
   "execution_count": 395,
   "id": "32078966",
   "metadata": {},
   "outputs": [
    {
     "name": "stdout",
     "output_type": "stream",
     "text": [
      "Hyderab#d\n",
      "haridwar\n"
     ]
    }
   ],
   "source": [
    "list1=['Hyderab#d','Delhi','Chenn#i','b#lr','haridwar']\n",
    "for i in list1:\n",
    "    if(i.lower()[0]=='h'):\n",
    "        print(i)"
   ]
  },
  {
   "cell_type": "code",
   "execution_count": 402,
   "id": "8f3feb28",
   "metadata": {},
   "outputs": [
    {
     "name": "stdout",
     "output_type": "stream",
     "text": [
      "Hyderab#d\n",
      "haridwar\n"
     ]
    }
   ],
   "source": [
    "for i in range(len(list1)):\n",
    "    if(list1[i].lower().startswith('h')):\n",
    "        print(list1[i])"
   ]
  },
  {
   "cell_type": "code",
   "execution_count": 398,
   "id": "d32cb8ad",
   "metadata": {},
   "outputs": [
    {
     "name": "stdout",
     "output_type": "stream",
     "text": [
      "Hyderab#d\n",
      "haridwar\n"
     ]
    }
   ],
   "source": [
    "for i in list1:\n",
    "    if(i.lower().startswith('h')):\n",
    "        print(i)"
   ]
  },
  {
   "cell_type": "code",
   "execution_count": 419,
   "id": "aa8bb386",
   "metadata": {},
   "outputs": [
    {
     "name": "stdout",
     "output_type": "stream",
     "text": [
      "nallagoni\n",
      "pasha\n",
      "kadam\n"
     ]
    }
   ],
   "source": [
    "list1=['omkar.nallagoni@gmail.com','kareem.pasha@gmail.com','santhosh.kadam@gmail.com']\n",
    "for i in list1:\n",
    "    print(i.split('.')[1].split('@')[0])"
   ]
  },
  {
   "cell_type": "code",
   "execution_count": 427,
   "id": "f2abb5f2",
   "metadata": {},
   "outputs": [
    {
     "name": "stdout",
     "output_type": "stream",
     "text": [
      "nallagoni\n",
      "pasha\n",
      "kadam\n"
     ]
    }
   ],
   "source": [
    "for i in list1:\n",
    "    print(i[i.index('.')+1:i.index('@')])"
   ]
  },
  {
   "cell_type": "markdown",
   "id": "0a9b7bff",
   "metadata": {},
   "source": [
    "# append"
   ]
  },
  {
   "cell_type": "code",
   "execution_count": 428,
   "id": "e5b5e144",
   "metadata": {},
   "outputs": [],
   "source": [
    "list1=[100,200,300]"
   ]
  },
  {
   "cell_type": "code",
   "execution_count": 429,
   "id": "09f0a0c5",
   "metadata": {},
   "outputs": [
    {
     "data": {
      "text/plain": [
       "[100, 200, 300]"
      ]
     },
     "execution_count": 429,
     "metadata": {},
     "output_type": "execute_result"
    }
   ],
   "source": [
    "list1"
   ]
  },
  {
   "cell_type": "code",
   "execution_count": 433,
   "id": "381339e3",
   "metadata": {},
   "outputs": [],
   "source": [
    "list1.append(800)"
   ]
  },
  {
   "cell_type": "code",
   "execution_count": 434,
   "id": "95288bb9",
   "metadata": {},
   "outputs": [
    {
     "data": {
      "text/plain": [
       "[100, 200, 300, '800', 800]"
      ]
     },
     "execution_count": 434,
     "metadata": {},
     "output_type": "execute_result"
    }
   ],
   "source": [
    "list1"
   ]
  },
  {
   "cell_type": "code",
   "execution_count": 435,
   "id": "5ea5c946",
   "metadata": {},
   "outputs": [
    {
     "name": "stdout",
     "output_type": "stream",
     "text": [
      "hyderabad\n",
      "delhi\n",
      "chennai\n"
     ]
    }
   ],
   "source": [
    "# suppose if you want to save the output in a seperate list, you can go with append\n",
    "list1=['hyderabad','delhi','chennai','blr']\n",
    "for i in list1:\n",
    "    if(len(i)>4):\n",
    "        print(i)"
   ]
  },
  {
   "cell_type": "code",
   "execution_count": 436,
   "id": "31e1ef50",
   "metadata": {},
   "outputs": [],
   "source": [
    "city_list=[]\n",
    "for i in list1:\n",
    "    if(len(i)>4):\n",
    "        city_list.append(i)"
   ]
  },
  {
   "cell_type": "code",
   "execution_count": 437,
   "id": "fe746a64",
   "metadata": {},
   "outputs": [
    {
     "data": {
      "text/plain": [
       "['hyderabad', 'delhi', 'chennai']"
      ]
     },
     "execution_count": 437,
     "metadata": {},
     "output_type": "execute_result"
    }
   ],
   "source": [
    "city_list"
   ]
  },
  {
   "cell_type": "code",
   "execution_count": 440,
   "id": "f8a0cbbe",
   "metadata": {},
   "outputs": [
    {
     "data": {
      "text/plain": [
       "'hyderabad delhi chennai'"
      ]
     },
     "execution_count": 440,
     "metadata": {},
     "output_type": "execute_result"
    }
   ],
   "source": [
    "' '.join(city_list)"
   ]
  },
  {
   "cell_type": "markdown",
   "id": "b7400a09",
   "metadata": {},
   "source": [
    "# list comprehension"
   ]
  },
  {
   "cell_type": "code",
   "execution_count": 447,
   "id": "5eb3199e",
   "metadata": {},
   "outputs": [
    {
     "name": "stdout",
     "output_type": "stream",
     "text": [
      "hyderabad\n",
      "delhi\n",
      "chennai\n"
     ]
    }
   ],
   "source": [
    "list1=['hyderabad','delhi','chennai','blr']\n",
    "for i in list1:\n",
    "    if(len(i)>4):\n",
    "        print(i)"
   ]
  },
  {
   "cell_type": "code",
   "execution_count": 456,
   "id": "aa3f387b",
   "metadata": {},
   "outputs": [
    {
     "data": {
      "text/plain": [
       "['hyderabad', 'delhi', 'chennai']"
      ]
     },
     "execution_count": 456,
     "metadata": {},
     "output_type": "execute_result"
    }
   ],
   "source": [
    "output1=[i for i in list1 if(len(i)>4)]\n",
    "output1"
   ]
  },
  {
   "cell_type": "code",
   "execution_count": 451,
   "id": "9e7f2cdc",
   "metadata": {},
   "outputs": [],
   "source": [
    "city_list=[]\n",
    "for i in list1:\n",
    "    if(len(i)>4):\n",
    "        city_list.append(i)"
   ]
  },
  {
   "cell_type": "code",
   "execution_count": 453,
   "id": "38b73119",
   "metadata": {},
   "outputs": [],
   "source": [
    "output=[i for i in list1 if(len(i)>4)]"
   ]
  },
  {
   "cell_type": "code",
   "execution_count": 454,
   "id": "2790cfa4",
   "metadata": {},
   "outputs": [
    {
     "data": {
      "text/plain": [
       "['hyderabad', 'delhi', 'chennai']"
      ]
     },
     "execution_count": 454,
     "metadata": {},
     "output_type": "execute_result"
    }
   ],
   "source": [
    "output"
   ]
  },
  {
   "cell_type": "markdown",
   "id": "5fe58175",
   "metadata": {},
   "source": [
    "# pop, clear, remove"
   ]
  },
  {
   "cell_type": "code",
   "execution_count": 457,
   "id": "1de2c47a",
   "metadata": {},
   "outputs": [
    {
     "data": {
      "text/plain": [
       "['hyderabad', 'delhi', 'chennai', 'blr']"
      ]
     },
     "execution_count": 457,
     "metadata": {},
     "output_type": "execute_result"
    }
   ],
   "source": [
    "list1"
   ]
  },
  {
   "cell_type": "code",
   "execution_count": 458,
   "id": "ea6af8bb",
   "metadata": {},
   "outputs": [],
   "source": [
    "list1.clear()"
   ]
  },
  {
   "cell_type": "code",
   "execution_count": 459,
   "id": "5b6a7522",
   "metadata": {},
   "outputs": [
    {
     "data": {
      "text/plain": [
       "[]"
      ]
     },
     "execution_count": 459,
     "metadata": {},
     "output_type": "execute_result"
    }
   ],
   "source": [
    "list1"
   ]
  },
  {
   "cell_type": "code",
   "execution_count": 460,
   "id": "3dcad527",
   "metadata": {},
   "outputs": [
    {
     "data": {
      "text/plain": [
       "[[[[['A', 'B', [1, 2, 3, ['cherry']]]]]]]"
      ]
     },
     "execution_count": 460,
     "metadata": {},
     "output_type": "execute_result"
    }
   ],
   "source": [
    "list2"
   ]
  },
  {
   "cell_type": "code",
   "execution_count": 461,
   "id": "a2549bde",
   "metadata": {},
   "outputs": [],
   "source": [
    "list2.clear()"
   ]
  },
  {
   "cell_type": "code",
   "execution_count": 462,
   "id": "c1bf7f22",
   "metadata": {},
   "outputs": [
    {
     "data": {
      "text/plain": [
       "[]"
      ]
     },
     "execution_count": 462,
     "metadata": {},
     "output_type": "execute_result"
    }
   ],
   "source": [
    "list2"
   ]
  },
  {
   "cell_type": "code",
   "execution_count": 464,
   "id": "9fe2034e",
   "metadata": {},
   "outputs": [],
   "source": [
    "list1=[1,2,3,4]"
   ]
  },
  {
   "cell_type": "markdown",
   "id": "22a068e0",
   "metadata": {},
   "source": [
    "list1"
   ]
  },
  {
   "cell_type": "code",
   "execution_count": 465,
   "id": "138426a6",
   "metadata": {},
   "outputs": [
    {
     "data": {
      "text/plain": [
       "[1, 2, 3, 4]"
      ]
     },
     "execution_count": 465,
     "metadata": {},
     "output_type": "execute_result"
    }
   ],
   "source": [
    "list1"
   ]
  },
  {
   "cell_type": "code",
   "execution_count": 466,
   "id": "bf25e829",
   "metadata": {},
   "outputs": [],
   "source": [
    "del list1[0]"
   ]
  },
  {
   "cell_type": "code",
   "execution_count": 467,
   "id": "73d9edc6",
   "metadata": {},
   "outputs": [
    {
     "data": {
      "text/plain": [
       "[2, 3, 4]"
      ]
     },
     "execution_count": 467,
     "metadata": {},
     "output_type": "execute_result"
    }
   ],
   "source": [
    "list1"
   ]
  },
  {
   "cell_type": "code",
   "execution_count": 468,
   "id": "13570605",
   "metadata": {},
   "outputs": [],
   "source": [
    "list1.remove(2)"
   ]
  },
  {
   "cell_type": "code",
   "execution_count": 469,
   "id": "c05b0a99",
   "metadata": {},
   "outputs": [
    {
     "data": {
      "text/plain": [
       "[3, 4]"
      ]
     },
     "execution_count": 469,
     "metadata": {},
     "output_type": "execute_result"
    }
   ],
   "source": [
    "list1"
   ]
  },
  {
   "cell_type": "code",
   "execution_count": 472,
   "id": "56a665b5",
   "metadata": {},
   "outputs": [],
   "source": [
    "list1.remove(3)"
   ]
  },
  {
   "cell_type": "code",
   "execution_count": 473,
   "id": "0e742b61",
   "metadata": {},
   "outputs": [
    {
     "data": {
      "text/plain": [
       "[4]"
      ]
     },
     "execution_count": 473,
     "metadata": {},
     "output_type": "execute_result"
    }
   ],
   "source": [
    "list1"
   ]
  },
  {
   "cell_type": "code",
   "execution_count": 474,
   "id": "99a4845a",
   "metadata": {},
   "outputs": [],
   "source": [
    "list1=[\"apple\",\"ball\",\"cat\",\"doll\",\"giet\"]"
   ]
  },
  {
   "cell_type": "code",
   "execution_count": 475,
   "id": "5bd61594",
   "metadata": {},
   "outputs": [
    {
     "data": {
      "text/plain": [
       "['apple', 'ball', 'cat', 'doll', 'giet']"
      ]
     },
     "execution_count": 475,
     "metadata": {},
     "output_type": "execute_result"
    }
   ],
   "source": [
    "list1"
   ]
  },
  {
   "cell_type": "code",
   "execution_count": 476,
   "id": "b760bc64",
   "metadata": {},
   "outputs": [
    {
     "data": {
      "text/plain": [
       "'giet'"
      ]
     },
     "execution_count": 476,
     "metadata": {},
     "output_type": "execute_result"
    }
   ],
   "source": [
    "list1.pop()"
   ]
  },
  {
   "cell_type": "code",
   "execution_count": 477,
   "id": "cf7d2e4f",
   "metadata": {},
   "outputs": [
    {
     "data": {
      "text/plain": [
       "'doll'"
      ]
     },
     "execution_count": 477,
     "metadata": {},
     "output_type": "execute_result"
    }
   ],
   "source": [
    "list1.pop()"
   ]
  },
  {
   "cell_type": "code",
   "execution_count": 478,
   "id": "5fba254b",
   "metadata": {},
   "outputs": [
    {
     "data": {
      "text/plain": [
       "['apple', 'ball', 'cat']"
      ]
     },
     "execution_count": 478,
     "metadata": {},
     "output_type": "execute_result"
    }
   ],
   "source": [
    "list1"
   ]
  },
  {
   "cell_type": "code",
   "execution_count": 483,
   "id": "8f5c6635",
   "metadata": {},
   "outputs": [
    {
     "ename": "ValueError",
     "evalue": "list.remove(x): x not in list",
     "output_type": "error",
     "traceback": [
      "\u001b[1;31m---------------------------------------------------------------------------\u001b[0m",
      "\u001b[1;31mValueError\u001b[0m                                Traceback (most recent call last)",
      "Cell \u001b[1;32mIn[483], line 1\u001b[0m\n\u001b[1;32m----> 1\u001b[0m list1\u001b[38;5;241m.\u001b[39mremove(\u001b[38;5;124m'\u001b[39m\u001b[38;5;124mapple\u001b[39m\u001b[38;5;124m'\u001b[39m)\n",
      "\u001b[1;31mValueError\u001b[0m: list.remove(x): x not in list"
     ]
    }
   ],
   "source": [
    "list1.remove('apple')"
   ]
  },
  {
   "cell_type": "code",
   "execution_count": 480,
   "id": "3bb06d04",
   "metadata": {},
   "outputs": [
    {
     "data": {
      "text/plain": [
       "['ball', 'cat']"
      ]
     },
     "execution_count": 480,
     "metadata": {},
     "output_type": "execute_result"
    }
   ],
   "source": [
    "list1"
   ]
  },
  {
   "cell_type": "code",
   "execution_count": 484,
   "id": "d68358ed",
   "metadata": {},
   "outputs": [],
   "source": [
    "list1.clear()"
   ]
  },
  {
   "cell_type": "code",
   "execution_count": 485,
   "id": "83e18ca1",
   "metadata": {},
   "outputs": [
    {
     "data": {
      "text/plain": [
       "[]"
      ]
     },
     "execution_count": 485,
     "metadata": {},
     "output_type": "execute_result"
    }
   ],
   "source": [
    "list1"
   ]
  },
  {
   "cell_type": "code",
   "execution_count": 486,
   "id": "69551e97",
   "metadata": {},
   "outputs": [],
   "source": [
    "list1=[\"apple\",\"ball\",\"cat\",\"doll\",\"giet\"]"
   ]
  },
  {
   "cell_type": "code",
   "execution_count": 487,
   "id": "d15f847d",
   "metadata": {},
   "outputs": [
    {
     "data": {
      "text/plain": [
       "['apple', 'ball', 'cat', 'doll', 'giet']"
      ]
     },
     "execution_count": 487,
     "metadata": {},
     "output_type": "execute_result"
    }
   ],
   "source": [
    "list1"
   ]
  },
  {
   "cell_type": "code",
   "execution_count": 504,
   "id": "fe44d553",
   "metadata": {},
   "outputs": [
    {
     "data": {
      "text/plain": [
       "'doll'"
      ]
     },
     "execution_count": 504,
     "metadata": {},
     "output_type": "execute_result"
    }
   ],
   "source": [
    "list1.pop(2)"
   ]
  },
  {
   "cell_type": "code",
   "execution_count": 492,
   "id": "ddd2e8e1",
   "metadata": {},
   "outputs": [],
   "source": [
    "list1=[\"apple\",\"ball\",\"cat\",\"doll\",\"giet\"]"
   ]
  },
  {
   "cell_type": "code",
   "execution_count": 493,
   "id": "24c4d7cc",
   "metadata": {},
   "outputs": [],
   "source": [
    "list1.remove('ball')"
   ]
  },
  {
   "cell_type": "code",
   "execution_count": 494,
   "id": "2b54cac1",
   "metadata": {},
   "outputs": [
    {
     "data": {
      "text/plain": [
       "['apple', 'cat', 'doll', 'giet']"
      ]
     },
     "execution_count": 494,
     "metadata": {},
     "output_type": "execute_result"
    }
   ],
   "source": [
    "list1"
   ]
  },
  {
   "cell_type": "code",
   "execution_count": 496,
   "id": "4b52b5c5",
   "metadata": {},
   "outputs": [],
   "source": [
    "list1=[\"apple\",\"ball\",\"cat\",\"doll\",\"giet\"]\n",
    "list1.clear()"
   ]
  },
  {
   "cell_type": "code",
   "execution_count": 497,
   "id": "18fb9559",
   "metadata": {},
   "outputs": [
    {
     "data": {
      "text/plain": [
       "[]"
      ]
     },
     "execution_count": 497,
     "metadata": {},
     "output_type": "execute_result"
    }
   ],
   "source": [
    "list1"
   ]
  },
  {
   "cell_type": "code",
   "execution_count": 498,
   "id": "089a2b39",
   "metadata": {},
   "outputs": [],
   "source": [
    "list1=[\"apple\",\"ball\",\"cat\",\"doll\",\"giet\"]\n",
    "del list1[1]"
   ]
  },
  {
   "cell_type": "code",
   "execution_count": 499,
   "id": "41550287",
   "metadata": {},
   "outputs": [
    {
     "data": {
      "text/plain": [
       "['apple', 'cat', 'doll', 'giet']"
      ]
     },
     "execution_count": 499,
     "metadata": {},
     "output_type": "execute_result"
    }
   ],
   "source": [
    "list1"
   ]
  },
  {
   "cell_type": "markdown",
   "id": "56b956fa",
   "metadata": {},
   "source": [
    "# copy"
   ]
  },
  {
   "cell_type": "code",
   "execution_count": 500,
   "id": "a6a4a650",
   "metadata": {},
   "outputs": [
    {
     "data": {
      "text/plain": [
       "['apple', 'cat', 'doll', 'giet']"
      ]
     },
     "execution_count": 500,
     "metadata": {},
     "output_type": "execute_result"
    }
   ],
   "source": [
    "list1"
   ]
  },
  {
   "cell_type": "code",
   "execution_count": 502,
   "id": "0eabfdab",
   "metadata": {},
   "outputs": [],
   "source": [
    "list2=list1.copy()"
   ]
  },
  {
   "cell_type": "markdown",
   "id": "2e7c0d1e",
   "metadata": {},
   "source": [
    "#"
   ]
  },
  {
   "cell_type": "code",
   "execution_count": 503,
   "id": "329d9943",
   "metadata": {},
   "outputs": [
    {
     "data": {
      "text/plain": [
       "['apple', 'cat', 'doll', 'giet']"
      ]
     },
     "execution_count": 503,
     "metadata": {},
     "output_type": "execute_result"
    }
   ],
   "source": [
    "list2"
   ]
  },
  {
   "cell_type": "code",
   "execution_count": 505,
   "id": "f21d0baf",
   "metadata": {},
   "outputs": [
    {
     "data": {
      "text/plain": [
       "['apple', 'cat', 'giet']"
      ]
     },
     "execution_count": 505,
     "metadata": {},
     "output_type": "execute_result"
    }
   ],
   "source": [
    "list1"
   ]
  },
  {
   "cell_type": "code",
   "execution_count": 506,
   "id": "b879a0fc",
   "metadata": {},
   "outputs": [
    {
     "data": {
      "text/plain": [
       "['apple', 'cat', 'giet']"
      ]
     },
     "execution_count": 506,
     "metadata": {},
     "output_type": "execute_result"
    }
   ],
   "source": [
    "list1.copy()"
   ]
  },
  {
   "cell_type": "code",
   "execution_count": 507,
   "id": "15a1bba2",
   "metadata": {},
   "outputs": [
    {
     "data": {
      "text/plain": [
       "['apple', 'cat', 'giet']"
      ]
     },
     "execution_count": 507,
     "metadata": {},
     "output_type": "execute_result"
    }
   ],
   "source": [
    "list1"
   ]
  },
  {
   "cell_type": "code",
   "execution_count": 514,
   "id": "f060a8cf",
   "metadata": {},
   "outputs": [
    {
     "name": "stdout",
     "output_type": "stream",
     "text": [
      "[1, 2, 3, 4, 5]\n",
      "[]\n"
     ]
    }
   ],
   "source": [
    "list1=[1,2,3,4,5]\n",
    "list2=list1.copy()\n",
    "print(list2)\n",
    "list1.clear()\n",
    "print(list1)"
   ]
  },
  {
   "cell_type": "markdown",
   "id": "21f99300",
   "metadata": {},
   "source": [
    "# extend"
   ]
  },
  {
   "cell_type": "code",
   "execution_count": 520,
   "id": "e498b240",
   "metadata": {},
   "outputs": [],
   "source": [
    "list1=[1,2,3,4,5]\n",
    "list2=['A','B','C']\n",
    "list1.extend(list2)\n",
    "list2.extend(list1)"
   ]
  },
  {
   "cell_type": "code",
   "execution_count": 521,
   "id": "118d5d0c",
   "metadata": {},
   "outputs": [
    {
     "data": {
      "text/plain": [
       "([1, 2, 3, 4, 5, 'A', 'B', 'C'], ['A', 'B', 'C', 1, 2, 3, 4, 5, 'A', 'B', 'C'])"
      ]
     },
     "execution_count": 521,
     "metadata": {},
     "output_type": "execute_result"
    }
   ],
   "source": [
    "list1,list2"
   ]
  },
  {
   "cell_type": "code",
   "execution_count": 518,
   "id": "1529c2ef",
   "metadata": {},
   "outputs": [],
   "source": [
    "list1=[1,2,3,4,5]\n",
    "list2=['A','B','C']\n",
    "list2.extend(list1)"
   ]
  },
  {
   "cell_type": "markdown",
   "id": "aed132b7",
   "metadata": {},
   "source": [
    "## "
   ]
  },
  {
   "cell_type": "code",
   "execution_count": 519,
   "id": "54ec3abb",
   "metadata": {},
   "outputs": [
    {
     "data": {
      "text/plain": [
       "['A', 'B', 'C', 1, 2, 3, 4, 5]"
      ]
     },
     "execution_count": 519,
     "metadata": {},
     "output_type": "execute_result"
    }
   ],
   "source": [
    "list2"
   ]
  },
  {
   "cell_type": "markdown",
   "id": "320c67be",
   "metadata": {},
   "source": [
    "# insert"
   ]
  },
  {
   "cell_type": "code",
   "execution_count": 523,
   "id": "6b4c18ce",
   "metadata": {},
   "outputs": [],
   "source": [
    "list1=[1,2,3,4,5]\n",
    "list1.insert(3,7)"
   ]
  },
  {
   "cell_type": "code",
   "execution_count": 524,
   "id": "d7656f8d",
   "metadata": {},
   "outputs": [
    {
     "data": {
      "text/plain": [
       "[1, 2, 3, 7, 4, 5]"
      ]
     },
     "execution_count": 524,
     "metadata": {},
     "output_type": "execute_result"
    }
   ],
   "source": [
    "list1"
   ]
  },
  {
   "cell_type": "code",
   "execution_count": null,
   "id": "9cd101cd",
   "metadata": {},
   "outputs": [],
   "source": [
    "list.insert(index,new value)"
   ]
  },
  {
   "cell_type": "code",
   "execution_count": 525,
   "id": "d3bfa370",
   "metadata": {},
   "outputs": [
    {
     "data": {
      "text/plain": [
       "[1, 2, 3, 7, 4, 5]"
      ]
     },
     "execution_count": 525,
     "metadata": {},
     "output_type": "execute_result"
    }
   ],
   "source": [
    "list1"
   ]
  },
  {
   "cell_type": "code",
   "execution_count": 527,
   "id": "be3acebe",
   "metadata": {},
   "outputs": [],
   "source": [
    "list1.insert(0,10)"
   ]
  },
  {
   "cell_type": "code",
   "execution_count": 528,
   "id": "9f454fb6",
   "metadata": {},
   "outputs": [
    {
     "data": {
      "text/plain": [
       "[10, 1, 2, 3, 7, 4, 5]"
      ]
     },
     "execution_count": 528,
     "metadata": {},
     "output_type": "execute_result"
    }
   ],
   "source": [
    "list1"
   ]
  },
  {
   "cell_type": "markdown",
   "id": "4872c128",
   "metadata": {},
   "source": [
    "# sort"
   ]
  },
  {
   "cell_type": "code",
   "execution_count": 530,
   "id": "08e5dc2d",
   "metadata": {},
   "outputs": [],
   "source": [
    "list1=[1,2,3,4,5]"
   ]
  },
  {
   "cell_type": "code",
   "execution_count": 531,
   "id": "3693091e",
   "metadata": {},
   "outputs": [],
   "source": [
    "list1.sort()"
   ]
  },
  {
   "cell_type": "code",
   "execution_count": 532,
   "id": "0823c4cd",
   "metadata": {},
   "outputs": [
    {
     "data": {
      "text/plain": [
       "[1, 2, 3, 4, 5]"
      ]
     },
     "execution_count": 532,
     "metadata": {},
     "output_type": "execute_result"
    }
   ],
   "source": [
    "list1"
   ]
  },
  {
   "cell_type": "code",
   "execution_count": 533,
   "id": "26fbcafb",
   "metadata": {},
   "outputs": [],
   "source": [
    "list1=[1,2,3,7,9,0,4,5]"
   ]
  },
  {
   "cell_type": "code",
   "execution_count": 534,
   "id": "becb0d2a",
   "metadata": {},
   "outputs": [
    {
     "data": {
      "text/plain": [
       "[1, 2, 3, 7, 9, 0, 4, 5]"
      ]
     },
     "execution_count": 534,
     "metadata": {},
     "output_type": "execute_result"
    }
   ],
   "source": [
    "list1"
   ]
  },
  {
   "cell_type": "code",
   "execution_count": 535,
   "id": "78f0c1a9",
   "metadata": {},
   "outputs": [],
   "source": [
    "list1.sort()"
   ]
  },
  {
   "cell_type": "code",
   "execution_count": 536,
   "id": "0810c0a8",
   "metadata": {},
   "outputs": [
    {
     "data": {
      "text/plain": [
       "[0, 1, 2, 3, 4, 5, 7, 9]"
      ]
     },
     "execution_count": 536,
     "metadata": {},
     "output_type": "execute_result"
    }
   ],
   "source": [
    "list1"
   ]
  },
  {
   "cell_type": "code",
   "execution_count": 540,
   "id": "bcb05fd6",
   "metadata": {},
   "outputs": [],
   "source": [
    "list1=[1,2,3,7,9,0,4,5]"
   ]
  },
  {
   "cell_type": "code",
   "execution_count": 541,
   "id": "1773e00c",
   "metadata": {},
   "outputs": [
    {
     "data": {
      "text/plain": [
       "[1, 2, 3, 7, 9, 0, 4, 5]"
      ]
     },
     "execution_count": 541,
     "metadata": {},
     "output_type": "execute_result"
    }
   ],
   "source": [
    "list1"
   ]
  },
  {
   "cell_type": "code",
   "execution_count": 542,
   "id": "770e8f00",
   "metadata": {},
   "outputs": [
    {
     "data": {
      "text/plain": [
       "[0, 1, 2, 3, 4, 5, 7, 9]"
      ]
     },
     "execution_count": 542,
     "metadata": {},
     "output_type": "execute_result"
    }
   ],
   "source": [
    "sorted(list1)"
   ]
  },
  {
   "cell_type": "code",
   "execution_count": 543,
   "id": "3c39ee2d",
   "metadata": {},
   "outputs": [
    {
     "data": {
      "text/plain": [
       "[1, 2, 3, 7, 9, 0, 4, 5]"
      ]
     },
     "execution_count": 543,
     "metadata": {},
     "output_type": "execute_result"
    }
   ],
   "source": [
    "list1"
   ]
  },
  {
   "cell_type": "markdown",
   "id": "7cf0c949",
   "metadata": {},
   "source": [
    "# zip"
   ]
  },
  {
   "cell_type": "code",
   "execution_count": 548,
   "id": "b2b1e5b8",
   "metadata": {},
   "outputs": [
    {
     "name": "stdout",
     "output_type": "stream",
     "text": [
      "1 is APPLE\n",
      "2 is BALL\n",
      "3 is CAT\n",
      "4 is DAL\n"
     ]
    }
   ],
   "source": [
    "# append, clear, pop, remove, copy, extend, insert, sort , reverse\n",
    "list1=[1,2,3,4]\n",
    "list2=[\"APPLE\",\"BALL\",\"CAT\",\"DAL\"]\n",
    "for i,j in zip(list1,list2):\n",
    "        print(\"{} is {}\".format(i,j))"
   ]
  },
  {
   "cell_type": "code",
   "execution_count": 1,
   "id": "2b829f7e",
   "metadata": {},
   "outputs": [],
   "source": [
    "string='' \n",
    "list1=[]\n",
    "dict1={}\n"
   ]
  },
  {
   "cell_type": "code",
   "execution_count": 2,
   "id": "c647d717",
   "metadata": {},
   "outputs": [
    {
     "data": {
      "text/plain": [
       "{}"
      ]
     },
     "execution_count": 2,
     "metadata": {},
     "output_type": "execute_result"
    }
   ],
   "source": [
    "dict1"
   ]
  },
  {
   "cell_type": "code",
   "execution_count": null,
   "id": "d929b00b",
   "metadata": {},
   "outputs": [],
   "source": [
    "string is a sequence of characters ends withh null character\n",
    "string is immutable, by using index operation we can not change the character or replace the character or number\n",
    "\n",
    "\n",
    "list is set of elements with heterogeneous type enclosed with square brackets\n",
    "list is mutable , we can change a number, character, anything by using index operqation\n",
    "\n",
    "\n",
    "dict is a key value pair concept, enclosed with flower brackets\n",
    "dict is mutable in nature, we can change by using key \n",
    "\n",
    "\n",
    "tuple is used to store multiple elements in single variable enclosed with parenthesis.\n",
    "tuple is immutable in nature \n",
    "\n",
    "\n",
    "variable is used to store the values\n",
    "\n",
    "\n",
    "keyword are reserved words.there are 32 keywords \n",
    "\n",
    "\n",
    "constant will not allow to change the value once created."
   ]
  },
  {
   "cell_type": "code",
   "execution_count": null,
   "id": "115ede54",
   "metadata": {},
   "outputs": [],
   "source": []
  },
  {
   "cell_type": "code",
   "execution_count": null,
   "id": "42a230dc",
   "metadata": {},
   "outputs": [],
   "source": [
    "single string, double string, triple string\n",
    "type,len,min,max\n",
    "concatenation, subtraction, multplication, division\n",
    "capitalize, casefold, upper, lower\n",
    "in\n",
    "count\n",
    "index,find\n",
    "slicing\n",
    "replace\n",
    "split\n",
    "strip,lstrip,rstrip\n",
    "startswith,endswith"
   ]
  },
  {
   "cell_type": "code",
   "execution_count": null,
   "id": "4fdefbf4",
   "metadata": {},
   "outputs": [],
   "source": [
    "type,len,max,min\n",
    "addition, subtraction, mutiplication, division\n",
    "capitalze, casefols, upper, lower\n",
    "in\n",
    "count\n",
    "index,find\n",
    "replace\n",
    "slicing\n",
    "list comprehenson\n",
    "append\n",
    "pop\n",
    "remove\n",
    "clear\n",
    "copy\n",
    "reverse\n",
    "extend\n",
    "insert\n",
    "sort"
   ]
  },
  {
   "cell_type": "code",
   "execution_count": null,
   "id": "d794f90e",
   "metadata": {},
   "outputs": [],
   "source": [
    "zip \n",
    "join\n",
    "sorted\n",
    "del"
   ]
  },
  {
   "cell_type": "markdown",
   "id": "c1456800",
   "metadata": {},
   "source": [
    "# dictionary"
   ]
  },
  {
   "cell_type": "code",
   "execution_count": 4,
   "id": "529f8c9c",
   "metadata": {},
   "outputs": [
    {
     "name": "stdout",
     "output_type": "stream",
     "text": [
      "the ram age is 25\n",
      "the raheem age is 30\n",
      "the robert age is 35\n"
     ]
    }
   ],
   "source": [
    "names=['ram','raheem','robert']\n",
    "ages=[25,30,35]\n",
    "\n",
    "# the ram age is 25\n",
    "# the raheem age is 30\n",
    "\n",
    "for i,j in zip(names,ages):\n",
    "    print(\"the {} age is {}\".format(i,j))"
   ]
  },
  {
   "cell_type": "code",
   "execution_count": null,
   "id": "ad0e2b07",
   "metadata": {},
   "outputs": [],
   "source": [
    "dictionary is key value pair\n",
    "key should be unique\n",
    "values can be multiple\n",
    "values are can be in list, string, dictionary,tuple\n",
    "without anything means it will given output in tuple form\n",
    "if both keys are same, then it will prefer the last pair in the dictionary(duplicates are not allowed)\n",
    "dict in dict also possible\n",
    "if i want to add a new pair to the existing dict, then we can create a new values to insert a new pair into the exustiung dict\n",
    "if i have empty dict , then we can add pairs to that existing dict"
   ]
  },
  {
   "cell_type": "code",
   "execution_count": 25,
   "id": "b279eead",
   "metadata": {},
   "outputs": [
    {
     "data": {
      "text/plain": [
       "{'apple': 20, 'ball': 30, 'cat': 90}"
      ]
     },
     "execution_count": 25,
     "metadata": {},
     "output_type": "execute_result"
    }
   ],
   "source": [
    "dict1={\"apple\":20,\"ball\":30,\"cat\":90}\n",
    "dict1"
   ]
  },
  {
   "cell_type": "code",
   "execution_count": 27,
   "id": "49247ff7",
   "metadata": {},
   "outputs": [
    {
     "data": {
      "text/plain": [
       "{'names': ['Ram', 'Raheem', 'Robert'], 'ages': [25, 30, 35]}"
      ]
     },
     "execution_count": 27,
     "metadata": {},
     "output_type": "execute_result"
    }
   ],
   "source": [
    "dict2={'names':['Ram','Raheem','Robert'],\n",
    "      'ages':[25,30,35]}\n",
    "dict2"
   ]
  },
  {
   "cell_type": "code",
   "execution_count": null,
   "id": "9d4dca9b",
   "metadata": {},
   "outputs": [],
   "source": [
    "key sholud be unique\n",
    "values can be multiple"
   ]
  },
  {
   "cell_type": "code",
   "execution_count": 34,
   "id": "8fc4ee57",
   "metadata": {},
   "outputs": [
    {
     "data": {
      "text/plain": [
       "'Cherry'"
      ]
     },
     "execution_count": 34,
     "metadata": {},
     "output_type": "execute_result"
    }
   ],
   "source": [
    "dict7={'fruits':{'like':['Apple','Cherry']}}\n",
    "dict7['fruits']['like'][1]"
   ]
  },
  {
   "cell_type": "code",
   "execution_count": 36,
   "id": "ce44436b",
   "metadata": {},
   "outputs": [
    {
     "data": {
      "text/plain": [
       "'python'"
      ]
     },
     "execution_count": 36,
     "metadata": {},
     "output_type": "execute_result"
    }
   ],
   "source": [
    "d1={'hello':{'hello':{'hello':{'hello':'python'}}}}\n",
    "d1['hello']['hello']['hello']['hello']"
   ]
  },
  {
   "cell_type": "code",
   "execution_count": 37,
   "id": "2cbc3d2f",
   "metadata": {},
   "outputs": [
    {
     "data": {
      "text/plain": [
       "{'hello': [{'fruits': ['apple', 'banana', {'like': ['cherry']}]}]}"
      ]
     },
     "execution_count": 37,
     "metadata": {},
     "output_type": "execute_result"
    }
   ],
   "source": [
    "d2={'hello':[{'fruits':['apple','banana',{'like':['cherry']}]}]}\n",
    "d2"
   ]
  },
  {
   "cell_type": "code",
   "execution_count": 55,
   "id": "4f4fffdf",
   "metadata": {},
   "outputs": [
    {
     "data": {
      "text/plain": [
       "'cherry'"
      ]
     },
     "execution_count": 55,
     "metadata": {},
     "output_type": "execute_result"
    }
   ],
   "source": [
    "d2['hello'][0]['fruits'][2]['like'][0]"
   ]
  },
  {
   "cell_type": "code",
   "execution_count": 56,
   "id": "5c77109e",
   "metadata": {},
   "outputs": [
    {
     "data": {
      "text/plain": [
       "{'apple': 40, 'sun': 60, 'asain': 90}"
      ]
     },
     "execution_count": 56,
     "metadata": {},
     "output_type": "execute_result"
    }
   ],
   "source": [
    "d1={\"apple\":40,\"sun\":60,\"asain\":90}\n",
    "d1"
   ]
  },
  {
   "cell_type": "code",
   "execution_count": 57,
   "id": "36bc7f4d",
   "metadata": {},
   "outputs": [
    {
     "data": {
      "text/plain": [
       "{'apple': 40, 'sun': 60, 'asain': 90, 'kinda': 67}"
      ]
     },
     "execution_count": 57,
     "metadata": {},
     "output_type": "execute_result"
    }
   ],
   "source": [
    "d1[\"kinda\"]=67\n",
    "d1"
   ]
  },
  {
   "cell_type": "code",
   "execution_count": 60,
   "id": "7233b404",
   "metadata": {},
   "outputs": [],
   "source": [
    "d1[\"cricekt\",\"hai\"]='100','200'"
   ]
  },
  {
   "cell_type": "code",
   "execution_count": 61,
   "id": "89c04ab6",
   "metadata": {},
   "outputs": [
    {
     "data": {
      "text/plain": [
       "{'apple': 40,\n",
       " 'sun': 60,\n",
       " 'asain': 90,\n",
       " 'kinda': 67,\n",
       " ('cricekt', 'hai'): ('100', '200')}"
      ]
     },
     "execution_count": 61,
     "metadata": {},
     "output_type": "execute_result"
    }
   ],
   "source": [
    "d1"
   ]
  },
  {
   "cell_type": "code",
   "execution_count": 68,
   "id": "e08b0ae0",
   "metadata": {},
   "outputs": [
    {
     "ename": "AttributeError",
     "evalue": "'builtin_function_or_method' object has no attribute 'index'",
     "output_type": "error",
     "traceback": [
      "\u001b[1;31m---------------------------------------------------------------------------\u001b[0m",
      "\u001b[1;31mAttributeError\u001b[0m                            Traceback (most recent call last)",
      "Cell \u001b[1;32mIn[68], line 1\u001b[0m\n\u001b[1;32m----> 1\u001b[0m d1\u001b[38;5;241m.\u001b[39mclear\u001b[38;5;241m.\u001b[39mindex(\u001b[38;5;241m4\u001b[39m)\n",
      "\u001b[1;31mAttributeError\u001b[0m: 'builtin_function_or_method' object has no attribute 'index'"
     ]
    }
   ],
   "source": [
    "d1.clear.index(4)"
   ]
  },
  {
   "cell_type": "code",
   "execution_count": 74,
   "id": "3ca0bccd",
   "metadata": {},
   "outputs": [
    {
     "data": {
      "text/plain": [
       "{'venkat': 50}"
      ]
     },
     "execution_count": 74,
     "metadata": {},
     "output_type": "execute_result"
    }
   ],
   "source": [
    "d1={\"venkat\":40,\"venkat\":50}\n",
    "d1"
   ]
  },
  {
   "cell_type": "code",
   "execution_count": null,
   "id": "16cbf6c5",
   "metadata": {},
   "outputs": [],
   "source": []
  }
 ],
 "metadata": {
  "kernelspec": {
   "display_name": "Python 3 (ipykernel)",
   "language": "python",
   "name": "python3"
  },
  "language_info": {
   "codemirror_mode": {
    "name": "ipython",
    "version": 3
   },
   "file_extension": ".py",
   "mimetype": "text/x-python",
   "name": "python",
   "nbconvert_exporter": "python",
   "pygments_lexer": "ipython3",
   "version": "3.11.5"
  }
 },
 "nbformat": 4,
 "nbformat_minor": 5
}
