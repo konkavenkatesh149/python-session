{
 "cells": [
  {
   "cell_type": "code",
   "execution_count": null,
   "id": "0a6c5f02",
   "metadata": {},
   "outputs": [],
   "source": [
    "#########  level -1  ######\n",
    "1. basic syntax\n",
    "2. first program\n",
    "3. conditional statements\n",
    "4. functions\n",
    "5. loops concepts\n",
    "6. exceptional handling\n",
    "7. packages"
   ]
  },
  {
   "cell_type": "code",
   "execution_count": null,
   "id": "6536296f",
   "metadata": {},
   "outputs": [],
   "source": []
  },
  {
   "cell_type": "code",
   "execution_count": null,
   "id": "418b91e6",
   "metadata": {},
   "outputs": [],
   "source": [
    "######### level-2 ###########\n",
    "8. strings\n",
    "9. list\n",
    "10. dictionary\n",
    "11. tuples\n",
    "12. sets\n",
    "13. file handling sessions"
   ]
  },
  {
   "cell_type": "code",
   "execution_count": null,
   "id": "b923b3c4",
   "metadata": {},
   "outputs": [],
   "source": [
    "############ level-3 ##########\n",
    "14. OOPS concepts\n",
    "15. EDA\n",
    "16. ML\n",
    "17. DL\n",
    "18. NLP\n",
    "19. FLASK"
   ]
  },
  {
   "cell_type": "markdown",
   "id": "eba3681a",
   "metadata": {},
   "source": [
    "DATA TYPES: \n",
    "    1. INTEGER \n",
    "    2. FLOAT\n",
    "    3. STRING\n",
    "    4. BOOLEAN\n",
    "    5. COMPLEX CONJUGATE"
   ]
  },
  {
   "cell_type": "code",
   "execution_count": 2,
   "id": "6f348dd2",
   "metadata": {},
   "outputs": [
    {
     "data": {
      "text/plain": [
       "int"
      ]
     },
     "execution_count": 2,
     "metadata": {},
     "output_type": "execute_result"
    }
   ],
   "source": [
    "# integer type\n",
    "a=100\n",
    "type(a)"
   ]
  },
  {
   "cell_type": "markdown",
   "id": "93111e78",
   "metadata": {},
   "source": [
    "in math different number system will available \n",
    "- binary\n",
    "- decimal\n",
    "- octal\n",
    "- hexa"
   ]
  },
  {
   "cell_type": "markdown",
   "id": "06326b67",
   "metadata": {},
   "source": [
    "- bi mean two : base=2\n",
    "    \n",
    "- base=2, two digit required \n",
    "\n",
    "- the two digits are 0 and 1\n",
    "\n",
    "- the representation is 0b\n",
    "\n",
    "- example : 0b10001 or 0B10001"
   ]
  },
  {
   "cell_type": "code",
   "execution_count": 4,
   "id": "de4ca036",
   "metadata": {},
   "outputs": [
    {
     "data": {
      "text/plain": [
       "7"
      ]
     },
     "execution_count": 4,
     "metadata": {},
     "output_type": "execute_result"
    }
   ],
   "source": [
    "0b111  # here the input is binary format\n",
    "\n",
    "# the output is in decimal format"
   ]
  },
  {
   "cell_type": "code",
   "execution_count": 5,
   "id": "33ebfd9f",
   "metadata": {},
   "outputs": [
    {
     "data": {
      "text/plain": [
       "5"
      ]
     },
     "execution_count": 5,
     "metadata": {},
     "output_type": "execute_result"
    }
   ],
   "source": [
    "0b101"
   ]
  },
  {
   "cell_type": "code",
   "execution_count": null,
   "id": "970b66a0",
   "metadata": {},
   "outputs": [],
   "source": [
    "# three digits are there =   4 2 1\n",
    "# four digits are there  = 8 4 2 1\n"
   ]
  },
  {
   "cell_type": "code",
   "execution_count": null,
   "id": "b49f37a1",
   "metadata": {},
   "outputs": [],
   "source": []
  },
  {
   "cell_type": "markdown",
   "id": "9c93b8de",
   "metadata": {},
   "source": [
    "**octa**\n",
    "\n",
    "- octa mean= 8 : base=8\n",
    "    \n",
    "- 8 digits required\n",
    "\n",
    "- the 8 digits are 0,1,2,3,4,5,6,7\n",
    "\n",
    "- the representation is 0o\n",
    "\n",
    "- example : 0o124 or 0o456"
   ]
  },
  {
   "cell_type": "code",
   "execution_count": 7,
   "id": "56916096",
   "metadata": {},
   "outputs": [
    {
     "data": {
      "text/plain": [
       "83"
      ]
     },
     "execution_count": 7,
     "metadata": {},
     "output_type": "execute_result"
    }
   ],
   "source": [
    "0o123"
   ]
  },
  {
   "cell_type": "code",
   "execution_count": null,
   "id": "d47f521c",
   "metadata": {},
   "outputs": [],
   "source": []
  },
  {
   "cell_type": "markdown",
   "id": "97f0e824",
   "metadata": {},
   "source": [
    "**hexa**\n",
    "\n",
    "- hexa mean= 16 : base=16\n",
    "    \n",
    "- 16 digits required\n",
    "\n",
    "- the 16 digits are 0,1,2,3,4,5,6,7,8,9,A(10),B(11),C(12),D(13),E(14),F(15)\n",
    "\n",
    "- the representation is 0x\n",
    "\n",
    "- example : 0x129 or 0x456"
   ]
  },
  {
   "cell_type": "code",
   "execution_count": 11,
   "id": "0a7ec826",
   "metadata": {},
   "outputs": [
    {
     "data": {
      "text/plain": [
       "66"
      ]
     },
     "execution_count": 11,
     "metadata": {},
     "output_type": "execute_result"
    }
   ],
   "source": [
    "0x42"
   ]
  },
  {
   "cell_type": "code",
   "execution_count": 12,
   "id": "132567a5",
   "metadata": {},
   "outputs": [
    {
     "data": {
      "text/plain": [
       "43983"
      ]
     },
     "execution_count": 12,
     "metadata": {},
     "output_type": "execute_result"
    }
   ],
   "source": [
    "0Xabcf"
   ]
  },
  {
   "cell_type": "code",
   "execution_count": null,
   "id": "b91d5fa7",
   "metadata": {},
   "outputs": [],
   "source": []
  },
  {
   "cell_type": "code",
   "execution_count": 13,
   "id": "8a5853d7",
   "metadata": {},
   "outputs": [
    {
     "data": {
      "text/plain": [
       "float"
      ]
     },
     "execution_count": 13,
     "metadata": {},
     "output_type": "execute_result"
    }
   ],
   "source": [
    "num=1.234\n",
    "type(num)"
   ]
  },
  {
   "cell_type": "code",
   "execution_count": null,
   "id": "facb45d3",
   "metadata": {},
   "outputs": [],
   "source": []
  },
  {
   "cell_type": "code",
   "execution_count": 14,
   "id": "5a22980c",
   "metadata": {},
   "outputs": [
    {
     "data": {
      "text/plain": [
       "10000.0"
      ]
     },
     "execution_count": 14,
     "metadata": {},
     "output_type": "execute_result"
    }
   ],
   "source": [
    "1e4 # 1*10000"
   ]
  },
  {
   "cell_type": "code",
   "execution_count": null,
   "id": "a3a9ff5c",
   "metadata": {},
   "outputs": [],
   "source": []
  },
  {
   "cell_type": "code",
   "execution_count": 15,
   "id": "45d4ba12",
   "metadata": {},
   "outputs": [
    {
     "data": {
      "text/plain": [
       "20000.0"
      ]
     },
     "execution_count": 15,
     "metadata": {},
     "output_type": "execute_result"
    }
   ],
   "source": [
    "2e4 #2*10000"
   ]
  },
  {
   "cell_type": "code",
   "execution_count": null,
   "id": "7e3069b1",
   "metadata": {},
   "outputs": [],
   "source": []
  },
  {
   "cell_type": "code",
   "execution_count": 16,
   "id": "1788b890",
   "metadata": {},
   "outputs": [
    {
     "data": {
      "text/plain": [
       "0.0002"
      ]
     },
     "execution_count": 16,
     "metadata": {},
     "output_type": "execute_result"
    }
   ],
   "source": [
    "2e-4 #2/10000"
   ]
  },
  {
   "cell_type": "code",
   "execution_count": null,
   "id": "c4322804",
   "metadata": {},
   "outputs": [],
   "source": []
  },
  {
   "cell_type": "code",
   "execution_count": null,
   "id": "a46f6467",
   "metadata": {},
   "outputs": [],
   "source": [
    "1.000000000000e-14  \n",
    "#1/1000000000000= 0.0000000000001"
   ]
  },
  {
   "cell_type": "code",
   "execution_count": 18,
   "id": "e0129277",
   "metadata": {},
   "outputs": [
    {
     "data": {
      "text/plain": [
       "2000.0"
      ]
     },
     "execution_count": 18,
     "metadata": {},
     "output_type": "execute_result"
    }
   ],
   "source": [
    "2e3"
   ]
  },
  {
   "cell_type": "code",
   "execution_count": 17,
   "id": "cbd17544",
   "metadata": {},
   "outputs": [
    {
     "data": {
      "text/plain": [
       "2000.0"
      ]
     },
     "execution_count": 17,
     "metadata": {},
     "output_type": "execute_result"
    }
   ],
   "source": [
    "2e+3"
   ]
  },
  {
   "cell_type": "markdown",
   "id": "28ea09e6",
   "metadata": {},
   "source": []
  },
  {
   "cell_type": "code",
   "execution_count": 19,
   "id": "852501a3",
   "metadata": {},
   "outputs": [
    {
     "data": {
      "text/plain": [
       "0.002"
      ]
     },
     "execution_count": 19,
     "metadata": {},
     "output_type": "execute_result"
    }
   ],
   "source": [
    "2e-3"
   ]
  },
  {
   "cell_type": "code",
   "execution_count": 20,
   "id": "8dd8f9d9",
   "metadata": {},
   "outputs": [
    {
     "data": {
      "text/plain": [
       "0.0002"
      ]
     },
     "execution_count": 20,
     "metadata": {},
     "output_type": "execute_result"
    }
   ],
   "source": [
    "2e-4"
   ]
  },
  {
   "cell_type": "code",
   "execution_count": null,
   "id": "61b6720e",
   "metadata": {},
   "outputs": [],
   "source": []
  },
  {
   "cell_type": "markdown",
   "id": "1e8880af",
   "metadata": {},
   "source": [
    "$boolean$"
   ]
  },
  {
   "cell_type": "markdown",
   "id": "3470f987",
   "metadata": {},
   "source": [
    "**boolean**"
   ]
  },
  {
   "cell_type": "code",
   "execution_count": 22,
   "id": "1126c071",
   "metadata": {},
   "outputs": [
    {
     "data": {
      "text/plain": [
       "bool"
      ]
     },
     "execution_count": 22,
     "metadata": {},
     "output_type": "execute_result"
    }
   ],
   "source": [
    "a=True         # true means number as 1\n",
    "type(a)        "
   ]
  },
  {
   "cell_type": "code",
   "execution_count": 23,
   "id": "312cd6e6",
   "metadata": {},
   "outputs": [
    {
     "data": {
      "text/plain": [
       "bool"
      ]
     },
     "execution_count": 23,
     "metadata": {},
     "output_type": "execute_result"
    }
   ],
   "source": [
    "b=False        # false means number as 0\n",
    "type(b)"
   ]
  },
  {
   "cell_type": "code",
   "execution_count": null,
   "id": "653895ba",
   "metadata": {},
   "outputs": [],
   "source": []
  },
  {
   "cell_type": "code",
   "execution_count": 4,
   "id": "298c1ee9",
   "metadata": {},
   "outputs": [],
   "source": [
    "python=100\n",
    "# value 100 we are saving a varaiable python\n",
    "# python initialized"
   ]
  },
  {
   "cell_type": "markdown",
   "id": "d8e21dea",
   "metadata": {},
   "source": [
    "# string"
   ]
  },
  {
   "cell_type": "markdown",
   "id": "228b378d",
   "metadata": {},
   "source": [
    "- string means characters \n",
    "- english letters"
   ]
  },
  {
   "cell_type": "code",
   "execution_count": 5,
   "id": "d459ce1f",
   "metadata": {},
   "outputs": [],
   "source": [
    "name=python\n",
    "# name error\n",
    "# we are saving python in a varaible name\n",
    "# it will try to understand where is\n",
    "# python initialized"
   ]
  },
  {
   "cell_type": "code",
   "execution_count": null,
   "id": "72194cb8",
   "metadata": {},
   "outputs": [],
   "source": []
  },
  {
   "cell_type": "code",
   "execution_count": 6,
   "id": "e87bca2d",
   "metadata": {},
   "outputs": [
    {
     "data": {
      "text/plain": [
       "100"
      ]
     },
     "execution_count": 6,
     "metadata": {},
     "output_type": "execute_result"
    }
   ],
   "source": [
    "name"
   ]
  },
  {
   "cell_type": "code",
   "execution_count": null,
   "id": "1ecfc847",
   "metadata": {},
   "outputs": [],
   "source": []
  },
  {
   "cell_type": "code",
   "execution_count": 7,
   "id": "dd85c34d",
   "metadata": {},
   "outputs": [
    {
     "data": {
      "text/plain": [
       "'python'"
      ]
     },
     "execution_count": 7,
     "metadata": {},
     "output_type": "execute_result"
    }
   ],
   "source": [
    "name1='python'\n",
    "name1"
   ]
  },
  {
   "cell_type": "code",
   "execution_count": 8,
   "id": "ade749e0",
   "metadata": {},
   "outputs": [
    {
     "data": {
      "text/plain": [
       "str"
      ]
     },
     "execution_count": 8,
     "metadata": {},
     "output_type": "execute_result"
    }
   ],
   "source": [
    "type(name1)"
   ]
  },
  {
   "cell_type": "code",
   "execution_count": null,
   "id": "861e1c89",
   "metadata": {},
   "outputs": [],
   "source": []
  },
  {
   "cell_type": "code",
   "execution_count": 9,
   "id": "6eda551d",
   "metadata": {},
   "outputs": [
    {
     "data": {
      "text/plain": [
       "'python'"
      ]
     },
     "execution_count": 9,
     "metadata": {},
     "output_type": "execute_result"
    }
   ],
   "source": [
    "name2=\"python\"\n",
    "name2"
   ]
  },
  {
   "cell_type": "code",
   "execution_count": null,
   "id": "fedf1fdc",
   "metadata": {},
   "outputs": [],
   "source": []
  },
  {
   "cell_type": "code",
   "execution_count": 11,
   "id": "0270275f",
   "metadata": {},
   "outputs": [
    {
     "ename": "NameError",
     "evalue": "name 'hai' is not defined",
     "output_type": "error",
     "traceback": [
      "\u001b[1;31m---------------------------------------------------------------------------\u001b[0m",
      "\u001b[1;31mNameError\u001b[0m                                 Traceback (most recent call last)",
      "Cell \u001b[1;32mIn[11], line 1\u001b[0m\n\u001b[1;32m----> 1\u001b[0m hai \n\u001b[0;32m      2\u001b[0m t(how, are, you)\n",
      "\u001b[1;31mNameError\u001b[0m: name 'hai' is not defined"
     ]
    }
   ],
   "source": [
    "hai\n",
    "how are you"
   ]
  },
  {
   "cell_type": "code",
   "execution_count": 18,
   "id": "2793af87",
   "metadata": {},
   "outputs": [
    {
     "name": "stdout",
     "output_type": "stream",
     "text": [
      "hai\n",
      "how are you\n"
     ]
    }
   ],
   "source": [
    "name4=\"\"\"hai\n",
    "how are you\"\"\"            # triple quotes is known as \"DOC STRING\" - \n",
    "print(name4)\n",
    "         "
   ]
  },
  {
   "cell_type": "markdown",
   "id": "25bdf023",
   "metadata": {},
   "source": [
    "# complex- conjugate"
   ]
  },
  {
   "cell_type": "code",
   "execution_count": 23,
   "id": "29e67f89",
   "metadata": {},
   "outputs": [
    {
     "ename": "SyntaxError",
     "evalue": "invalid syntax (3030301465.py, line 1)",
     "output_type": "error",
     "traceback": [
      "\u001b[1;36m  Cell \u001b[1;32mIn[23], line 1\u001b[1;36m\u001b[0m\n\u001b[1;33m    - it represents a+jb\u001b[0m\n\u001b[1;37m         ^\u001b[0m\n\u001b[1;31mSyntaxError\u001b[0m\u001b[1;31m:\u001b[0m invalid syntax\n"
     ]
    }
   ],
   "source": [
    "- it represents a+jb\n",
    "\n",
    "- complex\n",
    "\n",
    "- where a=real number\n",
    "\n",
    "- b=imaginary number\n",
    "\n",
    "- i=square root(-1)"
   ]
  },
  {
   "cell_type": "markdown",
   "id": "363e4c8c",
   "metadata": {},
   "source": []
  },
  {
   "cell_type": "code",
   "execution_count": 24,
   "id": "89b9fbb5",
   "metadata": {},
   "outputs": [
    {
     "data": {
      "text/plain": [
       "0j"
      ]
     },
     "execution_count": 24,
     "metadata": {},
     "output_type": "execute_result"
    }
   ],
   "source": [
    "complex()\n",
    "\n",
    "#curser should be inside the bracket\n",
    "#shift+tab at a time\n",
    "\n",
    "a) 0+0j\n",
    "b) 0j\n",
    "c) 0\n",
    "d) none of the above"
   ]
  },
  {
   "cell_type": "code",
   "execution_count": 25,
   "id": "92725131",
   "metadata": {},
   "outputs": [
    {
     "data": {
      "text/plain": [
       "0j"
      ]
     },
     "execution_count": 25,
     "metadata": {},
     "output_type": "execute_result"
    }
   ],
   "source": [
    "0+0j"
   ]
  },
  {
   "cell_type": "code",
   "execution_count": 26,
   "id": "0ca4a903",
   "metadata": {},
   "outputs": [
    {
     "data": {
      "text/plain": [
       "(3+5j)"
      ]
     },
     "execution_count": 26,
     "metadata": {},
     "output_type": "execute_result"
    }
   ],
   "source": [
    "complex(3,5)"
   ]
  },
  {
   "cell_type": "code",
   "execution_count": null,
   "id": "f37f9da6",
   "metadata": {},
   "outputs": [],
   "source": []
  },
  {
   "cell_type": "code",
   "execution_count": 27,
   "id": "a4db84c5",
   "metadata": {},
   "outputs": [
    {
     "data": {
      "text/plain": [
       "(3+10j)"
      ]
     },
     "execution_count": 27,
     "metadata": {},
     "output_type": "execute_result"
    }
   ],
   "source": [
    "num=3+10j\n",
    "num\n"
   ]
  },
  {
   "cell_type": "code",
   "execution_count": 28,
   "id": "763a3504",
   "metadata": {},
   "outputs": [
    {
     "data": {
      "text/plain": [
       "complex"
      ]
     },
     "execution_count": 28,
     "metadata": {},
     "output_type": "execute_result"
    }
   ],
   "source": [
    "type(num)"
   ]
  },
  {
   "cell_type": "code",
   "execution_count": 29,
   "id": "fe70accb",
   "metadata": {},
   "outputs": [
    {
     "data": {
      "text/plain": [
       "3.0"
      ]
     },
     "execution_count": 29,
     "metadata": {},
     "output_type": "execute_result"
    }
   ],
   "source": [
    "num.real"
   ]
  },
  {
   "cell_type": "code",
   "execution_count": 30,
   "id": "0ad25767",
   "metadata": {},
   "outputs": [
    {
     "data": {
      "text/plain": [
       "10.0"
      ]
     },
     "execution_count": 30,
     "metadata": {},
     "output_type": "execute_result"
    }
   ],
   "source": [
    "num.imag"
   ]
  },
  {
   "cell_type": "code",
   "execution_count": null,
   "id": "a797fe7e",
   "metadata": {},
   "outputs": [],
   "source": []
  },
  {
   "cell_type": "code",
   "execution_count": null,
   "id": "226379e8",
   "metadata": {},
   "outputs": [],
   "source": []
  },
  {
   "cell_type": "code",
   "execution_count": null,
   "id": "2d9c1b90",
   "metadata": {},
   "outputs": [],
   "source": []
  },
  {
   "cell_type": "code",
   "execution_count": null,
   "id": "9fb5fc55",
   "metadata": {},
   "outputs": [],
   "source": []
  },
  {
   "cell_type": "code",
   "execution_count": null,
   "id": "551eebc8",
   "metadata": {},
   "outputs": [],
   "source": []
  },
  {
   "cell_type": "code",
   "execution_count": null,
   "id": "9aff3623",
   "metadata": {},
   "outputs": [],
   "source": []
  },
  {
   "cell_type": "code",
   "execution_count": null,
   "id": "8a0d86f3",
   "metadata": {},
   "outputs": [],
   "source": []
  }
 ],
 "metadata": {
  "kernelspec": {
   "display_name": "Python 3 (ipykernel)",
   "language": "python",
   "name": "python3"
  },
  "language_info": {
   "codemirror_mode": {
    "name": "ipython",
    "version": 3
   },
   "file_extension": ".py",
   "mimetype": "text/x-python",
   "name": "python",
   "nbconvert_exporter": "python",
   "pygments_lexer": "ipython3",
   "version": "3.11.5"
  }
 },
 "nbformat": 4,
 "nbformat_minor": 5
}
